{
  "cells": [
    {
      "cell_type": "markdown",
      "metadata": {
        "id": "view-in-github",
        "colab_type": "text"
      },
      "source": [
        "<a href=\"https://colab.research.google.com/github/YoonJiHwan98/BigContest_Project/blob/Jihwan/code/Bigcontest_SVM_baseline.ipynb\" target=\"_parent\"><img src=\"https://colab.research.google.com/assets/colab-badge.svg\" alt=\"Open In Colab\"/></a>"
      ]
    },
    {
      "cell_type": "code",
      "execution_count": null,
      "metadata": {
        "id": "XWHfFy5EBPMh"
      },
      "outputs": [],
      "source": [
        "import pandas as pd\n",
        "import numpy as np\n",
        "import os\n",
        "import matplotlib.pyplot as plt\n"
      ]
    },
    {
      "cell_type": "code",
      "source": [
        "from google.colab import drive\n",
        "drive.mount('/content/drive')"
      ],
      "metadata": {
        "id": "MmQlUb5I9TOw"
      },
      "execution_count": null,
      "outputs": []
    },
    {
      "cell_type": "markdown",
      "metadata": {
        "id": "e32LX-MI8q2m"
      },
      "source": [
        "# train, val, test split"
      ]
    },
    {
      "cell_type": "code",
      "execution_count": null,
      "metadata": {
        "id": "9ayUhdbiBW3W",
        "pycharm": {
          "is_executing": true
        }
      },
      "outputs": [],
      "source": [
        "train = pd.read_csv('/content/drive/MyDrive/빅콘테스트_2022/data/train_prepared.csv')\n",
        "test = pd.read_csv('/content/drive/MyDrive/빅콘테스트_2022/data/target_prepared.csv')\n",
        "y = pd.read_csv('/content/drive/MyDrive/빅콘테스트_2022/data/train_prepared_label.csv')"
      ]
    },
    {
      "cell_type": "code",
      "execution_count": null,
      "metadata": {
        "pycharm": {
          "is_executing": true
        },
        "id": "DrTCH88m8q2p"
      },
      "outputs": [],
      "source": [
        "X = train.copy()\n",
        "#y = train['is_applied']"
      ]
    },
    {
      "cell_type": "code",
      "execution_count": null,
      "metadata": {
        "pycharm": {
          "is_executing": true
        },
        "id": "wwqTXmWZ8q2q"
      },
      "outputs": [],
      "source": [
        "X"
      ]
    },
    {
      "cell_type": "code",
      "execution_count": null,
      "metadata": {
        "pycharm": {
          "is_executing": true
        },
        "id": "k1GMnrJ48q2q"
      },
      "outputs": [],
      "source": [
        "from sklearn.model_selection import train_test_split\n",
        "\n",
        "X_train, X_test, y_train, y_test = train_test_split(X, y, test_size=0.3, random_state=190000)\n",
        "X_train, X_val, y_train, y_val = train_test_split(X_train, y_train, test_size=0.2, random_state=190000)"
      ]
    },
    {
      "cell_type": "markdown",
      "source": [
        "# 모델 학습"
      ],
      "metadata": {
        "id": "_-z9MBoUtYLA"
      }
    },
    {
      "cell_type": "code",
      "execution_count": null,
      "metadata": {
        "pycharm": {
          "is_executing": true
        },
        "id": "EcNYS-W68q2r"
      },
      "outputs": [],
      "source": [
        "from sklearn.metrics import mean_squared_error\n",
        "from sklearn.metrics import mean_absolute_error\n",
        "from sklearn.svm import SVC\n",
        "from sklearn.model_selection import cross_val_score\n",
        "\n",
        "#svc_model = SVC()\n",
        "#svc_model.fit(X_train,y_train)"
      ]
    },
    {
      "cell_type": "code",
      "source": [
        "from sklearn.svm import SVC\n",
        "from sklearn.ensemble import BaggingClassifier  # SVC 가 시간이 너무 오래걸려서 bagging 방법을 활용해서 실행 시간을 줄였습니댜. \n",
        "\n",
        "estimator = SVC(kernel = 'rbf',C = 10, gamma = 0.1) ## 파라미터 수정 \n",
        "n_estimators = 3\n",
        "n_jobs = 1\n",
        "svc_model = BaggingClassifier(base_estimator=estimator,\n",
        "                          n_estimators=n_estimators,\n",
        "                          max_samples=1./n_estimators,\n",
        "                          n_jobs=n_jobs)\n",
        "svc_model.fit(X_train,y_train)"
      ],
      "metadata": {
        "id": "IP6FlN52aQat"
      },
      "execution_count": null,
      "outputs": []
    },
    {
      "cell_type": "code",
      "execution_count": null,
      "metadata": {
        "pycharm": {
          "is_executing": true
        },
        "id": "fB-xKHAT8q2s"
      },
      "outputs": [],
      "source": [
        "import joblib\n",
        "joblib.dump(svc_model, \"svc_model.pkl\") # DIFF\n",
        "#...\n",
        "# my_model_loaded = joblib.load(\"my_model.pkl\")"
      ]
    },
    {
      "cell_type": "code",
      "source": [],
      "metadata": {
        "id": "8S-XIW3iuQfb"
      },
      "execution_count": null,
      "outputs": []
    },
    {
      "cell_type": "markdown",
      "source": [
        "# 모델 평가"
      ],
      "metadata": {
        "id": "Vl0X1cBrtbGd"
      }
    },
    {
      "cell_type": "code",
      "source": [
        "import os\n",
        "\n",
        "ROOT_DIR = \"/content/gdrive/My Drive/빅콘테스트_2022/\"\n",
        "DATA_PATH = ROOT_DIR + \"data/\"\n",
        "IMAGE_PATH = ROOT_DIR + \"img/\"\n",
        "\n",
        "os.makedirs(DATA_PATH, exist_ok = True)\n",
        "os.makedirs(IMAGE_PATH, exist_ok = True)"
      ],
      "metadata": {
        "id": "wVALdGFjozct"
      },
      "execution_count": null,
      "outputs": []
    },
    {
      "cell_type": "code",
      "source": [
        "def save_data(data, file_name, DATA_PATH=DATA_PATH):\n",
        "  file_path = os.path.join(DATA_PATH, file_name)\n",
        "  print(file_path)\n",
        "  return data.to_csv(file_path, index=False)"
      ],
      "metadata": {
        "id": "uVuURREzotVm"
      },
      "execution_count": null,
      "outputs": []
    },
    {
      "cell_type": "code",
      "execution_count": null,
      "metadata": {
        "id": "_k8mfAq68q2s"
      },
      "outputs": [],
      "source": [
        "ROOT_DIR = '/content/drive/MyDrive/빅콘테스트_2022/'\n",
        "SCORE_PATH = ROOT_DIR + \"score/\"\n",
        "\n",
        "#os.makedirs(SCORE_PATH, exist_ok = True)\n",
        "from sklearn.metrics import f1_score, accuracy_score, precision_score, recall_score"
      ]
    },
    {
      "cell_type": "code",
      "execution_count": null,
      "metadata": {
        "pycharm": {
          "name": "#%%\n"
        },
        "id": "sJbDwlYv8q2t"
      },
      "outputs": [],
      "source": [
        "# accuracy, precision, recall, f1 score\n",
        "def model_validation(model, data, label, mode, file_title):\n",
        "    pred = model.predict(data)\n",
        "    print('#### ' + mode + ' score ####')\n",
        "    print(f'accuracy : {accuracy_score(label, pred)}, precision : {precision_score(label, pred)}, recall : {recall_score(label, pred)}, f1 score : {f1_score(label, pred)}')\n",
        "    df = pd.DataFrame([], columns=['metric', 'score'])\n",
        "    df.loc[0] = ['accuracy', accuracy_score(label, pred)]\n",
        "    df.loc[1] = ['precision', precision_score(label, pred)]\n",
        "    df.loc[2] = ['recall', recall_score(label, pred)]\n",
        "    df.loc[3] = ['f1 score', f1_score(label, pred)]\n",
        "\n",
        "    save_data(df, file_title, SCORE_PATH)\n",
        "    return df\n"
      ]
    },
    {
      "cell_type": "code",
      "source": [
        "model_validation(svc_model, X_train, y_train, 'train', 'SVC_train_score.csv')"
      ],
      "metadata": {
        "id": "E4zoZtFTpNKb"
      },
      "execution_count": null,
      "outputs": []
    },
    {
      "cell_type": "code",
      "source": [
        "model_validation(svc_model, X_val, y_val, 'train', 'SVC_val_score.csv')"
      ],
      "metadata": {
        "id": "3mF4RQu7pxLE"
      },
      "execution_count": null,
      "outputs": []
    },
    {
      "cell_type": "code",
      "execution_count": null,
      "metadata": {
        "id": "0H2tETTc8q2u"
      },
      "outputs": [],
      "source": [
        "from sklearn import metrics\n",
        "from sklearn.metrics import roc_auc_score\n",
        "\n",
        "# ROC curve, auc score\n",
        "# proba  clf.predict_proba(X)[:, 1]\n",
        "\n",
        "def model_auc(model, data, label, mode):\n",
        "\n",
        "    proba = model.predict_proba(data)[::, 1]\n",
        "\n",
        "    print('#### ' + mode + ' ROC AUC score ####')\n",
        "    print(roc_auc_score(label, proba))\n",
        "\n",
        "    print('#### ' + mode + ' ROC curve plotting####')\n",
        "    fpr, tpr, _ = metrics.roc_curve(label, proba)\n",
        "\n",
        "    plt.figure(figsize=(15,15))\n",
        "    plt.plot(fpr, tpr)\n",
        "    plt.ylabel('True Positive Rate')\n",
        "    plt.xlabel('False Positive Rate')\n",
        "    plt.title(mode + \" ROC curve\")\n",
        "    save_fig(mode + \" ROC curve\")\n",
        "    plt.show()\n",
        "    \n"
      ]
    }
  ],
  "metadata": {
    "colab": {
      "collapsed_sections": [],
      "private_outputs": true,
      "provenance": [],
      "machine_shape": "hm",
      "include_colab_link": true
    },
    "kernelspec": {
      "display_name": "Python 3",
      "language": "python",
      "name": "python3"
    },
    "language_info": {
      "codemirror_mode": {
        "name": "ipython",
        "version": 3
      },
      "file_extension": ".py",
      "mimetype": "text/x-python",
      "name": "python",
      "nbconvert_exporter": "python",
      "pygments_lexer": "ipython3",
      "version": "3.8.8"
    },
    "toc": {
      "base_numbering": 1,
      "nav_menu": {},
      "number_sections": true,
      "sideBar": true,
      "skip_h1_title": false,
      "title_cell": "Table of Contents",
      "title_sidebar": "Contents",
      "toc_cell": false,
      "toc_position": {},
      "toc_section_display": true,
      "toc_window_display": false
    },
    "accelerator": "GPU"
  },
  "nbformat": 4,
  "nbformat_minor": 0
}