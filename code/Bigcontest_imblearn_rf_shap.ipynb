{
  "nbformat": 4,
  "nbformat_minor": 0,
  "metadata": {
    "colab": {
      "private_outputs": true,
      "provenance": [],
      "machine_shape": "hm",
      "mount_file_id": "1i3VCbagXRtSdh_6gTA6EIwIsgb3fk5pE",
      "authorship_tag": "ABX9TyPjINO0Yc6XGDRtUdjSW4fd",
      "include_colab_link": true
    },
    "kernelspec": {
      "name": "python3",
      "display_name": "Python 3"
    },
    "language_info": {
      "name": "python"
    },
    "gpuClass": "standard",
    "accelerator": "GPU"
  },
  "cells": [
    {
      "cell_type": "markdown",
      "metadata": {
        "id": "view-in-github",
        "colab_type": "text"
      },
      "source": [
        "<a href=\"https://colab.research.google.com/github/YoonJiHwan98/BigContest_Project/blob/Jihwan/code/Bigcontest_imblearn_rf_shap.ipynb\" target=\"_parent\"><img src=\"https://colab.research.google.com/assets/colab-badge.svg\" alt=\"Open In Colab\"/></a>"
      ]
    },
    {
      "cell_type": "markdown",
      "source": [
        "# 데이터 불러오기"
      ],
      "metadata": {
        "id": "Uc0rIMmyopwJ"
      }
    },
    {
      "cell_type": "code",
      "execution_count": null,
      "metadata": {
        "id": "mLkAf0uIiPqw"
      },
      "outputs": [],
      "source": [
        "import pandas as pd\n",
        "import numpy as np\n",
        "import matplotlib.pyplot as plt\n",
        "import seaborn as sns"
      ]
    },
    {
      "cell_type": "code",
      "source": [
        "import os\n",
        "\n",
        "ROOT_DIR = \"/content/drive/My Drive/빅콘테스트_2022/\"\n",
        "DATA_PATH = ROOT_DIR + \"data/\"\n",
        "IMAGE_PATH = ROOT_DIR + \"img/\"\n",
        "\n",
        "def save_fig(fig_id, tight_layout=True, fig_extension=\"png\", resolution=300):\n",
        "  path = os.path.join(IMAGE_PATH, fig_id + \".\" + fig_extension)\n",
        "  print(path)\n",
        "  print(\"그림 저장 : \", fig_id)\n",
        "  if tight_layout:\n",
        "    plt.tight_layout()\n",
        "  plt.savefig(path, format=fig_extension, dpi=resolution)\n",
        "\n",
        "def save_data(data, file_name, DATA_PATH=DATA_PATH):\n",
        "  file_path = os.path.join(DATA_PATH, file_name)\n",
        "  print(file_path)\n",
        "  return data.to_csv(file_path, index=False)  "
      ],
      "metadata": {
        "id": "Tweg7O-bpHsU"
      },
      "execution_count": null,
      "outputs": []
    },
    {
      "cell_type": "code",
      "source": [
        "train = pd.read_csv('/content/drive/MyDrive/빅콘테스트_2022/data/new/train_prepared_log.csv')\n",
        "label = pd.read_csv('/content/drive/MyDrive/빅콘테스트_2022/data/new/train_prepared_label_log.csv')\n",
        "test = pd.read_csv('/content/drive/MyDrive/빅콘테스트_2022/data/new/target_prepared_log.csv')"
      ],
      "metadata": {
        "id": "t89HcorVlyAW"
      },
      "execution_count": null,
      "outputs": []
    },
    {
      "cell_type": "code",
      "source": [
        "from google.colab import drive\n",
        "drive.mount('/content/drive')"
      ],
      "metadata": {
        "id": "U7TGP31iyxqQ"
      },
      "execution_count": null,
      "outputs": []
    },
    {
      "cell_type": "markdown",
      "source": [
        "#train-validation split\n",
        "\n",
        "seed = 42, Stratified Sampling 이용\n"
      ],
      "metadata": {
        "id": "jrtS8Hpxmzu_"
      }
    },
    {
      "cell_type": "code",
      "source": [
        "\n",
        "from sklearn.model_selection import StratifiedShuffleSplit\n",
        "\n",
        "def split_data(data, label=label, test_size = 0.02, random_state = 42):\n",
        "    split = StratifiedShuffleSplit(n_splits=5, test_size = test_size, random_state=random_state)\n",
        "    \n",
        "    for train_index, valid_index in split.split(data, label):\n",
        "        train_data = data.loc[train_index]\n",
        "        train_label = label.loc[train_index]\n",
        "        valid_data = data.loc[valid_index]\n",
        "        valid_label = label.loc[valid_index]\n",
        "\n",
        "    return train_data, train_label, valid_data, valid_label\n",
        "train_data, train_label, valid_data, valid_label = split_data(train, label)\n",
        "train_data"
      ],
      "metadata": {
        "id": "eAUYgLU8nVWq"
      },
      "execution_count": null,
      "outputs": []
    },
    {
      "cell_type": "code",
      "source": [
        "valid_data"
      ],
      "metadata": {
        "id": "-vJUriDaZxtU"
      },
      "execution_count": null,
      "outputs": []
    },
    {
      "cell_type": "markdown",
      "source": [
        "# 모델 평가 함수"
      ],
      "metadata": {
        "id": "hyBc4gLxnd65"
      }
    },
    {
      "cell_type": "code",
      "source": [
        "SCORE_PATH = ROOT_DIR + \"score/\"\n",
        "#IMAGE_PATH = \n",
        "os.makedirs(SCORE_PATH, exist_ok = True)\n",
        "from sklearn.metrics import f1_score, accuracy_score, precision_score, recall_score\n",
        "\n",
        "# accuracy, precision, recall, f1 score\n",
        "def model_validation(model, data, label, mode, file_title):                                                                                                                                                                                                                                                                                                                                                                                                                                                                                                                                                                                                                                                                                                                                                                                                                                                                                                             \n",
        "  pred = model.predict(data)\n",
        "  print('#### ' + mode + ' score ####')\n",
        "  print(f'accuracy : {accuracy_score(label, pred)}, precision : {precision_score(label, pred)}, recall : {recall_score(label, pred)}, f1 score : {f1_score(label, pred)}')\n",
        "  df = pd.DataFrame([], columns=['metric', 'score'])\n",
        "  df.loc[0] = ['accuracy', accuracy_score(label, pred)]\n",
        "  df.loc[1] = ['precision', precision_score(label, pred)]\n",
        "  df.loc[2] = ['recall', recall_score(label, pred)]\n",
        "  df.loc[3] = ['f1 score', f1_score(label, pred)]\n",
        "\n",
        "  save_data(df, file_title, SCORE_PATH)\n",
        "  return df\n",
        "  \n",
        "from sklearn import metrics\n",
        "from sklearn.metrics import roc_auc_score\n"
      ],
      "metadata": {
        "id": "1b49n0iAou6_"
      },
      "execution_count": null,
      "outputs": []
    },
    {
      "cell_type": "code",
      "source": [
        "\n",
        "# ROC curve, auc score\n",
        "# proba  clf.predict_proba(X)[:, 1]\n",
        "\n",
        "def model_auc(model, data, label, mode):\n",
        "\n",
        "  proba = model.predict_proba(data)[::, 1]\n",
        "\n",
        "  print('#### ' + mode + ' ROC AUC score ####')\n",
        "  print(roc_auc_score(label, proba))\n",
        "\n",
        "  print('#### ' + mode + ' ROC curve plotting####')\n",
        "  fpr, tpr, _ = metrics.roc_curve(label, proba)\n",
        "\n",
        "  plt.figure(figsize=(15,15))\n",
        "  plt.plot(fpr, tpr)\n",
        "  plt.ylabel('True Positive Rate')\n",
        "  plt.xlabel('False Positive Rate')\n",
        "  plt.title(mode + \" ROC curve\")\n",
        "  save_fig(mode + \" ROC curve\")\n",
        "  plt.show()"
      ],
      "metadata": {
        "id": "ecULefcpoxBV"
      },
      "execution_count": null,
      "outputs": []
    },
    {
      "cell_type": "markdown",
      "source": [
        "# imblearn_rf 모델 학습"
      ],
      "metadata": {
        "id": "lrEydmojoxrB"
      }
    },
    {
      "cell_type": "code",
      "source": [
        "from imblearn.ensemble import BalancedRandomForestClassifier\n",
        "\n",
        "bal_clf= BalancedRandomForestClassifier(random_state=42)\n",
        "\n",
        "bal_clf.fit(train_data, train_label)  "
      ],
      "metadata": {
        "id": "EvKHIiFiw5Oa"
      },
      "execution_count": null,
      "outputs": []
    },
    {
      "cell_type": "code",
      "source": [
        "model_validation(bal_clf_tuned,valid_data, valid_label, 'RF_balanced_tuned','RF_balanced_tuned')"
      ],
      "metadata": {
        "id": "5M_Xil7Fw5Og"
      },
      "execution_count": null,
      "outputs": []
    },
    {
      "cell_type": "code",
      "source": [
        "from sklearn.model_selection import GridSearchCV\n",
        "\n",
        "rf_tuned_parameters = [{ 'n_estimators' : [100],\n",
        "           'min_samples_leaf' : [1, 2, 4, 8 ],\n",
        "           'min_samples_split' : [2, 4, 8]\n",
        "            }\n",
        "]\n",
        "\n",
        "rf_tuned = GridSearchCV(BalancedRandomForestClassifier(random_state=42),rf_tuned_parameters,cv = 2,scoring=\"f1\",verbose=2,refit=True)\n",
        "rf_tuned.fit(train_data,train_label)"
      ],
      "metadata": {
        "id": "CNL7YeAEw5Og"
      },
      "execution_count": null,
      "outputs": []
    },
    {
      "cell_type": "code",
      "source": [
        "model_validation(rf_tuned,train_data, train_label, 'RF_balanced_tuned','RF_balanced_tuned_train.csv')"
      ],
      "metadata": {
        "id": "Ozqw9s9iw5Og"
      },
      "execution_count": null,
      "outputs": []
    },
    {
      "cell_type": "code",
      "source": [
        "model_validation(rf_tuned,valid_data, valid_label, 'RF_balanced_tuned','RF_balanced_tuned_valid.csv')"
      ],
      "metadata": {
        "id": "rpTa4EMEw5Og"
      },
      "execution_count": null,
      "outputs": []
    },
    {
      "cell_type": "code",
      "source": [
        "rf_model.best_estimator_"
      ],
      "metadata": {
        "id": "BimSO3Zxw5Og"
      },
      "execution_count": null,
      "outputs": []
    },
    {
      "cell_type": "code",
      "source": [
        "scores_df = pd.DataFrame(rf_tuned.cv_results_)\n",
        "scores_df"
      ],
      "metadata": {
        "id": "ywAcIN8gw5Og"
      },
      "execution_count": null,
      "outputs": []
    },
    {
      "cell_type": "markdown",
      "source": [
        "# 모델 저장"
      ],
      "metadata": {
        "id": "RhfCRGUrSTvg"
      }
    },
    {
      "cell_type": "code",
      "source": [
        "# 모델을 저장할 위치\n",
        "MODEL_PATH = os.path.join(ROOT_DIR, \"model/\")\n",
        "os.makedirs(MODEL_PATH, exist_ok = True)\n",
        "#'/content/gdrive/My Drive/빅콘테스트_2022/model/'\n"
      ],
      "metadata": {
        "id": "noCY0sQYSVLR"
      },
      "execution_count": null,
      "outputs": []
    },
    {
      "cell_type": "code",
      "source": [
        "\n",
        "import pickle\n",
        "pickle.dump(model, open(MODEL_PATH + 'lgb_shap_.pkl', 'wb'))"
      ],
      "metadata": {
        "id": "OaotiMXySflS"
      },
      "execution_count": null,
      "outputs": []
    },
    {
      "cell_type": "code",
      "source": [
        "rf_tuned.best_estimator_"
      ],
      "metadata": {
        "id": "otb5-tG8SYNL"
      },
      "execution_count": null,
      "outputs": []
    },
    {
      "cell_type": "code",
      "source": [
        "rf_tuned.cv_results_"
      ],
      "metadata": {
        "id": "R2H8QuocF7_B"
      },
      "execution_count": null,
      "outputs": []
    },
    {
      "cell_type": "markdown",
      "source": [
        "# 모델 불러오기"
      ],
      "metadata": {
        "id": "Y2En4q8rGCgc"
      }
    },
    {
      "cell_type": "code",
      "source": [
        "import pickle\n",
        "MODEL_PATH = os.path.join(ROOT_DIR, \"model/\")\n",
        "\n",
        "def import_model(model_name):\n",
        "  with open(MODEL_PATH + model_name, 'rb') as file:\n",
        "    model = pickle.load(file)\n",
        "  return model\n",
        " "
      ],
      "metadata": {
        "id": "7OcGB5GwoK7g"
      },
      "execution_count": null,
      "outputs": []
    },
    {
      "cell_type": "code",
      "source": [
        "with open('/content/drive/MyDrive/빅콘테스트_2022/model/balanced_rf_model_tuned.pkl', \"rb\") as file:\n",
        "    rf_model = model = pickle.load(file)\n",
        "    rf_model\n"
      ],
      "metadata": {
        "id": "RiXAjB3DoM33"
      },
      "execution_count": null,
      "outputs": []
    },
    {
      "cell_type": "markdown",
      "source": [
        "# 모델 평가"
      ],
      "metadata": {
        "id": "3EqSRx572Rq-"
      }
    },
    {
      "cell_type": "code",
      "source": [
        "model_validation(rf_model,train_data, train_label, 'RF_balanced_tuned','RF_balanced_tuned_train.csv')"
      ],
      "metadata": {
        "id": "eZSwxw_U3Hxk"
      },
      "execution_count": null,
      "outputs": []
    },
    {
      "cell_type": "code",
      "source": [
        "model_validation(rf_model,valid_data, valid_label, 'RF_balanced_tuned','RF_balanced_tuned_valid.csv')"
      ],
      "metadata": {
        "id": "dnW0DbEy3Hxl"
      },
      "execution_count": null,
      "outputs": []
    },
    {
      "cell_type": "code",
      "source": [
        "rf_model.param_grid"
      ],
      "metadata": {
        "id": "BZG1hH0Y2UzH"
      },
      "execution_count": null,
      "outputs": []
    }
  ]
}