{
  "nbformat": 4,
  "nbformat_minor": 0,
  "metadata": {
    "colab": {
      "private_outputs": true,
      "provenance": [],
      "mount_file_id": "1lX7Df6_7r8zAz_SHHM0A2LgepdKXGUl0",
      "authorship_tag": "ABX9TyOfCkf4nVpK4Et08VdVyMPA",
      "include_colab_link": true
    },
    "kernelspec": {
      "name": "python3",
      "display_name": "Python 3"
    },
    "language_info": {
      "name": "python"
    }
  },
  "cells": [
    {
      "cell_type": "markdown",
      "metadata": {
        "id": "view-in-github",
        "colab_type": "text"
      },
      "source": [
        "<a href=\"https://colab.research.google.com/github/YoonJiHwan98/BigContest_Project/blob/Jihwan/code/Bigcontest_EDA.ipynb\" target=\"_parent\"><img src=\"https://colab.research.google.com/assets/colab-badge.svg\" alt=\"Open In Colab\"/></a>"
      ]
    },
    {
      "cell_type": "markdown",
      "source": [
        "## 문제\n",
        "\n",
        "앱 사용성 데이터를 통한 대출신청 예측분석\n",
        "\n",
        "\n",
        "---\n",
        "\n",
        "\n",
        "가명화된 데이터를 기반으로 고객의 대출상품 신청여부 예측\n",
        "(2022년 3~5월 데이터제공 / 2022년 6월 예측)\n",
        "* 예측모델을 활용하여 탐색적 데이터 분석 수행\n",
        "* 대출신청, 미신청 고객을 분류하여 고객의 특성 분석결과 도출\n",
        "\n"
      ],
      "metadata": {
        "id": "VcrS2W2wVBr1"
      }
    },
    {
      "cell_type": "markdown",
      "source": [
        "- 회원 가입 이후 특정 기간안에 대출 신청 여부를 예측\n",
        "  \n",
        "- 핀다 홈화면 진입 고객의 모델 기반 고객 군집 분석\n",
        "  \n",
        "  모두가 대출을 원하진 않는다!\n",
        "  \n",
        "  여러 고객 군집별로 서비스 메시지를 제안한다."
      ],
      "metadata": {
        "id": "tG_kNcTtMcB9"
      }
    },
    {
      "cell_type": "markdown",
      "source": [
        "- 비교대출 서비스\n",
        "    - 최적의 대출 경험 제공\n",
        "    - 고객 정보 제출 - 대출 조건을 받아 비교 선택\n",
        "    - 핀다 사용자 **10명 중 6명은 중금리대출**\n",
        "    - 인터넷 은행이 채우지 못한 중금리대출의 니즈를 채워줌\n",
        "    - 핀다의 홈화면 진입 고객 중 특정 기간 안에 대출 신청 고객을 예측\n",
        "\n",
        "<신청 과정>\n",
        "\n",
        "- 홈화면을 통해 신청 시작\n",
        "- 회원 가입을 통해 정보 수집\n",
        "- 홈화면의 대출신청 버튼을 통해 대출목적, 희망금액 입력\n",
        "- 자산정보입력\n",
        "- 인증서 사용여부 선택\n",
        "1. 회원 가입 이후 특정 기간안에 대출 신청 여부를 예측\n",
        "    \n",
        "    최종 모델평가는 승인된 상품 정보 기준 하나 이상을 선택해 대출한 고객을 예측하는 것\n",
        "    \n",
        "    → 예측 정확도 평가 지표 : (이진분류) F1-score\n",
        "    \n",
        "    모델링 정확도 만큼이나 데이터 분석, 모델링 과정을 평가에 반영\n",
        "    \n",
        "    label = 앱 사용자가 대출 조회를 하고, 승인된 금융상품 중 최소 하나를 선택하여 실제 대출을 실행한 경우 y로 표시\n",
        "    \n",
        "    학습 데이터와 시점상 크게 다르지 않음\n",
        "    \n",
        "    → 직전 데이터의 영향이 너무 크지 않도록\n",
        "    \n",
        "2. 핀다 홈화면 진입 고객의 모델 기반 고객 군집 분석\n",
        "    \n",
        "    앱 사용자 모두가 대출을 원하진 않는다!\n",
        "    \n",
        "    여러 고객 군집별로 서비스 메시지를 제안한다.\n",
        "    \n",
        "    통계적 군집 분석 과정의 타당성과 서비스 메시지의 독창성을 평가"
      ],
      "metadata": {
        "id": "YlZZjioRNmhZ"
      }
    },
    {
      "cell_type": "markdown",
      "source": [
        "# 데이터 불러오기"
      ],
      "metadata": {
        "id": "VaBcH_tNrHLV"
      }
    },
    {
      "cell_type": "code",
      "execution_count": null,
      "metadata": {
        "id": "A5HBxhxFpzk6"
      },
      "outputs": [],
      "source": [
        "import pandas as pd\n",
        "import numpy as np\n",
        "import matplotlib.pyplot as plt\n",
        "import seaborn as sns"
      ]
    },
    {
      "cell_type": "markdown",
      "source": [
        "## 드라이브 마운트 & 저장 경로 설정"
      ],
      "metadata": {
        "id": "Du8rQx2jWMFZ"
      }
    },
    {
      "cell_type": "code",
      "source": [
        "# 드라이브 마운트\n",
        "from google.colab import drive\n",
        "\n",
        "drive.mount('/content/gdrive')"
      ],
      "metadata": {
        "id": "ma7rmh2iWO15"
      },
      "execution_count": null,
      "outputs": []
    },
    {
      "cell_type": "code",
      "source": [
        "import os\n",
        "\n",
        "ROOT_DIR = \"/content/gdrive/My Drive/빅콘테스트_2022/\"\n",
        "DATA_PATH = ROOT_DIR + \"data/\"\n",
        "IMAGE_PATH = ROOT_DIR + \"img/\"\n",
        "\n",
        "os.makedirs(DATA_PATH, exist_ok = True)\n",
        "os.makedirs(IMAGE_PATH, exist_ok = True)"
      ],
      "metadata": {
        "id": "PGzySmiwWaOi"
      },
      "execution_count": null,
      "outputs": []
    },
    {
      "cell_type": "code",
      "source": [
        "# 그림을 저장할 위치\n",
        "PROJECT_ROOT_DIR = \".\"\n",
        "CHAPTER_ID = \"classification\"\n",
        "IMAGES_PATH = os.path.join(PROJECT_ROOT_DIR, \"images\", CHAPTER_ID)\n",
        "os.makedirs(IMAGES_PATH, exist_ok=True)\n",
        "\n",
        "def save_fig(fig_id, tight_layout=True, fig_extension=\"png\", resolution=300):\n",
        "    path = os.path.join(IMAGES_PATH, fig_id + \".\" + fig_extension)\n",
        "    print(\"그림 저장:\", fig_id)\n",
        "    if tight_layout:\n",
        "        plt.tight_layout()\n",
        "    plt.savefig(path, format=fig_extension, dpi=resolution)"
      ],
      "metadata": {
        "id": "nm5uwXvER9t_"
      },
      "execution_count": null,
      "outputs": []
    },
    {
      "cell_type": "code",
      "source": [
        "# 불필요한 경고 무시\n",
        "import warnings\n",
        "warnings.filterwarnings(action=\"ignore\", message=\"^internal gelsd\")"
      ],
      "metadata": {
        "id": "n0pXYQVIz-VH"
      },
      "execution_count": null,
      "outputs": []
    },
    {
      "cell_type": "markdown",
      "source": [
        "## 데이터 불러오기 및 확인"
      ],
      "metadata": {
        "id": "XSaqf2X61ArR"
      }
    },
    {
      "cell_type": "code",
      "source": [
        "import pandas as pd\n",
        "import numpy as np\n",
        "import matplotlib as mpl\n",
        "import matplotlib.pyplot as plt\n",
        "import seaborn as sns"
      ],
      "metadata": {
        "id": "Ss6E86sz1xof"
      },
      "execution_count": null,
      "outputs": []
    },
    {
      "cell_type": "code",
      "source": [
        "def load_data(file_name, DATA_PATH=DATA_PATH):\n",
        "  file_path = os.path.join(DATA_PATH, file_name)\n",
        "  return pd.read_csv(file_path)"
      ],
      "metadata": {
        "id": "OGPLOorYz-8G"
      },
      "execution_count": null,
      "outputs": []
    },
    {
      "cell_type": "code",
      "source": [
        "user_spec = load_data(\"user_spec.csv\")\n",
        "log_data = load_data(\"log_data.csv\")\n",
        "loan_result = load_data(\"loan_result.csv\")"
      ],
      "metadata": {
        "id": "AD69nkKz0jbU"
      },
      "execution_count": null,
      "outputs": []
    },
    {
      "cell_type": "code",
      "source": [
        "user_spec.head()"
      ],
      "metadata": {
        "id": "kCFpOM5z1DMq"
      },
      "execution_count": null,
      "outputs": []
    },
    {
      "cell_type": "code",
      "source": [
        "#loan_result[loan_result['is_applied']==1]\n",
        "loan_result.head(50)"
      ],
      "metadata": {
        "id": "sJbPKhQq1F8y"
      },
      "execution_count": null,
      "outputs": []
    },
    {
      "cell_type": "code",
      "source": [
        "log_data.head() # row 개수 확인"
      ],
      "metadata": {
        "id": "0GZK9xHjK27h"
      },
      "execution_count": null,
      "outputs": []
    },
    {
      "cell_type": "code",
      "source": [],
      "metadata": {
        "id": "UeS8mN6suaoE"
      },
      "execution_count": null,
      "outputs": []
    }
  ]
}