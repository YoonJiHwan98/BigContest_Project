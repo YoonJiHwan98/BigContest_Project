{
  "nbformat": 4,
  "nbformat_minor": 0,
  "metadata": {
    "colab": {
      "private_outputs": true,
      "provenance": [],
      "collapsed_sections": [],
      "machine_shape": "hm",
      "authorship_tag": "ABX9TyP9+1HbbKiaWcU4MgeWvEez",
      "include_colab_link": true
    },
    "kernelspec": {
      "name": "python3",
      "display_name": "Python 3"
    },
    "language_info": {
      "name": "python"
    }
  },
  "cells": [
    {
      "cell_type": "markdown",
      "metadata": {
        "id": "view-in-github",
        "colab_type": "text"
      },
      "source": [
        "<a href=\"https://colab.research.google.com/github/YoonJiHwan98/BigContest_Project/blob/Jihwan/code/Bigcontest_EDA.ipynb\" target=\"_parent\"><img src=\"https://colab.research.google.com/assets/colab-badge.svg\" alt=\"Open In Colab\"/></a>"
      ]
    },
    {
      "cell_type": "code",
      "execution_count": null,
      "metadata": {
        "id": "VU405-61Vmnz"
      },
      "outputs": [],
      "source": []
    },
    {
      "cell_type": "code",
      "source": [
        "from google.colab import drive\n",
        "drive.mount('/content/drive')"
      ],
      "metadata": {
        "id": "qBHBA2YGY7PG"
      },
      "execution_count": null,
      "outputs": []
    },
    {
      "cell_type": "markdown",
      "source": [
        "# 데이터 불러오기"
      ],
      "metadata": {
        "id": "Uc0rIMmyopwJ"
      }
    },
    {
      "cell_type": "code",
      "execution_count": null,
      "metadata": {
        "id": "mLkAf0uIiPqw"
      },
      "outputs": [],
      "source": [
        "import pandas as pd\n",
        "import numpy as np\n",
        "import matplotlib.pyplot as plt\n",
        "import seaborn as sns"
      ]
    },
    {
      "cell_type": "code",
      "source": [
        "import os\n",
        "\n",
        "ROOT_DIR = \"/content/drive/My Drive/빅콘테스트_2022/\"\n",
        "DATA_PATH = ROOT_DIR + \"data/\"\n",
        "IMAGE_PATH = ROOT_DIR + \"img/final/\"\n",
        "\n",
        "def save_fig(fig_id, tight_layout=True, fig_extension=\"png\", resolution=300):\n",
        "  path = os.path.join(IMAGE_PATH, fig_id + \".\" + fig_extension)\n",
        "  print(path)\n",
        "  print(\"그림 저장 : \", fig_id)\n",
        "  if tight_layout:\n",
        "    plt.tight_layout()\n",
        "  plt.savefig(path, format=fig_extension, dpi=resolution)\n",
        "\n",
        "def save_data(data, file_name, DATA_PATH=DATA_PATH):\n",
        "  file_path = os.path.join(DATA_PATH, file_name)\n",
        "  print(file_path)\n",
        "  return data.to_csv(file_path, index=False)  "
      ],
      "metadata": {
        "id": "Tweg7O-bpHsU"
      },
      "execution_count": null,
      "outputs": []
    },
    {
      "cell_type": "code",
      "source": [
        "df_test = pd.read_csv('/content/drive/MyDrive/빅콘테스트_2022/data/new/target_prepared_log.csv')\n",
        "\n",
        "test = pd.read_csv('/content/drive/MyDrive/빅콘테스트_2022/data/new/merge_target_log.csv')"
      ],
      "metadata": {
        "id": "t89HcorVlyAW"
      },
      "execution_count": null,
      "outputs": []
    },
    {
      "cell_type": "code",
      "source": [
        "train = pd.read_csv('/content/drive/MyDrive/빅콘테스트_2022/data/new/merge_train_log.csv')"
      ],
      "metadata": {
        "id": "gee1RH82QYpg"
      },
      "execution_count": null,
      "outputs": []
    },
    {
      "cell_type": "code",
      "source": [
        "pd.options.display.float_format = '{:.5f}'.format\n",
        "pd.set_option('display.max_columns', None)"
      ],
      "metadata": {
        "id": "XNDzrkqTmWnU"
      },
      "execution_count": null,
      "outputs": []
    },
    {
      "cell_type": "code",
      "source": [
        "#train.shape"
      ],
      "metadata": {
        "id": "HdAkkeCfpGe1"
      },
      "execution_count": null,
      "outputs": []
    },
    {
      "cell_type": "markdown",
      "source": [
        "# 모델 불러오기"
      ],
      "metadata": {
        "id": "Y2En4q8rGCgc"
      }
    },
    {
      "cell_type": "code",
      "source": [
        "import pickle\n",
        "MODEL_PATH = os.path.join(ROOT_DIR, \"model/\")\n",
        "\n",
        "def import_model(model_name):\n",
        "  with open(MODEL_PATH + model_name, 'rb') as file:\n",
        "    model = pickle.load(file)\n",
        "  return model\n",
        " "
      ],
      "metadata": {
        "id": "7OcGB5GwoK7g"
      },
      "execution_count": null,
      "outputs": []
    },
    {
      "cell_type": "code",
      "source": [
        "rf_model = import_model('balanced_rf_model_tuned.pkl')\n",
        "rf_model\n"
      ],
      "metadata": {
        "id": "RiXAjB3DoM33"
      },
      "execution_count": null,
      "outputs": []
    },
    {
      "cell_type": "markdown",
      "source": [
        "# 모델 예측 결과 "
      ],
      "metadata": {
        "id": "k2Decli_A4Og"
      }
    },
    {
      "cell_type": "code",
      "source": [
        "df_pred = rf_model.predict(df_test)"
      ],
      "metadata": {
        "id": "9neXOSZxab6H"
      },
      "execution_count": null,
      "outputs": []
    },
    {
      "cell_type": "code",
      "source": [
        "df_pred"
      ],
      "metadata": {
        "id": "zjMhCRCcdCYS"
      },
      "execution_count": null,
      "outputs": []
    },
    {
      "cell_type": "code",
      "source": [
        "test['is_applied'] = df_pred"
      ],
      "metadata": {
        "id": "upbSGSOVhe5K"
      },
      "execution_count": null,
      "outputs": []
    },
    {
      "cell_type": "code",
      "source": [
        "df = test.copy()"
      ],
      "metadata": {
        "id": "n_nwkqHzhi0p"
      },
      "execution_count": null,
      "outputs": []
    },
    {
      "cell_type": "markdown",
      "source": [
        "# 모델 예측에 따른 고객 시각화"
      ],
      "metadata": {
        "id": "MTX4jyLeA1iV"
      }
    },
    {
      "cell_type": "code",
      "source": [
        "df = df.drop(columns=['application_id','bank_id','product_id','loanapply_insert_time'])"
      ],
      "metadata": {
        "id": "T2fKbLblA1Cw"
      },
      "execution_count": null,
      "outputs": []
    },
    {
      "cell_type": "code",
      "source": [
        "df"
      ],
      "metadata": {
        "id": "2M84EAphicXo"
      },
      "execution_count": null,
      "outputs": []
    },
    {
      "cell_type": "markdown",
      "source": [
        "# train 데이터 시각화"
      ],
      "metadata": {
        "id": "WVu6qHzFQ5Qb"
      }
    },
    {
      "cell_type": "code",
      "source": [
        "train['insert_time'] = pd.to_datetime(train['insert_time'])\n",
        "train['month'] = train['insert_time'].dt.monthtt"
      ],
      "metadata": {
        "id": "EffSpTXKQ907"
      },
      "execution_count": null,
      "outputs": []
    },
    {
      "cell_type": "code",
      "source": [
        "plt.figure(figsize = (12,9))\n",
        "sns.countplot(train['month'])\n",
        "save_fig('월별 대출 신청 건수')\n",
        "plt.show()"
      ],
      "metadata": {
        "id": "l3DRB0JsRJ3L"
      },
      "execution_count": null,
      "outputs": []
    },
    {
      "cell_type": "code",
      "source": [
        "plt.figure(figsize = (12,9))\n",
        "sns.countplot(train['employment_type'])\n",
        "save_fig('직업별 신청 건수')\n",
        "plt.show()"
      ],
      "metadata": {
        "id": "RV75EDC9UYAp"
      },
      "execution_count": null,
      "outputs": []
    },
    {
      "cell_type": "code",
      "source": [
        "plt.figure(figsize = (12,9))\n",
        "sns.countplot(train['houseown_type'])\n",
        "save_fig('주택 보유 시각화')\n",
        "plt.show()"
      ],
      "metadata": {
        "id": "KNzRoFQuTDuR"
      },
      "execution_count": null,
      "outputs": []
    },
    {
      "cell_type": "code",
      "source": [
        "plt.figure(figsize = (12,9))\n",
        "sns.countplot(train['purpose'])\n",
        "save_fig('대출 목적별 신청 건수')\n",
        "plt.show()"
      ],
      "metadata": {
        "id": "IIPXrw7sWjQB"
      },
      "execution_count": null,
      "outputs": []
    },
    {
      "cell_type": "markdown",
      "source": [
        "# 신용 등급에 따른 군집분석"
      ],
      "metadata": {
        "id": "xH5YpRecDbvw"
      }
    },
    {
      "cell_type": "code",
      "source": [
        "plt.figure(figsize = (12,9))\n",
        "sns.countplot(df['credit_score_cut'],hue = df['is_applied'])\n",
        "plt.show()"
      ],
      "metadata": {
        "id": "Dga_p-yNDA6X"
      },
      "execution_count": null,
      "outputs": []
    },
    {
      "cell_type": "code",
      "source": [
        "plt.figure(figsize = (12,9))\n",
        "sns.countplot(df['credit_score_cut'])\n",
        "plt.show()"
      ],
      "metadata": {
        "id": "t9k6rnv8D9IS"
      },
      "execution_count": null,
      "outputs": []
    },
    {
      "cell_type": "code",
      "source": [],
      "metadata": {
        "id": "fhvjI1PAEU1x"
      },
      "execution_count": null,
      "outputs": []
    },
    {
      "cell_type": "code",
      "source": [],
      "metadata": {
        "id": "G9fnFBT9PW7j"
      },
      "execution_count": null,
      "outputs": []
    },
    {
      "cell_type": "code",
      "source": [],
      "metadata": {
        "id": "fD4ZhGCbPtn6"
      },
      "execution_count": null,
      "outputs": []
    }
  ]
}