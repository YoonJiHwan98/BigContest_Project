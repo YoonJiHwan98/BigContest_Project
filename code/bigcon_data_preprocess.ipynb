{
  "nbformat": 4,
  "nbformat_minor": 0,
  "metadata": {
    "colab": {
      "provenance": [],
      "collapsed_sections": [
        "Du8rQx2jWMFZ",
        "XSaqf2X61ArR",
        "vB7bqjBqOMRy"
      ],
      "machine_shape": "hm",
      "include_colab_link": true
    },
    "kernelspec": {
      "name": "python3",
      "display_name": "Python 3"
    },
    "language_info": {
      "name": "python"
    }
  },
  "cells": [
    {
      "cell_type": "markdown",
      "metadata": {
        "id": "view-in-github",
        "colab_type": "text"
      },
      "source": [
        "<a href=\"https://colab.research.google.com/github/YoonJiHwan98/BigContest_Project/blob/Jihwan/code/bigcon_data_preprocess.ipynb\" target=\"_parent\"><img src=\"https://colab.research.google.com/assets/colab-badge.svg\" alt=\"Open In Colab\"/></a>"
      ]
    },
    {
      "cell_type": "markdown",
      "source": [
        "# 2022 빅콘테스트 "
      ],
      "metadata": {
        "id": "IqIHIud6U62o"
      }
    },
    {
      "cell_type": "markdown",
      "source": [
        "## 문제\n",
        "\n",
        "앱 사용성 데이터를 통한 대출신청 예측분석\n",
        "\n",
        "\n",
        "---\n",
        "\n",
        "\n",
        "가명화된 데이터를 기반으로 고객의 대출상품 신청여부 예측\n",
        "(2022년 3~5월 데이터제공 / 2022년 6월 예측)\n",
        "* 예측모델을 활용하여 탐색적 데이터 분석 수행\n",
        "* 대출신청, 미신청 고객을 분류하여 고객의 특성 분석결과 도출\n",
        "\n"
      ],
      "metadata": {
        "id": "VcrS2W2wVBr1"
      }
    },
    {
      "cell_type": "markdown",
      "source": [
        "- 회원 가입 이후 특정 기간안에 대출 신청 여부를 예측\n",
        "  \n",
        "- 핀다 홈화면 진입 고객의 모델 기반 고객 군집 분석\n",
        "  \n",
        "  모두가 대출을 원하진 않는다!\n",
        "  \n",
        "  여러 고객 군집별로 서비스 메시지를 제안한다."
      ],
      "metadata": {
        "id": "tG_kNcTtMcB9"
      }
    },
    {
      "cell_type": "markdown",
      "source": [
        "- 비교대출 서비스\n",
        "    - 최적의 대출 경험 제공\n",
        "    - 고객 정보 제출 - 대출 조건을 받아 비교 선택\n",
        "    - 핀다 사용자 **10명 중 6명은 중금리대출**\n",
        "    - 인터넷 은행이 채우지 못한 중금리대출의 니즈를 채워줌\n",
        "    - 핀다의 홈화면 진입 고객 중 특정 기간 안에 대출 신청 고객을 예측\n",
        "\n",
        "<신청 과정>\n",
        "\n",
        "- 홈화면을 통해 신청 시작\n",
        "- 회원 가입을 통해 정보 수집\n",
        "- 홈화면의 대출신청 버튼을 통해 대출목적, 희망금액 입력\n",
        "- 자산정보입력\n",
        "- 인증서 사용여부 선택\n",
        "1. 회원 가입 이후 특정 기간안에 대출 신청 여부를 예측\n",
        "    \n",
        "    최종 모델평가는 승인된 상품 정보 기준 하나 이상을 선택해 대출한 고객을 예측하는 것\n",
        "    \n",
        "    → 예측 정확도 평가 지표 : (이진분류) F1-score\n",
        "    \n",
        "    모델링 정확도 만큼이나 데이터 분석, 모델링 과정을 평가에 반영\n",
        "    \n",
        "    label = 앱 사용자가 대출 조회를 하고, 승인된 금융상품 중 최소 하나를 선택하여 실제 대출을 실행한 경우 y로 표시\n",
        "    \n",
        "    학습 데이터와 시점상 크게 다르지 않음\n",
        "    \n",
        "    → 직전 데이터의 영향이 너무 크지 않도록\n",
        "    \n",
        "2. 핀다 홈화면 진입 고객의 모델 기반 고객 군집 분석\n",
        "    \n",
        "    앱 사용자 모두가 대출을 원하진 않는다!\n",
        "    \n",
        "    여러 고객 군집별로 서비스 메시지를 제안한다.\n",
        "    \n",
        "    통계적 군집 분석 과정의 타당성과 서비스 메시지의 독창성을 평가"
      ],
      "metadata": {
        "id": "YlZZjioRNmhZ"
      }
    },
    {
      "cell_type": "markdown",
      "source": [
        "## 결과 제출 방식\n",
        "\n",
        "* target : loan_result['is_applied'] # 대출 신청여부\n",
        "\n",
        "* PPT\n",
        "1. 자유양식\n",
        "2. 분량제한없음\n",
        "3. 파워포인트(PPT)파일형식으로 제출 (파일명은 “분야명_주제명_개인/팀명＂으로 작성)\n",
        "4. 필요시 설명자료(한글, 워드파일) 추가 제출 가능"
      ],
      "metadata": {
        "id": "A9-l3tg0V14t"
      }
    },
    {
      "cell_type": "markdown",
      "source": [
        "## 심사 기준\n",
        "\n",
        "\t고객 당 대출 신청 여부 예측, 데이터 수집, 전처리 과정, 예측 모델 해석(필수)"
      ],
      "metadata": {
        "id": "hqlVLI21VTOc"
      }
    },
    {
      "cell_type": "markdown",
      "source": [
        "## 이번에 주의할 것\n",
        "\n",
        "\n",
        "* 탐색적 데이터 분석 수행이라고 박아놓은거 보면 EDA & 전처리 과정에 대한 \"이유\"를 상세히 적어놔야 할 것 같다\n",
        "\n",
        "* 단순한 분류 accuracy 뿐 아니라 고객의 \"특성 분석 결과\"를 도출해내는 것이 중요한 것 같다\n",
        "\n"
      ],
      "metadata": {
        "id": "NUGYpmXEU_hN"
      }
    },
    {
      "cell_type": "markdown",
      "source": [
        "## 간략한 인사이트\n",
        "\n",
        "\n",
        "* 유저 스펙에서 중요한 부분 : 은\n",
        "* 유저 로그 데이터 어떻게 이용할지 -> count?"
      ],
      "metadata": {
        "id": "E_SxIk99JIcx"
      }
    },
    {
      "cell_type": "markdown",
      "source": [
        "고객 스펙 -> 어떤게 추천이 되는지? 핀다 직접 깔아봐야겠다\n",
        "\n",
        "추천된 것들 중에 고객이 선택할지 말지니까...\n",
        "\n",
        "\n",
        "어플 이용층 : 젊은 층이 주로 사용하지 않을까 싶음\n",
        "\n",
        "고객 스펙 데이터 중 나이를 알아보고 그 유저층이 무엇을 중요하게 생각하는지, 어떤 대출을 주로 받는지 인사이트 추가적으로 조사할 것?\n",
        "\n",
        "\n",
        "유저 로그 데이터 -> 군집화에 주로 이용될듯"
      ],
      "metadata": {
        "id": "3ABdNP4SPCNi"
      }
    },
    {
      "cell_type": "markdown",
      "source": [
        "## 드라이브 마운트 & 저장 경로 설정"
      ],
      "metadata": {
        "id": "Du8rQx2jWMFZ"
      }
    },
    {
      "cell_type": "code",
      "source": [
        "# 드라이브 마운트\n",
        "from google.colab import drive\n",
        "\n",
        "drive.mount('/content/gdrive')"
      ],
      "metadata": {
        "colab": {
          "base_uri": "https://localhost:8080/"
        },
        "id": "ma7rmh2iWO15",
        "outputId": "df432ca1-6476-4df5-feae-fcc8df81a14f"
      },
      "execution_count": 151,
      "outputs": [
        {
          "output_type": "stream",
          "name": "stdout",
          "text": [
            "Drive already mounted at /content/gdrive; to attempt to forcibly remount, call drive.mount(\"/content/gdrive\", force_remount=True).\n"
          ]
        }
      ]
    },
    {
      "cell_type": "code",
      "source": [
        "import os\n",
        "\n",
        "ROOT_DIR = \"/content/gdrive/My Drive/빅콘테스트_2022/\"\n",
        "DATA_PATH = ROOT_DIR + \"data/\"\n",
        "IMAGE_PATH = ROOT_DIR + \"img/\"\n",
        "\n",
        "os.makedirs(DATA_PATH, exist_ok = True)\n",
        "os.makedirs(IMAGE_PATH, exist_ok = True)"
      ],
      "metadata": {
        "id": "PGzySmiwWaOi"
      },
      "execution_count": 152,
      "outputs": []
    },
    {
      "cell_type": "code",
      "source": [
        "# 불필요한 경고 무시\n",
        "import warnings\n",
        "warnings.filterwarnings(action=\"ignore\", message=\"^internal gelsd\")"
      ],
      "metadata": {
        "id": "n0pXYQVIz-VH"
      },
      "execution_count": 153,
      "outputs": []
    },
    {
      "cell_type": "markdown",
      "source": [
        "## 데이터 불러오기 및 확인"
      ],
      "metadata": {
        "id": "XSaqf2X61ArR"
      }
    },
    {
      "cell_type": "code",
      "source": [
        "import pandas as pd\n",
        "import numpy as np\n",
        "import matplotlib as mpl\n",
        "import matplotlib.pyplot as plt\n",
        "import seaborn as sns"
      ],
      "metadata": {
        "id": "Ss6E86sz1xof"
      },
      "execution_count": 154,
      "outputs": []
    },
    {
      "cell_type": "code",
      "source": [
        "pd.set_option('display.max_columns', None)\n",
        "pd.options.display.float_format = '{:.5f}'.format"
      ],
      "metadata": {
        "id": "-Xersq8Jd1ah"
      },
      "execution_count": 155,
      "outputs": []
    },
    {
      "cell_type": "code",
      "source": [
        "def load_data(file_name, DATA_PATH=DATA_PATH):\n",
        "  file_path = os.path.join(DATA_PATH, file_name)\n",
        "  return pd.read_csv(file_path)"
      ],
      "metadata": {
        "id": "OGPLOorYz-8G"
      },
      "execution_count": 156,
      "outputs": []
    },
    {
      "cell_type": "code",
      "source": [
        "user_spec = load_data(\"user_spec.csv\")\n",
        "log_data = load_data(\"log_data.csv\")\n",
        "loan_result = load_data(\"loan_result.csv\")"
      ],
      "metadata": {
        "id": "AD69nkKz0jbU"
      },
      "execution_count": 157,
      "outputs": []
    },
    {
      "cell_type": "code",
      "source": [
        "user_spec.head()"
      ],
      "metadata": {
        "colab": {
          "base_uri": "https://localhost:8080/",
          "height": 0
        },
        "id": "kCFpOM5z1DMq",
        "outputId": "f8e699eb-8e18-47ad-b926-ac6528dcdede"
      },
      "execution_count": 158,
      "outputs": [
        {
          "output_type": "execute_result",
          "data": {
            "text/plain": [
              "   application_id  user_id  birth_year  gender          insert_time  \\\n",
              "0         1249046   118218  1985.00000 1.00000  2022-06-07 06:28:18   \n",
              "1          954900   553686  1968.00000 1.00000  2022-06-07 14:29:03   \n",
              "2          137274    59516  1997.00000 1.00000  2022-06-07 21:40:22   \n",
              "3         1570936   167320  1989.00000 1.00000  2022-06-07 09:40:27   \n",
              "4          967833    33400  2000.00000 1.00000  2022-06-07 08:55:07   \n",
              "\n",
              "   credit_score   yearly_income      income_type  company_enter_month  \\\n",
              "0     660.00000 108000000.00000  PRIVATEBUSINESS       20151101.00000   \n",
              "1     870.00000  30000000.00000  PRIVATEBUSINESS       20070201.00000   \n",
              "2     710.00000  30000000.00000       FREELANCER       20210901.00000   \n",
              "3     820.00000  62000000.00000     EARNEDINCOME       20170101.00000   \n",
              "4     630.00000  36000000.00000     EARNEDINCOME       20210901.00000   \n",
              "\n",
              "  employment_type houseown_type  desired_amount purpose  \\\n",
              "0              기타            자가   1000000.00000      기타   \n",
              "1             정규직        기타가족소유  30000000.00000    대환대출   \n",
              "2              기타        기타가족소유  10000000.00000     생활비   \n",
              "3             정규직            자가   2000000.00000     생활비   \n",
              "4             정규직        기타가족소유   5000000.00000     생활비   \n",
              "\n",
              "   personal_rehabilitation_yn  personal_rehabilitation_complete_yn  \\\n",
              "0                     0.00000                                  NaN   \n",
              "1                     0.00000                                  NaN   \n",
              "2                     0.00000                                  NaN   \n",
              "3                     0.00000                                  NaN   \n",
              "4                     0.00000                              0.00000   \n",
              "\n",
              "   existing_loan_cnt  existing_loan_amt  \n",
              "0            4.00000    162000000.00000  \n",
              "1            1.00000     27000000.00000  \n",
              "2            5.00000     15000000.00000  \n",
              "3            7.00000    344000000.00000  \n",
              "4            1.00000     16000000.00000  "
            ],
            "text/html": [
              "\n",
              "  <div id=\"df-c6dc677e-b2dc-4b3d-8d3b-c4ae3ee1c75e\">\n",
              "    <div class=\"colab-df-container\">\n",
              "      <div>\n",
              "<style scoped>\n",
              "    .dataframe tbody tr th:only-of-type {\n",
              "        vertical-align: middle;\n",
              "    }\n",
              "\n",
              "    .dataframe tbody tr th {\n",
              "        vertical-align: top;\n",
              "    }\n",
              "\n",
              "    .dataframe thead th {\n",
              "        text-align: right;\n",
              "    }\n",
              "</style>\n",
              "<table border=\"1\" class=\"dataframe\">\n",
              "  <thead>\n",
              "    <tr style=\"text-align: right;\">\n",
              "      <th></th>\n",
              "      <th>application_id</th>\n",
              "      <th>user_id</th>\n",
              "      <th>birth_year</th>\n",
              "      <th>gender</th>\n",
              "      <th>insert_time</th>\n",
              "      <th>credit_score</th>\n",
              "      <th>yearly_income</th>\n",
              "      <th>income_type</th>\n",
              "      <th>company_enter_month</th>\n",
              "      <th>employment_type</th>\n",
              "      <th>houseown_type</th>\n",
              "      <th>desired_amount</th>\n",
              "      <th>purpose</th>\n",
              "      <th>personal_rehabilitation_yn</th>\n",
              "      <th>personal_rehabilitation_complete_yn</th>\n",
              "      <th>existing_loan_cnt</th>\n",
              "      <th>existing_loan_amt</th>\n",
              "    </tr>\n",
              "  </thead>\n",
              "  <tbody>\n",
              "    <tr>\n",
              "      <th>0</th>\n",
              "      <td>1249046</td>\n",
              "      <td>118218</td>\n",
              "      <td>1985.00000</td>\n",
              "      <td>1.00000</td>\n",
              "      <td>2022-06-07 06:28:18</td>\n",
              "      <td>660.00000</td>\n",
              "      <td>108000000.00000</td>\n",
              "      <td>PRIVATEBUSINESS</td>\n",
              "      <td>20151101.00000</td>\n",
              "      <td>기타</td>\n",
              "      <td>자가</td>\n",
              "      <td>1000000.00000</td>\n",
              "      <td>기타</td>\n",
              "      <td>0.00000</td>\n",
              "      <td>NaN</td>\n",
              "      <td>4.00000</td>\n",
              "      <td>162000000.00000</td>\n",
              "    </tr>\n",
              "    <tr>\n",
              "      <th>1</th>\n",
              "      <td>954900</td>\n",
              "      <td>553686</td>\n",
              "      <td>1968.00000</td>\n",
              "      <td>1.00000</td>\n",
              "      <td>2022-06-07 14:29:03</td>\n",
              "      <td>870.00000</td>\n",
              "      <td>30000000.00000</td>\n",
              "      <td>PRIVATEBUSINESS</td>\n",
              "      <td>20070201.00000</td>\n",
              "      <td>정규직</td>\n",
              "      <td>기타가족소유</td>\n",
              "      <td>30000000.00000</td>\n",
              "      <td>대환대출</td>\n",
              "      <td>0.00000</td>\n",
              "      <td>NaN</td>\n",
              "      <td>1.00000</td>\n",
              "      <td>27000000.00000</td>\n",
              "    </tr>\n",
              "    <tr>\n",
              "      <th>2</th>\n",
              "      <td>137274</td>\n",
              "      <td>59516</td>\n",
              "      <td>1997.00000</td>\n",
              "      <td>1.00000</td>\n",
              "      <td>2022-06-07 21:40:22</td>\n",
              "      <td>710.00000</td>\n",
              "      <td>30000000.00000</td>\n",
              "      <td>FREELANCER</td>\n",
              "      <td>20210901.00000</td>\n",
              "      <td>기타</td>\n",
              "      <td>기타가족소유</td>\n",
              "      <td>10000000.00000</td>\n",
              "      <td>생활비</td>\n",
              "      <td>0.00000</td>\n",
              "      <td>NaN</td>\n",
              "      <td>5.00000</td>\n",
              "      <td>15000000.00000</td>\n",
              "    </tr>\n",
              "    <tr>\n",
              "      <th>3</th>\n",
              "      <td>1570936</td>\n",
              "      <td>167320</td>\n",
              "      <td>1989.00000</td>\n",
              "      <td>1.00000</td>\n",
              "      <td>2022-06-07 09:40:27</td>\n",
              "      <td>820.00000</td>\n",
              "      <td>62000000.00000</td>\n",
              "      <td>EARNEDINCOME</td>\n",
              "      <td>20170101.00000</td>\n",
              "      <td>정규직</td>\n",
              "      <td>자가</td>\n",
              "      <td>2000000.00000</td>\n",
              "      <td>생활비</td>\n",
              "      <td>0.00000</td>\n",
              "      <td>NaN</td>\n",
              "      <td>7.00000</td>\n",
              "      <td>344000000.00000</td>\n",
              "    </tr>\n",
              "    <tr>\n",
              "      <th>4</th>\n",
              "      <td>967833</td>\n",
              "      <td>33400</td>\n",
              "      <td>2000.00000</td>\n",
              "      <td>1.00000</td>\n",
              "      <td>2022-06-07 08:55:07</td>\n",
              "      <td>630.00000</td>\n",
              "      <td>36000000.00000</td>\n",
              "      <td>EARNEDINCOME</td>\n",
              "      <td>20210901.00000</td>\n",
              "      <td>정규직</td>\n",
              "      <td>기타가족소유</td>\n",
              "      <td>5000000.00000</td>\n",
              "      <td>생활비</td>\n",
              "      <td>0.00000</td>\n",
              "      <td>0.00000</td>\n",
              "      <td>1.00000</td>\n",
              "      <td>16000000.00000</td>\n",
              "    </tr>\n",
              "  </tbody>\n",
              "</table>\n",
              "</div>\n",
              "      <button class=\"colab-df-convert\" onclick=\"convertToInteractive('df-c6dc677e-b2dc-4b3d-8d3b-c4ae3ee1c75e')\"\n",
              "              title=\"Convert this dataframe to an interactive table.\"\n",
              "              style=\"display:none;\">\n",
              "        \n",
              "  <svg xmlns=\"http://www.w3.org/2000/svg\" height=\"24px\"viewBox=\"0 0 24 24\"\n",
              "       width=\"24px\">\n",
              "    <path d=\"M0 0h24v24H0V0z\" fill=\"none\"/>\n",
              "    <path d=\"M18.56 5.44l.94 2.06.94-2.06 2.06-.94-2.06-.94-.94-2.06-.94 2.06-2.06.94zm-11 1L8.5 8.5l.94-2.06 2.06-.94-2.06-.94L8.5 2.5l-.94 2.06-2.06.94zm10 10l.94 2.06.94-2.06 2.06-.94-2.06-.94-.94-2.06-.94 2.06-2.06.94z\"/><path d=\"M17.41 7.96l-1.37-1.37c-.4-.4-.92-.59-1.43-.59-.52 0-1.04.2-1.43.59L10.3 9.45l-7.72 7.72c-.78.78-.78 2.05 0 2.83L4 21.41c.39.39.9.59 1.41.59.51 0 1.02-.2 1.41-.59l7.78-7.78 2.81-2.81c.8-.78.8-2.07 0-2.86zM5.41 20L4 18.59l7.72-7.72 1.47 1.35L5.41 20z\"/>\n",
              "  </svg>\n",
              "      </button>\n",
              "      \n",
              "  <style>\n",
              "    .colab-df-container {\n",
              "      display:flex;\n",
              "      flex-wrap:wrap;\n",
              "      gap: 12px;\n",
              "    }\n",
              "\n",
              "    .colab-df-convert {\n",
              "      background-color: #E8F0FE;\n",
              "      border: none;\n",
              "      border-radius: 50%;\n",
              "      cursor: pointer;\n",
              "      display: none;\n",
              "      fill: #1967D2;\n",
              "      height: 32px;\n",
              "      padding: 0 0 0 0;\n",
              "      width: 32px;\n",
              "    }\n",
              "\n",
              "    .colab-df-convert:hover {\n",
              "      background-color: #E2EBFA;\n",
              "      box-shadow: 0px 1px 2px rgba(60, 64, 67, 0.3), 0px 1px 3px 1px rgba(60, 64, 67, 0.15);\n",
              "      fill: #174EA6;\n",
              "    }\n",
              "\n",
              "    [theme=dark] .colab-df-convert {\n",
              "      background-color: #3B4455;\n",
              "      fill: #D2E3FC;\n",
              "    }\n",
              "\n",
              "    [theme=dark] .colab-df-convert:hover {\n",
              "      background-color: #434B5C;\n",
              "      box-shadow: 0px 1px 3px 1px rgba(0, 0, 0, 0.15);\n",
              "      filter: drop-shadow(0px 1px 2px rgba(0, 0, 0, 0.3));\n",
              "      fill: #FFFFFF;\n",
              "    }\n",
              "  </style>\n",
              "\n",
              "      <script>\n",
              "        const buttonEl =\n",
              "          document.querySelector('#df-c6dc677e-b2dc-4b3d-8d3b-c4ae3ee1c75e button.colab-df-convert');\n",
              "        buttonEl.style.display =\n",
              "          google.colab.kernel.accessAllowed ? 'block' : 'none';\n",
              "\n",
              "        async function convertToInteractive(key) {\n",
              "          const element = document.querySelector('#df-c6dc677e-b2dc-4b3d-8d3b-c4ae3ee1c75e');\n",
              "          const dataTable =\n",
              "            await google.colab.kernel.invokeFunction('convertToInteractive',\n",
              "                                                     [key], {});\n",
              "          if (!dataTable) return;\n",
              "\n",
              "          const docLinkHtml = 'Like what you see? Visit the ' +\n",
              "            '<a target=\"_blank\" href=https://colab.research.google.com/notebooks/data_table.ipynb>data table notebook</a>'\n",
              "            + ' to learn more about interactive tables.';\n",
              "          element.innerHTML = '';\n",
              "          dataTable['output_type'] = 'display_data';\n",
              "          await google.colab.output.renderOutput(dataTable, element);\n",
              "          const docLink = document.createElement('div');\n",
              "          docLink.innerHTML = docLinkHtml;\n",
              "          element.appendChild(docLink);\n",
              "        }\n",
              "      </script>\n",
              "    </div>\n",
              "  </div>\n",
              "  "
            ]
          },
          "metadata": {},
          "execution_count": 158
        }
      ]
    },
    {
      "cell_type": "code",
      "source": [
        "user_spec.isnull().sum()"
      ],
      "metadata": {
        "colab": {
          "base_uri": "https://localhost:8080/"
        },
        "id": "sJbPKhQq1F8y",
        "outputId": "fd21a433-deaf-475a-92cf-fa92f38e1cf2"
      },
      "execution_count": 159,
      "outputs": [
        {
          "output_type": "execute_result",
          "data": {
            "text/plain": [
              "application_id                               0\n",
              "user_id                                      0\n",
              "birth_year                               12961\n",
              "gender                                   12961\n",
              "insert_time                                  0\n",
              "credit_score                            105115\n",
              "yearly_income                               90\n",
              "income_type                                 85\n",
              "company_enter_month                     171760\n",
              "employment_type                             85\n",
              "houseown_type                               85\n",
              "desired_amount                              85\n",
              "purpose                                     85\n",
              "personal_rehabilitation_yn              587461\n",
              "personal_rehabilitation_complete_yn    1203354\n",
              "existing_loan_cnt                       198556\n",
              "existing_loan_amt                       313774\n",
              "dtype: int64"
            ]
          },
          "metadata": {},
          "execution_count": 159
        }
      ]
    },
    {
      "cell_type": "code",
      "source": [
        "len(user_spec), len(loan_result) # row 개수 확인"
      ],
      "metadata": {
        "colab": {
          "base_uri": "https://localhost:8080/"
        },
        "id": "0GZK9xHjK27h",
        "outputId": "b672bbb7-43f3-4ada-b306-82a6946c0ed1"
      },
      "execution_count": 160,
      "outputs": [
        {
          "output_type": "execute_result",
          "data": {
            "text/plain": [
              "(1394216, 13527363)"
            ]
          },
          "metadata": {},
          "execution_count": 160
        }
      ]
    },
    {
      "cell_type": "markdown",
      "source": [
        "# 전처리"
      ],
      "metadata": {
        "id": "GHx_CmynGi0y"
      }
    },
    {
      "cell_type": "markdown",
      "source": [
        "## User_spec"
      ],
      "metadata": {
        "id": "0rySEqlROGB0"
      }
    },
    {
      "cell_type": "markdown",
      "source": [
        "### birth_year"
      ],
      "metadata": {
        "id": "vB7bqjBqOMRy"
      }
    },
    {
      "cell_type": "markdown",
      "source": [
        "Gender 스케일 진행 X, Null 값은 일단 없는 행 평균값 넣기"
      ],
      "metadata": {
        "id": "cQ9699poPfEY"
      }
    },
    {
      "cell_type": "code",
      "source": [
        "user_spec['birth_year'].describe()"
      ],
      "metadata": {
        "colab": {
          "base_uri": "https://localhost:8080/"
        },
        "id": "kMw-pX5WQHNx",
        "outputId": "5f2ac372-bb84-4ed2-fb1d-01c34245ab37"
      },
      "execution_count": 161,
      "outputs": [
        {
          "output_type": "execute_result",
          "data": {
            "text/plain": [
              "count   1381255.00000\n",
              "mean       1983.28492\n",
              "std          10.67367\n",
              "min        1927.00000\n",
              "25%        1976.00000\n",
              "50%        1984.00000\n",
              "75%        1992.00000\n",
              "max        2008.00000\n",
              "Name: birth_year, dtype: float64"
            ]
          },
          "metadata": {},
          "execution_count": 161
        }
      ]
    },
    {
      "cell_type": "code",
      "source": [
        "user_spec['birth_year'] = user_spec['birth_year'].fillna(user_spec['birth_year'].mean())"
      ],
      "metadata": {
        "id": "VpVC8JLcONoa"
      },
      "execution_count": 162,
      "outputs": []
    },
    {
      "cell_type": "markdown",
      "source": [
        "### Gender"
      ],
      "metadata": {
        "id": "y8_xoAFrUbHl"
      }
    },
    {
      "cell_type": "markdown",
      "source": [
        "Gender 0 1 알수없음 으로 변경"
      ],
      "metadata": {
        "id": "QusnhOCaUbHq"
      }
    },
    {
      "cell_type": "code",
      "source": [
        "user_spec['gender'] = user_spec['gender'].fillna(9)"
      ],
      "metadata": {
        "id": "jk4TlF54UbHr"
      },
      "execution_count": 163,
      "outputs": []
    },
    {
      "cell_type": "code",
      "source": [
        "user_spec['gender'] = user_spec['gender'].astype(str)"
      ],
      "metadata": {
        "id": "WlYKmfJhUbHq"
      },
      "execution_count": 164,
      "outputs": []
    },
    {
      "cell_type": "code",
      "source": [
        "user_spec['gender'].replace(9,'NORESPONSE',inplace = True)"
      ],
      "metadata": {
        "id": "QvHIZB3OVxbT"
      },
      "execution_count": 165,
      "outputs": []
    },
    {
      "cell_type": "markdown",
      "source": [
        "### Credit score\n",
        "\n",
        "100 단위로 1 ~ 9 까지 카테고리로 나눴고 NaN 값은 0 으로 했습니다."
      ],
      "metadata": {
        "id": "0Ki_Zv3TU-sm"
      }
    },
    {
      "cell_type": "code",
      "source": [
        "user_spec['credit_score']"
      ],
      "metadata": {
        "colab": {
          "base_uri": "https://localhost:8080/"
        },
        "id": "mBTjGG7uVJld",
        "outputId": "a44e5914-3039-4ef9-afcb-9bdfd1b79ff9"
      },
      "execution_count": 166,
      "outputs": [
        {
          "output_type": "execute_result",
          "data": {
            "text/plain": [
              "0         660.00000\n",
              "1         870.00000\n",
              "2         710.00000\n",
              "3         820.00000\n",
              "4         630.00000\n",
              "             ...   \n",
              "1394211   590.00000\n",
              "1394212   980.00000\n",
              "1394213   750.00000\n",
              "1394214   640.00000\n",
              "1394215         NaN\n",
              "Name: credit_score, Length: 1394216, dtype: float64"
            ]
          },
          "metadata": {},
          "execution_count": 166
        }
      ]
    },
    {
      "cell_type": "code",
      "source": [
        "user_spec['credit_score'] = user_spec['credit_score'].fillna(-10)"
      ],
      "metadata": {
        "id": "quyyGJzJYc9m"
      },
      "execution_count": 167,
      "outputs": []
    },
    {
      "cell_type": "markdown",
      "source": [
        "![image.png](data:image/png;base64,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)"
      ],
      "metadata": {
        "id": "IWVhoWB2aw45"
      }
    },
    {
      "cell_type": "code",
      "source": [
        "def credit_score_cal(x):\n",
        "    if (900 <= int(x) < 1000):\n",
        "        return 1\n",
        "    elif (870 <= int(x) < 899):\n",
        "        return 2\n",
        "    elif (840 <= int(x) < 869):\n",
        "        return 3\n",
        "    elif (805 <= int(x) < 839):\n",
        "        return 4\n",
        "    elif (750 <= int(x) < 804):\n",
        "        return 5\n",
        "    elif (665 <= int(x) < 749):\n",
        "        return 6\n",
        "    elif (600 <= int(x) < 664):\n",
        "        return 7\n",
        "    elif (515 <= int(x) < 599):\n",
        "        return 8\n",
        "    elif (445 <= int(x) < 514):\n",
        "        return 9\n",
        "    elif (0 <= int(x) < 444):\n",
        "        return 10\n",
        "    else: return 0\n"
      ],
      "metadata": {
        "id": "1oL6c-_AV0JU"
      },
      "execution_count": 168,
      "outputs": []
    },
    {
      "cell_type": "code",
      "source": [
        "user_spec['credit_score'] = user_spec['credit_score'].apply(lambda x : credit_score_cal(x))"
      ],
      "metadata": {
        "id": "j7KgLTuqWx01"
      },
      "execution_count": 169,
      "outputs": []
    },
    {
      "cell_type": "markdown",
      "source": [
        "### yearly_income\n",
        "\n",
        "0 으로 채워넣었습니댯"
      ],
      "metadata": {
        "id": "sOB8qII3ZV5Y"
      }
    },
    {
      "cell_type": "code",
      "source": [
        "user_spec['yearly_income'] = user_spec['yearly_income'].fillna(0)"
      ],
      "metadata": {
        "id": "4GT09BgHZbne"
      },
      "execution_count": 170,
      "outputs": []
    },
    {
      "cell_type": "markdown",
      "source": [
        "### 'income_type','employment_type','houseown_type','desired_amount','purpose'\n",
        "\n",
        "NaN 은 'NORESPONSE' 로 채워넣었습니다"
      ],
      "metadata": {
        "id": "rn0IMsOIcT2l"
      }
    },
    {
      "cell_type": "code",
      "source": [
        "user_spec[['income_type','employment_type','houseown_type','desired_amount','purpose']] = user_spec[['income_type','employment_type','houseown_type','desired_amount','purpose']].fillna('NORESPONSE')"
      ],
      "metadata": {
        "id": "bJ-Qn0HMcXqV"
      },
      "execution_count": 171,
      "outputs": []
    },
    {
      "cell_type": "markdown",
      "source": [
        "### company_enter_month"
      ],
      "metadata": {
        "id": "nJ2Cu-xyczzI"
      }
    },
    {
      "cell_type": "code",
      "source": [
        "#user_spec['company_enter_month'] = user_spec['company_enter_month'].fillna(111101)"
      ],
      "metadata": {
        "id": "bYqCpKzMc3sm"
      },
      "execution_count": 172,
      "outputs": []
    },
    {
      "cell_type": "code",
      "source": [
        "from datetime import datetime\n",
        "\n",
        "now = datetime.now()"
      ],
      "metadata": {
        "id": "WrVjagrglTiR"
      },
      "execution_count": 173,
      "outputs": []
    },
    {
      "cell_type": "code",
      "source": [
        "def cal_company_month(dataframe):\n",
        "  df = dataframe.copy()\n",
        "  df['company_enter_month'] = df['company_enter_month'].fillna('0') # ValueError 발생 막기 위해 결측치부터 채우기\n",
        "  now_series = pd.Series([now] * len(df)) # 현재 시간 series로 생성\n",
        "\n",
        "  df['company_enter_month'] = df['company_enter_month'].astype('int') # int형으로 변환 (소수점 자르기)\n",
        "  df['company_enter_month'] = df['company_enter_month'].astype('str') # 문자형으로 변환\n",
        "\n",
        "  df['company_enter_month'] = df['company_enter_month'].str.slice(start=0, stop=6) # 일 단위 잘라내기\n",
        "\n",
        "  df.replace({'company_enter_month': {'0' : now}}, inplace=True) # 현재 시간으로 결측치 채우기\n",
        "\n",
        "  # 나머지 값들 datetime으로 자료형 변환\n",
        "  df['company_enter_month'] = df['company_enter_month'].apply(lambda x : datetime.strptime(x, '%Y%m') if type(x) != datetime else x)\n",
        "\n",
        "  df['company_month'] = (now - df['company_enter_month']).dt.days # 재직일수 계산\n",
        "  df['company_month'] /= 30 # 개월 수 계산해서 열에 삽입\n",
        "  df['company_month'] = df['company_month'].astype('int')\n",
        "\n",
        "  df.drop(['company_enter_month'], axis=1, inplace=True)\n",
        "\n",
        "  return df"
      ],
      "metadata": {
        "id": "jZCKi0lRlExn"
      },
      "execution_count": 174,
      "outputs": []
    },
    {
      "cell_type": "code",
      "source": [
        "user_spec = cal_company_month(user_spec)"
      ],
      "metadata": {
        "id": "qOzbXwTRlHGn"
      },
      "execution_count": 175,
      "outputs": []
    },
    {
      "cell_type": "code",
      "source": [
        "user_spec.isnull().sum()"
      ],
      "metadata": {
        "colab": {
          "base_uri": "https://localhost:8080/"
        },
        "id": "wK1E-IKt2zY_",
        "outputId": "1b40b038-2638-4e82-d6c3-666506433fbf"
      },
      "execution_count": 176,
      "outputs": [
        {
          "output_type": "execute_result",
          "data": {
            "text/plain": [
              "application_id                               0\n",
              "user_id                                      0\n",
              "birth_year                                   0\n",
              "gender                                       0\n",
              "insert_time                                  0\n",
              "credit_score                                 0\n",
              "yearly_income                                0\n",
              "income_type                                  0\n",
              "employment_type                              0\n",
              "houseown_type                                0\n",
              "desired_amount                               0\n",
              "purpose                                      0\n",
              "personal_rehabilitation_yn              587461\n",
              "personal_rehabilitation_complete_yn    1203354\n",
              "existing_loan_cnt                       198556\n",
              "existing_loan_amt                       313774\n",
              "company_month                                0\n",
              "dtype: int64"
            ]
          },
          "metadata": {},
          "execution_count": 176
        }
      ]
    },
    {
      "cell_type": "code",
      "source": [
        "user_spec[['personal_rehabilitation_yn','personal_rehabilitation_complete_yn']] = user_spec[['personal_rehabilitation_yn','personal_rehabilitation_complete_yn']].fillna(0).astype(int)"
      ],
      "metadata": {
        "id": "dk80oFKhoN4t"
      },
      "execution_count": 177,
      "outputs": []
    },
    {
      "cell_type": "code",
      "source": [
        "def personal_rehabill(dataframe) :\n",
        "    df = dataframe.copy()\n",
        "    df['personal_rehabilitation'] = 0\n",
        "    for i in range(len(df)):\n",
        "        if (df['personal_rehabilitation_complete_yn'][i] == 1):\n",
        "            df['personal_rehabilitation'][i] = 1 # 납입 완료 \n",
        "        elif (df['personal_rehabilitation_complete_yn'][i] == 0) & (df['personal_rehabilitation_yn'][i] == 1):\n",
        "            df['personal_rehabilitation'][i] = 0 # 납입 미완료\n",
        "        else:\n",
        "            df['personal_rehabilitation'][i]  = 2 # 개인회생 진행 X \n",
        "    return df"
      ],
      "metadata": {
        "id": "DM_GEcorqUqL"
      },
      "execution_count": 178,
      "outputs": []
    },
    {
      "cell_type": "code",
      "source": [
        "#(user_spec['personal_rehabilitation_complete_yn'] == 1).bool()"
      ],
      "metadata": {
        "id": "f8UIyBIjt842"
      },
      "execution_count": 179,
      "outputs": []
    },
    {
      "cell_type": "code",
      "source": [
        "user_spec = personal_rehabill(user_spec)\n",
        "#user_spec[['personal_rehabilitation_yn','personal_rehabilitation_complete_yn']] == 1"
      ],
      "metadata": {
        "colab": {
          "base_uri": "https://localhost:8080/"
        },
        "id": "LZeitNaNrQf_",
        "outputId": "a8c6b066-2fd5-48a6-9cfd-9df2fe423fc9"
      },
      "execution_count": 180,
      "outputs": [
        {
          "output_type": "stream",
          "name": "stderr",
          "text": [
            "/usr/local/lib/python3.7/dist-packages/ipykernel_launcher.py:10: SettingWithCopyWarning: \n",
            "A value is trying to be set on a copy of a slice from a DataFrame\n",
            "\n",
            "See the caveats in the documentation: https://pandas.pydata.org/pandas-docs/stable/user_guide/indexing.html#returning-a-view-versus-a-copy\n",
            "  # Remove the CWD from sys.path while we load stuff.\n",
            "/usr/local/lib/python3.7/dist-packages/ipykernel_launcher.py:8: SettingWithCopyWarning: \n",
            "A value is trying to be set on a copy of a slice from a DataFrame\n",
            "\n",
            "See the caveats in the documentation: https://pandas.pydata.org/pandas-docs/stable/user_guide/indexing.html#returning-a-view-versus-a-copy\n",
            "  \n",
            "/usr/local/lib/python3.7/dist-packages/ipykernel_launcher.py:6: SettingWithCopyWarning: \n",
            "A value is trying to be set on a copy of a slice from a DataFrame\n",
            "\n",
            "See the caveats in the documentation: https://pandas.pydata.org/pandas-docs/stable/user_guide/indexing.html#returning-a-view-versus-a-copy\n",
            "  \n"
          ]
        }
      ]
    },
    {
      "cell_type": "code",
      "source": [
        "user_spec = user_spec.drop(columns=['personal_rehabilitation_yn','personal_rehabilitation_complete_yn'])"
      ],
      "metadata": {
        "id": "QHbECkDiwqop"
      },
      "execution_count": 181,
      "outputs": []
    },
    {
      "cell_type": "markdown",
      "source": [
        "### existing_loan_cnt, existing_loan_amt"
      ],
      "metadata": {
        "id": "WxEiuMgUxAb7"
      }
    },
    {
      "cell_type": "code",
      "source": [
        "user_spec[['existing_loan_cnt','existing_loan_amt']] = user_spec[['existing_loan_cnt','existing_loan_amt']].fillna(0)"
      ],
      "metadata": {
        "id": "-VNe9DN_xA7d"
      },
      "execution_count": 182,
      "outputs": []
    },
    {
      "cell_type": "code",
      "source": [
        "user_spec.info() ## Nan 처리 완료"
      ],
      "metadata": {
        "colab": {
          "base_uri": "https://localhost:8080/"
        },
        "id": "qzRaYrEwxc_V",
        "outputId": "5b91b813-f60a-4c54-ef0b-9aa4f3dd56f6"
      },
      "execution_count": 183,
      "outputs": [
        {
          "output_type": "stream",
          "name": "stdout",
          "text": [
            "<class 'pandas.core.frame.DataFrame'>\n",
            "RangeIndex: 1394216 entries, 0 to 1394215\n",
            "Data columns (total 16 columns):\n",
            " #   Column                   Non-Null Count    Dtype  \n",
            "---  ------                   --------------    -----  \n",
            " 0   application_id           1394216 non-null  int64  \n",
            " 1   user_id                  1394216 non-null  int64  \n",
            " 2   birth_year               1394216 non-null  float64\n",
            " 3   gender                   1394216 non-null  object \n",
            " 4   insert_time              1394216 non-null  object \n",
            " 5   credit_score             1394216 non-null  int64  \n",
            " 6   yearly_income            1394216 non-null  float64\n",
            " 7   income_type              1394216 non-null  object \n",
            " 8   employment_type          1394216 non-null  object \n",
            " 9   houseown_type            1394216 non-null  object \n",
            " 10  desired_amount           1394216 non-null  object \n",
            " 11  purpose                  1394216 non-null  object \n",
            " 12  existing_loan_cnt        1394216 non-null  float64\n",
            " 13  existing_loan_amt        1394216 non-null  float64\n",
            " 14  company_month            1394216 non-null  int64  \n",
            " 15  personal_rehabilitation  1394216 non-null  int64  \n",
            "dtypes: float64(4), int64(5), object(7)\n",
            "memory usage: 170.2+ MB\n"
          ]
        }
      ]
    },
    {
      "cell_type": "markdown",
      "source": [
        "## loan_result"
      ],
      "metadata": {
        "id": "eoObDO3ixp_0"
      }
    },
    {
      "cell_type": "code",
      "source": [
        "loan_result.isnull().sum()"
      ],
      "metadata": {
        "colab": {
          "base_uri": "https://localhost:8080/"
        },
        "id": "0QcankB2xqgs",
        "outputId": "4133a253-91db-498d-915d-92ebec8287a2"
      },
      "execution_count": 184,
      "outputs": [
        {
          "output_type": "execute_result",
          "data": {
            "text/plain": [
              "application_id                 0\n",
              "loanapply_insert_time          0\n",
              "bank_id                        0\n",
              "product_id                     0\n",
              "loan_limit                  7495\n",
              "loan_rate                   7495\n",
              "is_applied               3257239\n",
              "dtype: int64"
            ]
          },
          "metadata": {},
          "execution_count": 184
        }
      ]
    },
    {
      "cell_type": "markdown",
      "source": [
        "### loan_limit, loan_rate\n",
        "\n",
        "중앙값으로 채워넣기"
      ],
      "metadata": {
        "id": "7EB4MlNHyFs_"
      }
    },
    {
      "cell_type": "code",
      "source": [
        "loan_result[['loan_limit','loan_rate']] = loan_result[['loan_limit','loan_rate']].fillna(loan_result[['loan_limit','loan_rate']].median())"
      ],
      "metadata": {
        "id": "eZLkzuLwyGRS"
      },
      "execution_count": 185,
      "outputs": []
    },
    {
      "cell_type": "code",
      "source": [
        "loan_result.isnull().sum()"
      ],
      "metadata": {
        "colab": {
          "base_uri": "https://localhost:8080/"
        },
        "id": "mcZNTnoCVt7u",
        "outputId": "83219e8f-e992-4a97-df99-444d7204f11a"
      },
      "execution_count": 186,
      "outputs": [
        {
          "output_type": "execute_result",
          "data": {
            "text/plain": [
              "application_id                 0\n",
              "loanapply_insert_time          0\n",
              "bank_id                        0\n",
              "product_id                     0\n",
              "loan_limit                     0\n",
              "loan_rate                      0\n",
              "is_applied               3257239\n",
              "dtype: int64"
            ]
          },
          "metadata": {},
          "execution_count": 186
        }
      ]
    },
    {
      "cell_type": "markdown",
      "source": [
        "## train, test 으로 분류"
      ],
      "metadata": {
        "id": "ja6DccqI3Lj-"
      }
    },
    {
      "cell_type": "code",
      "source": [
        "user_loan = pd.merge(loan_result, user_spec, on='application_id')\n",
        "print(len(user_loan))\n",
        "user_loan.head()"
      ],
      "metadata": {
        "colab": {
          "base_uri": "https://localhost:8080/",
          "height": 0
        },
        "id": "7XgwGCu43O9U",
        "outputId": "1dd929ed-1ced-4f64-ba81-daa600422347"
      },
      "execution_count": 187,
      "outputs": [
        {
          "output_type": "stream",
          "name": "stdout",
          "text": [
            "13527250\n"
          ]
        },
        {
          "output_type": "execute_result",
          "data": {
            "text/plain": [
              "   application_id loanapply_insert_time  bank_id  product_id     loan_limit  \\\n",
              "0         1748340   2022-06-07 13:05:41        7         191 42000000.00000   \n",
              "1         1748340   2022-06-07 13:05:41       25         169 24000000.00000   \n",
              "2         1748340   2022-06-07 13:05:41        2           7 24000000.00000   \n",
              "3         1748340   2022-06-07 13:05:41        4         268 29000000.00000   \n",
              "4         1748340   2022-06-07 13:05:41       11         118  5000000.00000   \n",
              "\n",
              "   loan_rate  is_applied  user_id  birth_year gender          insert_time  \\\n",
              "0   13.60000         NaN   430982  1996.00000    1.0  2022-06-07 13:05:39   \n",
              "1   17.90000         NaN   430982  1996.00000    1.0  2022-06-07 13:05:39   \n",
              "2   18.50000         NaN   430982  1996.00000    1.0  2022-06-07 13:05:39   \n",
              "3   10.80000         NaN   430982  1996.00000    1.0  2022-06-07 13:05:39   \n",
              "4   16.40000         NaN   430982  1996.00000    1.0  2022-06-07 13:05:39   \n",
              "\n",
              "   credit_score  yearly_income   income_type employment_type houseown_type  \\\n",
              "0             7 24000000.00000  EARNEDINCOME             정규직            자가   \n",
              "1             7 24000000.00000  EARNEDINCOME             정규직            자가   \n",
              "2             7 24000000.00000  EARNEDINCOME             정규직            자가   \n",
              "3             7 24000000.00000  EARNEDINCOME             정규직            자가   \n",
              "4             7 24000000.00000  EARNEDINCOME             정규직            자가   \n",
              "\n",
              "  desired_amount purpose  existing_loan_cnt  existing_loan_amt  company_month  \\\n",
              "0 25000000.00000    대환대출            2.00000     15000000.00000              7   \n",
              "1 25000000.00000    대환대출            2.00000     15000000.00000              7   \n",
              "2 25000000.00000    대환대출            2.00000     15000000.00000              7   \n",
              "3 25000000.00000    대환대출            2.00000     15000000.00000              7   \n",
              "4 25000000.00000    대환대출            2.00000     15000000.00000              7   \n",
              "\n",
              "   personal_rehabilitation  \n",
              "0                        2  \n",
              "1                        2  \n",
              "2                        2  \n",
              "3                        2  \n",
              "4                        2  "
            ],
            "text/html": [
              "\n",
              "  <div id=\"df-21fea9ae-9c81-464e-ab54-8d48e7fbdf06\">\n",
              "    <div class=\"colab-df-container\">\n",
              "      <div>\n",
              "<style scoped>\n",
              "    .dataframe tbody tr th:only-of-type {\n",
              "        vertical-align: middle;\n",
              "    }\n",
              "\n",
              "    .dataframe tbody tr th {\n",
              "        vertical-align: top;\n",
              "    }\n",
              "\n",
              "    .dataframe thead th {\n",
              "        text-align: right;\n",
              "    }\n",
              "</style>\n",
              "<table border=\"1\" class=\"dataframe\">\n",
              "  <thead>\n",
              "    <tr style=\"text-align: right;\">\n",
              "      <th></th>\n",
              "      <th>application_id</th>\n",
              "      <th>loanapply_insert_time</th>\n",
              "      <th>bank_id</th>\n",
              "      <th>product_id</th>\n",
              "      <th>loan_limit</th>\n",
              "      <th>loan_rate</th>\n",
              "      <th>is_applied</th>\n",
              "      <th>user_id</th>\n",
              "      <th>birth_year</th>\n",
              "      <th>gender</th>\n",
              "      <th>insert_time</th>\n",
              "      <th>credit_score</th>\n",
              "      <th>yearly_income</th>\n",
              "      <th>income_type</th>\n",
              "      <th>employment_type</th>\n",
              "      <th>houseown_type</th>\n",
              "      <th>desired_amount</th>\n",
              "      <th>purpose</th>\n",
              "      <th>existing_loan_cnt</th>\n",
              "      <th>existing_loan_amt</th>\n",
              "      <th>company_month</th>\n",
              "      <th>personal_rehabilitation</th>\n",
              "    </tr>\n",
              "  </thead>\n",
              "  <tbody>\n",
              "    <tr>\n",
              "      <th>0</th>\n",
              "      <td>1748340</td>\n",
              "      <td>2022-06-07 13:05:41</td>\n",
              "      <td>7</td>\n",
              "      <td>191</td>\n",
              "      <td>42000000.00000</td>\n",
              "      <td>13.60000</td>\n",
              "      <td>NaN</td>\n",
              "      <td>430982</td>\n",
              "      <td>1996.00000</td>\n",
              "      <td>1.0</td>\n",
              "      <td>2022-06-07 13:05:39</td>\n",
              "      <td>7</td>\n",
              "      <td>24000000.00000</td>\n",
              "      <td>EARNEDINCOME</td>\n",
              "      <td>정규직</td>\n",
              "      <td>자가</td>\n",
              "      <td>25000000.00000</td>\n",
              "      <td>대환대출</td>\n",
              "      <td>2.00000</td>\n",
              "      <td>15000000.00000</td>\n",
              "      <td>7</td>\n",
              "      <td>2</td>\n",
              "    </tr>\n",
              "    <tr>\n",
              "      <th>1</th>\n",
              "      <td>1748340</td>\n",
              "      <td>2022-06-07 13:05:41</td>\n",
              "      <td>25</td>\n",
              "      <td>169</td>\n",
              "      <td>24000000.00000</td>\n",
              "      <td>17.90000</td>\n",
              "      <td>NaN</td>\n",
              "      <td>430982</td>\n",
              "      <td>1996.00000</td>\n",
              "      <td>1.0</td>\n",
              "      <td>2022-06-07 13:05:39</td>\n",
              "      <td>7</td>\n",
              "      <td>24000000.00000</td>\n",
              "      <td>EARNEDINCOME</td>\n",
              "      <td>정규직</td>\n",
              "      <td>자가</td>\n",
              "      <td>25000000.00000</td>\n",
              "      <td>대환대출</td>\n",
              "      <td>2.00000</td>\n",
              "      <td>15000000.00000</td>\n",
              "      <td>7</td>\n",
              "      <td>2</td>\n",
              "    </tr>\n",
              "    <tr>\n",
              "      <th>2</th>\n",
              "      <td>1748340</td>\n",
              "      <td>2022-06-07 13:05:41</td>\n",
              "      <td>2</td>\n",
              "      <td>7</td>\n",
              "      <td>24000000.00000</td>\n",
              "      <td>18.50000</td>\n",
              "      <td>NaN</td>\n",
              "      <td>430982</td>\n",
              "      <td>1996.00000</td>\n",
              "      <td>1.0</td>\n",
              "      <td>2022-06-07 13:05:39</td>\n",
              "      <td>7</td>\n",
              "      <td>24000000.00000</td>\n",
              "      <td>EARNEDINCOME</td>\n",
              "      <td>정규직</td>\n",
              "      <td>자가</td>\n",
              "      <td>25000000.00000</td>\n",
              "      <td>대환대출</td>\n",
              "      <td>2.00000</td>\n",
              "      <td>15000000.00000</td>\n",
              "      <td>7</td>\n",
              "      <td>2</td>\n",
              "    </tr>\n",
              "    <tr>\n",
              "      <th>3</th>\n",
              "      <td>1748340</td>\n",
              "      <td>2022-06-07 13:05:41</td>\n",
              "      <td>4</td>\n",
              "      <td>268</td>\n",
              "      <td>29000000.00000</td>\n",
              "      <td>10.80000</td>\n",
              "      <td>NaN</td>\n",
              "      <td>430982</td>\n",
              "      <td>1996.00000</td>\n",
              "      <td>1.0</td>\n",
              "      <td>2022-06-07 13:05:39</td>\n",
              "      <td>7</td>\n",
              "      <td>24000000.00000</td>\n",
              "      <td>EARNEDINCOME</td>\n",
              "      <td>정규직</td>\n",
              "      <td>자가</td>\n",
              "      <td>25000000.00000</td>\n",
              "      <td>대환대출</td>\n",
              "      <td>2.00000</td>\n",
              "      <td>15000000.00000</td>\n",
              "      <td>7</td>\n",
              "      <td>2</td>\n",
              "    </tr>\n",
              "    <tr>\n",
              "      <th>4</th>\n",
              "      <td>1748340</td>\n",
              "      <td>2022-06-07 13:05:41</td>\n",
              "      <td>11</td>\n",
              "      <td>118</td>\n",
              "      <td>5000000.00000</td>\n",
              "      <td>16.40000</td>\n",
              "      <td>NaN</td>\n",
              "      <td>430982</td>\n",
              "      <td>1996.00000</td>\n",
              "      <td>1.0</td>\n",
              "      <td>2022-06-07 13:05:39</td>\n",
              "      <td>7</td>\n",
              "      <td>24000000.00000</td>\n",
              "      <td>EARNEDINCOME</td>\n",
              "      <td>정규직</td>\n",
              "      <td>자가</td>\n",
              "      <td>25000000.00000</td>\n",
              "      <td>대환대출</td>\n",
              "      <td>2.00000</td>\n",
              "      <td>15000000.00000</td>\n",
              "      <td>7</td>\n",
              "      <td>2</td>\n",
              "    </tr>\n",
              "  </tbody>\n",
              "</table>\n",
              "</div>\n",
              "      <button class=\"colab-df-convert\" onclick=\"convertToInteractive('df-21fea9ae-9c81-464e-ab54-8d48e7fbdf06')\"\n",
              "              title=\"Convert this dataframe to an interactive table.\"\n",
              "              style=\"display:none;\">\n",
              "        \n",
              "  <svg xmlns=\"http://www.w3.org/2000/svg\" height=\"24px\"viewBox=\"0 0 24 24\"\n",
              "       width=\"24px\">\n",
              "    <path d=\"M0 0h24v24H0V0z\" fill=\"none\"/>\n",
              "    <path d=\"M18.56 5.44l.94 2.06.94-2.06 2.06-.94-2.06-.94-.94-2.06-.94 2.06-2.06.94zm-11 1L8.5 8.5l.94-2.06 2.06-.94-2.06-.94L8.5 2.5l-.94 2.06-2.06.94zm10 10l.94 2.06.94-2.06 2.06-.94-2.06-.94-.94-2.06-.94 2.06-2.06.94z\"/><path d=\"M17.41 7.96l-1.37-1.37c-.4-.4-.92-.59-1.43-.59-.52 0-1.04.2-1.43.59L10.3 9.45l-7.72 7.72c-.78.78-.78 2.05 0 2.83L4 21.41c.39.39.9.59 1.41.59.51 0 1.02-.2 1.41-.59l7.78-7.78 2.81-2.81c.8-.78.8-2.07 0-2.86zM5.41 20L4 18.59l7.72-7.72 1.47 1.35L5.41 20z\"/>\n",
              "  </svg>\n",
              "      </button>\n",
              "      \n",
              "  <style>\n",
              "    .colab-df-container {\n",
              "      display:flex;\n",
              "      flex-wrap:wrap;\n",
              "      gap: 12px;\n",
              "    }\n",
              "\n",
              "    .colab-df-convert {\n",
              "      background-color: #E8F0FE;\n",
              "      border: none;\n",
              "      border-radius: 50%;\n",
              "      cursor: pointer;\n",
              "      display: none;\n",
              "      fill: #1967D2;\n",
              "      height: 32px;\n",
              "      padding: 0 0 0 0;\n",
              "      width: 32px;\n",
              "    }\n",
              "\n",
              "    .colab-df-convert:hover {\n",
              "      background-color: #E2EBFA;\n",
              "      box-shadow: 0px 1px 2px rgba(60, 64, 67, 0.3), 0px 1px 3px 1px rgba(60, 64, 67, 0.15);\n",
              "      fill: #174EA6;\n",
              "    }\n",
              "\n",
              "    [theme=dark] .colab-df-convert {\n",
              "      background-color: #3B4455;\n",
              "      fill: #D2E3FC;\n",
              "    }\n",
              "\n",
              "    [theme=dark] .colab-df-convert:hover {\n",
              "      background-color: #434B5C;\n",
              "      box-shadow: 0px 1px 3px 1px rgba(0, 0, 0, 0.15);\n",
              "      filter: drop-shadow(0px 1px 2px rgba(0, 0, 0, 0.3));\n",
              "      fill: #FFFFFF;\n",
              "    }\n",
              "  </style>\n",
              "\n",
              "      <script>\n",
              "        const buttonEl =\n",
              "          document.querySelector('#df-21fea9ae-9c81-464e-ab54-8d48e7fbdf06 button.colab-df-convert');\n",
              "        buttonEl.style.display =\n",
              "          google.colab.kernel.accessAllowed ? 'block' : 'none';\n",
              "\n",
              "        async function convertToInteractive(key) {\n",
              "          const element = document.querySelector('#df-21fea9ae-9c81-464e-ab54-8d48e7fbdf06');\n",
              "          const dataTable =\n",
              "            await google.colab.kernel.invokeFunction('convertToInteractive',\n",
              "                                                     [key], {});\n",
              "          if (!dataTable) return;\n",
              "\n",
              "          const docLinkHtml = 'Like what you see? Visit the ' +\n",
              "            '<a target=\"_blank\" href=https://colab.research.google.com/notebooks/data_table.ipynb>data table notebook</a>'\n",
              "            + ' to learn more about interactive tables.';\n",
              "          element.innerHTML = '';\n",
              "          dataTable['output_type'] = 'display_data';\n",
              "          await google.colab.output.renderOutput(dataTable, element);\n",
              "          const docLink = document.createElement('div');\n",
              "          docLink.innerHTML = docLinkHtml;\n",
              "          element.appendChild(docLink);\n",
              "        }\n",
              "      </script>\n",
              "    </div>\n",
              "  </div>\n",
              "  "
            ]
          },
          "metadata": {},
          "execution_count": 187
        }
      ]
    },
    {
      "cell_type": "code",
      "source": [
        "user_loan.isnull().sum()"
      ],
      "metadata": {
        "colab": {
          "base_uri": "https://localhost:8080/"
        },
        "id": "8RpG4Fkm3liH",
        "outputId": "73592370-1ec7-4a46-9570-6e049d461ede"
      },
      "execution_count": 188,
      "outputs": [
        {
          "output_type": "execute_result",
          "data": {
            "text/plain": [
              "application_id                   0\n",
              "loanapply_insert_time            0\n",
              "bank_id                          0\n",
              "product_id                       0\n",
              "loan_limit                       0\n",
              "loan_rate                        0\n",
              "is_applied                 3257239\n",
              "user_id                          0\n",
              "birth_year                       0\n",
              "gender                           0\n",
              "insert_time                      0\n",
              "credit_score                     0\n",
              "yearly_income                    0\n",
              "income_type                      0\n",
              "employment_type                  0\n",
              "houseown_type                    0\n",
              "desired_amount                   0\n",
              "purpose                          0\n",
              "existing_loan_cnt                0\n",
              "existing_loan_amt                0\n",
              "company_month                    0\n",
              "personal_rehabilitation          0\n",
              "dtype: int64"
            ]
          },
          "metadata": {},
          "execution_count": 188
        }
      ]
    },
    {
      "cell_type": "code",
      "source": [
        "# 모델 학습에 사용하지 않을 칼럼 삭제\n",
        "user_loan = user_loan.drop(columns = ['loanapply_insert_time','insert_time'])"
      ],
      "metadata": {
        "id": "4s09f6RAR_l2"
      },
      "execution_count": 189,
      "outputs": []
    },
    {
      "cell_type": "code",
      "source": [
        "user_loan_test = user_loan[user_loan['is_applied'].isnull()]\n",
        "user_loan_train = user_loan[~user_loan['is_applied'].isnull()]"
      ],
      "metadata": {
        "id": "nvIlunwH3qe5"
      },
      "execution_count": 190,
      "outputs": []
    },
    {
      "cell_type": "code",
      "source": [
        "# user_loan_train.to_csv('/content/gdrive/MyDrive/빅콘테스트_2022/data/Jihwan_data/user_loan_train.csv',index = False)\n",
        "# user_loan_test.to_csv('/content/gdrive/MyDrive/빅콘테스트_2022/data/Jihwan_data/user_loan_test.csv',index = False)\n",
        "# user_spec.to_csv('/content/gdrive/MyDrive/빅콘테스트_2022/data/Jihwan_data/user_spec_precessed.csv',index = False)\n",
        "# loan_result.to_csv('/content/gdrive/MyDrive/빅콘테스트_2022/data/Jihwan_data/loan_result_precessed.csv',index = False)"
      ],
      "metadata": {
        "id": "Pyd_o70v4an9"
      },
      "execution_count": 191,
      "outputs": []
    },
    {
      "cell_type": "markdown",
      "source": [
        "# Scaleing, Incoding"
      ],
      "metadata": {
        "id": "QfamWJFH5VOQ"
      }
    },
    {
      "cell_type": "markdown",
      "source": [
        "### One-hot_encoding"
      ],
      "metadata": {
        "id": "W3JPu2ZtXjFy"
      }
    },
    {
      "cell_type": "code",
      "source": [
        "user_loan['income_type'].value_counts() ## One-hot-encodings"
      ],
      "metadata": {
        "colab": {
          "base_uri": "https://localhost:8080/"
        },
        "id": "wO3INVTPUqBv",
        "outputId": "4aa89eea-f7d5-4fc9-ed82-3ed15b76da40"
      },
      "execution_count": 192,
      "outputs": [
        {
          "output_type": "execute_result",
          "data": {
            "text/plain": [
              "EARNEDINCOME       11467245\n",
              "EARNEDINCOME2        564602\n",
              "PRIVATEBUSINESS      494237\n",
              "OTHERINCOME          402850\n",
              "FREELANCER           312935\n",
              "PRACTITIONER         285381\n",
              "Name: income_type, dtype: int64"
            ]
          },
          "metadata": {},
          "execution_count": 192
        }
      ]
    },
    {
      "cell_type": "code",
      "source": [
        "user_loan['houseown_type'].value_counts()"
      ],
      "metadata": {
        "colab": {
          "base_uri": "https://localhost:8080/"
        },
        "id": "DkYx2Y81WT60",
        "outputId": "c788c1cc-aaab-40d7-e2af-67dd6c13e364"
      },
      "execution_count": 193,
      "outputs": [
        {
          "output_type": "execute_result",
          "data": {
            "text/plain": [
              "전월세       6024282\n",
              "자가        3817266\n",
              "기타가족소유    3672900\n",
              "배우자         12802\n",
              "Name: houseown_type, dtype: int64"
            ]
          },
          "metadata": {},
          "execution_count": 193
        }
      ]
    },
    {
      "cell_type": "code",
      "source": [
        "user_loan['purpose'].value_counts()  # purpose 의 경우 one-hot-encoding 해보는걸로 그냥.."
      ],
      "metadata": {
        "colab": {
          "base_uri": "https://localhost:8080/"
        },
        "id": "jbW-OJNOWz2_",
        "outputId": "86f70b74-be31-4677-f4df-9b78a115b4c9"
      },
      "execution_count": 194,
      "outputs": [
        {
          "output_type": "execute_result",
          "data": {
            "text/plain": [
              "생활비             6828706\n",
              "대환대출            4073362\n",
              "주택구입             569679\n",
              "전월세보증금           569284\n",
              "사업자금             551570\n",
              "기타               400084\n",
              "투자               285670\n",
              "LIVING           107532\n",
              "자동차구입             58571\n",
              "SWITCHLOAN        33615\n",
              "HOUSEDEPOSIT      15912\n",
              "BUYHOUSE          10989\n",
              "BUSINESS           8513\n",
              "ETC                7374\n",
              "INVEST             3634\n",
              "BUYCAR             2755\n",
              "Name: purpose, dtype: int64"
            ]
          },
          "metadata": {},
          "execution_count": 194
        }
      ]
    },
    {
      "cell_type": "code",
      "source": [
        "df_cat_1hot = user_loan[['gender','employment_type','houseown_type','purpose','personal_rehabilitation']] #One-hot-encodings"
      ],
      "metadata": {
        "id": "QuY_F5u7WHfo"
      },
      "execution_count": 195,
      "outputs": []
    },
    {
      "cell_type": "markdown",
      "source": [
        "### Ordinal "
      ],
      "metadata": {
        "id": "Jwc4DJYDW5EE"
      }
    },
    {
      "cell_type": "code",
      "source": [
        "df_cat_ord = user_loan[['credit_score']]\n",
        "df_cat_ord"
      ],
      "metadata": {
        "colab": {
          "base_uri": "https://localhost:8080/",
          "height": 423
        },
        "id": "XdfLwQuPXmaT",
        "outputId": "5ba6f0f9-a86f-4357-c1e1-0fe126c09eb3"
      },
      "execution_count": 196,
      "outputs": [
        {
          "output_type": "execute_result",
          "data": {
            "text/plain": [
              "          credit_score\n",
              "0                    7\n",
              "1                    7\n",
              "2                    7\n",
              "3                    7\n",
              "4                    7\n",
              "...                ...\n",
              "13527245             7\n",
              "13527246             7\n",
              "13527247             7\n",
              "13527248             7\n",
              "13527249             7\n",
              "\n",
              "[13527250 rows x 1 columns]"
            ],
            "text/html": [
              "\n",
              "  <div id=\"df-a9966ec6-b61d-439a-8a88-826f373153c6\">\n",
              "    <div class=\"colab-df-container\">\n",
              "      <div>\n",
              "<style scoped>\n",
              "    .dataframe tbody tr th:only-of-type {\n",
              "        vertical-align: middle;\n",
              "    }\n",
              "\n",
              "    .dataframe tbody tr th {\n",
              "        vertical-align: top;\n",
              "    }\n",
              "\n",
              "    .dataframe thead th {\n",
              "        text-align: right;\n",
              "    }\n",
              "</style>\n",
              "<table border=\"1\" class=\"dataframe\">\n",
              "  <thead>\n",
              "    <tr style=\"text-align: right;\">\n",
              "      <th></th>\n",
              "      <th>credit_score</th>\n",
              "    </tr>\n",
              "  </thead>\n",
              "  <tbody>\n",
              "    <tr>\n",
              "      <th>0</th>\n",
              "      <td>7</td>\n",
              "    </tr>\n",
              "    <tr>\n",
              "      <th>1</th>\n",
              "      <td>7</td>\n",
              "    </tr>\n",
              "    <tr>\n",
              "      <th>2</th>\n",
              "      <td>7</td>\n",
              "    </tr>\n",
              "    <tr>\n",
              "      <th>3</th>\n",
              "      <td>7</td>\n",
              "    </tr>\n",
              "    <tr>\n",
              "      <th>4</th>\n",
              "      <td>7</td>\n",
              "    </tr>\n",
              "    <tr>\n",
              "      <th>...</th>\n",
              "      <td>...</td>\n",
              "    </tr>\n",
              "    <tr>\n",
              "      <th>13527245</th>\n",
              "      <td>7</td>\n",
              "    </tr>\n",
              "    <tr>\n",
              "      <th>13527246</th>\n",
              "      <td>7</td>\n",
              "    </tr>\n",
              "    <tr>\n",
              "      <th>13527247</th>\n",
              "      <td>7</td>\n",
              "    </tr>\n",
              "    <tr>\n",
              "      <th>13527248</th>\n",
              "      <td>7</td>\n",
              "    </tr>\n",
              "    <tr>\n",
              "      <th>13527249</th>\n",
              "      <td>7</td>\n",
              "    </tr>\n",
              "  </tbody>\n",
              "</table>\n",
              "<p>13527250 rows × 1 columns</p>\n",
              "</div>\n",
              "      <button class=\"colab-df-convert\" onclick=\"convertToInteractive('df-a9966ec6-b61d-439a-8a88-826f373153c6')\"\n",
              "              title=\"Convert this dataframe to an interactive table.\"\n",
              "              style=\"display:none;\">\n",
              "        \n",
              "  <svg xmlns=\"http://www.w3.org/2000/svg\" height=\"24px\"viewBox=\"0 0 24 24\"\n",
              "       width=\"24px\">\n",
              "    <path d=\"M0 0h24v24H0V0z\" fill=\"none\"/>\n",
              "    <path d=\"M18.56 5.44l.94 2.06.94-2.06 2.06-.94-2.06-.94-.94-2.06-.94 2.06-2.06.94zm-11 1L8.5 8.5l.94-2.06 2.06-.94-2.06-.94L8.5 2.5l-.94 2.06-2.06.94zm10 10l.94 2.06.94-2.06 2.06-.94-2.06-.94-.94-2.06-.94 2.06-2.06.94z\"/><path d=\"M17.41 7.96l-1.37-1.37c-.4-.4-.92-.59-1.43-.59-.52 0-1.04.2-1.43.59L10.3 9.45l-7.72 7.72c-.78.78-.78 2.05 0 2.83L4 21.41c.39.39.9.59 1.41.59.51 0 1.02-.2 1.41-.59l7.78-7.78 2.81-2.81c.8-.78.8-2.07 0-2.86zM5.41 20L4 18.59l7.72-7.72 1.47 1.35L5.41 20z\"/>\n",
              "  </svg>\n",
              "      </button>\n",
              "      \n",
              "  <style>\n",
              "    .colab-df-container {\n",
              "      display:flex;\n",
              "      flex-wrap:wrap;\n",
              "      gap: 12px;\n",
              "    }\n",
              "\n",
              "    .colab-df-convert {\n",
              "      background-color: #E8F0FE;\n",
              "      border: none;\n",
              "      border-radius: 50%;\n",
              "      cursor: pointer;\n",
              "      display: none;\n",
              "      fill: #1967D2;\n",
              "      height: 32px;\n",
              "      padding: 0 0 0 0;\n",
              "      width: 32px;\n",
              "    }\n",
              "\n",
              "    .colab-df-convert:hover {\n",
              "      background-color: #E2EBFA;\n",
              "      box-shadow: 0px 1px 2px rgba(60, 64, 67, 0.3), 0px 1px 3px 1px rgba(60, 64, 67, 0.15);\n",
              "      fill: #174EA6;\n",
              "    }\n",
              "\n",
              "    [theme=dark] .colab-df-convert {\n",
              "      background-color: #3B4455;\n",
              "      fill: #D2E3FC;\n",
              "    }\n",
              "\n",
              "    [theme=dark] .colab-df-convert:hover {\n",
              "      background-color: #434B5C;\n",
              "      box-shadow: 0px 1px 3px 1px rgba(0, 0, 0, 0.15);\n",
              "      filter: drop-shadow(0px 1px 2px rgba(0, 0, 0, 0.3));\n",
              "      fill: #FFFFFF;\n",
              "    }\n",
              "  </style>\n",
              "\n",
              "      <script>\n",
              "        const buttonEl =\n",
              "          document.querySelector('#df-a9966ec6-b61d-439a-8a88-826f373153c6 button.colab-df-convert');\n",
              "        buttonEl.style.display =\n",
              "          google.colab.kernel.accessAllowed ? 'block' : 'none';\n",
              "\n",
              "        async function convertToInteractive(key) {\n",
              "          const element = document.querySelector('#df-a9966ec6-b61d-439a-8a88-826f373153c6');\n",
              "          const dataTable =\n",
              "            await google.colab.kernel.invokeFunction('convertToInteractive',\n",
              "                                                     [key], {});\n",
              "          if (!dataTable) return;\n",
              "\n",
              "          const docLinkHtml = 'Like what you see? Visit the ' +\n",
              "            '<a target=\"_blank\" href=https://colab.research.google.com/notebooks/data_table.ipynb>data table notebook</a>'\n",
              "            + ' to learn more about interactive tables.';\n",
              "          element.innerHTML = '';\n",
              "          dataTable['output_type'] = 'display_data';\n",
              "          await google.colab.output.renderOutput(dataTable, element);\n",
              "          const docLink = document.createElement('div');\n",
              "          docLink.innerHTML = docLinkHtml;\n",
              "          element.appendChild(docLink);\n",
              "        }\n",
              "      </script>\n",
              "    </div>\n",
              "  </div>\n",
              "  "
            ]
          },
          "metadata": {},
          "execution_count": 196
        }
      ]
    },
    {
      "cell_type": "markdown",
      "source": [
        "### Numberic"
      ],
      "metadata": {
        "id": "JPJiTbH-X6NY"
      }
    },
    {
      "cell_type": "code",
      "source": [
        "df_num = user_loan[['loan_limit','loan_rate','birth_year','yearly_income','desired_amount','existing_loan_cnt','existing_loan_amt','company_month']]"
      ],
      "metadata": {
        "id": "zXsV81lZYtRa"
      },
      "execution_count": 197,
      "outputs": []
    },
    {
      "cell_type": "code",
      "source": [
        "df_num['desired_amount'] = df_num['desired_amount'].astype(int)"
      ],
      "metadata": {
        "colab": {
          "base_uri": "https://localhost:8080/"
        },
        "id": "Ofard7OOYyAE",
        "outputId": "7cca315c-f8af-4d4e-e916-40711c107de9"
      },
      "execution_count": 198,
      "outputs": [
        {
          "output_type": "stream",
          "name": "stderr",
          "text": [
            "/usr/local/lib/python3.7/dist-packages/ipykernel_launcher.py:1: SettingWithCopyWarning: \n",
            "A value is trying to be set on a copy of a slice from a DataFrame.\n",
            "Try using .loc[row_indexer,col_indexer] = value instead\n",
            "\n",
            "See the caveats in the documentation: https://pandas.pydata.org/pandas-docs/stable/user_guide/indexing.html#returning-a-view-versus-a-copy\n",
            "  \"\"\"Entry point for launching an IPython kernel.\n"
          ]
        }
      ]
    },
    {
      "cell_type": "code",
      "source": [
        "df_num.info()"
      ],
      "metadata": {
        "colab": {
          "base_uri": "https://localhost:8080/"
        },
        "id": "5dq5UjdqZMme",
        "outputId": "aabc4c23-d009-489d-d8e1-e02fb4c10c3f"
      },
      "execution_count": 199,
      "outputs": [
        {
          "output_type": "stream",
          "name": "stdout",
          "text": [
            "<class 'pandas.core.frame.DataFrame'>\n",
            "Int64Index: 13527250 entries, 0 to 13527249\n",
            "Data columns (total 8 columns):\n",
            " #   Column             Dtype  \n",
            "---  ------             -----  \n",
            " 0   loan_limit         float64\n",
            " 1   loan_rate          float64\n",
            " 2   birth_year         float64\n",
            " 3   yearly_income      float64\n",
            " 4   desired_amount     int64  \n",
            " 5   existing_loan_cnt  float64\n",
            " 6   existing_loan_amt  float64\n",
            " 7   company_month      int64  \n",
            "dtypes: float64(6), int64(2)\n",
            "memory usage: 928.8 MB\n"
          ]
        }
      ]
    },
    {
      "cell_type": "code",
      "source": [
        "#sns.boxplot(data = df_num)  \n",
        "# 이상치 확인 결과 loan_limit 에서 이상치 확인"
      ],
      "metadata": {
        "id": "AY-_6zN3ZyTb"
      },
      "execution_count": 200,
      "outputs": []
    },
    {
      "cell_type": "markdown",
      "source": [
        "### Pipeline 만들기"
      ],
      "metadata": {
        "id": "fJN9SDa9bohz"
      }
    },
    {
      "cell_type": "code",
      "source": [
        "#user_loan['personal_rehabilitation'] = \n",
        "#user_loan['personal_rehabilitation'] = user_loan[['personal_rehabilitation','credit_score']].astype('category')"
      ],
      "metadata": {
        "id": "wMwse0FnncbV"
      },
      "execution_count": 201,
      "outputs": []
    },
    {
      "cell_type": "code",
      "source": [
        "# # 수치형 열과 범주형 열을 선택하기 위한 함수\n",
        "# ['gender','employment_type','houseown_type','purpose','personal_rehabilitation']\n",
        "\n",
        "# def Data_type_selector(df):\n",
        "#     print(df.dtypes)"
      ],
      "metadata": {
        "id": "aM6bZ_VMisf1"
      },
      "execution_count": 202,
      "outputs": []
    },
    {
      "cell_type": "code",
      "source": [
        "num_attribs = df_num ### 수치형 변수\n",
        "cat_1hot_attribs = df_cat_1hot ### 순서가 있는 카테고리형 변수\n",
        "cat_ord_attribs = df_cat_ord ### 순서가 없는 카테고리형 변수  "
      ],
      "metadata": {
        "id": "gK3ZKDiolw7h"
      },
      "execution_count": 203,
      "outputs": []
    },
    {
      "cell_type": "code",
      "source": [
        "from sklearn.base import BaseEstimator, TransformerMixin\n",
        "\n",
        "# 수치형 열과 범주형 열을 선택하기 위한 클래스\n",
        "class DataFrameSelector(BaseEstimator, TransformerMixin):\n",
        "    def __init__(self, attribute_names):\n",
        "        self.attribute_names = attribute_names\n",
        "    def fit(self, X, y=None):\n",
        "        return self\n",
        "    def transform(self, X):\n",
        "        return X[self.attribute_names].values"
      ],
      "metadata": {
        "id": "q8iSkB3gp90f"
      },
      "execution_count": 204,
      "outputs": []
    },
    {
      "cell_type": "code",
      "source": [
        "def CombinedAttributesAdder():\n",
        "    \n",
        "    ## 그때의 데이터프레임에 맞게 설정\n",
        "    \n",
        "    return "
      ],
      "metadata": {
        "id": "pN7Opqd0okVv"
      },
      "execution_count": 205,
      "outputs": []
    },
    {
      "cell_type": "code",
      "source": [],
      "metadata": {
        "id": "MhQ7cpH13sGQ"
      },
      "execution_count": 205,
      "outputs": []
    },
    {
      "cell_type": "code",
      "source": [
        "from sklearn.pipeline import Pipeline\n",
        "from sklearn.preprocessing import StandardScaler\n",
        "from sklearn.impute import SimpleImputer\n",
        "from sklearn.preprocessing import OneHotEncoder\n",
        "from sklearn.preprocessing import OrdinalEncoder\n",
        "from sklearn.compose import ColumnTransformer\n",
        "\n",
        "num_pipeline = Pipeline([\n",
        "        ('std_scaler', StandardScaler())\n",
        "    ])\n",
        "\n",
        "cat_1hot_pipeline = Pipeline([\n",
        "        ('cat_encoder', OneHotEncoder(sparse=False)),\n",
        "    ])\n",
        "\n",
        "cat_ord_pipeline = Pipeline([\n",
        "        #('selector', DataFrameSelector(cat_ord_attribs)),\n",
        "        ('cat_encoder', OrdinalEncoder())\n",
        "    ])"
      ],
      "metadata": {
        "id": "rimVbCd7cLbe"
      },
      "execution_count": 206,
      "outputs": []
    },
    {
      "cell_type": "code",
      "execution_count": 207,
      "metadata": {
        "execution": {
          "iopub.execute_input": "2021-11-03T03:33:32.104435Z",
          "iopub.status.busy": "2021-11-03T03:33:32.102677Z",
          "iopub.status.idle": "2021-11-03T03:33:32.107119Z",
          "shell.execute_reply": "2021-11-03T03:33:32.107524Z"
        },
        "id": "FaHfW4Tzf1R2"
      },
      "outputs": [],
      "source": [
        "cat_ord_encoded = cat_ord_pipeline.fit_transform(cat_ord_attribs)\n",
        "cat_1hot_encoded = cat_1hot_pipeline.fit_transform(cat_1hot_attribs)\n",
        "num_encoded = num_pipeline.fit_transform(num_attribs)"
      ]
    },
    {
      "cell_type": "code",
      "source": [
        "cat_1hot_encoded = pd.get_dummies(cat_1hot_attribs)"
      ],
      "metadata": {
        "id": "L5JAlOP_2Gh0"
      },
      "execution_count": 208,
      "outputs": []
    },
    {
      "cell_type": "code",
      "source": [
        "cat_ord_encoded = pd.DataFrame(cat_ord_encoded, columns=cat_ord_attribs.columns)"
      ],
      "metadata": {
        "id": "iqFDkfXm3CjU"
      },
      "execution_count": 209,
      "outputs": []
    },
    {
      "cell_type": "code",
      "source": [
        "num_encoded = pd.DataFrame(num_encoded, columns=num_attribs.columns)"
      ],
      "metadata": {
        "id": "8-mETedz39DE"
      },
      "execution_count": 210,
      "outputs": []
    },
    {
      "cell_type": "code",
      "source": [
        "X = pd.concat([num_encoded,cat_ord_encoded,cat_1hot_encoded],axis = 1)"
      ],
      "metadata": {
        "id": "a1y2G4fZ3KA0"
      },
      "execution_count": 211,
      "outputs": []
    },
    {
      "cell_type": "code",
      "source": [
        "print(num_encoded.shape,cat_ord_encoded.shape,cat_1hot_encoded.shape)"
      ],
      "metadata": {
        "colab": {
          "base_uri": "https://localhost:8080/"
        },
        "id": "yGD06YRq1sjz",
        "outputId": "b1b78c7b-7671-442c-ed58-df198f0caf5a"
      },
      "execution_count": 212,
      "outputs": [
        {
          "output_type": "stream",
          "name": "stdout",
          "text": [
            "(13527250, 8) (13527250, 1) (13527250, 28)\n"
          ]
        }
      ]
    },
    {
      "cell_type": "code",
      "source": [
        "X"
      ],
      "metadata": {
        "colab": {
          "base_uri": "https://localhost:8080/",
          "height": 522
        },
        "id": "Al2CJfTO1u5G",
        "outputId": "a143bb86-49ef-423c-8fae-3e795bee42bd"
      },
      "execution_count": 213,
      "outputs": [
        {
          "output_type": "execute_result",
          "data": {
            "text/plain": [
              "          loan_limit  loan_rate  birth_year  yearly_income  desired_amount  \\\n",
              "0            0.26678    0.22071     1.37464       -0.18011        -0.11597   \n",
              "1            0.01747    1.33981     1.37464       -0.18011        -0.11597   \n",
              "2            0.01747    1.49597     1.37464       -0.18011        -0.11597   \n",
              "3            0.08673   -0.50801     1.37464       -0.18011        -0.11597   \n",
              "4           -0.24569    0.94943     1.37464       -0.18011        -0.11597   \n",
              "...              ...        ...         ...            ...             ...   \n",
              "13527245    -0.27339    0.53302    -1.85482       -0.02289        -0.00807   \n",
              "13527246     0.23908   -0.24776    -1.85482       -0.02289        -0.00807   \n",
              "13527247    -0.10718   -1.44494    -1.85482       -0.02289        -0.00807   \n",
              "13527248     0.29449    0.19468    -1.85482       -0.02289        -0.00807   \n",
              "13527249     0.29449   -0.79430    -1.85482       -0.02289        -0.00807   \n",
              "\n",
              "          existing_loan_cnt  existing_loan_amt  company_month  credit_score  \\\n",
              "0                  -0.28405           -0.47382       -0.71315       7.00000   \n",
              "1                  -0.28405           -0.47382       -0.71315       7.00000   \n",
              "2                  -0.28405           -0.47382       -0.71315       7.00000   \n",
              "3                  -0.28405           -0.47382       -0.71315       7.00000   \n",
              "4                  -0.28405           -0.47382       -0.71315       7.00000   \n",
              "...                     ...                ...            ...           ...   \n",
              "13527245           -0.28405           -0.02342       -0.16891       7.00000   \n",
              "13527246           -0.28405           -0.02342       -0.16891       7.00000   \n",
              "13527247           -0.28405           -0.02342       -0.16891       7.00000   \n",
              "13527248           -0.28405           -0.02342       -0.16891       7.00000   \n",
              "13527249           -0.28405           -0.02342       -0.16891       7.00000   \n",
              "\n",
              "          personal_rehabilitation  gender_0.0  gender_1.0  gender_9.0  \\\n",
              "0                               2           0           1           0   \n",
              "1                               2           0           1           0   \n",
              "2                               2           0           1           0   \n",
              "3                               2           0           1           0   \n",
              "4                               2           0           1           0   \n",
              "...                           ...         ...         ...         ...   \n",
              "13527245                        2           0           1           0   \n",
              "13527246                        2           0           1           0   \n",
              "13527247                        2           0           1           0   \n",
              "13527248                        2           0           1           0   \n",
              "13527249                        2           0           1           0   \n",
              "\n",
              "          employment_type_계약직  employment_type_기타  employment_type_일용직  \\\n",
              "0                           0                   0                    0   \n",
              "1                           0                   0                    0   \n",
              "2                           0                   0                    0   \n",
              "3                           0                   0                    0   \n",
              "4                           0                   0                    0   \n",
              "...                       ...                 ...                  ...   \n",
              "13527245                    0                   0                    0   \n",
              "13527246                    0                   0                    0   \n",
              "13527247                    0                   0                    0   \n",
              "13527248                    0                   0                    0   \n",
              "13527249                    0                   0                    0   \n",
              "\n",
              "          employment_type_정규직  houseown_type_기타가족소유  houseown_type_배우자  \\\n",
              "0                           1                     0                  0   \n",
              "1                           1                     0                  0   \n",
              "2                           1                     0                  0   \n",
              "3                           1                     0                  0   \n",
              "4                           1                     0                  0   \n",
              "...                       ...                   ...                ...   \n",
              "13527245                    1                     1                  0   \n",
              "13527246                    1                     1                  0   \n",
              "13527247                    1                     1                  0   \n",
              "13527248                    1                     1                  0   \n",
              "13527249                    1                     1                  0   \n",
              "\n",
              "          houseown_type_자가  houseown_type_전월세  purpose_BUSINESS  \\\n",
              "0                        1                  0                 0   \n",
              "1                        1                  0                 0   \n",
              "2                        1                  0                 0   \n",
              "3                        1                  0                 0   \n",
              "4                        1                  0                 0   \n",
              "...                    ...                ...               ...   \n",
              "13527245                 0                  0                 0   \n",
              "13527246                 0                  0                 0   \n",
              "13527247                 0                  0                 0   \n",
              "13527248                 0                  0                 0   \n",
              "13527249                 0                  0                 0   \n",
              "\n",
              "          purpose_BUYCAR  purpose_BUYHOUSE  purpose_ETC  purpose_HOUSEDEPOSIT  \\\n",
              "0                      0                 0            0                     0   \n",
              "1                      0                 0            0                     0   \n",
              "2                      0                 0            0                     0   \n",
              "3                      0                 0            0                     0   \n",
              "4                      0                 0            0                     0   \n",
              "...                  ...               ...          ...                   ...   \n",
              "13527245               0                 0            0                     0   \n",
              "13527246               0                 0            0                     0   \n",
              "13527247               0                 0            0                     0   \n",
              "13527248               0                 0            0                     0   \n",
              "13527249               0                 0            0                     0   \n",
              "\n",
              "          purpose_INVEST  purpose_LIVING  purpose_SWITCHLOAN  purpose_기타  \\\n",
              "0                      0               0                   0           0   \n",
              "1                      0               0                   0           0   \n",
              "2                      0               0                   0           0   \n",
              "3                      0               0                   0           0   \n",
              "4                      0               0                   0           0   \n",
              "...                  ...             ...                 ...         ...   \n",
              "13527245               0               0                   0           0   \n",
              "13527246               0               0                   0           0   \n",
              "13527247               0               0                   0           0   \n",
              "13527248               0               0                   0           0   \n",
              "13527249               0               0                   0           0   \n",
              "\n",
              "          purpose_대환대출  purpose_사업자금  purpose_생활비  purpose_자동차구입  \\\n",
              "0                    1             0            0              0   \n",
              "1                    1             0            0              0   \n",
              "2                    1             0            0              0   \n",
              "3                    1             0            0              0   \n",
              "4                    1             0            0              0   \n",
              "...                ...           ...          ...            ...   \n",
              "13527245             1             0            0              0   \n",
              "13527246             1             0            0              0   \n",
              "13527247             1             0            0              0   \n",
              "13527248             1             0            0              0   \n",
              "13527249             1             0            0              0   \n",
              "\n",
              "          purpose_전월세보증금  purpose_주택구입  purpose_투자  \n",
              "0                      0             0           0  \n",
              "1                      0             0           0  \n",
              "2                      0             0           0  \n",
              "3                      0             0           0  \n",
              "4                      0             0           0  \n",
              "...                  ...           ...         ...  \n",
              "13527245               0             0           0  \n",
              "13527246               0             0           0  \n",
              "13527247               0             0           0  \n",
              "13527248               0             0           0  \n",
              "13527249               0             0           0  \n",
              "\n",
              "[13527250 rows x 37 columns]"
            ],
            "text/html": [
              "\n",
              "  <div id=\"df-fc3b16d0-91d2-4b79-a63c-0c3596fa03cd\">\n",
              "    <div class=\"colab-df-container\">\n",
              "      <div>\n",
              "<style scoped>\n",
              "    .dataframe tbody tr th:only-of-type {\n",
              "        vertical-align: middle;\n",
              "    }\n",
              "\n",
              "    .dataframe tbody tr th {\n",
              "        vertical-align: top;\n",
              "    }\n",
              "\n",
              "    .dataframe thead th {\n",
              "        text-align: right;\n",
              "    }\n",
              "</style>\n",
              "<table border=\"1\" class=\"dataframe\">\n",
              "  <thead>\n",
              "    <tr style=\"text-align: right;\">\n",
              "      <th></th>\n",
              "      <th>loan_limit</th>\n",
              "      <th>loan_rate</th>\n",
              "      <th>birth_year</th>\n",
              "      <th>yearly_income</th>\n",
              "      <th>desired_amount</th>\n",
              "      <th>existing_loan_cnt</th>\n",
              "      <th>existing_loan_amt</th>\n",
              "      <th>company_month</th>\n",
              "      <th>credit_score</th>\n",
              "      <th>personal_rehabilitation</th>\n",
              "      <th>gender_0.0</th>\n",
              "      <th>gender_1.0</th>\n",
              "      <th>gender_9.0</th>\n",
              "      <th>employment_type_계약직</th>\n",
              "      <th>employment_type_기타</th>\n",
              "      <th>employment_type_일용직</th>\n",
              "      <th>employment_type_정규직</th>\n",
              "      <th>houseown_type_기타가족소유</th>\n",
              "      <th>houseown_type_배우자</th>\n",
              "      <th>houseown_type_자가</th>\n",
              "      <th>houseown_type_전월세</th>\n",
              "      <th>purpose_BUSINESS</th>\n",
              "      <th>purpose_BUYCAR</th>\n",
              "      <th>purpose_BUYHOUSE</th>\n",
              "      <th>purpose_ETC</th>\n",
              "      <th>purpose_HOUSEDEPOSIT</th>\n",
              "      <th>purpose_INVEST</th>\n",
              "      <th>purpose_LIVING</th>\n",
              "      <th>purpose_SWITCHLOAN</th>\n",
              "      <th>purpose_기타</th>\n",
              "      <th>purpose_대환대출</th>\n",
              "      <th>purpose_사업자금</th>\n",
              "      <th>purpose_생활비</th>\n",
              "      <th>purpose_자동차구입</th>\n",
              "      <th>purpose_전월세보증금</th>\n",
              "      <th>purpose_주택구입</th>\n",
              "      <th>purpose_투자</th>\n",
              "    </tr>\n",
              "  </thead>\n",
              "  <tbody>\n",
              "    <tr>\n",
              "      <th>0</th>\n",
              "      <td>0.26678</td>\n",
              "      <td>0.22071</td>\n",
              "      <td>1.37464</td>\n",
              "      <td>-0.18011</td>\n",
              "      <td>-0.11597</td>\n",
              "      <td>-0.28405</td>\n",
              "      <td>-0.47382</td>\n",
              "      <td>-0.71315</td>\n",
              "      <td>7.00000</td>\n",
              "      <td>2</td>\n",
              "      <td>0</td>\n",
              "      <td>1</td>\n",
              "      <td>0</td>\n",
              "      <td>0</td>\n",
              "      <td>0</td>\n",
              "      <td>0</td>\n",
              "      <td>1</td>\n",
              "      <td>0</td>\n",
              "      <td>0</td>\n",
              "      <td>1</td>\n",
              "      <td>0</td>\n",
              "      <td>0</td>\n",
              "      <td>0</td>\n",
              "      <td>0</td>\n",
              "      <td>0</td>\n",
              "      <td>0</td>\n",
              "      <td>0</td>\n",
              "      <td>0</td>\n",
              "      <td>0</td>\n",
              "      <td>0</td>\n",
              "      <td>1</td>\n",
              "      <td>0</td>\n",
              "      <td>0</td>\n",
              "      <td>0</td>\n",
              "      <td>0</td>\n",
              "      <td>0</td>\n",
              "      <td>0</td>\n",
              "    </tr>\n",
              "    <tr>\n",
              "      <th>1</th>\n",
              "      <td>0.01747</td>\n",
              "      <td>1.33981</td>\n",
              "      <td>1.37464</td>\n",
              "      <td>-0.18011</td>\n",
              "      <td>-0.11597</td>\n",
              "      <td>-0.28405</td>\n",
              "      <td>-0.47382</td>\n",
              "      <td>-0.71315</td>\n",
              "      <td>7.00000</td>\n",
              "      <td>2</td>\n",
              "      <td>0</td>\n",
              "      <td>1</td>\n",
              "      <td>0</td>\n",
              "      <td>0</td>\n",
              "      <td>0</td>\n",
              "      <td>0</td>\n",
              "      <td>1</td>\n",
              "      <td>0</td>\n",
              "      <td>0</td>\n",
              "      <td>1</td>\n",
              "      <td>0</td>\n",
              "      <td>0</td>\n",
              "      <td>0</td>\n",
              "      <td>0</td>\n",
              "      <td>0</td>\n",
              "      <td>0</td>\n",
              "      <td>0</td>\n",
              "      <td>0</td>\n",
              "      <td>0</td>\n",
              "      <td>0</td>\n",
              "      <td>1</td>\n",
              "      <td>0</td>\n",
              "      <td>0</td>\n",
              "      <td>0</td>\n",
              "      <td>0</td>\n",
              "      <td>0</td>\n",
              "      <td>0</td>\n",
              "    </tr>\n",
              "    <tr>\n",
              "      <th>2</th>\n",
              "      <td>0.01747</td>\n",
              "      <td>1.49597</td>\n",
              "      <td>1.37464</td>\n",
              "      <td>-0.18011</td>\n",
              "      <td>-0.11597</td>\n",
              "      <td>-0.28405</td>\n",
              "      <td>-0.47382</td>\n",
              "      <td>-0.71315</td>\n",
              "      <td>7.00000</td>\n",
              "      <td>2</td>\n",
              "      <td>0</td>\n",
              "      <td>1</td>\n",
              "      <td>0</td>\n",
              "      <td>0</td>\n",
              "      <td>0</td>\n",
              "      <td>0</td>\n",
              "      <td>1</td>\n",
              "      <td>0</td>\n",
              "      <td>0</td>\n",
              "      <td>1</td>\n",
              "      <td>0</td>\n",
              "      <td>0</td>\n",
              "      <td>0</td>\n",
              "      <td>0</td>\n",
              "      <td>0</td>\n",
              "      <td>0</td>\n",
              "      <td>0</td>\n",
              "      <td>0</td>\n",
              "      <td>0</td>\n",
              "      <td>0</td>\n",
              "      <td>1</td>\n",
              "      <td>0</td>\n",
              "      <td>0</td>\n",
              "      <td>0</td>\n",
              "      <td>0</td>\n",
              "      <td>0</td>\n",
              "      <td>0</td>\n",
              "    </tr>\n",
              "    <tr>\n",
              "      <th>3</th>\n",
              "      <td>0.08673</td>\n",
              "      <td>-0.50801</td>\n",
              "      <td>1.37464</td>\n",
              "      <td>-0.18011</td>\n",
              "      <td>-0.11597</td>\n",
              "      <td>-0.28405</td>\n",
              "      <td>-0.47382</td>\n",
              "      <td>-0.71315</td>\n",
              "      <td>7.00000</td>\n",
              "      <td>2</td>\n",
              "      <td>0</td>\n",
              "      <td>1</td>\n",
              "      <td>0</td>\n",
              "      <td>0</td>\n",
              "      <td>0</td>\n",
              "      <td>0</td>\n",
              "      <td>1</td>\n",
              "      <td>0</td>\n",
              "      <td>0</td>\n",
              "      <td>1</td>\n",
              "      <td>0</td>\n",
              "      <td>0</td>\n",
              "      <td>0</td>\n",
              "      <td>0</td>\n",
              "      <td>0</td>\n",
              "      <td>0</td>\n",
              "      <td>0</td>\n",
              "      <td>0</td>\n",
              "      <td>0</td>\n",
              "      <td>0</td>\n",
              "      <td>1</td>\n",
              "      <td>0</td>\n",
              "      <td>0</td>\n",
              "      <td>0</td>\n",
              "      <td>0</td>\n",
              "      <td>0</td>\n",
              "      <td>0</td>\n",
              "    </tr>\n",
              "    <tr>\n",
              "      <th>4</th>\n",
              "      <td>-0.24569</td>\n",
              "      <td>0.94943</td>\n",
              "      <td>1.37464</td>\n",
              "      <td>-0.18011</td>\n",
              "      <td>-0.11597</td>\n",
              "      <td>-0.28405</td>\n",
              "      <td>-0.47382</td>\n",
              "      <td>-0.71315</td>\n",
              "      <td>7.00000</td>\n",
              "      <td>2</td>\n",
              "      <td>0</td>\n",
              "      <td>1</td>\n",
              "      <td>0</td>\n",
              "      <td>0</td>\n",
              "      <td>0</td>\n",
              "      <td>0</td>\n",
              "      <td>1</td>\n",
              "      <td>0</td>\n",
              "      <td>0</td>\n",
              "      <td>1</td>\n",
              "      <td>0</td>\n",
              "      <td>0</td>\n",
              "      <td>0</td>\n",
              "      <td>0</td>\n",
              "      <td>0</td>\n",
              "      <td>0</td>\n",
              "      <td>0</td>\n",
              "      <td>0</td>\n",
              "      <td>0</td>\n",
              "      <td>0</td>\n",
              "      <td>1</td>\n",
              "      <td>0</td>\n",
              "      <td>0</td>\n",
              "      <td>0</td>\n",
              "      <td>0</td>\n",
              "      <td>0</td>\n",
              "      <td>0</td>\n",
              "    </tr>\n",
              "    <tr>\n",
              "      <th>...</th>\n",
              "      <td>...</td>\n",
              "      <td>...</td>\n",
              "      <td>...</td>\n",
              "      <td>...</td>\n",
              "      <td>...</td>\n",
              "      <td>...</td>\n",
              "      <td>...</td>\n",
              "      <td>...</td>\n",
              "      <td>...</td>\n",
              "      <td>...</td>\n",
              "      <td>...</td>\n",
              "      <td>...</td>\n",
              "      <td>...</td>\n",
              "      <td>...</td>\n",
              "      <td>...</td>\n",
              "      <td>...</td>\n",
              "      <td>...</td>\n",
              "      <td>...</td>\n",
              "      <td>...</td>\n",
              "      <td>...</td>\n",
              "      <td>...</td>\n",
              "      <td>...</td>\n",
              "      <td>...</td>\n",
              "      <td>...</td>\n",
              "      <td>...</td>\n",
              "      <td>...</td>\n",
              "      <td>...</td>\n",
              "      <td>...</td>\n",
              "      <td>...</td>\n",
              "      <td>...</td>\n",
              "      <td>...</td>\n",
              "      <td>...</td>\n",
              "      <td>...</td>\n",
              "      <td>...</td>\n",
              "      <td>...</td>\n",
              "      <td>...</td>\n",
              "      <td>...</td>\n",
              "    </tr>\n",
              "    <tr>\n",
              "      <th>13527245</th>\n",
              "      <td>-0.27339</td>\n",
              "      <td>0.53302</td>\n",
              "      <td>-1.85482</td>\n",
              "      <td>-0.02289</td>\n",
              "      <td>-0.00807</td>\n",
              "      <td>-0.28405</td>\n",
              "      <td>-0.02342</td>\n",
              "      <td>-0.16891</td>\n",
              "      <td>7.00000</td>\n",
              "      <td>2</td>\n",
              "      <td>0</td>\n",
              "      <td>1</td>\n",
              "      <td>0</td>\n",
              "      <td>0</td>\n",
              "      <td>0</td>\n",
              "      <td>0</td>\n",
              "      <td>1</td>\n",
              "      <td>1</td>\n",
              "      <td>0</td>\n",
              "      <td>0</td>\n",
              "      <td>0</td>\n",
              "      <td>0</td>\n",
              "      <td>0</td>\n",
              "      <td>0</td>\n",
              "      <td>0</td>\n",
              "      <td>0</td>\n",
              "      <td>0</td>\n",
              "      <td>0</td>\n",
              "      <td>0</td>\n",
              "      <td>0</td>\n",
              "      <td>1</td>\n",
              "      <td>0</td>\n",
              "      <td>0</td>\n",
              "      <td>0</td>\n",
              "      <td>0</td>\n",
              "      <td>0</td>\n",
              "      <td>0</td>\n",
              "    </tr>\n",
              "    <tr>\n",
              "      <th>13527246</th>\n",
              "      <td>0.23908</td>\n",
              "      <td>-0.24776</td>\n",
              "      <td>-1.85482</td>\n",
              "      <td>-0.02289</td>\n",
              "      <td>-0.00807</td>\n",
              "      <td>-0.28405</td>\n",
              "      <td>-0.02342</td>\n",
              "      <td>-0.16891</td>\n",
              "      <td>7.00000</td>\n",
              "      <td>2</td>\n",
              "      <td>0</td>\n",
              "      <td>1</td>\n",
              "      <td>0</td>\n",
              "      <td>0</td>\n",
              "      <td>0</td>\n",
              "      <td>0</td>\n",
              "      <td>1</td>\n",
              "      <td>1</td>\n",
              "      <td>0</td>\n",
              "      <td>0</td>\n",
              "      <td>0</td>\n",
              "      <td>0</td>\n",
              "      <td>0</td>\n",
              "      <td>0</td>\n",
              "      <td>0</td>\n",
              "      <td>0</td>\n",
              "      <td>0</td>\n",
              "      <td>0</td>\n",
              "      <td>0</td>\n",
              "      <td>0</td>\n",
              "      <td>1</td>\n",
              "      <td>0</td>\n",
              "      <td>0</td>\n",
              "      <td>0</td>\n",
              "      <td>0</td>\n",
              "      <td>0</td>\n",
              "      <td>0</td>\n",
              "    </tr>\n",
              "    <tr>\n",
              "      <th>13527247</th>\n",
              "      <td>-0.10718</td>\n",
              "      <td>-1.44494</td>\n",
              "      <td>-1.85482</td>\n",
              "      <td>-0.02289</td>\n",
              "      <td>-0.00807</td>\n",
              "      <td>-0.28405</td>\n",
              "      <td>-0.02342</td>\n",
              "      <td>-0.16891</td>\n",
              "      <td>7.00000</td>\n",
              "      <td>2</td>\n",
              "      <td>0</td>\n",
              "      <td>1</td>\n",
              "      <td>0</td>\n",
              "      <td>0</td>\n",
              "      <td>0</td>\n",
              "      <td>0</td>\n",
              "      <td>1</td>\n",
              "      <td>1</td>\n",
              "      <td>0</td>\n",
              "      <td>0</td>\n",
              "      <td>0</td>\n",
              "      <td>0</td>\n",
              "      <td>0</td>\n",
              "      <td>0</td>\n",
              "      <td>0</td>\n",
              "      <td>0</td>\n",
              "      <td>0</td>\n",
              "      <td>0</td>\n",
              "      <td>0</td>\n",
              "      <td>0</td>\n",
              "      <td>1</td>\n",
              "      <td>0</td>\n",
              "      <td>0</td>\n",
              "      <td>0</td>\n",
              "      <td>0</td>\n",
              "      <td>0</td>\n",
              "      <td>0</td>\n",
              "    </tr>\n",
              "    <tr>\n",
              "      <th>13527248</th>\n",
              "      <td>0.29449</td>\n",
              "      <td>0.19468</td>\n",
              "      <td>-1.85482</td>\n",
              "      <td>-0.02289</td>\n",
              "      <td>-0.00807</td>\n",
              "      <td>-0.28405</td>\n",
              "      <td>-0.02342</td>\n",
              "      <td>-0.16891</td>\n",
              "      <td>7.00000</td>\n",
              "      <td>2</td>\n",
              "      <td>0</td>\n",
              "      <td>1</td>\n",
              "      <td>0</td>\n",
              "      <td>0</td>\n",
              "      <td>0</td>\n",
              "      <td>0</td>\n",
              "      <td>1</td>\n",
              "      <td>1</td>\n",
              "      <td>0</td>\n",
              "      <td>0</td>\n",
              "      <td>0</td>\n",
              "      <td>0</td>\n",
              "      <td>0</td>\n",
              "      <td>0</td>\n",
              "      <td>0</td>\n",
              "      <td>0</td>\n",
              "      <td>0</td>\n",
              "      <td>0</td>\n",
              "      <td>0</td>\n",
              "      <td>0</td>\n",
              "      <td>1</td>\n",
              "      <td>0</td>\n",
              "      <td>0</td>\n",
              "      <td>0</td>\n",
              "      <td>0</td>\n",
              "      <td>0</td>\n",
              "      <td>0</td>\n",
              "    </tr>\n",
              "    <tr>\n",
              "      <th>13527249</th>\n",
              "      <td>0.29449</td>\n",
              "      <td>-0.79430</td>\n",
              "      <td>-1.85482</td>\n",
              "      <td>-0.02289</td>\n",
              "      <td>-0.00807</td>\n",
              "      <td>-0.28405</td>\n",
              "      <td>-0.02342</td>\n",
              "      <td>-0.16891</td>\n",
              "      <td>7.00000</td>\n",
              "      <td>2</td>\n",
              "      <td>0</td>\n",
              "      <td>1</td>\n",
              "      <td>0</td>\n",
              "      <td>0</td>\n",
              "      <td>0</td>\n",
              "      <td>0</td>\n",
              "      <td>1</td>\n",
              "      <td>1</td>\n",
              "      <td>0</td>\n",
              "      <td>0</td>\n",
              "      <td>0</td>\n",
              "      <td>0</td>\n",
              "      <td>0</td>\n",
              "      <td>0</td>\n",
              "      <td>0</td>\n",
              "      <td>0</td>\n",
              "      <td>0</td>\n",
              "      <td>0</td>\n",
              "      <td>0</td>\n",
              "      <td>0</td>\n",
              "      <td>1</td>\n",
              "      <td>0</td>\n",
              "      <td>0</td>\n",
              "      <td>0</td>\n",
              "      <td>0</td>\n",
              "      <td>0</td>\n",
              "      <td>0</td>\n",
              "    </tr>\n",
              "  </tbody>\n",
              "</table>\n",
              "<p>13527250 rows × 37 columns</p>\n",
              "</div>\n",
              "      <button class=\"colab-df-convert\" onclick=\"convertToInteractive('df-fc3b16d0-91d2-4b79-a63c-0c3596fa03cd')\"\n",
              "              title=\"Convert this dataframe to an interactive table.\"\n",
              "              style=\"display:none;\">\n",
              "        \n",
              "  <svg xmlns=\"http://www.w3.org/2000/svg\" height=\"24px\"viewBox=\"0 0 24 24\"\n",
              "       width=\"24px\">\n",
              "    <path d=\"M0 0h24v24H0V0z\" fill=\"none\"/>\n",
              "    <path d=\"M18.56 5.44l.94 2.06.94-2.06 2.06-.94-2.06-.94-.94-2.06-.94 2.06-2.06.94zm-11 1L8.5 8.5l.94-2.06 2.06-.94-2.06-.94L8.5 2.5l-.94 2.06-2.06.94zm10 10l.94 2.06.94-2.06 2.06-.94-2.06-.94-.94-2.06-.94 2.06-2.06.94z\"/><path d=\"M17.41 7.96l-1.37-1.37c-.4-.4-.92-.59-1.43-.59-.52 0-1.04.2-1.43.59L10.3 9.45l-7.72 7.72c-.78.78-.78 2.05 0 2.83L4 21.41c.39.39.9.59 1.41.59.51 0 1.02-.2 1.41-.59l7.78-7.78 2.81-2.81c.8-.78.8-2.07 0-2.86zM5.41 20L4 18.59l7.72-7.72 1.47 1.35L5.41 20z\"/>\n",
              "  </svg>\n",
              "      </button>\n",
              "      \n",
              "  <style>\n",
              "    .colab-df-container {\n",
              "      display:flex;\n",
              "      flex-wrap:wrap;\n",
              "      gap: 12px;\n",
              "    }\n",
              "\n",
              "    .colab-df-convert {\n",
              "      background-color: #E8F0FE;\n",
              "      border: none;\n",
              "      border-radius: 50%;\n",
              "      cursor: pointer;\n",
              "      display: none;\n",
              "      fill: #1967D2;\n",
              "      height: 32px;\n",
              "      padding: 0 0 0 0;\n",
              "      width: 32px;\n",
              "    }\n",
              "\n",
              "    .colab-df-convert:hover {\n",
              "      background-color: #E2EBFA;\n",
              "      box-shadow: 0px 1px 2px rgba(60, 64, 67, 0.3), 0px 1px 3px 1px rgba(60, 64, 67, 0.15);\n",
              "      fill: #174EA6;\n",
              "    }\n",
              "\n",
              "    [theme=dark] .colab-df-convert {\n",
              "      background-color: #3B4455;\n",
              "      fill: #D2E3FC;\n",
              "    }\n",
              "\n",
              "    [theme=dark] .colab-df-convert:hover {\n",
              "      background-color: #434B5C;\n",
              "      box-shadow: 0px 1px 3px 1px rgba(0, 0, 0, 0.15);\n",
              "      filter: drop-shadow(0px 1px 2px rgba(0, 0, 0, 0.3));\n",
              "      fill: #FFFFFF;\n",
              "    }\n",
              "  </style>\n",
              "\n",
              "      <script>\n",
              "        const buttonEl =\n",
              "          document.querySelector('#df-fc3b16d0-91d2-4b79-a63c-0c3596fa03cd button.colab-df-convert');\n",
              "        buttonEl.style.display =\n",
              "          google.colab.kernel.accessAllowed ? 'block' : 'none';\n",
              "\n",
              "        async function convertToInteractive(key) {\n",
              "          const element = document.querySelector('#df-fc3b16d0-91d2-4b79-a63c-0c3596fa03cd');\n",
              "          const dataTable =\n",
              "            await google.colab.kernel.invokeFunction('convertToInteractive',\n",
              "                                                     [key], {});\n",
              "          if (!dataTable) return;\n",
              "\n",
              "          const docLinkHtml = 'Like what you see? Visit the ' +\n",
              "            '<a target=\"_blank\" href=https://colab.research.google.com/notebooks/data_table.ipynb>data table notebook</a>'\n",
              "            + ' to learn more about interactive tables.';\n",
              "          element.innerHTML = '';\n",
              "          dataTable['output_type'] = 'display_data';\n",
              "          await google.colab.output.renderOutput(dataTable, element);\n",
              "          const docLink = document.createElement('div');\n",
              "          docLink.innerHTML = docLinkHtml;\n",
              "          element.appendChild(docLink);\n",
              "        }\n",
              "      </script>\n",
              "    </div>\n",
              "  </div>\n",
              "  "
            ]
          },
          "metadata": {},
          "execution_count": 213
        }
      ]
    },
    {
      "cell_type": "code",
      "source": [],
      "metadata": {
        "id": "KOfobsbVGKWv"
      },
      "execution_count": null,
      "outputs": []
    }
  ]
}