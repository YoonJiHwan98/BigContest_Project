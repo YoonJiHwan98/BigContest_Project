{
  "nbformat": 4,
  "nbformat_minor": 0,
  "metadata": {
    "colab": {
      "private_outputs": true,
      "provenance": [],
      "machine_shape": "hm",
      "mount_file_id": "1i3VCbagXRtSdh_6gTA6EIwIsgb3fk5pE",
      "authorship_tag": "ABX9TyOqco9JMsvyp+atmTq0lNLe",
      "include_colab_link": true
    },
    "kernelspec": {
      "name": "python3",
      "display_name": "Python 3"
    },
    "language_info": {
      "name": "python"
    },
    "accelerator": "GPU",
    "gpuClass": "standard"
  },
  "cells": [
    {
      "cell_type": "markdown",
      "metadata": {
        "id": "view-in-github",
        "colab_type": "text"
      },
      "source": [
        "<a href=\"https://colab.research.google.com/github/YoonJiHwan98/BigContest_Project/blob/Jihwan/code/Bigcontest_RF_boruta_shap.ipynb\" target=\"_parent\"><img src=\"https://colab.research.google.com/assets/colab-badge.svg\" alt=\"Open In Colab\"/></a>"
      ]
    },
    {
      "cell_type": "markdown",
      "source": [
        "# 데이터 불러오기"
      ],
      "metadata": {
        "id": "Uc0rIMmyopwJ"
      }
    },
    {
      "cell_type": "code",
      "execution_count": null,
      "metadata": {
        "id": "mLkAf0uIiPqw"
      },
      "outputs": [],
      "source": [
        "import pandas as pd\n",
        "import numpy as np\n",
        "import matplotlib.pyplot as plt\n",
        "import seaborn as sns"
      ]
    },
    {
      "cell_type": "code",
      "source": [
        "import os\n",
        "\n",
        "ROOT_DIR = \"/content/drive/My Drive/빅콘테스트_2022/\"\n",
        "DATA_PATH = ROOT_DIR + \"data/\"\n",
        "IMAGE_PATH = ROOT_DIR + \"img/\"\n",
        "\n",
        "def save_fig(fig_id, tight_layout=True, fig_extension=\"png\", resolution=300):\n",
        "  path = os.path.join(IMAGE_PATH, fig_id + \".\" + fig_extension)\n",
        "  print(path)\n",
        "  print(\"그림 저장 : \", fig_id)\n",
        "  if tight_layout:\n",
        "    plt.tight_layout()\n",
        "  plt.savefig(path, format=fig_extension, dpi=resolution)\n",
        "\n",
        "def save_data(data, file_name, DATA_PATH=DATA_PATH):\n",
        "  file_path = os.path.join(DATA_PATH, file_name)\n",
        "  print(file_path)\n",
        "  return data.to_csv(file_path, index=False)  "
      ],
      "metadata": {
        "id": "Tweg7O-bpHsU"
      },
      "execution_count": null,
      "outputs": []
    },
    {
      "cell_type": "code",
      "source": [
        "label = pd.read_csv('/content/drive/MyDrive/빅콘테스트_2022/data/new/train_prepared_label_log.csv')\n",
        "test = pd.read_csv('/content/drive/MyDrive/빅콘테스트_2022/data/new/target_prepared_log.csv')\n",
        "train = pd.read_csv('/content/drive/MyDrive/빅콘테스트_2022/data/new/train_prepared_log.csv')"
      ],
      "metadata": {
        "id": "t89HcorVlyAW"
      },
      "execution_count": null,
      "outputs": []
    },
    {
      "cell_type": "code",
      "source": [
        "train.columns"
      ],
      "metadata": {
        "id": "XNDzrkqTmWnU"
      },
      "execution_count": null,
      "outputs": []
    },
    {
      "cell_type": "code",
      "source": [
        "train.shape"
      ],
      "metadata": {
        "id": "HdAkkeCfpGe1"
      },
      "execution_count": null,
      "outputs": []
    },
    {
      "cell_type": "markdown",
      "source": [
        "#train-validation split\n",
        "\n",
        "seed = 42, Stratified Sampling 이용\n"
      ],
      "metadata": {
        "id": "jrtS8Hpxmzu_"
      }
    },
    {
      "cell_type": "code",
      "source": [
        "\n",
        "from sklearn.model_selection import StratifiedShuffleSplit\n",
        "\n",
        "def split_data(data, label=label, test_size = 0.2, random_state = 42):\n",
        "    split = StratifiedShuffleSplit(n_splits=5, test_size = test_size, random_state=random_state)\n",
        "    \n",
        "    for train_index, valid_index in split.split(data, label):\n",
        "        train_data = data.loc[train_index]\n",
        "        train_label = label.loc[train_index]\n",
        "        valid_data = data.loc[valid_index]\n",
        "        valid_label = label.loc[valid_index]\n",
        "\n",
        "    return train_data, train_label, valid_data, valid_label\n",
        "train_data, train_label, valid_data, valid_label = split_data(train, label)\n",
        "train_data"
      ],
      "metadata": {
        "id": "eAUYgLU8nVWq"
      },
      "execution_count": null,
      "outputs": []
    },
    {
      "cell_type": "code",
      "source": [
        "#from sklearn.model_selection import train_test_split\n",
        "\n",
        "# train_a, train_b, y_a, y_b = train_test_split(train_data, train_label, test_size=0.5, random_state=42)"
      ],
      "metadata": {
        "id": "-vJUriDaZxtU"
      },
      "execution_count": null,
      "outputs": []
    },
    {
      "cell_type": "code",
      "source": [
        "#train_1, train_2, y_1, y_2 = train_test_split(train_a, y_a, test_size=0.5, random_state=42)\n",
        "# train_3, train_4, y_3, y_4 = train_test_split(train_b, y_b, test_size=0.5, random_state=42)"
      ],
      "metadata": {
        "id": "rEyFTHTqWip-"
      },
      "execution_count": null,
      "outputs": []
    },
    {
      "cell_type": "code",
      "source": [
        "# train_1.shape, train_2.shape,train_3.shape,train_4.shape"
      ],
      "metadata": {
        "id": "3_749wulW0pX"
      },
      "execution_count": null,
      "outputs": []
    },
    {
      "cell_type": "code",
      "source": [
        "# y_1.shape, y_2.shape,y_3.shape,y_4.shape"
      ],
      "metadata": {
        "id": "ZBqn-QvPWqFo"
      },
      "execution_count": null,
      "outputs": []
    },
    {
      "cell_type": "markdown",
      "source": [
        "# SMOTE-TOMEk\n",
        "\n",
        "시간이 오래걸린다.. \n",
        "\n"
      ],
      "metadata": {
        "id": "yfZvzEIIUhjk"
      }
    },
    {
      "cell_type": "code",
      "source": [
        "# from imblearn.combine import SMOTETomek \n",
        "\n",
        "# smt = SMOTETomek(random_state=42)\n",
        "# X_res, y_res = smt.fit_resample(train_1, y_1)"
      ],
      "metadata": {
        "id": "r3Z0VJWOUqHK"
      },
      "execution_count": null,
      "outputs": []
    },
    {
      "cell_type": "markdown",
      "source": [
        "# Under-sampling"
      ],
      "metadata": {
        "id": "LyLmddaFG3Wf"
      }
    },
    {
      "cell_type": "code",
      "source": [
        "# from imblearn.under_sampling import OneSidedSelection\n",
        "\n",
        "# oss = OneSidedSelection(random_state=0)\n",
        "# X_resampled, y_resampled = oss.fit_resample(train_data, train_label)"
      ],
      "metadata": {
        "id": "D-yuWBjnG8lK"
      },
      "execution_count": null,
      "outputs": []
    },
    {
      "cell_type": "code",
      "source": [
        "# from imblearn.under_sampling import CondensedNearestNeighbour\n",
        "\n",
        "# cnn = CondensedNearestNeighbour(random_state=0)\n",
        "# X_resampled, y_resampled = cnn.fit_resample(train_data, train_label)"
      ],
      "metadata": {
        "id": "1W9lb9O117GE"
      },
      "execution_count": null,
      "outputs": []
    },
    {
      "cell_type": "code",
      "source": [
        "# X_resampled.to_csv('/content/drive/MyDrive/빅콘테스트_2022/data/Jihwan_data/train_resample.csv')\n",
        "# y_resampled.to_csv('/content/drive/MyDrive/빅콘테스트_2022/data/Jihwan_data/y_resample.csv')"
      ],
      "metadata": {
        "id": "rxAwY7KuG0RD"
      },
      "execution_count": null,
      "outputs": []
    },
    {
      "cell_type": "markdown",
      "source": [
        "# XGBoost + shap"
      ],
      "metadata": {
        "id": "Qx27iqGfGWlS"
      }
    },
    {
      "cell_type": "code",
      "source": [
        "!pip install shap"
      ],
      "metadata": {
        "id": "i4ltkeB0Gd2K"
      },
      "execution_count": null,
      "outputs": []
    },
    {
      "cell_type": "code",
      "source": [
        "import xgboost\n",
        "import numpy as np\n",
        "import shap"
      ],
      "metadata": {
        "id": "ktZiMu6yGaql"
      },
      "execution_count": null,
      "outputs": []
    },
    {
      "cell_type": "code",
      "source": [
        "shap.initjs()"
      ],
      "metadata": {
        "id": "3mC5yQw7JPel"
      },
      "execution_count": null,
      "outputs": []
    },
    {
      "cell_type": "code",
      "source": [
        "d_train = xgboost.DMatrix(train_data, label=train_label)\n",
        "d_vaild = xgboost.DMatrix(valid_data, label=valid_label)"
      ],
      "metadata": {
        "id": "9tfOhv8kJmFz"
      },
      "execution_count": null,
      "outputs": []
    },
    {
      "cell_type": "code",
      "source": [
        "params = {\n",
        "    \"eta\": 0.01,\n",
        "    \"objective\": \"binary:logistic\",\n",
        "    \"subsample\": 0.5,\n",
        "    \"eval_metric\": \"logloss\",\n",
        "    'tree_method':'gpu_hist'\n",
        "}\n",
        "model = xgboost.train(params,d_train, 5000, evals = [(d_vaild, \"test\")], verbose_eval=100, early_stopping_rounds=20)"
      ],
      "metadata": {
        "id": "fj-agRcXGc5E"
      },
      "execution_count": null,
      "outputs": []
    },
    {
      "cell_type": "code",
      "source": [],
      "metadata": {
        "id": "-aWEAreFK9fP"
      },
      "execution_count": null,
      "outputs": []
    },
    {
      "cell_type": "code",
      "source": [],
      "metadata": {
        "id": "5RP46u2CQqK3"
      },
      "execution_count": null,
      "outputs": []
    },
    {
      "cell_type": "code",
      "source": [],
      "metadata": {
        "id": "bFHvWVfuQqK3"
      },
      "execution_count": null,
      "outputs": []
    },
    {
      "cell_type": "markdown",
      "source": [
        "# 모델 평가 함수"
      ],
      "metadata": {
        "id": "hyBc4gLxnd65"
      }
    },
    {
      "cell_type": "code",
      "source": [
        "SCORE_PATH = ROOT_DIR + \"score/\"\n",
        "#IMAGE_PATH = \n",
        "os.makedirs(SCORE_PATH, exist_ok = True)\n",
        "from sklearn.metrics import f1_score, accuracy_score, precision_score, recall_score\n",
        "\n",
        "# accuracy, precision, recall, f1 score\n",
        "def model_validation(model, data, label, mode, file_title):                                                                                                                                                                                                                                                                                                                                                                                                                                                                                                                                                                                                                                                                                                                                                                                                                                                                                                             \n",
        "  pred = model.predict(data)\n",
        "  print('#### ' + mode + ' score ####')\n",
        "  print(f'accuracy : {accuracy_score(label, pred)}, precision : {precision_score(label, pred)}, recall : {recall_score(label, pred)}, f1 score : {f1_score(label, pred)}')\n",
        "#   df = pd.DataFrame([], columns=['metric', 'score'])\n",
        "#   df.loc[0] = ['accuracy', accuracy_score(label, pred)]\n",
        "#   df.loc[1] = ['precision', precision_score(label, pred)]\n",
        "#   df.loc[2] = ['recall', recall_score(label, pred)]\n",
        "#   df.loc[3] = ['f1 score', f1_score(label, pred)]\n",
        "\n",
        "  #save_data(df, file_title, SCORE_PATH)\n",
        "  #return df\n",
        "  \n",
        "from sklearn import metrics\n",
        "from sklearn.metrics import roc_auc_score\n"
      ],
      "metadata": {
        "id": "1b49n0iAou6_"
      },
      "execution_count": null,
      "outputs": []
    },
    {
      "cell_type": "code",
      "source": [
        "\n",
        "# ROC curve, auc score\n",
        "# proba  clf.predict_proba(X)[:, 1]\n",
        "\n",
        "def model_auc(model, data, label, mode):\n",
        "\n",
        "  proba = model.predict_proba(data)[::, 1]\n",
        "\n",
        "  print('#### ' + mode + ' ROC AUC score ####')\n",
        "  print(roc_auc_score(label, proba))\n",
        "\n",
        "  print('#### ' + mode + ' ROC curve plotting####')\n",
        "  fpr, tpr, _ = metrics.roc_curve(label, proba)\n",
        "\n",
        "  plt.figure(figsize=(15,15))\n",
        "  plt.plot(fpr, tpr)\n",
        "  plt.ylabel('True Positive Rate')\n",
        "  plt.xlabel('False Positive Rate')\n",
        "  plt.title(mode + \" ROC curve\")\n",
        "  save_fig(mode + \" ROC curve\")\n",
        "  plt.show()"
      ],
      "metadata": {
        "id": "ecULefcpoxBV"
      },
      "execution_count": null,
      "outputs": []
    },
    {
      "cell_type": "markdown",
      "source": [
        "# 모델 학습"
      ],
      "metadata": {
        "id": "lrEydmojoxrB"
      }
    },
    {
      "cell_type": "code",
      "source": [
        "from sklearn.ensemble import RandomForestClassifier\n",
        "\n",
        "#forest_clf = RandomForestClassifier(n_estimators = 5, min_samples_split = 100, max_depth = 12, random_state=42)\n",
        "#forest_clf.fit(train_data, train_label.values.ravel())\n"
      ],
      "metadata": {
        "id": "wViSp4dCo6PY"
      },
      "execution_count": null,
      "outputs": []
    },
    {
      "cell_type": "code",
      "source": [
        "from imblearn.ensemble import BalancedRandomForestClassifier\n",
        "from sklearn.datasets import make_classification\n",
        "\n",
        "#bal_clf= BalancedRandomForestClassifier(random_state=42)\n",
        "\n",
        "\n",
        "#bal_clf.fit(train_data, train_label)  "
      ],
      "metadata": {
        "id": "v5XIyuypmiUA"
      },
      "execution_count": null,
      "outputs": []
    },
    {
      "cell_type": "code",
      "source": [],
      "metadata": {
        "id": "rXc5RtPRqIJZ"
      },
      "execution_count": null,
      "outputs": []
    },
    {
      "cell_type": "code",
      "source": [
        "#model_validation(bal_clf_tuned,valid_data, valid_label, 'RF_balanced_tuned','RF_balanced_tuned')"
      ],
      "metadata": {
        "id": "JzhShbQKyvE-"
      },
      "execution_count": null,
      "outputs": []
    },
    {
      "cell_type": "code",
      "source": [
        "from sklearn.model_selection import GridSearchCV\n",
        "\n",
        "rf_tuned_parameters = [{ 'n_estimators' : [30],\n",
        "           'min_samples_leaf' : [1, 2, 4, 8 ],\n",
        "           'min_samples_split' : [2, 4, 8]\n",
        "            }\n",
        "]\n",
        "\n",
        "rf_tuned = GridSearchCV(BalancedRandomForestClassifier(random_state=42),rf_tuned_parameters,cv = 2,scoring=\"f1\",verbose=2,refit=True)\n",
        "rf_tuned.fit(train_data,train_label)"
      ],
      "metadata": {
        "id": "2TOE9HZmzMo-"
      },
      "execution_count": null,
      "outputs": []
    },
    {
      "cell_type": "code",
      "source": [
        "model_validation(rf_tuned,train_data, train_label, 'RF_balanced_tuned','RF_balanced_tuned_train.csv')"
      ],
      "metadata": {
        "id": "Vx4gqqcJHIbH"
      },
      "execution_count": null,
      "outputs": []
    },
    {
      "cell_type": "code",
      "source": [
        "model_validation(rf_tuned,valid_data, valid_label, 'RF_balanced_tuned','RF_balanced_tuned_valid.csv')"
      ],
      "metadata": {
        "id": "IV5qjGpazl7W"
      },
      "execution_count": null,
      "outputs": []
    },
    {
      "cell_type": "code",
      "source": [
        "rf_tuned.best_estimator_"
      ],
      "metadata": {
        "id": "YFCLoSV7tCR6"
      },
      "execution_count": null,
      "outputs": []
    },
    {
      "cell_type": "code",
      "source": [
        "scores_df = pd.DataFrame(rf_tuned.cv_results_)\n",
        "scores_df"
      ],
      "metadata": {
        "id": "ZTnkXgMpHkdZ"
      },
      "execution_count": null,
      "outputs": []
    },
    {
      "cell_type": "markdown",
      "source": [
        "# 모델 저장"
      ],
      "metadata": {
        "id": "RhfCRGUrSTvg"
      }
    },
    {
      "cell_type": "code",
      "source": [
        "# 모델을 저장할 위치\n",
        "MODEL_PATH = os.path.join(ROOT_DIR, \"model/\")\n",
        "os.makedirs(MODEL_PATH, exist_ok = True)\n",
        "#'/content/gdrive/My Drive/빅콘테스트_2022/model/'\n"
      ],
      "metadata": {
        "id": "noCY0sQYSVLR"
      },
      "execution_count": null,
      "outputs": []
    },
    {
      "cell_type": "code",
      "source": [
        "\n",
        "import pickle\n",
        "pickle.dump(model, open(MODEL_PATH + 'xgboost_shap_.pkl', 'wb'))"
      ],
      "metadata": {
        "id": "OaotiMXySflS"
      },
      "execution_count": null,
      "outputs": []
    },
    {
      "cell_type": "code",
      "source": [
        "rf_tuned.best_estimator_"
      ],
      "metadata": {
        "id": "otb5-tG8SYNL"
      },
      "execution_count": null,
      "outputs": []
    },
    {
      "cell_type": "code",
      "source": [
        "rf_tuned.cv_results_"
      ],
      "metadata": {
        "id": "R2H8QuocF7_B"
      },
      "execution_count": null,
      "outputs": []
    },
    {
      "cell_type": "code",
      "source": [],
      "metadata": {
        "id": "Y2En4q8rGCgc"
      },
      "execution_count": null,
      "outputs": []
    }
  ]
}