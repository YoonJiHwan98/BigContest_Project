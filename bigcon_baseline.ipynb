{
  "nbformat": 4,
  "nbformat_minor": 0,
  "metadata": {
    "colab": {
      "provenance": [],
      "collapsed_sections": [],
      "machine_shape": "hm"
    },
    "kernelspec": {
      "name": "python3",
      "display_name": "Python 3"
    },
    "language_info": {
      "name": "python"
    }
  },
  "cells": [
    {
      "cell_type": "markdown",
      "source": [
        "# 2022 빅콘테스트 "
      ],
      "metadata": {
        "id": "IqIHIud6U62o"
      }
    },
    {
      "cell_type": "markdown",
      "source": [
        "## 문제\n",
        "\n",
        "앱 사용성 데이터를 통한 대출신청 예측분석\n",
        "\n",
        "\n",
        "---\n",
        "\n",
        "\n",
        "가명화된 데이터를 기반으로 고객의 대출상품 신청여부 예측\n",
        "(2022년 3~5월 데이터제공 / 2022년 6월 예측)\n",
        "* 예측모델을 활용하여 탐색적 데이터 분석 수행\n",
        "* 대출신청, 미신청 고객을 분류하여 고객의 특성 분석결과 도출\n",
        "\n"
      ],
      "metadata": {
        "id": "VcrS2W2wVBr1"
      }
    },
    {
      "cell_type": "markdown",
      "source": [
        "- 회원 가입 이후 특정 기간안에 대출 신청 여부를 예측\n",
        "  \n",
        "- 핀다 홈화면 진입 고객의 모델 기반 고객 군집 분석\n",
        "  \n",
        "  모두가 대출을 원하진 않는다!\n",
        "  \n",
        "  여러 고객 군집별로 서비스 메시지를 제안한다."
      ],
      "metadata": {
        "id": "tG_kNcTtMcB9"
      }
    },
    {
      "cell_type": "markdown",
      "source": [
        "- 비교대출 서비스\n",
        "    - 최적의 대출 경험 제공\n",
        "    - 고객 정보 제출 - 대출 조건을 받아 비교 선택\n",
        "    - 핀다 사용자 **10명 중 6명은 중금리대출**\n",
        "    - 인터넷 은행이 채우지 못한 중금리대출의 니즈를 채워줌\n",
        "    - 핀다의 홈화면 진입 고객 중 특정 기간 안에 대출 신청 고객을 예측\n",
        "\n",
        "<신청 과정>\n",
        "\n",
        "- 홈화면을 통해 신청 시작\n",
        "- 회원 가입을 통해 정보 수집\n",
        "- 홈화면의 대출신청 버튼을 통해 대출목적, 희망금액 입력\n",
        "- 자산정보입력\n",
        "- 인증서 사용여부 선택\n",
        "1. 회원 가입 이후 특정 기간안에 대출 신청 여부를 예측\n",
        "    \n",
        "    최종 모델평가는 승인된 상품 정보 기준 하나 이상을 선택해 대출한 고객을 예측하는 것\n",
        "    \n",
        "    → 예측 정확도 평가 지표 : (이진분류) F1-score\n",
        "    \n",
        "    모델링 정확도 만큼이나 데이터 분석, 모델링 과정을 평가에 반영\n",
        "    \n",
        "    label = 앱 사용자가 대출 조회를 하고, 승인된 금융상품 중 최소 하나를 선택하여 실제 대출을 실행한 경우 y로 표시\n",
        "    \n",
        "    학습 데이터와 시점상 크게 다르지 않음\n",
        "    \n",
        "    → 직전 데이터의 영향이 너무 크지 않도록\n",
        "    \n",
        "2. 핀다 홈화면 진입 고객의 모델 기반 고객 군집 분석\n",
        "    \n",
        "    앱 사용자 모두가 대출을 원하진 않는다!\n",
        "    \n",
        "    여러 고객 군집별로 서비스 메시지를 제안한다.\n",
        "    \n",
        "    통계적 군집 분석 과정의 타당성과 서비스 메시지의 독창성을 평가"
      ],
      "metadata": {
        "id": "YlZZjioRNmhZ"
      }
    },
    {
      "cell_type": "markdown",
      "source": [
        "## 결과 제출 방식\n",
        "\n",
        "* target : loan_result['is_applied'] # 대출 신청여부\n",
        "\n",
        "* PPT\n",
        "1. 자유양식\n",
        "2. 분량제한없음\n",
        "3. 파워포인트(PPT)파일형식으로 제출 (파일명은 “분야명_주제명_개인/팀명＂으로 작성)\n",
        "4. 필요시 설명자료(한글, 워드파일) 추가 제출 가능"
      ],
      "metadata": {
        "id": "A9-l3tg0V14t"
      }
    },
    {
      "cell_type": "markdown",
      "source": [
        "## 심사 기준\n",
        "\n",
        "\t고객 당 대출 신청 여부 예측, 데이터 수집, 전처리 과정, 예측 모델 해석(필수)"
      ],
      "metadata": {
        "id": "hqlVLI21VTOc"
      }
    },
    {
      "cell_type": "markdown",
      "source": [
        "## 이번에 주의할 것\n",
        "\n",
        "\n",
        "* 탐색적 데이터 분석 수행이라고 박아놓은거 보면 EDA & 전처리 과정에 대한 \"이유\"를 상세히 적어놔야 할 것 같다\n",
        "\n",
        "* 단순한 분류 accuracy 뿐 아니라 고객의 \"특성 분석 결과\"를 도출해내는 것이 중요한 것 같다\n",
        "\n"
      ],
      "metadata": {
        "id": "NUGYpmXEU_hN"
      }
    },
    {
      "cell_type": "markdown",
      "source": [
        "## 간략한 인사이트\n",
        "\n",
        "\n",
        "* 유저 스펙에서 중요한 부분 : 은\n",
        "* 유저 로그 데이터 어떻게 이용할지 -> count?"
      ],
      "metadata": {
        "id": "E_SxIk99JIcx"
      }
    },
    {
      "cell_type": "markdown",
      "source": [
        "고객 스펙 -> 어떤게 추천이 되는지? 핀다 직접 깔아봐야겠다\n",
        "\n",
        "추천된 것들 중에 고객이 선택할지 말지니까...\n",
        "\n",
        "\n",
        "어플 이용층 : 젊은 층이 주로 사용하지 않을까 싶음\n",
        "\n",
        "고객 스펙 데이터 중 나이를 알아보고 그 유저층이 무엇을 중요하게 생각하는지, 어떤 대출을 주로 받는지 인사이트 추가적으로 조사할 것?\n",
        "\n",
        "\n",
        "유저 로그 데이터 -> 군집화에 주로 이용될듯"
      ],
      "metadata": {
        "id": "3ABdNP4SPCNi"
      }
    },
    {
      "cell_type": "markdown",
      "source": [
        "## 드라이브 마운트 & 저장 경로 설정"
      ],
      "metadata": {
        "id": "Du8rQx2jWMFZ"
      }
    },
    {
      "cell_type": "code",
      "source": [
        "# 드라이브 마운트\n",
        "from google.colab import drive\n",
        "\n",
        "drive.mount('/content/gdrive')"
      ],
      "metadata": {
        "colab": {
          "base_uri": "https://localhost:8080/"
        },
        "id": "ma7rmh2iWO15",
        "outputId": "c559b44d-304e-486d-9e97-4c382923202d"
      },
      "execution_count": 7,
      "outputs": [
        {
          "output_type": "stream",
          "name": "stdout",
          "text": [
            "Drive already mounted at /content/gdrive; to attempt to forcibly remount, call drive.mount(\"/content/gdrive\", force_remount=True).\n"
          ]
        }
      ]
    },
    {
      "cell_type": "code",
      "source": [
        "import os\n",
        "\n",
        "ROOT_DIR = \"/content/gdrive/My Drive/빅콘테스트_2022/\"\n",
        "DATA_PATH = ROOT_DIR + \"data/\"\n",
        "IMAGE_PATH = ROOT_DIR + \"img/\"\n",
        "\n",
        "os.makedirs(DATA_PATH, exist_ok = True)\n",
        "os.makedirs(IMAGE_PATH, exist_ok = True)"
      ],
      "metadata": {
        "id": "PGzySmiwWaOi"
      },
      "execution_count": 8,
      "outputs": []
    },
    {
      "cell_type": "code",
      "source": [
        "# 불필요한 경고 무시\n",
        "import warnings\n",
        "warnings.filterwarnings(action=\"ignore\", message=\"^internal gelsd\")"
      ],
      "metadata": {
        "id": "n0pXYQVIz-VH"
      },
      "execution_count": 9,
      "outputs": []
    },
    {
      "cell_type": "markdown",
      "source": [
        "## 데이터 불러오기 및 확인"
      ],
      "metadata": {
        "id": "XSaqf2X61ArR"
      }
    },
    {
      "cell_type": "code",
      "source": [
        "import pandas as pd\n",
        "import numpy as np\n",
        "import matplotlib as mpl\n",
        "import matplotlib.pyplot as plt\n",
        "import seaborn as sns"
      ],
      "metadata": {
        "id": "Ss6E86sz1xof"
      },
      "execution_count": 10,
      "outputs": []
    },
    {
      "cell_type": "code",
      "source": [
        "def load_data(file_name, DATA_PATH=DATA_PATH):\n",
        "  file_path = os.path.join(DATA_PATH, file_name)\n",
        "  return pd.read_csv(file_path)"
      ],
      "metadata": {
        "id": "OGPLOorYz-8G"
      },
      "execution_count": 11,
      "outputs": []
    },
    {
      "cell_type": "code",
      "source": [
        "user_spec = load_data(\"user_spec.csv\")\n",
        "log_data = load_data(\"log_data.csv\")\n",
        "loan_result = load_data(\"loan_result.csv\")"
      ],
      "metadata": {
        "id": "AD69nkKz0jbU"
      },
      "execution_count": 12,
      "outputs": []
    },
    {
      "cell_type": "code",
      "source": [
        "user_spec.head()"
      ],
      "metadata": {
        "colab": {
          "base_uri": "https://localhost:8080/",
          "height": 357
        },
        "id": "kCFpOM5z1DMq",
        "outputId": "121eb096-1a67-40af-b1e7-0f2894ed9aae"
      },
      "execution_count": 13,
      "outputs": [
        {
          "output_type": "execute_result",
          "data": {
            "text/plain": [
              "   application_id  user_id  birth_year  gender          insert_time  \\\n",
              "0         1249046   118218      1985.0     1.0  2022-06-07 06:28:18   \n",
              "1          954900   553686      1968.0     1.0  2022-06-07 14:29:03   \n",
              "2          137274    59516      1997.0     1.0  2022-06-07 21:40:22   \n",
              "3         1570936   167320      1989.0     1.0  2022-06-07 09:40:27   \n",
              "4          967833    33400      2000.0     1.0  2022-06-07 08:55:07   \n",
              "\n",
              "   credit_score  yearly_income      income_type  company_enter_month  \\\n",
              "0         660.0    108000000.0  PRIVATEBUSINESS           20151101.0   \n",
              "1         870.0     30000000.0  PRIVATEBUSINESS           20070201.0   \n",
              "2         710.0     30000000.0       FREELANCER           20210901.0   \n",
              "3         820.0     62000000.0     EARNEDINCOME           20170101.0   \n",
              "4         630.0     36000000.0     EARNEDINCOME           20210901.0   \n",
              "\n",
              "  employment_type houseown_type  desired_amount purpose  \\\n",
              "0              기타            자가       1000000.0      기타   \n",
              "1             정규직        기타가족소유      30000000.0    대환대출   \n",
              "2              기타        기타가족소유      10000000.0     생활비   \n",
              "3             정규직            자가       2000000.0     생활비   \n",
              "4             정규직        기타가족소유       5000000.0     생활비   \n",
              "\n",
              "   personal_rehabilitation_yn  personal_rehabilitation_complete_yn  \\\n",
              "0                         0.0                                  NaN   \n",
              "1                         0.0                                  NaN   \n",
              "2                         0.0                                  NaN   \n",
              "3                         0.0                                  NaN   \n",
              "4                         0.0                                  0.0   \n",
              "\n",
              "   existing_loan_cnt  existing_loan_amt  \n",
              "0                4.0        162000000.0  \n",
              "1                1.0         27000000.0  \n",
              "2                5.0         15000000.0  \n",
              "3                7.0        344000000.0  \n",
              "4                1.0         16000000.0  "
            ],
            "text/html": [
              "\n",
              "  <div id=\"df-268d3b76-3ae2-481b-b3c0-d5abdce69661\">\n",
              "    <div class=\"colab-df-container\">\n",
              "      <div>\n",
              "<style scoped>\n",
              "    .dataframe tbody tr th:only-of-type {\n",
              "        vertical-align: middle;\n",
              "    }\n",
              "\n",
              "    .dataframe tbody tr th {\n",
              "        vertical-align: top;\n",
              "    }\n",
              "\n",
              "    .dataframe thead th {\n",
              "        text-align: right;\n",
              "    }\n",
              "</style>\n",
              "<table border=\"1\" class=\"dataframe\">\n",
              "  <thead>\n",
              "    <tr style=\"text-align: right;\">\n",
              "      <th></th>\n",
              "      <th>application_id</th>\n",
              "      <th>user_id</th>\n",
              "      <th>birth_year</th>\n",
              "      <th>gender</th>\n",
              "      <th>insert_time</th>\n",
              "      <th>credit_score</th>\n",
              "      <th>yearly_income</th>\n",
              "      <th>income_type</th>\n",
              "      <th>company_enter_month</th>\n",
              "      <th>employment_type</th>\n",
              "      <th>houseown_type</th>\n",
              "      <th>desired_amount</th>\n",
              "      <th>purpose</th>\n",
              "      <th>personal_rehabilitation_yn</th>\n",
              "      <th>personal_rehabilitation_complete_yn</th>\n",
              "      <th>existing_loan_cnt</th>\n",
              "      <th>existing_loan_amt</th>\n",
              "    </tr>\n",
              "  </thead>\n",
              "  <tbody>\n",
              "    <tr>\n",
              "      <th>0</th>\n",
              "      <td>1249046</td>\n",
              "      <td>118218</td>\n",
              "      <td>1985.0</td>\n",
              "      <td>1.0</td>\n",
              "      <td>2022-06-07 06:28:18</td>\n",
              "      <td>660.0</td>\n",
              "      <td>108000000.0</td>\n",
              "      <td>PRIVATEBUSINESS</td>\n",
              "      <td>20151101.0</td>\n",
              "      <td>기타</td>\n",
              "      <td>자가</td>\n",
              "      <td>1000000.0</td>\n",
              "      <td>기타</td>\n",
              "      <td>0.0</td>\n",
              "      <td>NaN</td>\n",
              "      <td>4.0</td>\n",
              "      <td>162000000.0</td>\n",
              "    </tr>\n",
              "    <tr>\n",
              "      <th>1</th>\n",
              "      <td>954900</td>\n",
              "      <td>553686</td>\n",
              "      <td>1968.0</td>\n",
              "      <td>1.0</td>\n",
              "      <td>2022-06-07 14:29:03</td>\n",
              "      <td>870.0</td>\n",
              "      <td>30000000.0</td>\n",
              "      <td>PRIVATEBUSINESS</td>\n",
              "      <td>20070201.0</td>\n",
              "      <td>정규직</td>\n",
              "      <td>기타가족소유</td>\n",
              "      <td>30000000.0</td>\n",
              "      <td>대환대출</td>\n",
              "      <td>0.0</td>\n",
              "      <td>NaN</td>\n",
              "      <td>1.0</td>\n",
              "      <td>27000000.0</td>\n",
              "    </tr>\n",
              "    <tr>\n",
              "      <th>2</th>\n",
              "      <td>137274</td>\n",
              "      <td>59516</td>\n",
              "      <td>1997.0</td>\n",
              "      <td>1.0</td>\n",
              "      <td>2022-06-07 21:40:22</td>\n",
              "      <td>710.0</td>\n",
              "      <td>30000000.0</td>\n",
              "      <td>FREELANCER</td>\n",
              "      <td>20210901.0</td>\n",
              "      <td>기타</td>\n",
              "      <td>기타가족소유</td>\n",
              "      <td>10000000.0</td>\n",
              "      <td>생활비</td>\n",
              "      <td>0.0</td>\n",
              "      <td>NaN</td>\n",
              "      <td>5.0</td>\n",
              "      <td>15000000.0</td>\n",
              "    </tr>\n",
              "    <tr>\n",
              "      <th>3</th>\n",
              "      <td>1570936</td>\n",
              "      <td>167320</td>\n",
              "      <td>1989.0</td>\n",
              "      <td>1.0</td>\n",
              "      <td>2022-06-07 09:40:27</td>\n",
              "      <td>820.0</td>\n",
              "      <td>62000000.0</td>\n",
              "      <td>EARNEDINCOME</td>\n",
              "      <td>20170101.0</td>\n",
              "      <td>정규직</td>\n",
              "      <td>자가</td>\n",
              "      <td>2000000.0</td>\n",
              "      <td>생활비</td>\n",
              "      <td>0.0</td>\n",
              "      <td>NaN</td>\n",
              "      <td>7.0</td>\n",
              "      <td>344000000.0</td>\n",
              "    </tr>\n",
              "    <tr>\n",
              "      <th>4</th>\n",
              "      <td>967833</td>\n",
              "      <td>33400</td>\n",
              "      <td>2000.0</td>\n",
              "      <td>1.0</td>\n",
              "      <td>2022-06-07 08:55:07</td>\n",
              "      <td>630.0</td>\n",
              "      <td>36000000.0</td>\n",
              "      <td>EARNEDINCOME</td>\n",
              "      <td>20210901.0</td>\n",
              "      <td>정규직</td>\n",
              "      <td>기타가족소유</td>\n",
              "      <td>5000000.0</td>\n",
              "      <td>생활비</td>\n",
              "      <td>0.0</td>\n",
              "      <td>0.0</td>\n",
              "      <td>1.0</td>\n",
              "      <td>16000000.0</td>\n",
              "    </tr>\n",
              "  </tbody>\n",
              "</table>\n",
              "</div>\n",
              "      <button class=\"colab-df-convert\" onclick=\"convertToInteractive('df-268d3b76-3ae2-481b-b3c0-d5abdce69661')\"\n",
              "              title=\"Convert this dataframe to an interactive table.\"\n",
              "              style=\"display:none;\">\n",
              "        \n",
              "  <svg xmlns=\"http://www.w3.org/2000/svg\" height=\"24px\"viewBox=\"0 0 24 24\"\n",
              "       width=\"24px\">\n",
              "    <path d=\"M0 0h24v24H0V0z\" fill=\"none\"/>\n",
              "    <path d=\"M18.56 5.44l.94 2.06.94-2.06 2.06-.94-2.06-.94-.94-2.06-.94 2.06-2.06.94zm-11 1L8.5 8.5l.94-2.06 2.06-.94-2.06-.94L8.5 2.5l-.94 2.06-2.06.94zm10 10l.94 2.06.94-2.06 2.06-.94-2.06-.94-.94-2.06-.94 2.06-2.06.94z\"/><path d=\"M17.41 7.96l-1.37-1.37c-.4-.4-.92-.59-1.43-.59-.52 0-1.04.2-1.43.59L10.3 9.45l-7.72 7.72c-.78.78-.78 2.05 0 2.83L4 21.41c.39.39.9.59 1.41.59.51 0 1.02-.2 1.41-.59l7.78-7.78 2.81-2.81c.8-.78.8-2.07 0-2.86zM5.41 20L4 18.59l7.72-7.72 1.47 1.35L5.41 20z\"/>\n",
              "  </svg>\n",
              "      </button>\n",
              "      \n",
              "  <style>\n",
              "    .colab-df-container {\n",
              "      display:flex;\n",
              "      flex-wrap:wrap;\n",
              "      gap: 12px;\n",
              "    }\n",
              "\n",
              "    .colab-df-convert {\n",
              "      background-color: #E8F0FE;\n",
              "      border: none;\n",
              "      border-radius: 50%;\n",
              "      cursor: pointer;\n",
              "      display: none;\n",
              "      fill: #1967D2;\n",
              "      height: 32px;\n",
              "      padding: 0 0 0 0;\n",
              "      width: 32px;\n",
              "    }\n",
              "\n",
              "    .colab-df-convert:hover {\n",
              "      background-color: #E2EBFA;\n",
              "      box-shadow: 0px 1px 2px rgba(60, 64, 67, 0.3), 0px 1px 3px 1px rgba(60, 64, 67, 0.15);\n",
              "      fill: #174EA6;\n",
              "    }\n",
              "\n",
              "    [theme=dark] .colab-df-convert {\n",
              "      background-color: #3B4455;\n",
              "      fill: #D2E3FC;\n",
              "    }\n",
              "\n",
              "    [theme=dark] .colab-df-convert:hover {\n",
              "      background-color: #434B5C;\n",
              "      box-shadow: 0px 1px 3px 1px rgba(0, 0, 0, 0.15);\n",
              "      filter: drop-shadow(0px 1px 2px rgba(0, 0, 0, 0.3));\n",
              "      fill: #FFFFFF;\n",
              "    }\n",
              "  </style>\n",
              "\n",
              "      <script>\n",
              "        const buttonEl =\n",
              "          document.querySelector('#df-268d3b76-3ae2-481b-b3c0-d5abdce69661 button.colab-df-convert');\n",
              "        buttonEl.style.display =\n",
              "          google.colab.kernel.accessAllowed ? 'block' : 'none';\n",
              "\n",
              "        async function convertToInteractive(key) {\n",
              "          const element = document.querySelector('#df-268d3b76-3ae2-481b-b3c0-d5abdce69661');\n",
              "          const dataTable =\n",
              "            await google.colab.kernel.invokeFunction('convertToInteractive',\n",
              "                                                     [key], {});\n",
              "          if (!dataTable) return;\n",
              "\n",
              "          const docLinkHtml = 'Like what you see? Visit the ' +\n",
              "            '<a target=\"_blank\" href=https://colab.research.google.com/notebooks/data_table.ipynb>data table notebook</a>'\n",
              "            + ' to learn more about interactive tables.';\n",
              "          element.innerHTML = '';\n",
              "          dataTable['output_type'] = 'display_data';\n",
              "          await google.colab.output.renderOutput(dataTable, element);\n",
              "          const docLink = document.createElement('div');\n",
              "          docLink.innerHTML = docLinkHtml;\n",
              "          element.appendChild(docLink);\n",
              "        }\n",
              "      </script>\n",
              "    </div>\n",
              "  </div>\n",
              "  "
            ]
          },
          "metadata": {},
          "execution_count": 13
        }
      ]
    },
    {
      "cell_type": "code",
      "source": [
        "loan_result.head()"
      ],
      "metadata": {
        "colab": {
          "base_uri": "https://localhost:8080/",
          "height": 206
        },
        "id": "sJbPKhQq1F8y",
        "outputId": "b7331403-5d54-4f63-a511-15f0058eeab3"
      },
      "execution_count": 14,
      "outputs": [
        {
          "output_type": "execute_result",
          "data": {
            "text/plain": [
              "   application_id loanapply_insert_time  bank_id  product_id  loan_limit  \\\n",
              "0         1748340   2022-06-07 13:05:41        7         191  42000000.0   \n",
              "1         1748340   2022-06-07 13:05:41       25         169  24000000.0   \n",
              "2         1748340   2022-06-07 13:05:41        2           7  24000000.0   \n",
              "3         1748340   2022-06-07 13:05:41        4         268  29000000.0   \n",
              "4         1748340   2022-06-07 13:05:41       11         118   5000000.0   \n",
              "\n",
              "   loan_rate  is_applied  \n",
              "0       13.6         NaN  \n",
              "1       17.9         NaN  \n",
              "2       18.5         NaN  \n",
              "3       10.8         NaN  \n",
              "4       16.4         NaN  "
            ],
            "text/html": [
              "\n",
              "  <div id=\"df-9a459521-2a37-4980-8b7c-0e72baa133c3\">\n",
              "    <div class=\"colab-df-container\">\n",
              "      <div>\n",
              "<style scoped>\n",
              "    .dataframe tbody tr th:only-of-type {\n",
              "        vertical-align: middle;\n",
              "    }\n",
              "\n",
              "    .dataframe tbody tr th {\n",
              "        vertical-align: top;\n",
              "    }\n",
              "\n",
              "    .dataframe thead th {\n",
              "        text-align: right;\n",
              "    }\n",
              "</style>\n",
              "<table border=\"1\" class=\"dataframe\">\n",
              "  <thead>\n",
              "    <tr style=\"text-align: right;\">\n",
              "      <th></th>\n",
              "      <th>application_id</th>\n",
              "      <th>loanapply_insert_time</th>\n",
              "      <th>bank_id</th>\n",
              "      <th>product_id</th>\n",
              "      <th>loan_limit</th>\n",
              "      <th>loan_rate</th>\n",
              "      <th>is_applied</th>\n",
              "    </tr>\n",
              "  </thead>\n",
              "  <tbody>\n",
              "    <tr>\n",
              "      <th>0</th>\n",
              "      <td>1748340</td>\n",
              "      <td>2022-06-07 13:05:41</td>\n",
              "      <td>7</td>\n",
              "      <td>191</td>\n",
              "      <td>42000000.0</td>\n",
              "      <td>13.6</td>\n",
              "      <td>NaN</td>\n",
              "    </tr>\n",
              "    <tr>\n",
              "      <th>1</th>\n",
              "      <td>1748340</td>\n",
              "      <td>2022-06-07 13:05:41</td>\n",
              "      <td>25</td>\n",
              "      <td>169</td>\n",
              "      <td>24000000.0</td>\n",
              "      <td>17.9</td>\n",
              "      <td>NaN</td>\n",
              "    </tr>\n",
              "    <tr>\n",
              "      <th>2</th>\n",
              "      <td>1748340</td>\n",
              "      <td>2022-06-07 13:05:41</td>\n",
              "      <td>2</td>\n",
              "      <td>7</td>\n",
              "      <td>24000000.0</td>\n",
              "      <td>18.5</td>\n",
              "      <td>NaN</td>\n",
              "    </tr>\n",
              "    <tr>\n",
              "      <th>3</th>\n",
              "      <td>1748340</td>\n",
              "      <td>2022-06-07 13:05:41</td>\n",
              "      <td>4</td>\n",
              "      <td>268</td>\n",
              "      <td>29000000.0</td>\n",
              "      <td>10.8</td>\n",
              "      <td>NaN</td>\n",
              "    </tr>\n",
              "    <tr>\n",
              "      <th>4</th>\n",
              "      <td>1748340</td>\n",
              "      <td>2022-06-07 13:05:41</td>\n",
              "      <td>11</td>\n",
              "      <td>118</td>\n",
              "      <td>5000000.0</td>\n",
              "      <td>16.4</td>\n",
              "      <td>NaN</td>\n",
              "    </tr>\n",
              "  </tbody>\n",
              "</table>\n",
              "</div>\n",
              "      <button class=\"colab-df-convert\" onclick=\"convertToInteractive('df-9a459521-2a37-4980-8b7c-0e72baa133c3')\"\n",
              "              title=\"Convert this dataframe to an interactive table.\"\n",
              "              style=\"display:none;\">\n",
              "        \n",
              "  <svg xmlns=\"http://www.w3.org/2000/svg\" height=\"24px\"viewBox=\"0 0 24 24\"\n",
              "       width=\"24px\">\n",
              "    <path d=\"M0 0h24v24H0V0z\" fill=\"none\"/>\n",
              "    <path d=\"M18.56 5.44l.94 2.06.94-2.06 2.06-.94-2.06-.94-.94-2.06-.94 2.06-2.06.94zm-11 1L8.5 8.5l.94-2.06 2.06-.94-2.06-.94L8.5 2.5l-.94 2.06-2.06.94zm10 10l.94 2.06.94-2.06 2.06-.94-2.06-.94-.94-2.06-.94 2.06-2.06.94z\"/><path d=\"M17.41 7.96l-1.37-1.37c-.4-.4-.92-.59-1.43-.59-.52 0-1.04.2-1.43.59L10.3 9.45l-7.72 7.72c-.78.78-.78 2.05 0 2.83L4 21.41c.39.39.9.59 1.41.59.51 0 1.02-.2 1.41-.59l7.78-7.78 2.81-2.81c.8-.78.8-2.07 0-2.86zM5.41 20L4 18.59l7.72-7.72 1.47 1.35L5.41 20z\"/>\n",
              "  </svg>\n",
              "      </button>\n",
              "      \n",
              "  <style>\n",
              "    .colab-df-container {\n",
              "      display:flex;\n",
              "      flex-wrap:wrap;\n",
              "      gap: 12px;\n",
              "    }\n",
              "\n",
              "    .colab-df-convert {\n",
              "      background-color: #E8F0FE;\n",
              "      border: none;\n",
              "      border-radius: 50%;\n",
              "      cursor: pointer;\n",
              "      display: none;\n",
              "      fill: #1967D2;\n",
              "      height: 32px;\n",
              "      padding: 0 0 0 0;\n",
              "      width: 32px;\n",
              "    }\n",
              "\n",
              "    .colab-df-convert:hover {\n",
              "      background-color: #E2EBFA;\n",
              "      box-shadow: 0px 1px 2px rgba(60, 64, 67, 0.3), 0px 1px 3px 1px rgba(60, 64, 67, 0.15);\n",
              "      fill: #174EA6;\n",
              "    }\n",
              "\n",
              "    [theme=dark] .colab-df-convert {\n",
              "      background-color: #3B4455;\n",
              "      fill: #D2E3FC;\n",
              "    }\n",
              "\n",
              "    [theme=dark] .colab-df-convert:hover {\n",
              "      background-color: #434B5C;\n",
              "      box-shadow: 0px 1px 3px 1px rgba(0, 0, 0, 0.15);\n",
              "      filter: drop-shadow(0px 1px 2px rgba(0, 0, 0, 0.3));\n",
              "      fill: #FFFFFF;\n",
              "    }\n",
              "  </style>\n",
              "\n",
              "      <script>\n",
              "        const buttonEl =\n",
              "          document.querySelector('#df-9a459521-2a37-4980-8b7c-0e72baa133c3 button.colab-df-convert');\n",
              "        buttonEl.style.display =\n",
              "          google.colab.kernel.accessAllowed ? 'block' : 'none';\n",
              "\n",
              "        async function convertToInteractive(key) {\n",
              "          const element = document.querySelector('#df-9a459521-2a37-4980-8b7c-0e72baa133c3');\n",
              "          const dataTable =\n",
              "            await google.colab.kernel.invokeFunction('convertToInteractive',\n",
              "                                                     [key], {});\n",
              "          if (!dataTable) return;\n",
              "\n",
              "          const docLinkHtml = 'Like what you see? Visit the ' +\n",
              "            '<a target=\"_blank\" href=https://colab.research.google.com/notebooks/data_table.ipynb>data table notebook</a>'\n",
              "            + ' to learn more about interactive tables.';\n",
              "          element.innerHTML = '';\n",
              "          dataTable['output_type'] = 'display_data';\n",
              "          await google.colab.output.renderOutput(dataTable, element);\n",
              "          const docLink = document.createElement('div');\n",
              "          docLink.innerHTML = docLinkHtml;\n",
              "          element.appendChild(docLink);\n",
              "        }\n",
              "      </script>\n",
              "    </div>\n",
              "  </div>\n",
              "  "
            ]
          },
          "metadata": {},
          "execution_count": 14
        }
      ]
    },
    {
      "cell_type": "code",
      "source": [
        "len(user_spec), len(loan_result) # row 개수 확인"
      ],
      "metadata": {
        "colab": {
          "base_uri": "https://localhost:8080/"
        },
        "id": "0GZK9xHjK27h",
        "outputId": "b26bbc2e-29ac-495b-b9f5-d9f3bf0e9dda"
      },
      "execution_count": 15,
      "outputs": [
        {
          "output_type": "execute_result",
          "data": {
            "text/plain": [
              "(1394216, 13527363)"
            ]
          },
          "metadata": {},
          "execution_count": 15
        }
      ]
    },
    {
      "cell_type": "markdown",
      "source": [
        "## 데이터프레임 병합"
      ],
      "metadata": {
        "id": "oync3RFtO00T"
      }
    },
    {
      "cell_type": "code",
      "source": [
        "# loan_result, user_spec 'application id' 기준 left merge\n",
        "merge_user_loan = pd.merge(loan_result, user_spec, how='left', on='application_id')\n",
        "print(len(merge_user_loan))\n",
        "merge_user_loan.head()"
      ],
      "metadata": {
        "colab": {
          "base_uri": "https://localhost:8080/",
          "height": 318
        },
        "id": "z6BZoN52Lpfi",
        "outputId": "2c7e583c-265d-4227-d050-86e920a2a051"
      },
      "execution_count": 16,
      "outputs": [
        {
          "output_type": "stream",
          "name": "stdout",
          "text": [
            "13527363\n"
          ]
        },
        {
          "output_type": "execute_result",
          "data": {
            "text/plain": [
              "   application_id loanapply_insert_time  bank_id  product_id  loan_limit  \\\n",
              "0         1748340   2022-06-07 13:05:41        7         191  42000000.0   \n",
              "1         1748340   2022-06-07 13:05:41       25         169  24000000.0   \n",
              "2         1748340   2022-06-07 13:05:41        2           7  24000000.0   \n",
              "3         1748340   2022-06-07 13:05:41        4         268  29000000.0   \n",
              "4         1748340   2022-06-07 13:05:41       11         118   5000000.0   \n",
              "\n",
              "   loan_rate  is_applied   user_id  birth_year  gender  ...   income_type  \\\n",
              "0       13.6         NaN  430982.0      1996.0     1.0  ...  EARNEDINCOME   \n",
              "1       17.9         NaN  430982.0      1996.0     1.0  ...  EARNEDINCOME   \n",
              "2       18.5         NaN  430982.0      1996.0     1.0  ...  EARNEDINCOME   \n",
              "3       10.8         NaN  430982.0      1996.0     1.0  ...  EARNEDINCOME   \n",
              "4       16.4         NaN  430982.0      1996.0     1.0  ...  EARNEDINCOME   \n",
              "\n",
              "   company_enter_month  employment_type houseown_type  desired_amount purpose  \\\n",
              "0           20220201.0              정규직            자가      25000000.0    대환대출   \n",
              "1           20220201.0              정규직            자가      25000000.0    대환대출   \n",
              "2           20220201.0              정규직            자가      25000000.0    대환대출   \n",
              "3           20220201.0              정규직            자가      25000000.0    대환대출   \n",
              "4           20220201.0              정규직            자가      25000000.0    대환대출   \n",
              "\n",
              "  personal_rehabilitation_yn  personal_rehabilitation_complete_yn  \\\n",
              "0                        0.0                                  0.0   \n",
              "1                        0.0                                  0.0   \n",
              "2                        0.0                                  0.0   \n",
              "3                        0.0                                  0.0   \n",
              "4                        0.0                                  0.0   \n",
              "\n",
              "  existing_loan_cnt  existing_loan_amt  \n",
              "0               2.0         15000000.0  \n",
              "1               2.0         15000000.0  \n",
              "2               2.0         15000000.0  \n",
              "3               2.0         15000000.0  \n",
              "4               2.0         15000000.0  \n",
              "\n",
              "[5 rows x 23 columns]"
            ],
            "text/html": [
              "\n",
              "  <div id=\"df-ed2e0c14-d615-46b1-bc20-f7d5ec6d112b\">\n",
              "    <div class=\"colab-df-container\">\n",
              "      <div>\n",
              "<style scoped>\n",
              "    .dataframe tbody tr th:only-of-type {\n",
              "        vertical-align: middle;\n",
              "    }\n",
              "\n",
              "    .dataframe tbody tr th {\n",
              "        vertical-align: top;\n",
              "    }\n",
              "\n",
              "    .dataframe thead th {\n",
              "        text-align: right;\n",
              "    }\n",
              "</style>\n",
              "<table border=\"1\" class=\"dataframe\">\n",
              "  <thead>\n",
              "    <tr style=\"text-align: right;\">\n",
              "      <th></th>\n",
              "      <th>application_id</th>\n",
              "      <th>loanapply_insert_time</th>\n",
              "      <th>bank_id</th>\n",
              "      <th>product_id</th>\n",
              "      <th>loan_limit</th>\n",
              "      <th>loan_rate</th>\n",
              "      <th>is_applied</th>\n",
              "      <th>user_id</th>\n",
              "      <th>birth_year</th>\n",
              "      <th>gender</th>\n",
              "      <th>...</th>\n",
              "      <th>income_type</th>\n",
              "      <th>company_enter_month</th>\n",
              "      <th>employment_type</th>\n",
              "      <th>houseown_type</th>\n",
              "      <th>desired_amount</th>\n",
              "      <th>purpose</th>\n",
              "      <th>personal_rehabilitation_yn</th>\n",
              "      <th>personal_rehabilitation_complete_yn</th>\n",
              "      <th>existing_loan_cnt</th>\n",
              "      <th>existing_loan_amt</th>\n",
              "    </tr>\n",
              "  </thead>\n",
              "  <tbody>\n",
              "    <tr>\n",
              "      <th>0</th>\n",
              "      <td>1748340</td>\n",
              "      <td>2022-06-07 13:05:41</td>\n",
              "      <td>7</td>\n",
              "      <td>191</td>\n",
              "      <td>42000000.0</td>\n",
              "      <td>13.6</td>\n",
              "      <td>NaN</td>\n",
              "      <td>430982.0</td>\n",
              "      <td>1996.0</td>\n",
              "      <td>1.0</td>\n",
              "      <td>...</td>\n",
              "      <td>EARNEDINCOME</td>\n",
              "      <td>20220201.0</td>\n",
              "      <td>정규직</td>\n",
              "      <td>자가</td>\n",
              "      <td>25000000.0</td>\n",
              "      <td>대환대출</td>\n",
              "      <td>0.0</td>\n",
              "      <td>0.0</td>\n",
              "      <td>2.0</td>\n",
              "      <td>15000000.0</td>\n",
              "    </tr>\n",
              "    <tr>\n",
              "      <th>1</th>\n",
              "      <td>1748340</td>\n",
              "      <td>2022-06-07 13:05:41</td>\n",
              "      <td>25</td>\n",
              "      <td>169</td>\n",
              "      <td>24000000.0</td>\n",
              "      <td>17.9</td>\n",
              "      <td>NaN</td>\n",
              "      <td>430982.0</td>\n",
              "      <td>1996.0</td>\n",
              "      <td>1.0</td>\n",
              "      <td>...</td>\n",
              "      <td>EARNEDINCOME</td>\n",
              "      <td>20220201.0</td>\n",
              "      <td>정규직</td>\n",
              "      <td>자가</td>\n",
              "      <td>25000000.0</td>\n",
              "      <td>대환대출</td>\n",
              "      <td>0.0</td>\n",
              "      <td>0.0</td>\n",
              "      <td>2.0</td>\n",
              "      <td>15000000.0</td>\n",
              "    </tr>\n",
              "    <tr>\n",
              "      <th>2</th>\n",
              "      <td>1748340</td>\n",
              "      <td>2022-06-07 13:05:41</td>\n",
              "      <td>2</td>\n",
              "      <td>7</td>\n",
              "      <td>24000000.0</td>\n",
              "      <td>18.5</td>\n",
              "      <td>NaN</td>\n",
              "      <td>430982.0</td>\n",
              "      <td>1996.0</td>\n",
              "      <td>1.0</td>\n",
              "      <td>...</td>\n",
              "      <td>EARNEDINCOME</td>\n",
              "      <td>20220201.0</td>\n",
              "      <td>정규직</td>\n",
              "      <td>자가</td>\n",
              "      <td>25000000.0</td>\n",
              "      <td>대환대출</td>\n",
              "      <td>0.0</td>\n",
              "      <td>0.0</td>\n",
              "      <td>2.0</td>\n",
              "      <td>15000000.0</td>\n",
              "    </tr>\n",
              "    <tr>\n",
              "      <th>3</th>\n",
              "      <td>1748340</td>\n",
              "      <td>2022-06-07 13:05:41</td>\n",
              "      <td>4</td>\n",
              "      <td>268</td>\n",
              "      <td>29000000.0</td>\n",
              "      <td>10.8</td>\n",
              "      <td>NaN</td>\n",
              "      <td>430982.0</td>\n",
              "      <td>1996.0</td>\n",
              "      <td>1.0</td>\n",
              "      <td>...</td>\n",
              "      <td>EARNEDINCOME</td>\n",
              "      <td>20220201.0</td>\n",
              "      <td>정규직</td>\n",
              "      <td>자가</td>\n",
              "      <td>25000000.0</td>\n",
              "      <td>대환대출</td>\n",
              "      <td>0.0</td>\n",
              "      <td>0.0</td>\n",
              "      <td>2.0</td>\n",
              "      <td>15000000.0</td>\n",
              "    </tr>\n",
              "    <tr>\n",
              "      <th>4</th>\n",
              "      <td>1748340</td>\n",
              "      <td>2022-06-07 13:05:41</td>\n",
              "      <td>11</td>\n",
              "      <td>118</td>\n",
              "      <td>5000000.0</td>\n",
              "      <td>16.4</td>\n",
              "      <td>NaN</td>\n",
              "      <td>430982.0</td>\n",
              "      <td>1996.0</td>\n",
              "      <td>1.0</td>\n",
              "      <td>...</td>\n",
              "      <td>EARNEDINCOME</td>\n",
              "      <td>20220201.0</td>\n",
              "      <td>정규직</td>\n",
              "      <td>자가</td>\n",
              "      <td>25000000.0</td>\n",
              "      <td>대환대출</td>\n",
              "      <td>0.0</td>\n",
              "      <td>0.0</td>\n",
              "      <td>2.0</td>\n",
              "      <td>15000000.0</td>\n",
              "    </tr>\n",
              "  </tbody>\n",
              "</table>\n",
              "<p>5 rows × 23 columns</p>\n",
              "</div>\n",
              "      <button class=\"colab-df-convert\" onclick=\"convertToInteractive('df-ed2e0c14-d615-46b1-bc20-f7d5ec6d112b')\"\n",
              "              title=\"Convert this dataframe to an interactive table.\"\n",
              "              style=\"display:none;\">\n",
              "        \n",
              "  <svg xmlns=\"http://www.w3.org/2000/svg\" height=\"24px\"viewBox=\"0 0 24 24\"\n",
              "       width=\"24px\">\n",
              "    <path d=\"M0 0h24v24H0V0z\" fill=\"none\"/>\n",
              "    <path d=\"M18.56 5.44l.94 2.06.94-2.06 2.06-.94-2.06-.94-.94-2.06-.94 2.06-2.06.94zm-11 1L8.5 8.5l.94-2.06 2.06-.94-2.06-.94L8.5 2.5l-.94 2.06-2.06.94zm10 10l.94 2.06.94-2.06 2.06-.94-2.06-.94-.94-2.06-.94 2.06-2.06.94z\"/><path d=\"M17.41 7.96l-1.37-1.37c-.4-.4-.92-.59-1.43-.59-.52 0-1.04.2-1.43.59L10.3 9.45l-7.72 7.72c-.78.78-.78 2.05 0 2.83L4 21.41c.39.39.9.59 1.41.59.51 0 1.02-.2 1.41-.59l7.78-7.78 2.81-2.81c.8-.78.8-2.07 0-2.86zM5.41 20L4 18.59l7.72-7.72 1.47 1.35L5.41 20z\"/>\n",
              "  </svg>\n",
              "      </button>\n",
              "      \n",
              "  <style>\n",
              "    .colab-df-container {\n",
              "      display:flex;\n",
              "      flex-wrap:wrap;\n",
              "      gap: 12px;\n",
              "    }\n",
              "\n",
              "    .colab-df-convert {\n",
              "      background-color: #E8F0FE;\n",
              "      border: none;\n",
              "      border-radius: 50%;\n",
              "      cursor: pointer;\n",
              "      display: none;\n",
              "      fill: #1967D2;\n",
              "      height: 32px;\n",
              "      padding: 0 0 0 0;\n",
              "      width: 32px;\n",
              "    }\n",
              "\n",
              "    .colab-df-convert:hover {\n",
              "      background-color: #E2EBFA;\n",
              "      box-shadow: 0px 1px 2px rgba(60, 64, 67, 0.3), 0px 1px 3px 1px rgba(60, 64, 67, 0.15);\n",
              "      fill: #174EA6;\n",
              "    }\n",
              "\n",
              "    [theme=dark] .colab-df-convert {\n",
              "      background-color: #3B4455;\n",
              "      fill: #D2E3FC;\n",
              "    }\n",
              "\n",
              "    [theme=dark] .colab-df-convert:hover {\n",
              "      background-color: #434B5C;\n",
              "      box-shadow: 0px 1px 3px 1px rgba(0, 0, 0, 0.15);\n",
              "      filter: drop-shadow(0px 1px 2px rgba(0, 0, 0, 0.3));\n",
              "      fill: #FFFFFF;\n",
              "    }\n",
              "  </style>\n",
              "\n",
              "      <script>\n",
              "        const buttonEl =\n",
              "          document.querySelector('#df-ed2e0c14-d615-46b1-bc20-f7d5ec6d112b button.colab-df-convert');\n",
              "        buttonEl.style.display =\n",
              "          google.colab.kernel.accessAllowed ? 'block' : 'none';\n",
              "\n",
              "        async function convertToInteractive(key) {\n",
              "          const element = document.querySelector('#df-ed2e0c14-d615-46b1-bc20-f7d5ec6d112b');\n",
              "          const dataTable =\n",
              "            await google.colab.kernel.invokeFunction('convertToInteractive',\n",
              "                                                     [key], {});\n",
              "          if (!dataTable) return;\n",
              "\n",
              "          const docLinkHtml = 'Like what you see? Visit the ' +\n",
              "            '<a target=\"_blank\" href=https://colab.research.google.com/notebooks/data_table.ipynb>data table notebook</a>'\n",
              "            + ' to learn more about interactive tables.';\n",
              "          element.innerHTML = '';\n",
              "          dataTable['output_type'] = 'display_data';\n",
              "          await google.colab.output.renderOutput(dataTable, element);\n",
              "          const docLink = document.createElement('div');\n",
              "          docLink.innerHTML = docLinkHtml;\n",
              "          element.appendChild(docLink);\n",
              "        }\n",
              "      </script>\n",
              "    </div>\n",
              "  </div>\n",
              "  "
            ]
          },
          "metadata": {},
          "execution_count": 16
        }
      ]
    },
    {
      "cell_type": "markdown",
      "source": [
        "## 학습용 데이터 / 예측할 데이터 분리"
      ],
      "metadata": {
        "id": "u1xoORLnO4_5"
      }
    },
    {
      "cell_type": "markdown",
      "source": [
        "is_applied : NaN 값인 것 target으로 분리"
      ],
      "metadata": {
        "id": "ilh2tM3pJn6X"
      }
    },
    {
      "cell_type": "code",
      "source": [
        "merge_train = merge_user_loan[merge_user_loan['is_applied'].notnull()]\n",
        "merge_target = merge_user_loan[merge_user_loan['is_applied'].isnull()]\n",
        "print(f'total length : {len(merge_user_loan)}, train length : {len(merge_train)}, target length : {len(merge_target)}')"
      ],
      "metadata": {
        "colab": {
          "base_uri": "https://localhost:8080/"
        },
        "id": "T9BZgEo8Kp0O",
        "outputId": "8efeef6a-1bec-4d81-d463-e08b9676544d"
      },
      "execution_count": 17,
      "outputs": [
        {
          "output_type": "stream",
          "name": "stdout",
          "text": [
            "total length : 13527363, train length : 10270124, target length : 3257239\n"
          ]
        }
      ]
    },
    {
      "cell_type": "code",
      "source": [
        "merge_train.head()"
      ],
      "metadata": {
        "colab": {
          "base_uri": "https://localhost:8080/",
          "height": 300
        },
        "id": "IKijhxZjOtti",
        "outputId": "589e5140-4472-42c4-a2fc-6ec99c3eb75e"
      },
      "execution_count": 18,
      "outputs": [
        {
          "output_type": "execute_result",
          "data": {
            "text/plain": [
              "       application_id loanapply_insert_time  bank_id  product_id  loan_limit  \\\n",
              "13284         2157865   2022-05-09 08:44:59       54         235  20000000.0   \n",
              "13285          576643   2022-05-09 10:54:53       54         235  11000000.0   \n",
              "13286          576643   2022-05-09 10:54:53       11         118   3000000.0   \n",
              "13287         2136706   2022-05-09 10:41:06       42         216  10000000.0   \n",
              "13288         2136706   2022-05-09 10:41:07       25         169  22000000.0   \n",
              "\n",
              "       loan_rate  is_applied   user_id  birth_year  gender  ...   income_type  \\\n",
              "13284       16.5         1.0  346970.0      1970.0     1.0  ...  EARNEDINCOME   \n",
              "13285       16.5         0.0  545882.0      1977.0     1.0  ...  EARNEDINCOME   \n",
              "13286       20.0         0.0  545882.0      1977.0     1.0  ...  EARNEDINCOME   \n",
              "13287       13.5         0.0  558819.0      1983.0     1.0  ...  EARNEDINCOME   \n",
              "13288       15.9         0.0  558819.0      1983.0     1.0  ...  EARNEDINCOME   \n",
              "\n",
              "       company_enter_month  employment_type houseown_type  desired_amount  \\\n",
              "13284             201312.0              정규직            자가      10000000.0   \n",
              "13285             201908.0              정규직           전월세      20000000.0   \n",
              "13286             201908.0              정규직           전월세      20000000.0   \n",
              "13287             201203.0              정규직           전월세      80000000.0   \n",
              "13288             201203.0              정규직           전월세      80000000.0   \n",
              "\n",
              "      purpose personal_rehabilitation_yn  personal_rehabilitation_complete_yn  \\\n",
              "13284     생활비                        0.0                                  NaN   \n",
              "13285     생활비                        0.0                                  NaN   \n",
              "13286     생활비                        0.0                                  NaN   \n",
              "13287    대환대출                        0.0                                  NaN   \n",
              "13288    대환대출                        0.0                                  NaN   \n",
              "\n",
              "      existing_loan_cnt  existing_loan_amt  \n",
              "13284              12.0        162000000.0  \n",
              "13285               7.0        106000000.0  \n",
              "13286               7.0        106000000.0  \n",
              "13287               2.0         58000000.0  \n",
              "13288               2.0         58000000.0  \n",
              "\n",
              "[5 rows x 23 columns]"
            ],
            "text/html": [
              "\n",
              "  <div id=\"df-04a4a5fb-1f0d-4080-8bea-f18c2feb9bd4\">\n",
              "    <div class=\"colab-df-container\">\n",
              "      <div>\n",
              "<style scoped>\n",
              "    .dataframe tbody tr th:only-of-type {\n",
              "        vertical-align: middle;\n",
              "    }\n",
              "\n",
              "    .dataframe tbody tr th {\n",
              "        vertical-align: top;\n",
              "    }\n",
              "\n",
              "    .dataframe thead th {\n",
              "        text-align: right;\n",
              "    }\n",
              "</style>\n",
              "<table border=\"1\" class=\"dataframe\">\n",
              "  <thead>\n",
              "    <tr style=\"text-align: right;\">\n",
              "      <th></th>\n",
              "      <th>application_id</th>\n",
              "      <th>loanapply_insert_time</th>\n",
              "      <th>bank_id</th>\n",
              "      <th>product_id</th>\n",
              "      <th>loan_limit</th>\n",
              "      <th>loan_rate</th>\n",
              "      <th>is_applied</th>\n",
              "      <th>user_id</th>\n",
              "      <th>birth_year</th>\n",
              "      <th>gender</th>\n",
              "      <th>...</th>\n",
              "      <th>income_type</th>\n",
              "      <th>company_enter_month</th>\n",
              "      <th>employment_type</th>\n",
              "      <th>houseown_type</th>\n",
              "      <th>desired_amount</th>\n",
              "      <th>purpose</th>\n",
              "      <th>personal_rehabilitation_yn</th>\n",
              "      <th>personal_rehabilitation_complete_yn</th>\n",
              "      <th>existing_loan_cnt</th>\n",
              "      <th>existing_loan_amt</th>\n",
              "    </tr>\n",
              "  </thead>\n",
              "  <tbody>\n",
              "    <tr>\n",
              "      <th>13284</th>\n",
              "      <td>2157865</td>\n",
              "      <td>2022-05-09 08:44:59</td>\n",
              "      <td>54</td>\n",
              "      <td>235</td>\n",
              "      <td>20000000.0</td>\n",
              "      <td>16.5</td>\n",
              "      <td>1.0</td>\n",
              "      <td>346970.0</td>\n",
              "      <td>1970.0</td>\n",
              "      <td>1.0</td>\n",
              "      <td>...</td>\n",
              "      <td>EARNEDINCOME</td>\n",
              "      <td>201312.0</td>\n",
              "      <td>정규직</td>\n",
              "      <td>자가</td>\n",
              "      <td>10000000.0</td>\n",
              "      <td>생활비</td>\n",
              "      <td>0.0</td>\n",
              "      <td>NaN</td>\n",
              "      <td>12.0</td>\n",
              "      <td>162000000.0</td>\n",
              "    </tr>\n",
              "    <tr>\n",
              "      <th>13285</th>\n",
              "      <td>576643</td>\n",
              "      <td>2022-05-09 10:54:53</td>\n",
              "      <td>54</td>\n",
              "      <td>235</td>\n",
              "      <td>11000000.0</td>\n",
              "      <td>16.5</td>\n",
              "      <td>0.0</td>\n",
              "      <td>545882.0</td>\n",
              "      <td>1977.0</td>\n",
              "      <td>1.0</td>\n",
              "      <td>...</td>\n",
              "      <td>EARNEDINCOME</td>\n",
              "      <td>201908.0</td>\n",
              "      <td>정규직</td>\n",
              "      <td>전월세</td>\n",
              "      <td>20000000.0</td>\n",
              "      <td>생활비</td>\n",
              "      <td>0.0</td>\n",
              "      <td>NaN</td>\n",
              "      <td>7.0</td>\n",
              "      <td>106000000.0</td>\n",
              "    </tr>\n",
              "    <tr>\n",
              "      <th>13286</th>\n",
              "      <td>576643</td>\n",
              "      <td>2022-05-09 10:54:53</td>\n",
              "      <td>11</td>\n",
              "      <td>118</td>\n",
              "      <td>3000000.0</td>\n",
              "      <td>20.0</td>\n",
              "      <td>0.0</td>\n",
              "      <td>545882.0</td>\n",
              "      <td>1977.0</td>\n",
              "      <td>1.0</td>\n",
              "      <td>...</td>\n",
              "      <td>EARNEDINCOME</td>\n",
              "      <td>201908.0</td>\n",
              "      <td>정규직</td>\n",
              "      <td>전월세</td>\n",
              "      <td>20000000.0</td>\n",
              "      <td>생활비</td>\n",
              "      <td>0.0</td>\n",
              "      <td>NaN</td>\n",
              "      <td>7.0</td>\n",
              "      <td>106000000.0</td>\n",
              "    </tr>\n",
              "    <tr>\n",
              "      <th>13287</th>\n",
              "      <td>2136706</td>\n",
              "      <td>2022-05-09 10:41:06</td>\n",
              "      <td>42</td>\n",
              "      <td>216</td>\n",
              "      <td>10000000.0</td>\n",
              "      <td>13.5</td>\n",
              "      <td>0.0</td>\n",
              "      <td>558819.0</td>\n",
              "      <td>1983.0</td>\n",
              "      <td>1.0</td>\n",
              "      <td>...</td>\n",
              "      <td>EARNEDINCOME</td>\n",
              "      <td>201203.0</td>\n",
              "      <td>정규직</td>\n",
              "      <td>전월세</td>\n",
              "      <td>80000000.0</td>\n",
              "      <td>대환대출</td>\n",
              "      <td>0.0</td>\n",
              "      <td>NaN</td>\n",
              "      <td>2.0</td>\n",
              "      <td>58000000.0</td>\n",
              "    </tr>\n",
              "    <tr>\n",
              "      <th>13288</th>\n",
              "      <td>2136706</td>\n",
              "      <td>2022-05-09 10:41:07</td>\n",
              "      <td>25</td>\n",
              "      <td>169</td>\n",
              "      <td>22000000.0</td>\n",
              "      <td>15.9</td>\n",
              "      <td>0.0</td>\n",
              "      <td>558819.0</td>\n",
              "      <td>1983.0</td>\n",
              "      <td>1.0</td>\n",
              "      <td>...</td>\n",
              "      <td>EARNEDINCOME</td>\n",
              "      <td>201203.0</td>\n",
              "      <td>정규직</td>\n",
              "      <td>전월세</td>\n",
              "      <td>80000000.0</td>\n",
              "      <td>대환대출</td>\n",
              "      <td>0.0</td>\n",
              "      <td>NaN</td>\n",
              "      <td>2.0</td>\n",
              "      <td>58000000.0</td>\n",
              "    </tr>\n",
              "  </tbody>\n",
              "</table>\n",
              "<p>5 rows × 23 columns</p>\n",
              "</div>\n",
              "      <button class=\"colab-df-convert\" onclick=\"convertToInteractive('df-04a4a5fb-1f0d-4080-8bea-f18c2feb9bd4')\"\n",
              "              title=\"Convert this dataframe to an interactive table.\"\n",
              "              style=\"display:none;\">\n",
              "        \n",
              "  <svg xmlns=\"http://www.w3.org/2000/svg\" height=\"24px\"viewBox=\"0 0 24 24\"\n",
              "       width=\"24px\">\n",
              "    <path d=\"M0 0h24v24H0V0z\" fill=\"none\"/>\n",
              "    <path d=\"M18.56 5.44l.94 2.06.94-2.06 2.06-.94-2.06-.94-.94-2.06-.94 2.06-2.06.94zm-11 1L8.5 8.5l.94-2.06 2.06-.94-2.06-.94L8.5 2.5l-.94 2.06-2.06.94zm10 10l.94 2.06.94-2.06 2.06-.94-2.06-.94-.94-2.06-.94 2.06-2.06.94z\"/><path d=\"M17.41 7.96l-1.37-1.37c-.4-.4-.92-.59-1.43-.59-.52 0-1.04.2-1.43.59L10.3 9.45l-7.72 7.72c-.78.78-.78 2.05 0 2.83L4 21.41c.39.39.9.59 1.41.59.51 0 1.02-.2 1.41-.59l7.78-7.78 2.81-2.81c.8-.78.8-2.07 0-2.86zM5.41 20L4 18.59l7.72-7.72 1.47 1.35L5.41 20z\"/>\n",
              "  </svg>\n",
              "      </button>\n",
              "      \n",
              "  <style>\n",
              "    .colab-df-container {\n",
              "      display:flex;\n",
              "      flex-wrap:wrap;\n",
              "      gap: 12px;\n",
              "    }\n",
              "\n",
              "    .colab-df-convert {\n",
              "      background-color: #E8F0FE;\n",
              "      border: none;\n",
              "      border-radius: 50%;\n",
              "      cursor: pointer;\n",
              "      display: none;\n",
              "      fill: #1967D2;\n",
              "      height: 32px;\n",
              "      padding: 0 0 0 0;\n",
              "      width: 32px;\n",
              "    }\n",
              "\n",
              "    .colab-df-convert:hover {\n",
              "      background-color: #E2EBFA;\n",
              "      box-shadow: 0px 1px 2px rgba(60, 64, 67, 0.3), 0px 1px 3px 1px rgba(60, 64, 67, 0.15);\n",
              "      fill: #174EA6;\n",
              "    }\n",
              "\n",
              "    [theme=dark] .colab-df-convert {\n",
              "      background-color: #3B4455;\n",
              "      fill: #D2E3FC;\n",
              "    }\n",
              "\n",
              "    [theme=dark] .colab-df-convert:hover {\n",
              "      background-color: #434B5C;\n",
              "      box-shadow: 0px 1px 3px 1px rgba(0, 0, 0, 0.15);\n",
              "      filter: drop-shadow(0px 1px 2px rgba(0, 0, 0, 0.3));\n",
              "      fill: #FFFFFF;\n",
              "    }\n",
              "  </style>\n",
              "\n",
              "      <script>\n",
              "        const buttonEl =\n",
              "          document.querySelector('#df-04a4a5fb-1f0d-4080-8bea-f18c2feb9bd4 button.colab-df-convert');\n",
              "        buttonEl.style.display =\n",
              "          google.colab.kernel.accessAllowed ? 'block' : 'none';\n",
              "\n",
              "        async function convertToInteractive(key) {\n",
              "          const element = document.querySelector('#df-04a4a5fb-1f0d-4080-8bea-f18c2feb9bd4');\n",
              "          const dataTable =\n",
              "            await google.colab.kernel.invokeFunction('convertToInteractive',\n",
              "                                                     [key], {});\n",
              "          if (!dataTable) return;\n",
              "\n",
              "          const docLinkHtml = 'Like what you see? Visit the ' +\n",
              "            '<a target=\"_blank\" href=https://colab.research.google.com/notebooks/data_table.ipynb>data table notebook</a>'\n",
              "            + ' to learn more about interactive tables.';\n",
              "          element.innerHTML = '';\n",
              "          dataTable['output_type'] = 'display_data';\n",
              "          await google.colab.output.renderOutput(dataTable, element);\n",
              "          const docLink = document.createElement('div');\n",
              "          docLink.innerHTML = docLinkHtml;\n",
              "          element.appendChild(docLink);\n",
              "        }\n",
              "      </script>\n",
              "    </div>\n",
              "  </div>\n",
              "  "
            ]
          },
          "metadata": {},
          "execution_count": 18
        }
      ]
    },
    {
      "cell_type": "markdown",
      "source": [
        "## EDA"
      ],
      "metadata": {
        "id": "6-JovfoYVC9n"
      }
    },
    {
      "cell_type": "markdown",
      "source": [
        "### 전체 통계치 확인"
      ],
      "metadata": {
        "id": "NowNGP4g08hX"
      }
    },
    {
      "cell_type": "code",
      "source": [
        "merge_train.info()"
      ],
      "metadata": {
        "colab": {
          "base_uri": "https://localhost:8080/"
        },
        "id": "d9aspGTX1LTa",
        "outputId": "f639e919-57f5-4d95-9a62-e0e1855c8bf9"
      },
      "execution_count": 19,
      "outputs": [
        {
          "output_type": "stream",
          "name": "stdout",
          "text": [
            "<class 'pandas.core.frame.DataFrame'>\n",
            "Int64Index: 10270124 entries, 13284 to 13519638\n",
            "Data columns (total 23 columns):\n",
            " #   Column                               Dtype  \n",
            "---  ------                               -----  \n",
            " 0   application_id                       int64  \n",
            " 1   loanapply_insert_time                object \n",
            " 2   bank_id                              int64  \n",
            " 3   product_id                           int64  \n",
            " 4   loan_limit                           float64\n",
            " 5   loan_rate                            float64\n",
            " 6   is_applied                           float64\n",
            " 7   user_id                              float64\n",
            " 8   birth_year                           float64\n",
            " 9   gender                               float64\n",
            " 10  insert_time                          object \n",
            " 11  credit_score                         float64\n",
            " 12  yearly_income                        float64\n",
            " 13  income_type                          object \n",
            " 14  company_enter_month                  float64\n",
            " 15  employment_type                      object \n",
            " 16  houseown_type                        object \n",
            " 17  desired_amount                       float64\n",
            " 18  purpose                              object \n",
            " 19  personal_rehabilitation_yn           float64\n",
            " 20  personal_rehabilitation_complete_yn  float64\n",
            " 21  existing_loan_cnt                    float64\n",
            " 22  existing_loan_amt                    float64\n",
            "dtypes: float64(14), int64(3), object(6)\n",
            "memory usage: 1.8+ GB\n"
          ]
        }
      ]
    },
    {
      "cell_type": "code",
      "source": [
        "merge_train.isnull().sum()"
      ],
      "metadata": {
        "colab": {
          "base_uri": "https://localhost:8080/"
        },
        "id": "Of29O_2B2XK9",
        "outputId": "b712b6da-987e-4cb4-f5f3-5dbba75ee38c"
      },
      "execution_count": 20,
      "outputs": [
        {
          "output_type": "execute_result",
          "data": {
            "text/plain": [
              "application_id                               0\n",
              "loanapply_insert_time                        0\n",
              "bank_id                                      0\n",
              "product_id                                   0\n",
              "loan_limit                                5738\n",
              "loan_rate                                 5738\n",
              "is_applied                                   0\n",
              "user_id                                    113\n",
              "birth_year                               91739\n",
              "gender                                   91739\n",
              "insert_time                                113\n",
              "credit_score                           1243925\n",
              "yearly_income                              113\n",
              "income_type                                113\n",
              "company_enter_month                     303681\n",
              "employment_type                            113\n",
              "houseown_type                              113\n",
              "desired_amount                             113\n",
              "purpose                                    113\n",
              "personal_rehabilitation_yn             5873342\n",
              "personal_rehabilitation_complete_yn    9232345\n",
              "existing_loan_cnt                      2143924\n",
              "existing_loan_amt                      3044253\n",
              "dtype: int64"
            ]
          },
          "metadata": {},
          "execution_count": 20
        }
      ]
    },
    {
      "cell_type": "code",
      "source": [
        "merge_target.isnull().sum()"
      ],
      "metadata": {
        "colab": {
          "base_uri": "https://localhost:8080/"
        },
        "id": "I7VgMQa3Pr5x",
        "outputId": "0cd677ca-bd39-4814-b6d7-691a7436fd32"
      },
      "execution_count": 21,
      "outputs": [
        {
          "output_type": "execute_result",
          "data": {
            "text/plain": [
              "application_id                               0\n",
              "loanapply_insert_time                        0\n",
              "bank_id                                      0\n",
              "product_id                                   0\n",
              "loan_limit                                1757\n",
              "loan_rate                                 1757\n",
              "is_applied                             3257239\n",
              "user_id                                      0\n",
              "birth_year                               36470\n",
              "gender                                   36470\n",
              "insert_time                                  0\n",
              "credit_score                            265464\n",
              "yearly_income                                6\n",
              "income_type                                  0\n",
              "company_enter_month                      96769\n",
              "employment_type                              0\n",
              "houseown_type                                0\n",
              "desired_amount                               0\n",
              "purpose                                      0\n",
              "personal_rehabilitation_yn               15472\n",
              "personal_rehabilitation_complete_yn    2561745\n",
              "existing_loan_cnt                       541898\n",
              "existing_loan_amt                       846023\n",
              "dtype: int64"
            ]
          },
          "metadata": {},
          "execution_count": 21
        }
      ]
    },
    {
      "cell_type": "markdown",
      "source": [
        "* train에서 data 결측치 있지만 target data에서는 모든 데이터 존재하는 column\n",
        "\n",
        "   user_id, insert_time, income_type, employment_type, houseown_type, desired_amount, purpose\n",
        "\n",
        "> 학습에서만 결측치 채우면 될듯\n",
        "\n"
      ],
      "metadata": {
        "id": "SgNqJ0TZQAsQ"
      }
    },
    {
      "cell_type": "markdown",
      "source": [
        "* 결측치 filling 방법에 대해 생각해봐야 할 column\n",
        "  *   loan_rate : 승인한도\n",
        "  *   credit_score : 신용점수\n",
        "  *   yearly_income : 연소득\n",
        "  *   company_enter_month : 입사연월\n",
        "  *   personal_rehabilitation_yn : 개인회생자여부\n",
        "  *   personal_rehabilitation_complete_yn : 개인회생자납입완료여부\n",
        "  *   existing_loan_cnt : 기대출수\n",
        "  *   existing_loan_amt : 기대출금액\n"
      ],
      "metadata": {
        "id": "OHA5mBw2QlMh"
      }
    },
    {
      "cell_type": "code",
      "source": [
        "merge_train.info()"
      ],
      "metadata": {
        "colab": {
          "base_uri": "https://localhost:8080/"
        },
        "id": "v-O3XqRlPTPI",
        "outputId": "fe738178-2258-45ca-ea62-7e380a12e382"
      },
      "execution_count": 22,
      "outputs": [
        {
          "output_type": "stream",
          "name": "stdout",
          "text": [
            "<class 'pandas.core.frame.DataFrame'>\n",
            "Int64Index: 10270124 entries, 13284 to 13519638\n",
            "Data columns (total 23 columns):\n",
            " #   Column                               Dtype  \n",
            "---  ------                               -----  \n",
            " 0   application_id                       int64  \n",
            " 1   loanapply_insert_time                object \n",
            " 2   bank_id                              int64  \n",
            " 3   product_id                           int64  \n",
            " 4   loan_limit                           float64\n",
            " 5   loan_rate                            float64\n",
            " 6   is_applied                           float64\n",
            " 7   user_id                              float64\n",
            " 8   birth_year                           float64\n",
            " 9   gender                               float64\n",
            " 10  insert_time                          object \n",
            " 11  credit_score                         float64\n",
            " 12  yearly_income                        float64\n",
            " 13  income_type                          object \n",
            " 14  company_enter_month                  float64\n",
            " 15  employment_type                      object \n",
            " 16  houseown_type                        object \n",
            " 17  desired_amount                       float64\n",
            " 18  purpose                              object \n",
            " 19  personal_rehabilitation_yn           float64\n",
            " 20  personal_rehabilitation_complete_yn  float64\n",
            " 21  existing_loan_cnt                    float64\n",
            " 22  existing_loan_amt                    float64\n",
            "dtypes: float64(14), int64(3), object(6)\n",
            "memory usage: 1.8+ GB\n"
          ]
        }
      ]
    },
    {
      "cell_type": "code",
      "source": [
        "list(merge_train.columns)"
      ],
      "metadata": {
        "colab": {
          "base_uri": "https://localhost:8080/"
        },
        "id": "LkEb5HzoceVy",
        "outputId": "7ea49560-75d4-4203-d91d-47f420d236c5"
      },
      "execution_count": 23,
      "outputs": [
        {
          "output_type": "execute_result",
          "data": {
            "text/plain": [
              "['application_id',\n",
              " 'loanapply_insert_time',\n",
              " 'bank_id',\n",
              " 'product_id',\n",
              " 'loan_limit',\n",
              " 'loan_rate',\n",
              " 'is_applied',\n",
              " 'user_id',\n",
              " 'birth_year',\n",
              " 'gender',\n",
              " 'insert_time',\n",
              " 'credit_score',\n",
              " 'yearly_income',\n",
              " 'income_type',\n",
              " 'company_enter_month',\n",
              " 'employment_type',\n",
              " 'houseown_type',\n",
              " 'desired_amount',\n",
              " 'purpose',\n",
              " 'personal_rehabilitation_yn',\n",
              " 'personal_rehabilitation_complete_yn',\n",
              " 'existing_loan_cnt',\n",
              " 'existing_loan_amt']"
            ]
          },
          "metadata": {},
          "execution_count": 23
        }
      ]
    },
    {
      "cell_type": "code",
      "source": [
        "id_col = ['application_id', 'user_id', 'product_id', 'bank_id']\n",
        "time_col = ['loanapply_insert_time', 'insert_time']\n",
        "cat_col = ['income_type', 'employment_type', 'houseown_type', 'purpose', 'gender', 'personal_rehabilitation_complete_yn', 'personal_rehabilitation_yn']\n",
        "y_col = ['is_applied']\n",
        "\n",
        "num_col = list(set(merge_train.columns) -set(id_col) - set(time_col) - set(cat_col) - set(y_col))\n",
        "num_col"
      ],
      "metadata": {
        "id": "Dn7JNsyu5Lbk",
        "colab": {
          "base_uri": "https://localhost:8080/"
        },
        "outputId": "ddd97d90-3af7-430e-a379-a3329e4b27b3"
      },
      "execution_count": 24,
      "outputs": [
        {
          "output_type": "execute_result",
          "data": {
            "text/plain": [
              "['yearly_income',\n",
              " 'company_enter_month',\n",
              " 'credit_score',\n",
              " 'existing_loan_cnt',\n",
              " 'loan_rate',\n",
              " 'existing_loan_amt',\n",
              " 'loan_limit',\n",
              " 'desired_amount']"
            ]
          },
          "metadata": {},
          "execution_count": 24
        }
      ]
    },
    {
      "cell_type": "markdown",
      "source": [
        "### 이산형 / 카테고리형 데이터 분포"
      ],
      "metadata": {
        "id": "UAf9iYMwzeJr"
      }
    },
    {
      "cell_type": "markdown",
      "source": [
        "변수별 개수, 고윳값부터 확인"
      ],
      "metadata": {
        "id": "RIt24O4YKTrh"
      }
    },
    {
      "cell_type": "code",
      "source": [
        "for col in cat_col:\n",
        "  print(\"### \" + col + \" value counts ###\")\n",
        "  print(merge_train[cat_col].value_counts())"
      ],
      "metadata": {
        "colab": {
          "base_uri": "https://localhost:8080/"
        },
        "id": "a_fze-R85V-X",
        "outputId": "33cef171-3303-4b9e-ea32-a83dfaff6e39"
      },
      "execution_count": 27,
      "outputs": [
        {
          "output_type": "stream",
          "name": "stdout",
          "text": [
            "### income_type value counts ###\n",
            "EARNEDINCOME       8715709\n",
            "EARNEDINCOME2       471749\n",
            "PRIVATEBUSINESS     372048\n",
            "OTHERINCOME         305780\n",
            "FREELANCER          247968\n",
            "PRACTITIONER        156757\n",
            "Name: income_type, dtype: int64\n",
            "### employment_type value counts ###\n",
            "정규직    8398785\n",
            "계약직     903218\n",
            "기타      829518\n",
            "일용직     138490\n",
            "Name: employment_type, dtype: int64\n",
            "### houseown_type value counts ###\n",
            "전월세       4594255\n",
            "자가        2876280\n",
            "기타가족소유    2787211\n",
            "배우자         12265\n",
            "Name: houseown_type, dtype: int64\n",
            "### purpose value counts ###\n",
            "생활비             5156402\n",
            "대환대출            3066047\n",
            "주택구입             433081\n",
            "전월세보증금           426639\n",
            "사업자금             418196\n",
            "기타               303879\n",
            "투자               219684\n",
            "LIVING           107532\n",
            "자동차구입             55759\n",
            "SWITCHLOAN        33615\n",
            "HOUSEDEPOSIT      15912\n",
            "BUYHOUSE          10989\n",
            "BUSINESS           8513\n",
            "ETC                7374\n",
            "INVEST             3634\n",
            "BUYCAR             2755\n",
            "Name: purpose, dtype: int64\n",
            "### gender value counts ###\n",
            "1.0    7060343\n",
            "0.0    3118042\n",
            "Name: gender, dtype: int64\n",
            "### birth_year value counts ###\n",
            "1982.0    417458\n",
            "1991.0    414809\n",
            "1992.0    400557\n",
            "1983.0    397164\n",
            "1981.0    390329\n",
            "           ...  \n",
            "1935.0        65\n",
            "1932.0        49\n",
            "1934.0        29\n",
            "1933.0        11\n",
            "1930.0         1\n",
            "Name: birth_year, Length: 73, dtype: int64\n",
            "### personal_rehabilitation_complete_yn value counts ###\n",
            "0.0    1033663\n",
            "1.0       4116\n",
            "Name: personal_rehabilitation_complete_yn, dtype: int64\n",
            "### personal_rehabilitation_yn value counts ###\n",
            "0.0    4373731\n",
            "1.0      23051\n",
            "Name: personal_rehabilitation_yn, dtype: int64\n"
          ]
        }
      ]
    },
    {
      "cell_type": "markdown",
      "source": [
        "* purpose value 에서 다음과 같이 영문/한글명이 혼재되어있음을 확인했다.\n",
        "\n",
        "\n",
        "생활비             5156402\n",
        "대환대출            3066047\n",
        "주택구입             433081\n",
        "전월세보증금           426639\n",
        "사업자금             418196\n",
        "기타               303879\n",
        "투자               219684\n",
        "LIVING           107532\n",
        "자동차구입             55759\n",
        "SWITCHLOAN        33615\n",
        "HOUSEDEPOSIT      15912\n",
        "BUYHOUSE          10989\n",
        "BUSINESS           8513\n",
        "ETC                7374\n",
        "INVEST             3634\n",
        "BUYCAR             2755"
      ],
      "metadata": {
        "id": "zgP3vfL5hS1H"
      }
    },
    {
      "cell_type": "markdown",
      "source": [
        "#### 한글 value 영문으로 변환"
      ],
      "metadata": {
        "id": "Ca7Ubc1xi4rQ"
      }
    },
    {
      "cell_type": "code",
      "source": [
        "# korean value to english\n",
        "def kor_to_eng(df):\n",
        "\n",
        "  df2 = df.copy()\n",
        "  df2.replace({'employment_type':'정규직'}, 'PERMANENT', inplace=True)\n",
        "  df2.replace({'employment_type':'계약직'}, 'CONTRACT', inplace=True)\n",
        "  df2.replace({'employment_type':'일용직'}, 'DAYJOB', inplace=True)\n",
        "  df2.replace({'employment_type':'기타'}, 'ETC', inplace=True)\n",
        "\n",
        "  df2.replace({'houseown_type':'전월세'}, 'RENT', inplace=True)\n",
        "  df2.replace({'houseown_type':'자가'}, 'OWN', inplace=True)\n",
        "  df2.replace({'houseown_type':'기타가족소유'}, 'FAMILY_ETC', inplace=True)\n",
        "  df2.replace({'houseown_type':'배우자'}, 'SPOUSE', inplace=True)\n",
        "\n",
        "  df2.replace({'purpose':'생활비'}, 'LIVING', inplace=True)\n",
        "  df2.replace({'purpose':'대환대출'}, 'SWITCHLOAN', inplace=True)\n",
        "  df2.replace({'purpose':'주택구입'}, 'BUYHOUSE', inplace=True)\n",
        "  df2.replace({'purpose':'전월세보증금'}, 'HOUSEDEPOSIT', inplace=True)\n",
        "  df2.replace({'purpose':'사업자금'}, 'BUSINESS', inplace=True)\n",
        "  df2.replace({'purpose':'기타'}, 'ETC', inplace=True)\n",
        "  df2.replace({'purpose':'투자'}, 'INVEST', inplace=True)\n",
        "  df2.replace({'purpose':'자동차구입'}, 'BUYCAR', inplace=True)\n",
        "\n",
        "  return df2"
      ],
      "metadata": {
        "id": "qdNd2xxifTz5"
      },
      "execution_count": 38,
      "outputs": []
    },
    {
      "cell_type": "code",
      "source": [
        "merge_train = kor_to_eng(merge_train)\n",
        "merge_target = kor_to_eng(merge_target)"
      ],
      "metadata": {
        "id": "PcozOTu6ifxn"
      },
      "execution_count": 39,
      "outputs": []
    },
    {
      "cell_type": "code",
      "source": [
        "for col in cat_col:\n",
        "  print(\"### \" + col + \" value counts ###\")\n",
        "  print(merge_train[col].value_counts())"
      ],
      "metadata": {
        "colab": {
          "base_uri": "https://localhost:8080/"
        },
        "id": "1TjgyQUAi905",
        "outputId": "9fdd7186-6063-4856-e2ef-3ae0b84f7092"
      },
      "execution_count": 40,
      "outputs": [
        {
          "output_type": "stream",
          "name": "stdout",
          "text": [
            "### income_type value counts ###\n",
            "EARNEDINCOME       8715709\n",
            "EARNEDINCOME2       471749\n",
            "PRIVATEBUSINESS     372048\n",
            "OTHERINCOME         305780\n",
            "FREELANCER          247968\n",
            "PRACTITIONER        156757\n",
            "Name: income_type, dtype: int64\n",
            "### employment_type value counts ###\n",
            "PERMANENT    8398785\n",
            "CONTRACT      903218\n",
            "ETC           829518\n",
            "DAYJOB        138490\n",
            "Name: employment_type, dtype: int64\n",
            "### houseown_type value counts ###\n",
            "RENT          4594255\n",
            "OWN           2876280\n",
            "FAMILY_ETC    2787211\n",
            "SPOUSE          12265\n",
            "Name: houseown_type, dtype: int64\n",
            "### purpose value counts ###\n",
            "LIVING          5263934\n",
            "SWITCHLOAN      3099662\n",
            "BUYHOUSE         444070\n",
            "HOUSEDEPOSIT     442551\n",
            "BUSINESS         426709\n",
            "ETC              311253\n",
            "INVEST           223318\n",
            "BUYCAR            58514\n",
            "Name: purpose, dtype: int64\n",
            "### gender value counts ###\n",
            "1.0    7060343\n",
            "0.0    3118042\n",
            "Name: gender, dtype: int64\n",
            "### birth_year value counts ###\n",
            "1982.0    417458\n",
            "1991.0    414809\n",
            "1992.0    400557\n",
            "1983.0    397164\n",
            "1981.0    390329\n",
            "           ...  \n",
            "1935.0        65\n",
            "1932.0        49\n",
            "1934.0        29\n",
            "1933.0        11\n",
            "1930.0         1\n",
            "Name: birth_year, Length: 73, dtype: int64\n",
            "### personal_rehabilitation_complete_yn value counts ###\n",
            "0.0    1033663\n",
            "1.0       4116\n",
            "Name: personal_rehabilitation_complete_yn, dtype: int64\n",
            "### personal_rehabilitation_yn value counts ###\n",
            "0.0    4373731\n",
            "1.0      23051\n",
            "Name: personal_rehabilitation_yn, dtype: int64\n"
          ]
        }
      ]
    },
    {
      "cell_type": "code",
      "source": [
        "for col in cat_col:\n",
        "  print(\"### \" + col + \" value counts ###\")\n",
        "  print(merge_target[col].value_counts())"
      ],
      "metadata": {
        "colab": {
          "base_uri": "https://localhost:8080/"
        },
        "id": "-ocwyhLmkPNF",
        "outputId": "171df469-56f8-4ec5-8078-aff0c54e2d01"
      },
      "execution_count": 41,
      "outputs": [
        {
          "output_type": "stream",
          "name": "stdout",
          "text": [
            "### income_type value counts ###\n",
            "EARNEDINCOME       2751536\n",
            "PRACTITIONER        128624\n",
            "PRIVATEBUSINESS     122189\n",
            "OTHERINCOME          97070\n",
            "EARNEDINCOME2        92853\n",
            "FREELANCER           64967\n",
            "Name: income_type, dtype: int64\n",
            "### employment_type value counts ###\n",
            "PERMANENT    2667082\n",
            "CONTRACT      287842\n",
            "ETC           268716\n",
            "DAYJOB         33599\n",
            "Name: employment_type, dtype: int64\n",
            "### houseown_type value counts ###\n",
            "RENT          1430027\n",
            "OWN            940986\n",
            "FAMILY_ETC     885689\n",
            "SPOUSE            537\n",
            "Name: houseown_type, dtype: int64\n",
            "### purpose value counts ###\n",
            "LIVING          1672304\n",
            "SWITCHLOAN      1007315\n",
            "HOUSEDEPOSIT     142645\n",
            "BUYHOUSE         136598\n",
            "BUSINESS         133374\n",
            "ETC               96205\n",
            "INVEST            65986\n",
            "BUYCAR             2812\n",
            "Name: purpose, dtype: int64\n",
            "### gender value counts ###\n",
            "1.0    2225869\n",
            "0.0     994900\n",
            "Name: gender, dtype: int64\n",
            "### birth_year value counts ###\n",
            "1982.0    134601\n",
            "1992.0    128706\n",
            "1991.0    128389\n",
            "1990.0    125556\n",
            "1983.0    125323\n",
            "           ...  \n",
            "1937.0        39\n",
            "1934.0        32\n",
            "1938.0        26\n",
            "1933.0         6\n",
            "1931.0         1\n",
            "Name: birth_year, Length: 72, dtype: int64\n",
            "### personal_rehabilitation_complete_yn value counts ###\n",
            "0.0    692959\n",
            "1.0      2535\n",
            "Name: personal_rehabilitation_complete_yn, dtype: int64\n",
            "### personal_rehabilitation_yn value counts ###\n",
            "0.0    3223592\n",
            "1.0      18175\n",
            "Name: personal_rehabilitation_yn, dtype: int64\n"
          ]
        }
      ]
    },
    {
      "cell_type": "markdown",
      "source": [
        "#### [시각화, countplot] 카테고리형 분포 "
      ],
      "metadata": {
        "id": "_Ql3BINMkV69"
      }
    },
    {
      "cell_type": "code",
      "source": [
        "# histogram plotting\n",
        "%matplotlib inline\n",
        "import matplotlib.pyplot as plt\n",
        "import seaborn as sns\n",
        "\n",
        "# 드라이브에 이미지 파일 저장\n",
        "def save_fig(fig_id, tight_layout=True, fig_extension=\"png\", resolution=300):\n",
        "  path = os.path.join(IMAGE_PATH, fig_id + \".\" + fig_extension)\n",
        "  print(path)\n",
        "  print(\"그림 저장 : \", fig_id)\n",
        "  if tight_layout:\n",
        "    plt.tight_layout()\n",
        "  plt.savefig(path, format=fig_extension, dpi=resolution)\n",
        "\n",
        "# plot size = (m,n) 튜플 형태로 입력\n",
        "# col_list = 해당 데이터프레임에서 count plot으로 출력할 column들의 string list\n",
        "def count_plot(figsize, plotnum, data, col_list, title):\n",
        "  fig = plt.figure(figsize=figsize)\n",
        "  r, c = plotnum\n",
        "  fig_num = r*c\n",
        "\n",
        "  for idx in range(1,fig_num+1):\n",
        "    col = col_list[idx-1]\n",
        "    ax = fig.add_subplot(r,c,idx)\n",
        "    ax = sns.countplot(data=data[col], x=data[col].values)\n",
        "    ax.set_title(col)\n",
        "\n",
        "  plt.title(title)\n",
        "  save_fig(title)\n",
        "  plt.show()"
      ],
      "metadata": {
        "id": "6-DeWClvYwAT"
      },
      "execution_count": 43,
      "outputs": []
    },
    {
      "cell_type": "code",
      "source": [
        "count_plot(figsize=(20,15), plotnum=(4,2), data=merge_train, col_list=cat_col, title=\"categorical value countplot\")"
      ],
      "metadata": {
        "colab": {
          "base_uri": "https://localhost:8080/",
          "height": 681
        },
        "id": "r2QZb8Isa1pR",
        "outputId": "6aba280f-8323-4ef4-b895-e5eb6cd797c2"
      },
      "execution_count": 44,
      "outputs": [
        {
          "output_type": "stream",
          "name": "stdout",
          "text": [
            "/content/gdrive/My Drive/빅콘테스트_2022/img/categorical value countplot.png\n",
            "그림 저장 :  categorical value countplot\n"
          ]
        },
        {
          "output_type": "display_data",
          "data": {
            "text/plain": [
              "<Figure size 1440x1080 with 8 Axes>"
            ],
            "image/png": "[encoded data removed]"
          },
          "metadata": {
            "needs_background": "light"
          }
        }
      ]
    },
    {
      "cell_type": "markdown",
      "source": [
        "#### [시각화, countplot] 타깃 분포"
      ],
      "metadata": {
        "id": "i5oFHOrMlMRB"
      }
    },
    {
      "cell_type": "code",
      "source": [
        "count_plot(figsize=(15,10), plotnum=(1,1), data=merge_train, col_list=y_col, title=\"target value countplot\")"
      ],
      "metadata": {
        "colab": {
          "base_uri": "https://localhost:8080/",
          "height": 786
        },
        "id": "6NuijMCllCIB",
        "outputId": "922a082e-d76b-4690-c840-fa641d598463"
      },
      "execution_count": 47,
      "outputs": [
        {
          "output_type": "stream",
          "name": "stdout",
          "text": [
            "/content/gdrive/My Drive/빅콘테스트_2022/img/target value countplot.png\n",
            "그림 저장 :  target value countplot\n"
          ]
        },
        {
          "output_type": "display_data",
          "data": {
            "text/plain": [
              "<Figure size 1080x720 with 1 Axes>"
            ],
            "image/png": "[encoded data removed]"
          },
          "metadata": {
            "needs_background": "light"
          }
        }
      ]
    },
    {
      "cell_type": "markdown",
      "source": [
        "타깃이 심각하게 불균형. 오버샘플링 등의 추가적인 기법 활용 필요"
      ],
      "metadata": {
        "id": "c7uCdYnMlS83"
      }
    },
    {
      "cell_type": "markdown",
      "source": [
        "### 수치형 데이터 분포"
      ],
      "metadata": {
        "id": "ty1rPTuXzXxB"
      }
    },
    {
      "cell_type": "markdown",
      "source": [
        "#### 통계"
      ],
      "metadata": {
        "id": "dsc1UwV7mqA3"
      }
    },
    {
      "cell_type": "code",
      "source": [
        "merge_train[num_col].describe()"
      ],
      "metadata": {
        "colab": {
          "base_uri": "https://localhost:8080/",
          "height": 364
        },
        "id": "Ns1B6QLa5TEu",
        "outputId": "5b884c9d-19c7-4508-9dd8-9c59a3340ce4"
      },
      "execution_count": 45,
      "outputs": [
        {
          "output_type": "execute_result",
          "data": {
            "text/plain": [
              "       yearly_income  company_enter_month  credit_score  existing_loan_cnt  \\\n",
              "count   1.027001e+07         9.966443e+06  9.026199e+06       8.126200e+06   \n",
              "mean    4.791943e+07         2.017741e+05  7.500421e+02       3.645592e+00   \n",
              "std     1.318759e+08         5.427454e+02  1.274872e+02       3.145768e+00   \n",
              "min     0.000000e+00         1.911090e+05  1.000000e+02       1.000000e+00   \n",
              "25%     2.900000e+07         2.017010e+05  6.500000e+02       1.000000e+00   \n",
              "50%     3.600000e+07         2.020030e+05  7.300000e+02       3.000000e+00   \n",
              "75%     5.000000e+07         2.021070e+05  8.600000e+02       5.000000e+00   \n",
              "max     1.000000e+10         2.022110e+05  1.000000e+03       1.780000e+02   \n",
              "\n",
              "          loan_rate  existing_loan_amt    loan_limit  desired_amount  \n",
              "count  1.026439e+07       7.225871e+06  1.026439e+07    1.027001e+07  \n",
              "mean   1.276589e+01       8.167405e+07  2.260828e+07    5.159147e+07  \n",
              "std    3.886452e+00       9.824103e+07  2.230741e+07    2.323399e+08  \n",
              "min    1.500000e+00       0.000000e+00  0.000000e+00    0.000000e+00  \n",
              "25%    9.500000e+00       2.500000e+07  9.000000e+06    1.000000e+07  \n",
              "50%    1.320000e+01       4.900000e+07  1.800000e+07    2.800000e+07  \n",
              "75%    1.580000e+01       9.600000e+07  3.300000e+07    5.000000e+07  \n",
              "max    2.000000e+01       7.512000e+09  1.000000e+10    1.000000e+10  "
            ],
            "text/html": [
              "\n",
              "  <div id=\"df-7ed7a0f8-2f01-44b5-8f84-f5e1dea3b5ea\">\n",
              "    <div class=\"colab-df-container\">\n",
              "      <div>\n",
              "<style scoped>\n",
              "    .dataframe tbody tr th:only-of-type {\n",
              "        vertical-align: middle;\n",
              "    }\n",
              "\n",
              "    .dataframe tbody tr th {\n",
              "        vertical-align: top;\n",
              "    }\n",
              "\n",
              "    .dataframe thead th {\n",
              "        text-align: right;\n",
              "    }\n",
              "</style>\n",
              "<table border=\"1\" class=\"dataframe\">\n",
              "  <thead>\n",
              "    <tr style=\"text-align: right;\">\n",
              "      <th></th>\n",
              "      <th>yearly_income</th>\n",
              "      <th>company_enter_month</th>\n",
              "      <th>credit_score</th>\n",
              "      <th>existing_loan_cnt</th>\n",
              "      <th>loan_rate</th>\n",
              "      <th>existing_loan_amt</th>\n",
              "      <th>loan_limit</th>\n",
              "      <th>desired_amount</th>\n",
              "    </tr>\n",
              "  </thead>\n",
              "  <tbody>\n",
              "    <tr>\n",
              "      <th>count</th>\n",
              "      <td>1.027001e+07</td>\n",
              "      <td>9.966443e+06</td>\n",
              "      <td>9.026199e+06</td>\n",
              "      <td>8.126200e+06</td>\n",
              "      <td>1.026439e+07</td>\n",
              "      <td>7.225871e+06</td>\n",
              "      <td>1.026439e+07</td>\n",
              "      <td>1.027001e+07</td>\n",
              "    </tr>\n",
              "    <tr>\n",
              "      <th>mean</th>\n",
              "      <td>4.791943e+07</td>\n",
              "      <td>2.017741e+05</td>\n",
              "      <td>7.500421e+02</td>\n",
              "      <td>3.645592e+00</td>\n",
              "      <td>1.276589e+01</td>\n",
              "      <td>8.167405e+07</td>\n",
              "      <td>2.260828e+07</td>\n",
              "      <td>5.159147e+07</td>\n",
              "    </tr>\n",
              "    <tr>\n",
              "      <th>std</th>\n",
              "      <td>1.318759e+08</td>\n",
              "      <td>5.427454e+02</td>\n",
              "      <td>1.274872e+02</td>\n",
              "      <td>3.145768e+00</td>\n",
              "      <td>3.886452e+00</td>\n",
              "      <td>9.824103e+07</td>\n",
              "      <td>2.230741e+07</td>\n",
              "      <td>2.323399e+08</td>\n",
              "    </tr>\n",
              "    <tr>\n",
              "      <th>min</th>\n",
              "      <td>0.000000e+00</td>\n",
              "      <td>1.911090e+05</td>\n",
              "      <td>1.000000e+02</td>\n",
              "      <td>1.000000e+00</td>\n",
              "      <td>1.500000e+00</td>\n",
              "      <td>0.000000e+00</td>\n",
              "      <td>0.000000e+00</td>\n",
              "      <td>0.000000e+00</td>\n",
              "    </tr>\n",
              "    <tr>\n",
              "      <th>25%</th>\n",
              "      <td>2.900000e+07</td>\n",
              "      <td>2.017010e+05</td>\n",
              "      <td>6.500000e+02</td>\n",
              "      <td>1.000000e+00</td>\n",
              "      <td>9.500000e+00</td>\n",
              "      <td>2.500000e+07</td>\n",
              "      <td>9.000000e+06</td>\n",
              "      <td>1.000000e+07</td>\n",
              "    </tr>\n",
              "    <tr>\n",
              "      <th>50%</th>\n",
              "      <td>3.600000e+07</td>\n",
              "      <td>2.020030e+05</td>\n",
              "      <td>7.300000e+02</td>\n",
              "      <td>3.000000e+00</td>\n",
              "      <td>1.320000e+01</td>\n",
              "      <td>4.900000e+07</td>\n",
              "      <td>1.800000e+07</td>\n",
              "      <td>2.800000e+07</td>\n",
              "    </tr>\n",
              "    <tr>\n",
              "      <th>75%</th>\n",
              "      <td>5.000000e+07</td>\n",
              "      <td>2.021070e+05</td>\n",
              "      <td>8.600000e+02</td>\n",
              "      <td>5.000000e+00</td>\n",
              "      <td>1.580000e+01</td>\n",
              "      <td>9.600000e+07</td>\n",
              "      <td>3.300000e+07</td>\n",
              "      <td>5.000000e+07</td>\n",
              "    </tr>\n",
              "    <tr>\n",
              "      <th>max</th>\n",
              "      <td>1.000000e+10</td>\n",
              "      <td>2.022110e+05</td>\n",
              "      <td>1.000000e+03</td>\n",
              "      <td>1.780000e+02</td>\n",
              "      <td>2.000000e+01</td>\n",
              "      <td>7.512000e+09</td>\n",
              "      <td>1.000000e+10</td>\n",
              "      <td>1.000000e+10</td>\n",
              "    </tr>\n",
              "  </tbody>\n",
              "</table>\n",
              "</div>\n",
              "      <button class=\"colab-df-convert\" onclick=\"convertToInteractive('df-7ed7a0f8-2f01-44b5-8f84-f5e1dea3b5ea')\"\n",
              "              title=\"Convert this dataframe to an interactive table.\"\n",
              "              style=\"display:none;\">\n",
              "        \n",
              "  <svg xmlns=\"http://www.w3.org/2000/svg\" height=\"24px\"viewBox=\"0 0 24 24\"\n",
              "       width=\"24px\">\n",
              "    <path d=\"M0 0h24v24H0V0z\" fill=\"none\"/>\n",
              "    <path d=\"M18.56 5.44l.94 2.06.94-2.06 2.06-.94-2.06-.94-.94-2.06-.94 2.06-2.06.94zm-11 1L8.5 8.5l.94-2.06 2.06-.94-2.06-.94L8.5 2.5l-.94 2.06-2.06.94zm10 10l.94 2.06.94-2.06 2.06-.94-2.06-.94-.94-2.06-.94 2.06-2.06.94z\"/><path d=\"M17.41 7.96l-1.37-1.37c-.4-.4-.92-.59-1.43-.59-.52 0-1.04.2-1.43.59L10.3 9.45l-7.72 7.72c-.78.78-.78 2.05 0 2.83L4 21.41c.39.39.9.59 1.41.59.51 0 1.02-.2 1.41-.59l7.78-7.78 2.81-2.81c.8-.78.8-2.07 0-2.86zM5.41 20L4 18.59l7.72-7.72 1.47 1.35L5.41 20z\"/>\n",
              "  </svg>\n",
              "      </button>\n",
              "      \n",
              "  <style>\n",
              "    .colab-df-container {\n",
              "      display:flex;\n",
              "      flex-wrap:wrap;\n",
              "      gap: 12px;\n",
              "    }\n",
              "\n",
              "    .colab-df-convert {\n",
              "      background-color: #E8F0FE;\n",
              "      border: none;\n",
              "      border-radius: 50%;\n",
              "      cursor: pointer;\n",
              "      display: none;\n",
              "      fill: #1967D2;\n",
              "      height: 32px;\n",
              "      padding: 0 0 0 0;\n",
              "      width: 32px;\n",
              "    }\n",
              "\n",
              "    .colab-df-convert:hover {\n",
              "      background-color: #E2EBFA;\n",
              "      box-shadow: 0px 1px 2px rgba(60, 64, 67, 0.3), 0px 1px 3px 1px rgba(60, 64, 67, 0.15);\n",
              "      fill: #174EA6;\n",
              "    }\n",
              "\n",
              "    [theme=dark] .colab-df-convert {\n",
              "      background-color: #3B4455;\n",
              "      fill: #D2E3FC;\n",
              "    }\n",
              "\n",
              "    [theme=dark] .colab-df-convert:hover {\n",
              "      background-color: #434B5C;\n",
              "      box-shadow: 0px 1px 3px 1px rgba(0, 0, 0, 0.15);\n",
              "      filter: drop-shadow(0px 1px 2px rgba(0, 0, 0, 0.3));\n",
              "      fill: #FFFFFF;\n",
              "    }\n",
              "  </style>\n",
              "\n",
              "      <script>\n",
              "        const buttonEl =\n",
              "          document.querySelector('#df-7ed7a0f8-2f01-44b5-8f84-f5e1dea3b5ea button.colab-df-convert');\n",
              "        buttonEl.style.display =\n",
              "          google.colab.kernel.accessAllowed ? 'block' : 'none';\n",
              "\n",
              "        async function convertToInteractive(key) {\n",
              "          const element = document.querySelector('#df-7ed7a0f8-2f01-44b5-8f84-f5e1dea3b5ea');\n",
              "          const dataTable =\n",
              "            await google.colab.kernel.invokeFunction('convertToInteractive',\n",
              "                                                     [key], {});\n",
              "          if (!dataTable) return;\n",
              "\n",
              "          const docLinkHtml = 'Like what you see? Visit the ' +\n",
              "            '<a target=\"_blank\" href=https://colab.research.google.com/notebooks/data_table.ipynb>data table notebook</a>'\n",
              "            + ' to learn more about interactive tables.';\n",
              "          element.innerHTML = '';\n",
              "          dataTable['output_type'] = 'display_data';\n",
              "          await google.colab.output.renderOutput(dataTable, element);\n",
              "          const docLink = document.createElement('div');\n",
              "          docLink.innerHTML = docLinkHtml;\n",
              "          element.appendChild(docLink);\n",
              "        }\n",
              "      </script>\n",
              "    </div>\n",
              "  </div>\n",
              "  "
            ]
          },
          "metadata": {},
          "execution_count": 45
        }
      ]
    },
    {
      "cell_type": "markdown",
      "source": [
        "#### [시각화, histplot] 수치형 분포\n",
        "\n",
        "\n",
        "reference\n",
        "\n",
        "* https://seaborn.pydata.org/generated/seaborn.displot.html\n",
        "\n",
        "* https://m.blog.naver.com/PostView.naver?isHttpsRedirect=true&blogId=kiddwannabe&logNo=221728411362\n",
        "\n",
        "* https://suy379.tistory.com/122\n"
      ],
      "metadata": {
        "id": "4Et64S2gmru7"
      }
    },
    {
      "cell_type": "code",
      "source": [
        "merge_train[num_col].hist(bins=100, figsize=(20,15))\n",
        "plt.title(\"numerical value histplot\")\n",
        "save_fig(\"numerical value histplot\")"
      ],
      "metadata": {
        "colab": {
          "base_uri": "https://localhost:8080/",
          "height": 1000
        },
        "id": "LEkZswKYmYWe",
        "outputId": "a5bd8302-42f0-4d73-fb9f-42434bebfcd5"
      },
      "execution_count": 48,
      "outputs": [
        {
          "output_type": "stream",
          "name": "stdout",
          "text": [
            "/content/gdrive/My Drive/빅콘테스트_2022/img/numerical value histplot.png\n",
            "그림 저장 :  numerical value histplot\n"
          ]
        },
        {
          "output_type": "display_data",
          "data": {
            "text/plain": [
              "<Figure size 1440x1080 with 9 Axes>"
            ],
            "image/png": "[encoded data removed]"
          },
          "metadata": {
            "needs_background": "light"
          }
        }
      ]
    },
    {
      "cell_type": "code",
      "source": [
        "tmp = merge_train['yearly_income'] / 1000000"
      ],
      "metadata": {
        "id": "cjzMyF9Yr_DI"
      },
      "execution_count": 61,
      "outputs": []
    },
    {
      "cell_type": "code",
      "source": [
        "sns.displot(data=tmp, kind=\"kde\")\n",
        "plt.show()"
      ],
      "metadata": {
        "colab": {
          "base_uri": "https://localhost:8080/",
          "height": 369
        },
        "id": "clRzXPEkq4jO",
        "outputId": "9c550605-35d0-4904-860a-37360cad6a9d"
      },
      "execution_count": 71,
      "outputs": [
        {
          "output_type": "display_data",
          "data": {
            "text/plain": [
              "<Figure size 360x360 with 1 Axes>"
            ],
            "image/png": "[encoded data removed]"
          },
          "metadata": {
            "needs_background": "light"
          }
        }
      ]
    },
    {
      "cell_type": "code",
      "source": [
        "# # bivariate plot - 두 변수 간 상관관계 플롯\n",
        "# sns.displot(data=penguins, x=\"flipper_length_mm\", y=\"bill_length_mm\")"
      ],
      "metadata": {
        "id": "hJE03NofpL5s"
      },
      "execution_count": null,
      "outputs": []
    },
    {
      "cell_type": "markdown",
      "source": [
        "## 전처리"
      ],
      "metadata": {
        "id": "GHx_CmynGi0y"
      }
    },
    {
      "cell_type": "code",
      "source": [],
      "metadata": {
        "id": "xAtXlf8LzdnS"
      },
      "execution_count": null,
      "outputs": []
    },
    {
      "cell_type": "code",
      "source": [],
      "metadata": {
        "id": "Mo0cHPnozfst"
      },
      "execution_count": null,
      "outputs": []
    }
  ]
}