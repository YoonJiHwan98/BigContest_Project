{
  "cells": [
    {
      "cell_type": "markdown",
      "metadata": {
        "id": "IqIHIud6U62o"
      },
      "source": [
        "# 2022 빅콘테스트 "
      ]
    },
    {
      "cell_type": "markdown",
      "metadata": {
        "id": "VcrS2W2wVBr1"
      },
      "source": [
        "## 문제\n",
        "\n",
        "앱 사용성 데이터를 통한 대출신청 예측분석\n",
        "\n",
        "\n",
        "---\n",
        "\n",
        "\n",
        "가명화된 데이터를 기반으로 고객의 대출상품 신청여부 예측\n",
        "(2022년 3~5월 데이터제공 / 2022년 6월 예측)\n",
        "* 예측모델을 활용하여 탐색적 데이터 분석 수행\n",
        "* 대출신청, 미신청 고객을 분류하여 고객의 특성 분석결과 도출\n",
        "\n"
      ]
    },
    {
      "cell_type": "markdown",
      "metadata": {
        "id": "tG_kNcTtMcB9"
      },
      "source": [
        "- 회원 가입 이후 특정 기간안에 대출 신청 여부를 예측\n",
        "  \n",
        "- 핀다 홈화면 진입 고객의 모델 기반 고객 군집 분석\n",
        "  \n",
        "  모두가 대출을 원하진 않는다!\n",
        "  \n",
        "  여러 고객 군집별로 서비스 메시지를 제안한다."
      ]
    },
    {
      "cell_type": "markdown",
      "metadata": {
        "id": "YlZZjioRNmhZ"
      },
      "source": [
        "- 비교대출 서비스\n",
        "    - 최적의 대출 경험 제공\n",
        "    - 고객 정보 제출 - 대출 조건을 받아 비교 선택\n",
        "    - 핀다 사용자 **10명 중 6명은 중금리대출**\n",
        "    - 인터넷 은행이 채우지 못한 중금리대출의 니즈를 채워줌\n",
        "    - 핀다의 홈화면 진입 고객 중 특정 기간 안에 대출 신청 고객을 예측\n",
        "\n",
        "<신청 과정>\n",
        "\n",
        "- 홈화면을 통해 신청 시작\n",
        "- 회원 가입을 통해 정보 수집\n",
        "- 홈화면의 대출신청 버튼을 통해 대출목적, 희망금액 입력\n",
        "- 자산정보입력\n",
        "- 인증서 사용여부 선택\n",
        "1. 회원 가입 이후 특정 기간안에 대출 신청 여부를 예측\n",
        "    \n",
        "    최종 모델평가는 승인된 상품 정보 기준 하나 이상을 선택해 대출한 고객을 예측하는 것\n",
        "    \n",
        "    → 예측 정확도 평가 지표 : (이진분류) F1-score\n",
        "    \n",
        "    모델링 정확도 만큼이나 데이터 분석, 모델링 과정을 평가에 반영\n",
        "    \n",
        "    label = 앱 사용자가 대출 조회를 하고, 승인된 금융상품 중 최소 하나를 선택하여 실제 대출을 실행한 경우 y로 표시\n",
        "    \n",
        "    학습 데이터와 시점상 크게 다르지 않음\n",
        "    \n",
        "    → 직전 데이터의 영향이 너무 크지 않도록\n",
        "    \n",
        "2. 핀다 홈화면 진입 고객의 모델 기반 고객 군집 분석\n",
        "    \n",
        "    앱 사용자 모두가 대출을 원하진 않는다!\n",
        "    \n",
        "    여러 고객 군집별로 서비스 메시지를 제안한다.\n",
        "    \n",
        "    통계적 군집 분석 과정의 타당성과 서비스 메시지의 독창성을 평가"
      ]
    },
    {
      "cell_type": "markdown",
      "metadata": {
        "id": "A9-l3tg0V14t"
      },
      "source": [
        "## 결과 제출 방식\n",
        "\n",
        "* target : loan_result['is_applied'] # 대출 신청여부\n",
        "\n",
        "* PPT\n",
        "1. 자유양식\n",
        "2. 분량제한없음\n",
        "3. 파워포인트(PPT)파일형식으로 제출 (파일명은 “분야명_주제명_개인/팀명＂으로 작성)\n",
        "4. 필요시 설명자료(한글, 워드파일) 추가 제출 가능"
      ]
    },
    {
      "cell_type": "markdown",
      "metadata": {
        "id": "hqlVLI21VTOc"
      },
      "source": [
        "## 심사 기준\n",
        "\n",
        "\t고객 당 대출 신청 여부 예측, 데이터 수집, 전처리 과정, 예측 모델 해석(필수)"
      ]
    },
    {
      "cell_type": "markdown",
      "metadata": {
        "id": "NUGYpmXEU_hN"
      },
      "source": [
        "## 이번에 주의할 것\n",
        "\n",
        "\n",
        "* 탐색적 데이터 분석 수행이라고 박아놓은거 보면 EDA & 전처리 과정에 대한 \"이유\"를 상세히 적어놔야 할 것 같다\n",
        "\n",
        "* 단순한 분류 accuracy 뿐 아니라 고객의 \"특성 분석 결과\"를 도출해내는 것이 중요한 것 같다\n",
        "\n"
      ]
    },
    {
      "cell_type": "markdown",
      "metadata": {
        "id": "E_SxIk99JIcx"
      },
      "source": [
        "## 간략한 인사이트\n",
        "\n",
        "\n",
        "* 유저 스펙에서 중요한 부분 : 은\n",
        "* 유저 로그 데이터 어떻게 이용할지 -> count?"
      ]
    },
    {
      "cell_type": "markdown",
      "metadata": {
        "id": "3ABdNP4SPCNi"
      },
      "source": [
        "고객 스펙 -> 어떤게 추천이 되는지? 핀다 직접 깔아봐야겠다\n",
        "\n",
        "추천된 것들 중에 고객이 선택할지 말지니까...\n",
        "\n",
        "\n",
        "어플 이용층 : 젊은 층이 주로 사용하지 않을까 싶음\n",
        "\n",
        "고객 스펙 데이터 중 나이를 알아보고 그 유저층이 무엇을 중요하게 생각하는지, 어떤 대출을 주로 받는지 인사이트 추가적으로 조사할 것?\n",
        "\n",
        "\n",
        "유저 로그 데이터 -> 군집화에 주로 이용될듯"
      ]
    },
    {
      "cell_type": "markdown",
      "metadata": {
        "id": "Du8rQx2jWMFZ"
      },
      "source": [
        "## 드라이브 마운트 & 저장 경로 설정"
      ]
    },
    {
      "cell_type": "code",
      "execution_count": 139,
      "metadata": {
        "colab": {
          "base_uri": "https://localhost:8080/"
        },
        "id": "ma7rmh2iWO15",
        "outputId": "13f230d9-7d17-4027-ff70-c78ee483b2e4"
      },
      "outputs": [
        {
          "output_type": "stream",
          "name": "stdout",
          "text": [
            "Drive already mounted at /content/gdrive; to attempt to forcibly remount, call drive.mount(\"/content/gdrive\", force_remount=True).\n"
          ]
        }
      ],
      "source": [
        "# 드라이브 마운트\n",
        "from google.colab import drive\n",
        "\n",
        "drive.mount('/content/gdrive')"
      ]
    },
    {
      "cell_type": "code",
      "execution_count": 140,
      "metadata": {
        "id": "PGzySmiwWaOi"
      },
      "outputs": [],
      "source": [
        "import os\n",
        "\n",
        "ROOT_DIR = \"/content/gdrive/My Drive/빅콘테스트_2022/\"\n",
        "DATA_PATH = ROOT_DIR + \"data/\"\n",
        "IMAGE_PATH = ROOT_DIR + \"img/\"\n",
        "\n",
        "os.makedirs(DATA_PATH, exist_ok = True)\n",
        "os.makedirs(IMAGE_PATH, exist_ok = True)"
      ]
    },
    {
      "cell_type": "code",
      "execution_count": 141,
      "metadata": {
        "id": "n0pXYQVIz-VH"
      },
      "outputs": [],
      "source": [
        "# 불필요한 경고 무시\n",
        "import warnings\n",
        "warnings.filterwarnings(action=\"ignore\", message=\"^internal gelsd\")"
      ]
    },
    {
      "cell_type": "markdown",
      "metadata": {
        "id": "XSaqf2X61ArR"
      },
      "source": [
        "## 데이터 불러오기 및 확인"
      ]
    },
    {
      "cell_type": "code",
      "execution_count": null,
      "metadata": {
        "id": "Ss6E86sz1xof"
      },
      "outputs": [],
      "source": [
        "import pandas as pd\n",
        "import numpy as np\n",
        "import matplotlib as mpl\n",
        "import matplotlib.pyplot as plt\n",
        "import seaborn as sns"
      ]
    },
    {
      "cell_type": "code",
      "execution_count": null,
      "metadata": {
        "id": "OGPLOorYz-8G"
      },
      "outputs": [],
      "source": [
        "def load_data(file_name, DATA_PATH=DATA_PATH):\n",
        "  file_path = os.path.join(DATA_PATH, file_name)\n",
        "  return pd.read_csv(file_path)"
      ]
    },
    {
      "cell_type": "code",
      "execution_count": null,
      "metadata": {
        "id": "AD69nkKz0jbU"
      },
      "outputs": [],
      "source": [
        "user_spec = load_data(\"user_spec.csv\")\n",
        "log_data = load_data(\"log_data.csv\")\n",
        "loan_result = load_data(\"loan_result.csv\")"
      ]
    },
    {
      "cell_type": "code",
      "execution_count": null,
      "metadata": {
        "colab": {
          "base_uri": "https://localhost:8080/"
        },
        "id": "kCFpOM5z1DMq",
        "outputId": "5466ac25-b40e-4119-8026-3d7e1827620e"
      },
      "outputs": [
        {
          "data": {
            "text/html": [
              "\n",
              "  <div id=\"df-7326b0e2-cd7d-4a79-8723-dcc863f1799d\">\n",
              "    <div class=\"colab-df-container\">\n",
              "      <div>\n",
              "<style scoped>\n",
              "    .dataframe tbody tr th:only-of-type {\n",
              "        vertical-align: middle;\n",
              "    }\n",
              "\n",
              "    .dataframe tbody tr th {\n",
              "        vertical-align: top;\n",
              "    }\n",
              "\n",
              "    .dataframe thead th {\n",
              "        text-align: right;\n",
              "    }\n",
              "</style>\n",
              "<table border=\"1\" class=\"dataframe\">\n",
              "  <thead>\n",
              "    <tr style=\"text-align: right;\">\n",
              "      <th></th>\n",
              "      <th>application_id</th>\n",
              "      <th>user_id</th>\n",
              "      <th>birth_year</th>\n",
              "      <th>gender</th>\n",
              "      <th>insert_time</th>\n",
              "      <th>credit_score</th>\n",
              "      <th>yearly_income</th>\n",
              "      <th>income_type</th>\n",
              "      <th>company_enter_month</th>\n",
              "      <th>employment_type</th>\n",
              "      <th>houseown_type</th>\n",
              "      <th>desired_amount</th>\n",
              "      <th>purpose</th>\n",
              "      <th>personal_rehabilitation_yn</th>\n",
              "      <th>personal_rehabilitation_complete_yn</th>\n",
              "      <th>existing_loan_cnt</th>\n",
              "      <th>existing_loan_amt</th>\n",
              "    </tr>\n",
              "  </thead>\n",
              "  <tbody>\n",
              "    <tr>\n",
              "      <th>0</th>\n",
              "      <td>1249046</td>\n",
              "      <td>118218</td>\n",
              "      <td>1985.0</td>\n",
              "      <td>1.0</td>\n",
              "      <td>2022-06-07 06:28:18</td>\n",
              "      <td>660.0</td>\n",
              "      <td>108000000.0</td>\n",
              "      <td>PRIVATEBUSINESS</td>\n",
              "      <td>20151101.0</td>\n",
              "      <td>기타</td>\n",
              "      <td>자가</td>\n",
              "      <td>1000000.0</td>\n",
              "      <td>기타</td>\n",
              "      <td>0.0</td>\n",
              "      <td>NaN</td>\n",
              "      <td>4.0</td>\n",
              "      <td>162000000.0</td>\n",
              "    </tr>\n",
              "    <tr>\n",
              "      <th>1</th>\n",
              "      <td>954900</td>\n",
              "      <td>553686</td>\n",
              "      <td>1968.0</td>\n",
              "      <td>1.0</td>\n",
              "      <td>2022-06-07 14:29:03</td>\n",
              "      <td>870.0</td>\n",
              "      <td>30000000.0</td>\n",
              "      <td>PRIVATEBUSINESS</td>\n",
              "      <td>20070201.0</td>\n",
              "      <td>정규직</td>\n",
              "      <td>기타가족소유</td>\n",
              "      <td>30000000.0</td>\n",
              "      <td>대환대출</td>\n",
              "      <td>0.0</td>\n",
              "      <td>NaN</td>\n",
              "      <td>1.0</td>\n",
              "      <td>27000000.0</td>\n",
              "    </tr>\n",
              "    <tr>\n",
              "      <th>2</th>\n",
              "      <td>137274</td>\n",
              "      <td>59516</td>\n",
              "      <td>1997.0</td>\n",
              "      <td>1.0</td>\n",
              "      <td>2022-06-07 21:40:22</td>\n",
              "      <td>710.0</td>\n",
              "      <td>30000000.0</td>\n",
              "      <td>FREELANCER</td>\n",
              "      <td>20210901.0</td>\n",
              "      <td>기타</td>\n",
              "      <td>기타가족소유</td>\n",
              "      <td>10000000.0</td>\n",
              "      <td>생활비</td>\n",
              "      <td>0.0</td>\n",
              "      <td>NaN</td>\n",
              "      <td>5.0</td>\n",
              "      <td>15000000.0</td>\n",
              "    </tr>\n",
              "    <tr>\n",
              "      <th>3</th>\n",
              "      <td>1570936</td>\n",
              "      <td>167320</td>\n",
              "      <td>1989.0</td>\n",
              "      <td>1.0</td>\n",
              "      <td>2022-06-07 09:40:27</td>\n",
              "      <td>820.0</td>\n",
              "      <td>62000000.0</td>\n",
              "      <td>EARNEDINCOME</td>\n",
              "      <td>20170101.0</td>\n",
              "      <td>정규직</td>\n",
              "      <td>자가</td>\n",
              "      <td>2000000.0</td>\n",
              "      <td>생활비</td>\n",
              "      <td>0.0</td>\n",
              "      <td>NaN</td>\n",
              "      <td>7.0</td>\n",
              "      <td>344000000.0</td>\n",
              "    </tr>\n",
              "    <tr>\n",
              "      <th>4</th>\n",
              "      <td>967833</td>\n",
              "      <td>33400</td>\n",
              "      <td>2000.0</td>\n",
              "      <td>1.0</td>\n",
              "      <td>2022-06-07 08:55:07</td>\n",
              "      <td>630.0</td>\n",
              "      <td>36000000.0</td>\n",
              "      <td>EARNEDINCOME</td>\n",
              "      <td>20210901.0</td>\n",
              "      <td>정규직</td>\n",
              "      <td>기타가족소유</td>\n",
              "      <td>5000000.0</td>\n",
              "      <td>생활비</td>\n",
              "      <td>0.0</td>\n",
              "      <td>0.0</td>\n",
              "      <td>1.0</td>\n",
              "      <td>16000000.0</td>\n",
              "    </tr>\n",
              "  </tbody>\n",
              "</table>\n",
              "</div>\n",
              "      <button class=\"colab-df-convert\" onclick=\"convertToInteractive('df-7326b0e2-cd7d-4a79-8723-dcc863f1799d')\"\n",
              "              title=\"Convert this dataframe to an interactive table.\"\n",
              "              style=\"display:none;\">\n",
              "        \n",
              "  <svg xmlns=\"http://www.w3.org/2000/svg\" height=\"24px\"viewBox=\"0 0 24 24\"\n",
              "       width=\"24px\">\n",
              "    <path d=\"M0 0h24v24H0V0z\" fill=\"none\"/>\n",
              "    <path d=\"M18.56 5.44l.94 2.06.94-2.06 2.06-.94-2.06-.94-.94-2.06-.94 2.06-2.06.94zm-11 1L8.5 8.5l.94-2.06 2.06-.94-2.06-.94L8.5 2.5l-.94 2.06-2.06.94zm10 10l.94 2.06.94-2.06 2.06-.94-2.06-.94-.94-2.06-.94 2.06-2.06.94z\"/><path d=\"M17.41 7.96l-1.37-1.37c-.4-.4-.92-.59-1.43-.59-.52 0-1.04.2-1.43.59L10.3 9.45l-7.72 7.72c-.78.78-.78 2.05 0 2.83L4 21.41c.39.39.9.59 1.41.59.51 0 1.02-.2 1.41-.59l7.78-7.78 2.81-2.81c.8-.78.8-2.07 0-2.86zM5.41 20L4 18.59l7.72-7.72 1.47 1.35L5.41 20z\"/>\n",
              "  </svg>\n",
              "      </button>\n",
              "      \n",
              "  <style>\n",
              "    .colab-df-container {\n",
              "      display:flex;\n",
              "      flex-wrap:wrap;\n",
              "      gap: 12px;\n",
              "    }\n",
              "\n",
              "    .colab-df-convert {\n",
              "      background-color: #E8F0FE;\n",
              "      border: none;\n",
              "      border-radius: 50%;\n",
              "      cursor: pointer;\n",
              "      display: none;\n",
              "      fill: #1967D2;\n",
              "      height: 32px;\n",
              "      padding: 0 0 0 0;\n",
              "      width: 32px;\n",
              "    }\n",
              "\n",
              "    .colab-df-convert:hover {\n",
              "      background-color: #E2EBFA;\n",
              "      box-shadow: 0px 1px 2px rgba(60, 64, 67, 0.3), 0px 1px 3px 1px rgba(60, 64, 67, 0.15);\n",
              "      fill: #174EA6;\n",
              "    }\n",
              "\n",
              "    [theme=dark] .colab-df-convert {\n",
              "      background-color: #3B4455;\n",
              "      fill: #D2E3FC;\n",
              "    }\n",
              "\n",
              "    [theme=dark] .colab-df-convert:hover {\n",
              "      background-color: #434B5C;\n",
              "      box-shadow: 0px 1px 3px 1px rgba(0, 0, 0, 0.15);\n",
              "      filter: drop-shadow(0px 1px 2px rgba(0, 0, 0, 0.3));\n",
              "      fill: #FFFFFF;\n",
              "    }\n",
              "  </style>\n",
              "\n",
              "      <script>\n",
              "        const buttonEl =\n",
              "          document.querySelector('#df-7326b0e2-cd7d-4a79-8723-dcc863f1799d button.colab-df-convert');\n",
              "        buttonEl.style.display =\n",
              "          google.colab.kernel.accessAllowed ? 'block' : 'none';\n",
              "\n",
              "        async function convertToInteractive(key) {\n",
              "          const element = document.querySelector('#df-7326b0e2-cd7d-4a79-8723-dcc863f1799d');\n",
              "          const dataTable =\n",
              "            await google.colab.kernel.invokeFunction('convertToInteractive',\n",
              "                                                     [key], {});\n",
              "          if (!dataTable) return;\n",
              "\n",
              "          const docLinkHtml = 'Like what you see? Visit the ' +\n",
              "            '<a target=\"_blank\" href=https://colab.research.google.com/notebooks/data_table.ipynb>data table notebook</a>'\n",
              "            + ' to learn more about interactive tables.';\n",
              "          element.innerHTML = '';\n",
              "          dataTable['output_type'] = 'display_data';\n",
              "          await google.colab.output.renderOutput(dataTable, element);\n",
              "          const docLink = document.createElement('div');\n",
              "          docLink.innerHTML = docLinkHtml;\n",
              "          element.appendChild(docLink);\n",
              "        }\n",
              "      </script>\n",
              "    </div>\n",
              "  </div>\n",
              "  "
            ],
            "text/plain": [
              "   application_id  user_id  birth_year  gender          insert_time  \\\n",
              "0         1249046   118218      1985.0     1.0  2022-06-07 06:28:18   \n",
              "1          954900   553686      1968.0     1.0  2022-06-07 14:29:03   \n",
              "2          137274    59516      1997.0     1.0  2022-06-07 21:40:22   \n",
              "3         1570936   167320      1989.0     1.0  2022-06-07 09:40:27   \n",
              "4          967833    33400      2000.0     1.0  2022-06-07 08:55:07   \n",
              "\n",
              "   credit_score  yearly_income      income_type  company_enter_month  \\\n",
              "0         660.0    108000000.0  PRIVATEBUSINESS           20151101.0   \n",
              "1         870.0     30000000.0  PRIVATEBUSINESS           20070201.0   \n",
              "2         710.0     30000000.0       FREELANCER           20210901.0   \n",
              "3         820.0     62000000.0     EARNEDINCOME           20170101.0   \n",
              "4         630.0     36000000.0     EARNEDINCOME           20210901.0   \n",
              "\n",
              "  employment_type houseown_type  desired_amount purpose  \\\n",
              "0              기타            자가       1000000.0      기타   \n",
              "1             정규직        기타가족소유      30000000.0    대환대출   \n",
              "2              기타        기타가족소유      10000000.0     생활비   \n",
              "3             정규직            자가       2000000.0     생활비   \n",
              "4             정규직        기타가족소유       5000000.0     생활비   \n",
              "\n",
              "   personal_rehabilitation_yn  personal_rehabilitation_complete_yn  \\\n",
              "0                         0.0                                  NaN   \n",
              "1                         0.0                                  NaN   \n",
              "2                         0.0                                  NaN   \n",
              "3                         0.0                                  NaN   \n",
              "4                         0.0                                  0.0   \n",
              "\n",
              "   existing_loan_cnt  existing_loan_amt  \n",
              "0                4.0        162000000.0  \n",
              "1                1.0         27000000.0  \n",
              "2                5.0         15000000.0  \n",
              "3                7.0        344000000.0  \n",
              "4                1.0         16000000.0  "
            ]
          },
          "execution_count": 7,
          "metadata": {},
          "output_type": "execute_result"
        }
      ],
      "source": [
        "user_spec.head()"
      ]
    },
    {
      "cell_type": "code",
      "execution_count": null,
      "metadata": {
        "colab": {
          "base_uri": "https://localhost:8080/"
        },
        "id": "sJbPKhQq1F8y",
        "outputId": "297d7c7e-8803-4e86-b593-cbea69a247d4"
      },
      "outputs": [
        {
          "data": {
            "text/html": [
              "\n",
              "  <div id=\"df-0893e754-8514-44dc-8a6d-5bdb3c5f7ea9\">\n",
              "    <div class=\"colab-df-container\">\n",
              "      <div>\n",
              "<style scoped>\n",
              "    .dataframe tbody tr th:only-of-type {\n",
              "        vertical-align: middle;\n",
              "    }\n",
              "\n",
              "    .dataframe tbody tr th {\n",
              "        vertical-align: top;\n",
              "    }\n",
              "\n",
              "    .dataframe thead th {\n",
              "        text-align: right;\n",
              "    }\n",
              "</style>\n",
              "<table border=\"1\" class=\"dataframe\">\n",
              "  <thead>\n",
              "    <tr style=\"text-align: right;\">\n",
              "      <th></th>\n",
              "      <th>application_id</th>\n",
              "      <th>loanapply_insert_time</th>\n",
              "      <th>bank_id</th>\n",
              "      <th>product_id</th>\n",
              "      <th>loan_limit</th>\n",
              "      <th>loan_rate</th>\n",
              "      <th>is_applied</th>\n",
              "    </tr>\n",
              "  </thead>\n",
              "  <tbody>\n",
              "    <tr>\n",
              "      <th>0</th>\n",
              "      <td>1748340</td>\n",
              "      <td>2022-06-07 13:05:41</td>\n",
              "      <td>7</td>\n",
              "      <td>191</td>\n",
              "      <td>42000000.0</td>\n",
              "      <td>13.6</td>\n",
              "      <td>NaN</td>\n",
              "    </tr>\n",
              "    <tr>\n",
              "      <th>1</th>\n",
              "      <td>1748340</td>\n",
              "      <td>2022-06-07 13:05:41</td>\n",
              "      <td>25</td>\n",
              "      <td>169</td>\n",
              "      <td>24000000.0</td>\n",
              "      <td>17.9</td>\n",
              "      <td>NaN</td>\n",
              "    </tr>\n",
              "    <tr>\n",
              "      <th>2</th>\n",
              "      <td>1748340</td>\n",
              "      <td>2022-06-07 13:05:41</td>\n",
              "      <td>2</td>\n",
              "      <td>7</td>\n",
              "      <td>24000000.0</td>\n",
              "      <td>18.5</td>\n",
              "      <td>NaN</td>\n",
              "    </tr>\n",
              "    <tr>\n",
              "      <th>3</th>\n",
              "      <td>1748340</td>\n",
              "      <td>2022-06-07 13:05:41</td>\n",
              "      <td>4</td>\n",
              "      <td>268</td>\n",
              "      <td>29000000.0</td>\n",
              "      <td>10.8</td>\n",
              "      <td>NaN</td>\n",
              "    </tr>\n",
              "    <tr>\n",
              "      <th>4</th>\n",
              "      <td>1748340</td>\n",
              "      <td>2022-06-07 13:05:41</td>\n",
              "      <td>11</td>\n",
              "      <td>118</td>\n",
              "      <td>5000000.0</td>\n",
              "      <td>16.4</td>\n",
              "      <td>NaN</td>\n",
              "    </tr>\n",
              "  </tbody>\n",
              "</table>\n",
              "</div>\n",
              "      <button class=\"colab-df-convert\" onclick=\"convertToInteractive('df-0893e754-8514-44dc-8a6d-5bdb3c5f7ea9')\"\n",
              "              title=\"Convert this dataframe to an interactive table.\"\n",
              "              style=\"display:none;\">\n",
              "        \n",
              "  <svg xmlns=\"http://www.w3.org/2000/svg\" height=\"24px\"viewBox=\"0 0 24 24\"\n",
              "       width=\"24px\">\n",
              "    <path d=\"M0 0h24v24H0V0z\" fill=\"none\"/>\n",
              "    <path d=\"M18.56 5.44l.94 2.06.94-2.06 2.06-.94-2.06-.94-.94-2.06-.94 2.06-2.06.94zm-11 1L8.5 8.5l.94-2.06 2.06-.94-2.06-.94L8.5 2.5l-.94 2.06-2.06.94zm10 10l.94 2.06.94-2.06 2.06-.94-2.06-.94-.94-2.06-.94 2.06-2.06.94z\"/><path d=\"M17.41 7.96l-1.37-1.37c-.4-.4-.92-.59-1.43-.59-.52 0-1.04.2-1.43.59L10.3 9.45l-7.72 7.72c-.78.78-.78 2.05 0 2.83L4 21.41c.39.39.9.59 1.41.59.51 0 1.02-.2 1.41-.59l7.78-7.78 2.81-2.81c.8-.78.8-2.07 0-2.86zM5.41 20L4 18.59l7.72-7.72 1.47 1.35L5.41 20z\"/>\n",
              "  </svg>\n",
              "      </button>\n",
              "      \n",
              "  <style>\n",
              "    .colab-df-container {\n",
              "      display:flex;\n",
              "      flex-wrap:wrap;\n",
              "      gap: 12px;\n",
              "    }\n",
              "\n",
              "    .colab-df-convert {\n",
              "      background-color: #E8F0FE;\n",
              "      border: none;\n",
              "      border-radius: 50%;\n",
              "      cursor: pointer;\n",
              "      display: none;\n",
              "      fill: #1967D2;\n",
              "      height: 32px;\n",
              "      padding: 0 0 0 0;\n",
              "      width: 32px;\n",
              "    }\n",
              "\n",
              "    .colab-df-convert:hover {\n",
              "      background-color: #E2EBFA;\n",
              "      box-shadow: 0px 1px 2px rgba(60, 64, 67, 0.3), 0px 1px 3px 1px rgba(60, 64, 67, 0.15);\n",
              "      fill: #174EA6;\n",
              "    }\n",
              "\n",
              "    [theme=dark] .colab-df-convert {\n",
              "      background-color: #3B4455;\n",
              "      fill: #D2E3FC;\n",
              "    }\n",
              "\n",
              "    [theme=dark] .colab-df-convert:hover {\n",
              "      background-color: #434B5C;\n",
              "      box-shadow: 0px 1px 3px 1px rgba(0, 0, 0, 0.15);\n",
              "      filter: drop-shadow(0px 1px 2px rgba(0, 0, 0, 0.3));\n",
              "      fill: #FFFFFF;\n",
              "    }\n",
              "  </style>\n",
              "\n",
              "      <script>\n",
              "        const buttonEl =\n",
              "          document.querySelector('#df-0893e754-8514-44dc-8a6d-5bdb3c5f7ea9 button.colab-df-convert');\n",
              "        buttonEl.style.display =\n",
              "          google.colab.kernel.accessAllowed ? 'block' : 'none';\n",
              "\n",
              "        async function convertToInteractive(key) {\n",
              "          const element = document.querySelector('#df-0893e754-8514-44dc-8a6d-5bdb3c5f7ea9');\n",
              "          const dataTable =\n",
              "            await google.colab.kernel.invokeFunction('convertToInteractive',\n",
              "                                                     [key], {});\n",
              "          if (!dataTable) return;\n",
              "\n",
              "          const docLinkHtml = 'Like what you see? Visit the ' +\n",
              "            '<a target=\"_blank\" href=https://colab.research.google.com/notebooks/data_table.ipynb>data table notebook</a>'\n",
              "            + ' to learn more about interactive tables.';\n",
              "          element.innerHTML = '';\n",
              "          dataTable['output_type'] = 'display_data';\n",
              "          await google.colab.output.renderOutput(dataTable, element);\n",
              "          const docLink = document.createElement('div');\n",
              "          docLink.innerHTML = docLinkHtml;\n",
              "          element.appendChild(docLink);\n",
              "        }\n",
              "      </script>\n",
              "    </div>\n",
              "  </div>\n",
              "  "
            ],
            "text/plain": [
              "   application_id loanapply_insert_time  bank_id  product_id  loan_limit  \\\n",
              "0         1748340   2022-06-07 13:05:41        7         191  42000000.0   \n",
              "1         1748340   2022-06-07 13:05:41       25         169  24000000.0   \n",
              "2         1748340   2022-06-07 13:05:41        2           7  24000000.0   \n",
              "3         1748340   2022-06-07 13:05:41        4         268  29000000.0   \n",
              "4         1748340   2022-06-07 13:05:41       11         118   5000000.0   \n",
              "\n",
              "   loan_rate  is_applied  \n",
              "0       13.6         NaN  \n",
              "1       17.9         NaN  \n",
              "2       18.5         NaN  \n",
              "3       10.8         NaN  \n",
              "4       16.4         NaN  "
            ]
          },
          "execution_count": 8,
          "metadata": {},
          "output_type": "execute_result"
        }
      ],
      "source": [
        "loan_result.head()"
      ]
    },
    {
      "cell_type": "code",
      "execution_count": null,
      "metadata": {
        "colab": {
          "base_uri": "https://localhost:8080/"
        },
        "id": "0GZK9xHjK27h",
        "outputId": "0a017499-9eab-48c3-fbab-e4351d076e3b"
      },
      "outputs": [
        {
          "data": {
            "text/plain": [
              "(1394216, 13527363)"
            ]
          },
          "execution_count": 9,
          "metadata": {},
          "output_type": "execute_result"
        }
      ],
      "source": [
        "len(user_spec), len(loan_result) # row 개수 확인"
      ]
    },
    {
      "cell_type": "markdown",
      "metadata": {
        "id": "oync3RFtO00T"
      },
      "source": [
        "## 데이터프레임 병합"
      ]
    },
    {
      "cell_type": "code",
      "execution_count": null,
      "metadata": {
        "colab": {
          "base_uri": "https://localhost:8080/"
        },
        "id": "z6BZoN52Lpfi",
        "outputId": "b880fdb8-b6a5-4118-e963-b607ad71a2ef"
      },
      "outputs": [
        {
          "name": "stdout",
          "output_type": "stream",
          "text": [
            "13527363\n"
          ]
        },
        {
          "data": {
            "text/html": [
              "\n",
              "  <div id=\"df-33bf184c-0f3d-4385-995e-cc1371b8b646\">\n",
              "    <div class=\"colab-df-container\">\n",
              "      <div>\n",
              "<style scoped>\n",
              "    .dataframe tbody tr th:only-of-type {\n",
              "        vertical-align: middle;\n",
              "    }\n",
              "\n",
              "    .dataframe tbody tr th {\n",
              "        vertical-align: top;\n",
              "    }\n",
              "\n",
              "    .dataframe thead th {\n",
              "        text-align: right;\n",
              "    }\n",
              "</style>\n",
              "<table border=\"1\" class=\"dataframe\">\n",
              "  <thead>\n",
              "    <tr style=\"text-align: right;\">\n",
              "      <th></th>\n",
              "      <th>application_id</th>\n",
              "      <th>loanapply_insert_time</th>\n",
              "      <th>bank_id</th>\n",
              "      <th>product_id</th>\n",
              "      <th>loan_limit</th>\n",
              "      <th>loan_rate</th>\n",
              "      <th>is_applied</th>\n",
              "      <th>user_id</th>\n",
              "      <th>birth_year</th>\n",
              "      <th>gender</th>\n",
              "      <th>...</th>\n",
              "      <th>income_type</th>\n",
              "      <th>company_enter_month</th>\n",
              "      <th>employment_type</th>\n",
              "      <th>houseown_type</th>\n",
              "      <th>desired_amount</th>\n",
              "      <th>purpose</th>\n",
              "      <th>personal_rehabilitation_yn</th>\n",
              "      <th>personal_rehabilitation_complete_yn</th>\n",
              "      <th>existing_loan_cnt</th>\n",
              "      <th>existing_loan_amt</th>\n",
              "    </tr>\n",
              "  </thead>\n",
              "  <tbody>\n",
              "    <tr>\n",
              "      <th>0</th>\n",
              "      <td>1748340</td>\n",
              "      <td>2022-06-07 13:05:41</td>\n",
              "      <td>7</td>\n",
              "      <td>191</td>\n",
              "      <td>42000000.0</td>\n",
              "      <td>13.6</td>\n",
              "      <td>NaN</td>\n",
              "      <td>430982.0</td>\n",
              "      <td>1996.0</td>\n",
              "      <td>1.0</td>\n",
              "      <td>...</td>\n",
              "      <td>EARNEDINCOME</td>\n",
              "      <td>20220201.0</td>\n",
              "      <td>정규직</td>\n",
              "      <td>자가</td>\n",
              "      <td>25000000.0</td>\n",
              "      <td>대환대출</td>\n",
              "      <td>0.0</td>\n",
              "      <td>0.0</td>\n",
              "      <td>2.0</td>\n",
              "      <td>15000000.0</td>\n",
              "    </tr>\n",
              "    <tr>\n",
              "      <th>1</th>\n",
              "      <td>1748340</td>\n",
              "      <td>2022-06-07 13:05:41</td>\n",
              "      <td>25</td>\n",
              "      <td>169</td>\n",
              "      <td>24000000.0</td>\n",
              "      <td>17.9</td>\n",
              "      <td>NaN</td>\n",
              "      <td>430982.0</td>\n",
              "      <td>1996.0</td>\n",
              "      <td>1.0</td>\n",
              "      <td>...</td>\n",
              "      <td>EARNEDINCOME</td>\n",
              "      <td>20220201.0</td>\n",
              "      <td>정규직</td>\n",
              "      <td>자가</td>\n",
              "      <td>25000000.0</td>\n",
              "      <td>대환대출</td>\n",
              "      <td>0.0</td>\n",
              "      <td>0.0</td>\n",
              "      <td>2.0</td>\n",
              "      <td>15000000.0</td>\n",
              "    </tr>\n",
              "    <tr>\n",
              "      <th>2</th>\n",
              "      <td>1748340</td>\n",
              "      <td>2022-06-07 13:05:41</td>\n",
              "      <td>2</td>\n",
              "      <td>7</td>\n",
              "      <td>24000000.0</td>\n",
              "      <td>18.5</td>\n",
              "      <td>NaN</td>\n",
              "      <td>430982.0</td>\n",
              "      <td>1996.0</td>\n",
              "      <td>1.0</td>\n",
              "      <td>...</td>\n",
              "      <td>EARNEDINCOME</td>\n",
              "      <td>20220201.0</td>\n",
              "      <td>정규직</td>\n",
              "      <td>자가</td>\n",
              "      <td>25000000.0</td>\n",
              "      <td>대환대출</td>\n",
              "      <td>0.0</td>\n",
              "      <td>0.0</td>\n",
              "      <td>2.0</td>\n",
              "      <td>15000000.0</td>\n",
              "    </tr>\n",
              "    <tr>\n",
              "      <th>3</th>\n",
              "      <td>1748340</td>\n",
              "      <td>2022-06-07 13:05:41</td>\n",
              "      <td>4</td>\n",
              "      <td>268</td>\n",
              "      <td>29000000.0</td>\n",
              "      <td>10.8</td>\n",
              "      <td>NaN</td>\n",
              "      <td>430982.0</td>\n",
              "      <td>1996.0</td>\n",
              "      <td>1.0</td>\n",
              "      <td>...</td>\n",
              "      <td>EARNEDINCOME</td>\n",
              "      <td>20220201.0</td>\n",
              "      <td>정규직</td>\n",
              "      <td>자가</td>\n",
              "      <td>25000000.0</td>\n",
              "      <td>대환대출</td>\n",
              "      <td>0.0</td>\n",
              "      <td>0.0</td>\n",
              "      <td>2.0</td>\n",
              "      <td>15000000.0</td>\n",
              "    </tr>\n",
              "    <tr>\n",
              "      <th>4</th>\n",
              "      <td>1748340</td>\n",
              "      <td>2022-06-07 13:05:41</td>\n",
              "      <td>11</td>\n",
              "      <td>118</td>\n",
              "      <td>5000000.0</td>\n",
              "      <td>16.4</td>\n",
              "      <td>NaN</td>\n",
              "      <td>430982.0</td>\n",
              "      <td>1996.0</td>\n",
              "      <td>1.0</td>\n",
              "      <td>...</td>\n",
              "      <td>EARNEDINCOME</td>\n",
              "      <td>20220201.0</td>\n",
              "      <td>정규직</td>\n",
              "      <td>자가</td>\n",
              "      <td>25000000.0</td>\n",
              "      <td>대환대출</td>\n",
              "      <td>0.0</td>\n",
              "      <td>0.0</td>\n",
              "      <td>2.0</td>\n",
              "      <td>15000000.0</td>\n",
              "    </tr>\n",
              "  </tbody>\n",
              "</table>\n",
              "<p>5 rows × 23 columns</p>\n",
              "</div>\n",
              "      <button class=\"colab-df-convert\" onclick=\"convertToInteractive('df-33bf184c-0f3d-4385-995e-cc1371b8b646')\"\n",
              "              title=\"Convert this dataframe to an interactive table.\"\n",
              "              style=\"display:none;\">\n",
              "        \n",
              "  <svg xmlns=\"http://www.w3.org/2000/svg\" height=\"24px\"viewBox=\"0 0 24 24\"\n",
              "       width=\"24px\">\n",
              "    <path d=\"M0 0h24v24H0V0z\" fill=\"none\"/>\n",
              "    <path d=\"M18.56 5.44l.94 2.06.94-2.06 2.06-.94-2.06-.94-.94-2.06-.94 2.06-2.06.94zm-11 1L8.5 8.5l.94-2.06 2.06-.94-2.06-.94L8.5 2.5l-.94 2.06-2.06.94zm10 10l.94 2.06.94-2.06 2.06-.94-2.06-.94-.94-2.06-.94 2.06-2.06.94z\"/><path d=\"M17.41 7.96l-1.37-1.37c-.4-.4-.92-.59-1.43-.59-.52 0-1.04.2-1.43.59L10.3 9.45l-7.72 7.72c-.78.78-.78 2.05 0 2.83L4 21.41c.39.39.9.59 1.41.59.51 0 1.02-.2 1.41-.59l7.78-7.78 2.81-2.81c.8-.78.8-2.07 0-2.86zM5.41 20L4 18.59l7.72-7.72 1.47 1.35L5.41 20z\"/>\n",
              "  </svg>\n",
              "      </button>\n",
              "      \n",
              "  <style>\n",
              "    .colab-df-container {\n",
              "      display:flex;\n",
              "      flex-wrap:wrap;\n",
              "      gap: 12px;\n",
              "    }\n",
              "\n",
              "    .colab-df-convert {\n",
              "      background-color: #E8F0FE;\n",
              "      border: none;\n",
              "      border-radius: 50%;\n",
              "      cursor: pointer;\n",
              "      display: none;\n",
              "      fill: #1967D2;\n",
              "      height: 32px;\n",
              "      padding: 0 0 0 0;\n",
              "      width: 32px;\n",
              "    }\n",
              "\n",
              "    .colab-df-convert:hover {\n",
              "      background-color: #E2EBFA;\n",
              "      box-shadow: 0px 1px 2px rgba(60, 64, 67, 0.3), 0px 1px 3px 1px rgba(60, 64, 67, 0.15);\n",
              "      fill: #174EA6;\n",
              "    }\n",
              "\n",
              "    [theme=dark] .colab-df-convert {\n",
              "      background-color: #3B4455;\n",
              "      fill: #D2E3FC;\n",
              "    }\n",
              "\n",
              "    [theme=dark] .colab-df-convert:hover {\n",
              "      background-color: #434B5C;\n",
              "      box-shadow: 0px 1px 3px 1px rgba(0, 0, 0, 0.15);\n",
              "      filter: drop-shadow(0px 1px 2px rgba(0, 0, 0, 0.3));\n",
              "      fill: #FFFFFF;\n",
              "    }\n",
              "  </style>\n",
              "\n",
              "      <script>\n",
              "        const buttonEl =\n",
              "          document.querySelector('#df-33bf184c-0f3d-4385-995e-cc1371b8b646 button.colab-df-convert');\n",
              "        buttonEl.style.display =\n",
              "          google.colab.kernel.accessAllowed ? 'block' : 'none';\n",
              "\n",
              "        async function convertToInteractive(key) {\n",
              "          const element = document.querySelector('#df-33bf184c-0f3d-4385-995e-cc1371b8b646');\n",
              "          const dataTable =\n",
              "            await google.colab.kernel.invokeFunction('convertToInteractive',\n",
              "                                                     [key], {});\n",
              "          if (!dataTable) return;\n",
              "\n",
              "          const docLinkHtml = 'Like what you see? Visit the ' +\n",
              "            '<a target=\"_blank\" href=https://colab.research.google.com/notebooks/data_table.ipynb>data table notebook</a>'\n",
              "            + ' to learn more about interactive tables.';\n",
              "          element.innerHTML = '';\n",
              "          dataTable['output_type'] = 'display_data';\n",
              "          await google.colab.output.renderOutput(dataTable, element);\n",
              "          const docLink = document.createElement('div');\n",
              "          docLink.innerHTML = docLinkHtml;\n",
              "          element.appendChild(docLink);\n",
              "        }\n",
              "      </script>\n",
              "    </div>\n",
              "  </div>\n",
              "  "
            ],
            "text/plain": [
              "   application_id loanapply_insert_time  bank_id  product_id  loan_limit  \\\n",
              "0         1748340   2022-06-07 13:05:41        7         191  42000000.0   \n",
              "1         1748340   2022-06-07 13:05:41       25         169  24000000.0   \n",
              "2         1748340   2022-06-07 13:05:41        2           7  24000000.0   \n",
              "3         1748340   2022-06-07 13:05:41        4         268  29000000.0   \n",
              "4         1748340   2022-06-07 13:05:41       11         118   5000000.0   \n",
              "\n",
              "   loan_rate  is_applied   user_id  birth_year  gender  ...   income_type  \\\n",
              "0       13.6         NaN  430982.0      1996.0     1.0  ...  EARNEDINCOME   \n",
              "1       17.9         NaN  430982.0      1996.0     1.0  ...  EARNEDINCOME   \n",
              "2       18.5         NaN  430982.0      1996.0     1.0  ...  EARNEDINCOME   \n",
              "3       10.8         NaN  430982.0      1996.0     1.0  ...  EARNEDINCOME   \n",
              "4       16.4         NaN  430982.0      1996.0     1.0  ...  EARNEDINCOME   \n",
              "\n",
              "   company_enter_month  employment_type houseown_type  desired_amount purpose  \\\n",
              "0           20220201.0              정규직            자가      25000000.0    대환대출   \n",
              "1           20220201.0              정규직            자가      25000000.0    대환대출   \n",
              "2           20220201.0              정규직            자가      25000000.0    대환대출   \n",
              "3           20220201.0              정규직            자가      25000000.0    대환대출   \n",
              "4           20220201.0              정규직            자가      25000000.0    대환대출   \n",
              "\n",
              "  personal_rehabilitation_yn  personal_rehabilitation_complete_yn  \\\n",
              "0                        0.0                                  0.0   \n",
              "1                        0.0                                  0.0   \n",
              "2                        0.0                                  0.0   \n",
              "3                        0.0                                  0.0   \n",
              "4                        0.0                                  0.0   \n",
              "\n",
              "  existing_loan_cnt  existing_loan_amt  \n",
              "0               2.0         15000000.0  \n",
              "1               2.0         15000000.0  \n",
              "2               2.0         15000000.0  \n",
              "3               2.0         15000000.0  \n",
              "4               2.0         15000000.0  \n",
              "\n",
              "[5 rows x 23 columns]"
            ]
          },
          "execution_count": 10,
          "metadata": {},
          "output_type": "execute_result"
        }
      ],
      "source": [
        "# loan_result, user_spec 'application id' 기준 left merge\n",
        "merge_user_loan = pd.merge(loan_result, user_spec, how='left', on='application_id')\n",
        "print(len(merge_user_loan))\n",
        "merge_user_loan.head()"
      ]
    },
    {
      "cell_type": "markdown",
      "metadata": {
        "id": "u1xoORLnO4_5"
      },
      "source": [
        "## 학습용 데이터 / 예측할 데이터 분리"
      ]
    },
    {
      "cell_type": "markdown",
      "metadata": {
        "id": "ilh2tM3pJn6X"
      },
      "source": [
        "is_applied : NaN 값인 것 target으로 분리"
      ]
    },
    {
      "cell_type": "code",
      "execution_count": null,
      "metadata": {
        "colab": {
          "base_uri": "https://localhost:8080/"
        },
        "id": "T9BZgEo8Kp0O",
        "outputId": "66819cf0-9fe7-428c-d380-a29cd017412d"
      },
      "outputs": [
        {
          "name": "stdout",
          "output_type": "stream",
          "text": [
            "total length : 13527363, train length : 10270124, target length : 3257239\n"
          ]
        }
      ],
      "source": [
        "merge_train = merge_user_loan[merge_user_loan['is_applied'].notnull()]\n",
        "merge_target = merge_user_loan[merge_user_loan['is_applied'].isnull()]\n",
        "print(f'total length : {len(merge_user_loan)}, train length : {len(merge_train)}, target length : {len(merge_target)}')"
      ]
    },
    {
      "cell_type": "code",
      "execution_count": null,
      "metadata": {
        "colab": {
          "base_uri": "https://localhost:8080/"
        },
        "id": "IKijhxZjOtti",
        "outputId": "61825cc5-e2d6-4303-bd31-62930189c8b4"
      },
      "outputs": [
        {
          "data": {
            "text/html": [
              "\n",
              "  <div id=\"df-cc344d5f-65ef-415c-a66f-63e8389d59f3\">\n",
              "    <div class=\"colab-df-container\">\n",
              "      <div>\n",
              "<style scoped>\n",
              "    .dataframe tbody tr th:only-of-type {\n",
              "        vertical-align: middle;\n",
              "    }\n",
              "\n",
              "    .dataframe tbody tr th {\n",
              "        vertical-align: top;\n",
              "    }\n",
              "\n",
              "    .dataframe thead th {\n",
              "        text-align: right;\n",
              "    }\n",
              "</style>\n",
              "<table border=\"1\" class=\"dataframe\">\n",
              "  <thead>\n",
              "    <tr style=\"text-align: right;\">\n",
              "      <th></th>\n",
              "      <th>application_id</th>\n",
              "      <th>loanapply_insert_time</th>\n",
              "      <th>bank_id</th>\n",
              "      <th>product_id</th>\n",
              "      <th>loan_limit</th>\n",
              "      <th>loan_rate</th>\n",
              "      <th>is_applied</th>\n",
              "      <th>user_id</th>\n",
              "      <th>birth_year</th>\n",
              "      <th>gender</th>\n",
              "      <th>...</th>\n",
              "      <th>income_type</th>\n",
              "      <th>company_enter_month</th>\n",
              "      <th>employment_type</th>\n",
              "      <th>houseown_type</th>\n",
              "      <th>desired_amount</th>\n",
              "      <th>purpose</th>\n",
              "      <th>personal_rehabilitation_yn</th>\n",
              "      <th>personal_rehabilitation_complete_yn</th>\n",
              "      <th>existing_loan_cnt</th>\n",
              "      <th>existing_loan_amt</th>\n",
              "    </tr>\n",
              "  </thead>\n",
              "  <tbody>\n",
              "    <tr>\n",
              "      <th>13284</th>\n",
              "      <td>2157865</td>\n",
              "      <td>2022-05-09 08:44:59</td>\n",
              "      <td>54</td>\n",
              "      <td>235</td>\n",
              "      <td>20000000.0</td>\n",
              "      <td>16.5</td>\n",
              "      <td>1.0</td>\n",
              "      <td>346970.0</td>\n",
              "      <td>1970.0</td>\n",
              "      <td>1.0</td>\n",
              "      <td>...</td>\n",
              "      <td>EARNEDINCOME</td>\n",
              "      <td>201312.0</td>\n",
              "      <td>정규직</td>\n",
              "      <td>자가</td>\n",
              "      <td>10000000.0</td>\n",
              "      <td>생활비</td>\n",
              "      <td>0.0</td>\n",
              "      <td>NaN</td>\n",
              "      <td>12.0</td>\n",
              "      <td>162000000.0</td>\n",
              "    </tr>\n",
              "    <tr>\n",
              "      <th>13285</th>\n",
              "      <td>576643</td>\n",
              "      <td>2022-05-09 10:54:53</td>\n",
              "      <td>54</td>\n",
              "      <td>235</td>\n",
              "      <td>11000000.0</td>\n",
              "      <td>16.5</td>\n",
              "      <td>0.0</td>\n",
              "      <td>545882.0</td>\n",
              "      <td>1977.0</td>\n",
              "      <td>1.0</td>\n",
              "      <td>...</td>\n",
              "      <td>EARNEDINCOME</td>\n",
              "      <td>201908.0</td>\n",
              "      <td>정규직</td>\n",
              "      <td>전월세</td>\n",
              "      <td>20000000.0</td>\n",
              "      <td>생활비</td>\n",
              "      <td>0.0</td>\n",
              "      <td>NaN</td>\n",
              "      <td>7.0</td>\n",
              "      <td>106000000.0</td>\n",
              "    </tr>\n",
              "    <tr>\n",
              "      <th>13286</th>\n",
              "      <td>576643</td>\n",
              "      <td>2022-05-09 10:54:53</td>\n",
              "      <td>11</td>\n",
              "      <td>118</td>\n",
              "      <td>3000000.0</td>\n",
              "      <td>20.0</td>\n",
              "      <td>0.0</td>\n",
              "      <td>545882.0</td>\n",
              "      <td>1977.0</td>\n",
              "      <td>1.0</td>\n",
              "      <td>...</td>\n",
              "      <td>EARNEDINCOME</td>\n",
              "      <td>201908.0</td>\n",
              "      <td>정규직</td>\n",
              "      <td>전월세</td>\n",
              "      <td>20000000.0</td>\n",
              "      <td>생활비</td>\n",
              "      <td>0.0</td>\n",
              "      <td>NaN</td>\n",
              "      <td>7.0</td>\n",
              "      <td>106000000.0</td>\n",
              "    </tr>\n",
              "    <tr>\n",
              "      <th>13287</th>\n",
              "      <td>2136706</td>\n",
              "      <td>2022-05-09 10:41:06</td>\n",
              "      <td>42</td>\n",
              "      <td>216</td>\n",
              "      <td>10000000.0</td>\n",
              "      <td>13.5</td>\n",
              "      <td>0.0</td>\n",
              "      <td>558819.0</td>\n",
              "      <td>1983.0</td>\n",
              "      <td>1.0</td>\n",
              "      <td>...</td>\n",
              "      <td>EARNEDINCOME</td>\n",
              "      <td>201203.0</td>\n",
              "      <td>정규직</td>\n",
              "      <td>전월세</td>\n",
              "      <td>80000000.0</td>\n",
              "      <td>대환대출</td>\n",
              "      <td>0.0</td>\n",
              "      <td>NaN</td>\n",
              "      <td>2.0</td>\n",
              "      <td>58000000.0</td>\n",
              "    </tr>\n",
              "    <tr>\n",
              "      <th>13288</th>\n",
              "      <td>2136706</td>\n",
              "      <td>2022-05-09 10:41:07</td>\n",
              "      <td>25</td>\n",
              "      <td>169</td>\n",
              "      <td>22000000.0</td>\n",
              "      <td>15.9</td>\n",
              "      <td>0.0</td>\n",
              "      <td>558819.0</td>\n",
              "      <td>1983.0</td>\n",
              "      <td>1.0</td>\n",
              "      <td>...</td>\n",
              "      <td>EARNEDINCOME</td>\n",
              "      <td>201203.0</td>\n",
              "      <td>정규직</td>\n",
              "      <td>전월세</td>\n",
              "      <td>80000000.0</td>\n",
              "      <td>대환대출</td>\n",
              "      <td>0.0</td>\n",
              "      <td>NaN</td>\n",
              "      <td>2.0</td>\n",
              "      <td>58000000.0</td>\n",
              "    </tr>\n",
              "  </tbody>\n",
              "</table>\n",
              "<p>5 rows × 23 columns</p>\n",
              "</div>\n",
              "      <button class=\"colab-df-convert\" onclick=\"convertToInteractive('df-cc344d5f-65ef-415c-a66f-63e8389d59f3')\"\n",
              "              title=\"Convert this dataframe to an interactive table.\"\n",
              "              style=\"display:none;\">\n",
              "        \n",
              "  <svg xmlns=\"http://www.w3.org/2000/svg\" height=\"24px\"viewBox=\"0 0 24 24\"\n",
              "       width=\"24px\">\n",
              "    <path d=\"M0 0h24v24H0V0z\" fill=\"none\"/>\n",
              "    <path d=\"M18.56 5.44l.94 2.06.94-2.06 2.06-.94-2.06-.94-.94-2.06-.94 2.06-2.06.94zm-11 1L8.5 8.5l.94-2.06 2.06-.94-2.06-.94L8.5 2.5l-.94 2.06-2.06.94zm10 10l.94 2.06.94-2.06 2.06-.94-2.06-.94-.94-2.06-.94 2.06-2.06.94z\"/><path d=\"M17.41 7.96l-1.37-1.37c-.4-.4-.92-.59-1.43-.59-.52 0-1.04.2-1.43.59L10.3 9.45l-7.72 7.72c-.78.78-.78 2.05 0 2.83L4 21.41c.39.39.9.59 1.41.59.51 0 1.02-.2 1.41-.59l7.78-7.78 2.81-2.81c.8-.78.8-2.07 0-2.86zM5.41 20L4 18.59l7.72-7.72 1.47 1.35L5.41 20z\"/>\n",
              "  </svg>\n",
              "      </button>\n",
              "      \n",
              "  <style>\n",
              "    .colab-df-container {\n",
              "      display:flex;\n",
              "      flex-wrap:wrap;\n",
              "      gap: 12px;\n",
              "    }\n",
              "\n",
              "    .colab-df-convert {\n",
              "      background-color: #E8F0FE;\n",
              "      border: none;\n",
              "      border-radius: 50%;\n",
              "      cursor: pointer;\n",
              "      display: none;\n",
              "      fill: #1967D2;\n",
              "      height: 32px;\n",
              "      padding: 0 0 0 0;\n",
              "      width: 32px;\n",
              "    }\n",
              "\n",
              "    .colab-df-convert:hover {\n",
              "      background-color: #E2EBFA;\n",
              "      box-shadow: 0px 1px 2px rgba(60, 64, 67, 0.3), 0px 1px 3px 1px rgba(60, 64, 67, 0.15);\n",
              "      fill: #174EA6;\n",
              "    }\n",
              "\n",
              "    [theme=dark] .colab-df-convert {\n",
              "      background-color: #3B4455;\n",
              "      fill: #D2E3FC;\n",
              "    }\n",
              "\n",
              "    [theme=dark] .colab-df-convert:hover {\n",
              "      background-color: #434B5C;\n",
              "      box-shadow: 0px 1px 3px 1px rgba(0, 0, 0, 0.15);\n",
              "      filter: drop-shadow(0px 1px 2px rgba(0, 0, 0, 0.3));\n",
              "      fill: #FFFFFF;\n",
              "    }\n",
              "  </style>\n",
              "\n",
              "      <script>\n",
              "        const buttonEl =\n",
              "          document.querySelector('#df-cc344d5f-65ef-415c-a66f-63e8389d59f3 button.colab-df-convert');\n",
              "        buttonEl.style.display =\n",
              "          google.colab.kernel.accessAllowed ? 'block' : 'none';\n",
              "\n",
              "        async function convertToInteractive(key) {\n",
              "          const element = document.querySelector('#df-cc344d5f-65ef-415c-a66f-63e8389d59f3');\n",
              "          const dataTable =\n",
              "            await google.colab.kernel.invokeFunction('convertToInteractive',\n",
              "                                                     [key], {});\n",
              "          if (!dataTable) return;\n",
              "\n",
              "          const docLinkHtml = 'Like what you see? Visit the ' +\n",
              "            '<a target=\"_blank\" href=https://colab.research.google.com/notebooks/data_table.ipynb>data table notebook</a>'\n",
              "            + ' to learn more about interactive tables.';\n",
              "          element.innerHTML = '';\n",
              "          dataTable['output_type'] = 'display_data';\n",
              "          await google.colab.output.renderOutput(dataTable, element);\n",
              "          const docLink = document.createElement('div');\n",
              "          docLink.innerHTML = docLinkHtml;\n",
              "          element.appendChild(docLink);\n",
              "        }\n",
              "      </script>\n",
              "    </div>\n",
              "  </div>\n",
              "  "
            ],
            "text/plain": [
              "       application_id loanapply_insert_time  bank_id  product_id  loan_limit  \\\n",
              "13284         2157865   2022-05-09 08:44:59       54         235  20000000.0   \n",
              "13285          576643   2022-05-09 10:54:53       54         235  11000000.0   \n",
              "13286          576643   2022-05-09 10:54:53       11         118   3000000.0   \n",
              "13287         2136706   2022-05-09 10:41:06       42         216  10000000.0   \n",
              "13288         2136706   2022-05-09 10:41:07       25         169  22000000.0   \n",
              "\n",
              "       loan_rate  is_applied   user_id  birth_year  gender  ...   income_type  \\\n",
              "13284       16.5         1.0  346970.0      1970.0     1.0  ...  EARNEDINCOME   \n",
              "13285       16.5         0.0  545882.0      1977.0     1.0  ...  EARNEDINCOME   \n",
              "13286       20.0         0.0  545882.0      1977.0     1.0  ...  EARNEDINCOME   \n",
              "13287       13.5         0.0  558819.0      1983.0     1.0  ...  EARNEDINCOME   \n",
              "13288       15.9         0.0  558819.0      1983.0     1.0  ...  EARNEDINCOME   \n",
              "\n",
              "       company_enter_month  employment_type houseown_type  desired_amount  \\\n",
              "13284             201312.0              정규직            자가      10000000.0   \n",
              "13285             201908.0              정규직           전월세      20000000.0   \n",
              "13286             201908.0              정규직           전월세      20000000.0   \n",
              "13287             201203.0              정규직           전월세      80000000.0   \n",
              "13288             201203.0              정규직           전월세      80000000.0   \n",
              "\n",
              "      purpose personal_rehabilitation_yn  personal_rehabilitation_complete_yn  \\\n",
              "13284     생활비                        0.0                                  NaN   \n",
              "13285     생활비                        0.0                                  NaN   \n",
              "13286     생활비                        0.0                                  NaN   \n",
              "13287    대환대출                        0.0                                  NaN   \n",
              "13288    대환대출                        0.0                                  NaN   \n",
              "\n",
              "      existing_loan_cnt  existing_loan_amt  \n",
              "13284              12.0        162000000.0  \n",
              "13285               7.0        106000000.0  \n",
              "13286               7.0        106000000.0  \n",
              "13287               2.0         58000000.0  \n",
              "13288               2.0         58000000.0  \n",
              "\n",
              "[5 rows x 23 columns]"
            ]
          },
          "execution_count": 12,
          "metadata": {},
          "output_type": "execute_result"
        }
      ],
      "source": [
        "merge_train.head()"
      ]
    },
    {
      "cell_type": "markdown",
      "metadata": {
        "id": "6-JovfoYVC9n"
      },
      "source": [
        "## EDA"
      ]
    },
    {
      "cell_type": "markdown",
      "metadata": {
        "id": "NowNGP4g08hX"
      },
      "source": [
        "### 전체 통계치 확인"
      ]
    },
    {
      "cell_type": "code",
      "execution_count": null,
      "metadata": {
        "colab": {
          "base_uri": "https://localhost:8080/"
        },
        "id": "d9aspGTX1LTa",
        "outputId": "fb07c0a9-dc9a-4241-8de3-4066fb203501"
      },
      "outputs": [
        {
          "name": "stdout",
          "output_type": "stream",
          "text": [
            "<class 'pandas.core.frame.DataFrame'>\n",
            "Int64Index: 10270124 entries, 13284 to 13519638\n",
            "Data columns (total 23 columns):\n",
            " #   Column                               Dtype  \n",
            "---  ------                               -----  \n",
            " 0   application_id                       int64  \n",
            " 1   loanapply_insert_time                object \n",
            " 2   bank_id                              int64  \n",
            " 3   product_id                           int64  \n",
            " 4   loan_limit                           float64\n",
            " 5   loan_rate                            float64\n",
            " 6   is_applied                           float64\n",
            " 7   user_id                              float64\n",
            " 8   birth_year                           float64\n",
            " 9   gender                               float64\n",
            " 10  insert_time                          object \n",
            " 11  credit_score                         float64\n",
            " 12  yearly_income                        float64\n",
            " 13  income_type                          object \n",
            " 14  company_enter_month                  float64\n",
            " 15  employment_type                      object \n",
            " 16  houseown_type                        object \n",
            " 17  desired_amount                       float64\n",
            " 18  purpose                              object \n",
            " 19  personal_rehabilitation_yn           float64\n",
            " 20  personal_rehabilitation_complete_yn  float64\n",
            " 21  existing_loan_cnt                    float64\n",
            " 22  existing_loan_amt                    float64\n",
            "dtypes: float64(14), int64(3), object(6)\n",
            "memory usage: 1.8+ GB\n"
          ]
        }
      ],
      "source": [
        "merge_train.info()"
      ]
    },
    {
      "cell_type": "code",
      "execution_count": null,
      "metadata": {
        "colab": {
          "base_uri": "https://localhost:8080/"
        },
        "id": "Of29O_2B2XK9",
        "outputId": "6a74df00-f75a-4350-de8b-3f818181c90c"
      },
      "outputs": [
        {
          "data": {
            "text/plain": [
              "application_id                               0\n",
              "loanapply_insert_time                        0\n",
              "bank_id                                      0\n",
              "product_id                                   0\n",
              "loan_limit                                5738\n",
              "loan_rate                                 5738\n",
              "is_applied                                   0\n",
              "user_id                                    113\n",
              "birth_year                               91739\n",
              "gender                                   91739\n",
              "insert_time                                113\n",
              "credit_score                           1243925\n",
              "yearly_income                              113\n",
              "income_type                                113\n",
              "company_enter_month                     303681\n",
              "employment_type                            113\n",
              "houseown_type                              113\n",
              "desired_amount                             113\n",
              "purpose                                    113\n",
              "personal_rehabilitation_yn             5873342\n",
              "personal_rehabilitation_complete_yn    9232345\n",
              "existing_loan_cnt                      2143924\n",
              "existing_loan_amt                      3044253\n",
              "dtype: int64"
            ]
          },
          "execution_count": 14,
          "metadata": {},
          "output_type": "execute_result"
        }
      ],
      "source": [
        "merge_train.isnull().sum()"
      ]
    },
    {
      "cell_type": "code",
      "execution_count": null,
      "metadata": {
        "colab": {
          "base_uri": "https://localhost:8080/"
        },
        "id": "I7VgMQa3Pr5x",
        "outputId": "f40e7613-4bf3-4c51-84e3-0ae8835acec1"
      },
      "outputs": [
        {
          "data": {
            "text/plain": [
              "application_id                               0\n",
              "loanapply_insert_time                        0\n",
              "bank_id                                      0\n",
              "product_id                                   0\n",
              "loan_limit                                1757\n",
              "loan_rate                                 1757\n",
              "is_applied                             3257239\n",
              "user_id                                      0\n",
              "birth_year                               36470\n",
              "gender                                   36470\n",
              "insert_time                                  0\n",
              "credit_score                            265464\n",
              "yearly_income                                6\n",
              "income_type                                  0\n",
              "company_enter_month                      96769\n",
              "employment_type                              0\n",
              "houseown_type                                0\n",
              "desired_amount                               0\n",
              "purpose                                      0\n",
              "personal_rehabilitation_yn               15472\n",
              "personal_rehabilitation_complete_yn    2561745\n",
              "existing_loan_cnt                       541898\n",
              "existing_loan_amt                       846023\n",
              "dtype: int64"
            ]
          },
          "execution_count": 15,
          "metadata": {},
          "output_type": "execute_result"
        }
      ],
      "source": [
        "merge_target.isnull().sum()"
      ]
    },
    {
      "cell_type": "markdown",
      "metadata": {
        "id": "SgNqJ0TZQAsQ"
      },
      "source": [
        "* train에서 data 결측치 있지만 target data에서는 모든 데이터 존재하는 column\n",
        "\n",
        "   user_id, insert_time, income_type, employment_type, houseown_type, desired_amount, purpose\n",
        "\n",
        "> 학습에서만 결측치 채우면 될듯\n",
        "\n"
      ]
    },
    {
      "cell_type": "markdown",
      "metadata": {
        "id": "OHA5mBw2QlMh"
      },
      "source": [
        "* 결측치 filling 방법에 대해 생각해봐야 할 column\n",
        "  *   loan_rate : 승인한도\n",
        "  *   credit_score : 신용점수\n",
        "  *   yearly_income : 연소득\n",
        "  *   company_enter_month : 입사연월\n",
        "  *   personal_rehabilitation_yn : 개인회생자여부\n",
        "  *   personal_rehabilitation_complete_yn : 개인회생자납입완료여부\n",
        "  *   existing_loan_cnt : 기대출수\n",
        "  *   existing_loan_amt : 기대출금액\n"
      ]
    },
    {
      "cell_type": "code",
      "execution_count": null,
      "metadata": {
        "colab": {
          "base_uri": "https://localhost:8080/"
        },
        "id": "v-O3XqRlPTPI",
        "outputId": "dec7c940-42e5-4494-b9e8-cddbf4f7f641"
      },
      "outputs": [
        {
          "name": "stdout",
          "output_type": "stream",
          "text": [
            "<class 'pandas.core.frame.DataFrame'>\n",
            "Int64Index: 10270124 entries, 13284 to 13519638\n",
            "Data columns (total 23 columns):\n",
            " #   Column                               Dtype  \n",
            "---  ------                               -----  \n",
            " 0   application_id                       int64  \n",
            " 1   loanapply_insert_time                object \n",
            " 2   bank_id                              int64  \n",
            " 3   product_id                           int64  \n",
            " 4   loan_limit                           float64\n",
            " 5   loan_rate                            float64\n",
            " 6   is_applied                           float64\n",
            " 7   user_id                              float64\n",
            " 8   birth_year                           float64\n",
            " 9   gender                               float64\n",
            " 10  insert_time                          object \n",
            " 11  credit_score                         float64\n",
            " 12  yearly_income                        float64\n",
            " 13  income_type                          object \n",
            " 14  company_enter_month                  float64\n",
            " 15  employment_type                      object \n",
            " 16  houseown_type                        object \n",
            " 17  desired_amount                       float64\n",
            " 18  purpose                              object \n",
            " 19  personal_rehabilitation_yn           float64\n",
            " 20  personal_rehabilitation_complete_yn  float64\n",
            " 21  existing_loan_cnt                    float64\n",
            " 22  existing_loan_amt                    float64\n",
            "dtypes: float64(14), int64(3), object(6)\n",
            "memory usage: 1.8+ GB\n"
          ]
        }
      ],
      "source": [
        "merge_train.info()"
      ]
    },
    {
      "cell_type": "code",
      "execution_count": null,
      "metadata": {
        "colab": {
          "base_uri": "https://localhost:8080/"
        },
        "id": "LkEb5HzoceVy",
        "outputId": "5e211509-aa7d-46ba-d422-46285c74e377"
      },
      "outputs": [
        {
          "data": {
            "text/plain": [
              "['application_id',\n",
              " 'loanapply_insert_time',\n",
              " 'bank_id',\n",
              " 'product_id',\n",
              " 'loan_limit',\n",
              " 'loan_rate',\n",
              " 'is_applied',\n",
              " 'user_id',\n",
              " 'birth_year',\n",
              " 'gender',\n",
              " 'insert_time',\n",
              " 'credit_score',\n",
              " 'yearly_income',\n",
              " 'income_type',\n",
              " 'company_enter_month',\n",
              " 'employment_type',\n",
              " 'houseown_type',\n",
              " 'desired_amount',\n",
              " 'purpose',\n",
              " 'personal_rehabilitation_yn',\n",
              " 'personal_rehabilitation_complete_yn',\n",
              " 'existing_loan_cnt',\n",
              " 'existing_loan_amt']"
            ]
          },
          "execution_count": 17,
          "metadata": {},
          "output_type": "execute_result"
        }
      ],
      "source": [
        "list(merge_train.columns)"
      ]
    },
    {
      "cell_type": "code",
      "execution_count": null,
      "metadata": {
        "colab": {
          "base_uri": "https://localhost:8080/"
        },
        "id": "Dn7JNsyu5Lbk",
        "outputId": "304dd143-fa2c-495e-ba23-573a4cdc2655"
      },
      "outputs": [
        {
          "data": {
            "text/plain": [
              "['loan_rate',\n",
              " 'yearly_income',\n",
              " 'birth_year',\n",
              " 'loan_limit',\n",
              " 'company_enter_month',\n",
              " 'existing_loan_cnt',\n",
              " 'desired_amount',\n",
              " 'existing_loan_amt',\n",
              " 'credit_score']"
            ]
          },
          "execution_count": 18,
          "metadata": {},
          "output_type": "execute_result"
        }
      ],
      "source": [
        "id_col = ['application_id', 'user_id', 'product_id', 'bank_id']\n",
        "time_col = ['loanapply_insert_time', 'insert_time']\n",
        "cat_col = ['income_type', 'employment_type', 'houseown_type', 'purpose', 'gender', 'personal_rehabilitation_complete_yn', 'personal_rehabilitation_yn']\n",
        "y_col = ['is_applied']\n",
        "\n",
        "num_col = list(set(merge_train.columns) -set(id_col) - set(time_col) - set(cat_col) - set(y_col))\n",
        "num_col"
      ]
    },
    {
      "cell_type": "markdown",
      "metadata": {
        "id": "UAf9iYMwzeJr"
      },
      "source": [
        "### 이산형 / 카테고리형 데이터 분포"
      ]
    },
    {
      "cell_type": "markdown",
      "metadata": {
        "id": "RIt24O4YKTrh"
      },
      "source": [
        "변수별 개수, 고윳값부터 확인"
      ]
    },
    {
      "cell_type": "code",
      "execution_count": null,
      "metadata": {
        "colab": {
          "base_uri": "https://localhost:8080/"
        },
        "id": "a_fze-R85V-X",
        "outputId": "63ea6011-3674-467f-b8dc-1e4b8279f1ce"
      },
      "outputs": [
        {
          "name": "stdout",
          "output_type": "stream",
          "text": [
            "### income_type value counts ###\n",
            "EARNEDINCOME       8715709\n",
            "EARNEDINCOME2       471749\n",
            "PRIVATEBUSINESS     372048\n",
            "OTHERINCOME         305780\n",
            "FREELANCER          247968\n",
            "PRACTITIONER        156757\n",
            "Name: income_type, dtype: int64\n",
            "### employment_type value counts ###\n",
            "정규직    8398785\n",
            "계약직     903218\n",
            "기타      829518\n",
            "일용직     138490\n",
            "Name: employment_type, dtype: int64\n",
            "### houseown_type value counts ###\n",
            "전월세       4594255\n",
            "자가        2876280\n",
            "기타가족소유    2787211\n",
            "배우자         12265\n",
            "Name: houseown_type, dtype: int64\n",
            "### purpose value counts ###\n",
            "생활비             5156402\n",
            "대환대출            3066047\n",
            "주택구입             433081\n",
            "전월세보증금           426639\n",
            "사업자금             418196\n",
            "기타               303879\n",
            "투자               219684\n",
            "LIVING           107532\n",
            "자동차구입             55759\n",
            "SWITCHLOAN        33615\n",
            "HOUSEDEPOSIT      15912\n",
            "BUYHOUSE          10989\n",
            "BUSINESS           8513\n",
            "ETC                7374\n",
            "INVEST             3634\n",
            "BUYCAR             2755\n",
            "Name: purpose, dtype: int64\n",
            "### gender value counts ###\n",
            "1.0    7060343\n",
            "0.0    3118042\n",
            "Name: gender, dtype: int64\n",
            "### personal_rehabilitation_complete_yn value counts ###\n",
            "0.0    1033663\n",
            "1.0       4116\n",
            "Name: personal_rehabilitation_complete_yn, dtype: int64\n",
            "### personal_rehabilitation_yn value counts ###\n",
            "0.0    4373731\n",
            "1.0      23051\n",
            "Name: personal_rehabilitation_yn, dtype: int64\n"
          ]
        }
      ],
      "source": [
        "for col in cat_col:\n",
        "  print(\"### \" + col + \" value counts ###\")\n",
        "  print(merge_train[col].value_counts())"
      ]
    },
    {
      "cell_type": "markdown",
      "metadata": {
        "id": "zgP3vfL5hS1H"
      },
      "source": [
        "* purpose value 에서 다음과 같이 영문/한글명이 혼재되어있음을 확인했다.\n",
        "\n",
        "\n",
        "생활비             5156402\n",
        "대환대출            3066047\n",
        "주택구입             433081\n",
        "전월세보증금           426639\n",
        "사업자금             418196\n",
        "기타               303879\n",
        "투자               219684\n",
        "LIVING           107532\n",
        "자동차구입             55759\n",
        "SWITCHLOAN        33615\n",
        "HOUSEDEPOSIT      15912\n",
        "BUYHOUSE          10989\n",
        "BUSINESS           8513\n",
        "ETC                7374\n",
        "INVEST             3634\n",
        "BUYCAR             2755"
      ]
    },
    {
      "cell_type": "markdown",
      "metadata": {
        "id": "Ca7Ubc1xi4rQ"
      },
      "source": [
        "#### 한글 value 영문으로 변환"
      ]
    },
    {
      "cell_type": "code",
      "execution_count": null,
      "metadata": {
        "id": "qdNd2xxifTz5"
      },
      "outputs": [],
      "source": [
        "# korean value to english\n",
        "def kor_to_eng(df):\n",
        "\n",
        "  df2 = df.copy()\n",
        "  df2.replace({'employment_type':'정규직'}, 'PERMANENT', inplace=True)\n",
        "  df2.replace({'employment_type':'계약직'}, 'CONTRACT', inplace=True)\n",
        "  df2.replace({'employment_type':'일용직'}, 'DAYJOB', inplace=True)\n",
        "  df2.replace({'employment_type':'기타'}, 'ETC', inplace=True)\n",
        "\n",
        "  df2.replace({'houseown_type':'전월세'}, 'RENT', inplace=True)\n",
        "  df2.replace({'houseown_type':'자가'}, 'OWN', inplace=True)\n",
        "  df2.replace({'houseown_type':'기타가족소유'}, 'FAMILY_ETC', inplace=True)\n",
        "  df2.replace({'houseown_type':'배우자'}, 'SPOUSE', inplace=True)\n",
        "\n",
        "  df2.replace({'purpose':'생활비'}, 'LIVING', inplace=True)\n",
        "  df2.replace({'purpose':'대환대출'}, 'SWITCHLOAN', inplace=True)\n",
        "  df2.replace({'purpose':'주택구입'}, 'BUYHOUSE', inplace=True)\n",
        "  df2.replace({'purpose':'전월세보증금'}, 'HOUSEDEPOSIT', inplace=True)\n",
        "  df2.replace({'purpose':'사업자금'}, 'BUSINESS', inplace=True)\n",
        "  df2.replace({'purpose':'기타'}, 'ETC', inplace=True)\n",
        "  df2.replace({'purpose':'투자'}, 'INVEST', inplace=True)\n",
        "  df2.replace({'purpose':'자동차구입'}, 'BUYCAR', inplace=True)\n",
        "\n",
        "  return df2"
      ]
    },
    {
      "cell_type": "code",
      "execution_count": null,
      "metadata": {
        "id": "PcozOTu6ifxn"
      },
      "outputs": [],
      "source": [
        "merge_train = kor_to_eng(merge_train)\n",
        "merge_target = kor_to_eng(merge_target)"
      ]
    },
    {
      "cell_type": "code",
      "execution_count": null,
      "metadata": {
        "colab": {
          "base_uri": "https://localhost:8080/"
        },
        "id": "1TjgyQUAi905",
        "outputId": "aa9816c3-8d7e-4bc2-b108-6038a9bf04b0"
      },
      "outputs": [
        {
          "name": "stdout",
          "output_type": "stream",
          "text": [
            "### income_type value counts ###\n",
            "EARNEDINCOME       8715709\n",
            "EARNEDINCOME2       471749\n",
            "PRIVATEBUSINESS     372048\n",
            "OTHERINCOME         305780\n",
            "FREELANCER          247968\n",
            "PRACTITIONER        156757\n",
            "Name: income_type, dtype: int64\n",
            "### employment_type value counts ###\n",
            "PERMANENT    8398785\n",
            "CONTRACT      903218\n",
            "ETC           829518\n",
            "DAYJOB        138490\n",
            "Name: employment_type, dtype: int64\n",
            "### houseown_type value counts ###\n",
            "RENT          4594255\n",
            "OWN           2876280\n",
            "FAMILY_ETC    2787211\n",
            "SPOUSE          12265\n",
            "Name: houseown_type, dtype: int64\n",
            "### purpose value counts ###\n",
            "LIVING          5263934\n",
            "SWITCHLOAN      3099662\n",
            "BUYHOUSE         444070\n",
            "HOUSEDEPOSIT     442551\n",
            "BUSINESS         426709\n",
            "ETC              311253\n",
            "INVEST           223318\n",
            "BUYCAR            58514\n",
            "Name: purpose, dtype: int64\n",
            "### gender value counts ###\n",
            "1.0    7060343\n",
            "0.0    3118042\n",
            "Name: gender, dtype: int64\n",
            "### personal_rehabilitation_complete_yn value counts ###\n",
            "0.0    1033663\n",
            "1.0       4116\n",
            "Name: personal_rehabilitation_complete_yn, dtype: int64\n",
            "### personal_rehabilitation_yn value counts ###\n",
            "0.0    4373731\n",
            "1.0      23051\n",
            "Name: personal_rehabilitation_yn, dtype: int64\n"
          ]
        }
      ],
      "source": [
        "for col in cat_col:\n",
        "  print(\"### \" + col + \" value counts ###\")\n",
        "  print(merge_train[col].value_counts())"
      ]
    },
    {
      "cell_type": "code",
      "execution_count": null,
      "metadata": {
        "colab": {
          "base_uri": "https://localhost:8080/"
        },
        "id": "-ocwyhLmkPNF",
        "outputId": "df83ef18-2fb7-4067-cd2f-e35853525ab0"
      },
      "outputs": [
        {
          "name": "stdout",
          "output_type": "stream",
          "text": [
            "### income_type value counts ###\n",
            "EARNEDINCOME       2751536\n",
            "PRACTITIONER        128624\n",
            "PRIVATEBUSINESS     122189\n",
            "OTHERINCOME          97070\n",
            "EARNEDINCOME2        92853\n",
            "FREELANCER           64967\n",
            "Name: income_type, dtype: int64\n",
            "### employment_type value counts ###\n",
            "PERMANENT    2667082\n",
            "CONTRACT      287842\n",
            "ETC           268716\n",
            "DAYJOB         33599\n",
            "Name: employment_type, dtype: int64\n",
            "### houseown_type value counts ###\n",
            "RENT          1430027\n",
            "OWN            940986\n",
            "FAMILY_ETC     885689\n",
            "SPOUSE            537\n",
            "Name: houseown_type, dtype: int64\n",
            "### purpose value counts ###\n",
            "LIVING          1672304\n",
            "SWITCHLOAN      1007315\n",
            "HOUSEDEPOSIT     142645\n",
            "BUYHOUSE         136598\n",
            "BUSINESS         133374\n",
            "ETC               96205\n",
            "INVEST            65986\n",
            "BUYCAR             2812\n",
            "Name: purpose, dtype: int64\n",
            "### gender value counts ###\n",
            "1.0    2225869\n",
            "0.0     994900\n",
            "Name: gender, dtype: int64\n",
            "### personal_rehabilitation_complete_yn value counts ###\n",
            "0.0    692959\n",
            "1.0      2535\n",
            "Name: personal_rehabilitation_complete_yn, dtype: int64\n",
            "### personal_rehabilitation_yn value counts ###\n",
            "0.0    3223592\n",
            "1.0      18175\n",
            "Name: personal_rehabilitation_yn, dtype: int64\n"
          ]
        }
      ],
      "source": [
        "for col in cat_col:\n",
        "  print(\"### \" + col + \" value counts ###\")\n",
        "  print(merge_target[col].value_counts())"
      ]
    },
    {
      "cell_type": "markdown",
      "metadata": {
        "id": "_Ql3BINMkV69"
      },
      "source": [
        "#### [시각화, countplot] 카테고리형 분포 "
      ]
    },
    {
      "cell_type": "code",
      "execution_count": null,
      "metadata": {
        "id": "6-DeWClvYwAT"
      },
      "outputs": [],
      "source": [
        "# histogram plotting\n",
        "%matplotlib inline\n",
        "import matplotlib.pyplot as plt\n",
        "import seaborn as sns\n",
        "\n",
        "# 드라이브에 이미지 파일 저장\n",
        "def save_fig(fig_id, tight_layout=True, fig_extension=\"png\", resolution=300):\n",
        "  path = os.path.join(IMAGE_PATH, fig_id + \".\" + fig_extension)\n",
        "  print(path)\n",
        "  print(\"그림 저장 : \", fig_id)\n",
        "  if tight_layout:\n",
        "    plt.tight_layout()\n",
        "  plt.savefig(path, format=fig_extension, dpi=resolution)\n",
        "\n",
        "# plot size = (m,n) 튜플 형태로 입력\n",
        "# col_list = 해당 데이터프레임에서 count plot으로 출력할 column들의 string list\n",
        "def count_plot(figsize, plotnum, data, col_list, title):\n",
        "  fig = plt.figure(figsize=figsize)\n",
        "  r, c = plotnum\n",
        "  fig_num = r*c\n",
        "\n",
        "  for idx in range(1,len(col_list)+1):\n",
        "    col = col_list[idx-1]\n",
        "    ax = fig.add_subplot(r,c,idx)\n",
        "    ax = sns.countplot(data=data[col], x=data[col].values)\n",
        "    ax.set_title(col)\n",
        "\n",
        "  plt.title(title)\n",
        "  save_fig(title)\n",
        "  plt.show()"
      ]
    },
    {
      "cell_type": "code",
      "execution_count": null,
      "metadata": {
        "colab": {
          "base_uri": "https://localhost:8080/"
        },
        "id": "r2QZb8Isa1pR",
        "outputId": "7119fa3b-b9cc-4ce8-a818-ae03bfa66394"
      },
      "outputs": [
        {
          "name": "stdout",
          "output_type": "stream",
          "text": [
            "/content/gdrive/My Drive/빅콘테스트_2022/img/categorical value countplot.png\n",
            "그림 저장 :  categorical value countplot\n"
          ]
        },
        {
          "data": {
            "image/png": "[encoded data removed]",
            "text/plain": [
              "<Figure size 1440x1080 with 7 Axes>"
            ]
          },
          "metadata": {},
          "output_type": "display_data"
        }
      ],
      "source": [
        "count_plot(figsize=(20,15), plotnum=(4,2), data=merge_train, col_list=cat_col, title=\"categorical value countplot\")"
      ]
    },
    {
      "cell_type": "code",
      "execution_count": null,
      "metadata": {
        "colab": {
          "base_uri": "https://localhost:8080/"
        },
        "id": "TzTQ6rl9Fbt1",
        "outputId": "9b10aa77-b049-4aec-c1a3-cc3328cc9aa7"
      },
      "outputs": [
        {
          "data": {
            "text/plain": [
              "35    601000\n",
              "38    491762\n",
              "59    376950\n",
              "33    328537\n",
              "49    316309\n",
              "       ...  \n",
              "60     30613\n",
              "2      29504\n",
              "39      6919\n",
              "9       3982\n",
              "16         5\n",
              "Name: bank_id, Length: 62, dtype: int64"
            ]
          },
          "execution_count": 26,
          "metadata": {},
          "output_type": "execute_result"
        }
      ],
      "source": [
        "merge_train['bank_id'].value_counts()"
      ]
    },
    {
      "cell_type": "code",
      "execution_count": null,
      "metadata": {
        "colab": {
          "base_uri": "https://localhost:8080/"
        },
        "id": "d17bCZVYFkSw",
        "outputId": "3ec9bd24-52f7-4447-8bc2-65c776b7d7b2"
      },
      "outputs": [
        {
          "name": "stdout",
          "output_type": "stream",
          "text": [
            "62\n"
          ]
        }
      ],
      "source": [
        "print(len(merge_train['bank_id'].unique()))"
      ]
    },
    {
      "cell_type": "code",
      "execution_count": null,
      "metadata": {
        "colab": {
          "base_uri": "https://localhost:8080/"
        },
        "id": "bG17tHzFFq0W",
        "outputId": "17d0c2bc-4c54-411d-d822-93b58e826548"
      },
      "outputs": [
        {
          "data": {
            "text/plain": [
              "150    224417\n",
              "61     215587\n",
              "36     210833\n",
              "110    197352\n",
              "56     188540\n",
              "        ...  \n",
              "165         3\n",
              "55          2\n",
              "211         1\n",
              "225         1\n",
              "53          1\n",
              "Name: product_id, Length: 178, dtype: int64"
            ]
          },
          "execution_count": 28,
          "metadata": {},
          "output_type": "execute_result"
        }
      ],
      "source": [
        "merge_train['product_id'].value_counts()"
      ]
    },
    {
      "cell_type": "code",
      "execution_count": null,
      "metadata": {
        "colab": {
          "base_uri": "https://localhost:8080/"
        },
        "id": "aGfDD_a_Ftlk",
        "outputId": "b1013be0-2e7c-4d1d-945c-8bc81017495f"
      },
      "outputs": [
        {
          "name": "stdout",
          "output_type": "stream",
          "text": [
            "178\n"
          ]
        }
      ],
      "source": [
        "print(len(merge_train['product_id'].unique()))"
      ]
    },
    {
      "cell_type": "markdown",
      "metadata": {
        "id": "i5oFHOrMlMRB"
      },
      "source": [
        "#### [시각화, countplot] 타깃 분포"
      ]
    },
    {
      "cell_type": "code",
      "execution_count": null,
      "metadata": {
        "colab": {
          "base_uri": "https://localhost:8080/"
        },
        "id": "6NuijMCllCIB",
        "outputId": "0deabb73-58ba-4b24-c325-1f98bc4ba9cb"
      },
      "outputs": [
        {
          "name": "stdout",
          "output_type": "stream",
          "text": [
            "/content/gdrive/My Drive/빅콘테스트_2022/img/target value countplot.png\n",
            "그림 저장 :  target value countplot\n"
          ]
        },
        {
          "data": {
            "image/png": "[encoded data removed]",
            "text/plain": [
              "<Figure size 1080x720 with 1 Axes>"
            ]
          },
          "metadata": {},
          "output_type": "display_data"
        }
      ],
      "source": [
        "count_plot(figsize=(15,10), plotnum=(1,1), data=merge_train, col_list=y_col, title=\"target value countplot\")"
      ]
    },
    {
      "cell_type": "markdown",
      "metadata": {
        "id": "c7uCdYnMlS83"
      },
      "source": [
        "타깃이 심각하게 불균형. 오버샘플링 등의 추가적인 기법 활용 필요"
      ]
    },
    {
      "cell_type": "markdown",
      "metadata": {
        "id": "ty1rPTuXzXxB"
      },
      "source": [
        "### 수치형 데이터 분포"
      ]
    },
    {
      "cell_type": "markdown",
      "metadata": {
        "id": "dsc1UwV7mqA3"
      },
      "source": [
        "#### 통계"
      ]
    },
    {
      "cell_type": "code",
      "execution_count": null,
      "metadata": {
        "colab": {
          "base_uri": "https://localhost:8080/"
        },
        "id": "raMVYXniXhtC",
        "outputId": "6abb4451-fb44-4f2d-bf30-9ddaffa5fdad"
      },
      "outputs": [
        {
          "data": {
            "text/plain": [
              "loan_rate                 5738\n",
              "yearly_income              113\n",
              "birth_year               91739\n",
              "loan_limit                5738\n",
              "company_enter_month     303681\n",
              "existing_loan_cnt      2143924\n",
              "desired_amount             113\n",
              "existing_loan_amt      3044253\n",
              "credit_score           1243925\n",
              "dtype: int64"
            ]
          },
          "execution_count": 31,
          "metadata": {},
          "output_type": "execute_result"
        }
      ],
      "source": [
        "merge_train[num_col].isnull().sum()"
      ]
    },
    {
      "cell_type": "code",
      "execution_count": null,
      "metadata": {
        "colab": {
          "base_uri": "https://localhost:8080/"
        },
        "id": "Ns1B6QLa5TEu",
        "outputId": "0f29d265-01d9-4c9f-80d7-2202bbac4c86"
      },
      "outputs": [
        {
          "data": {
            "text/html": [
              "\n",
              "  <div id=\"df-f0053626-6433-4b3f-9c28-4346ac7dfcdd\">\n",
              "    <div class=\"colab-df-container\">\n",
              "      <div>\n",
              "<style scoped>\n",
              "    .dataframe tbody tr th:only-of-type {\n",
              "        vertical-align: middle;\n",
              "    }\n",
              "\n",
              "    .dataframe tbody tr th {\n",
              "        vertical-align: top;\n",
              "    }\n",
              "\n",
              "    .dataframe thead th {\n",
              "        text-align: right;\n",
              "    }\n",
              "</style>\n",
              "<table border=\"1\" class=\"dataframe\">\n",
              "  <thead>\n",
              "    <tr style=\"text-align: right;\">\n",
              "      <th></th>\n",
              "      <th>loan_rate</th>\n",
              "      <th>yearly_income</th>\n",
              "      <th>birth_year</th>\n",
              "      <th>loan_limit</th>\n",
              "      <th>company_enter_month</th>\n",
              "      <th>existing_loan_cnt</th>\n",
              "      <th>desired_amount</th>\n",
              "      <th>existing_loan_amt</th>\n",
              "      <th>credit_score</th>\n",
              "    </tr>\n",
              "  </thead>\n",
              "  <tbody>\n",
              "    <tr>\n",
              "      <th>count</th>\n",
              "      <td>1.026439e+07</td>\n",
              "      <td>1.027001e+07</td>\n",
              "      <td>1.017838e+07</td>\n",
              "      <td>1.026439e+07</td>\n",
              "      <td>9.966443e+06</td>\n",
              "      <td>8.126200e+06</td>\n",
              "      <td>1.027001e+07</td>\n",
              "      <td>7.225871e+06</td>\n",
              "      <td>9.026199e+06</td>\n",
              "    </tr>\n",
              "    <tr>\n",
              "      <th>mean</th>\n",
              "      <td>1.276589e+01</td>\n",
              "      <td>4.791943e+07</td>\n",
              "      <td>1.982782e+03</td>\n",
              "      <td>2.260828e+07</td>\n",
              "      <td>2.017741e+05</td>\n",
              "      <td>3.645592e+00</td>\n",
              "      <td>5.159147e+07</td>\n",
              "      <td>8.167405e+07</td>\n",
              "      <td>7.500421e+02</td>\n",
              "    </tr>\n",
              "    <tr>\n",
              "      <th>std</th>\n",
              "      <td>3.886452e+00</td>\n",
              "      <td>1.318759e+08</td>\n",
              "      <td>9.641009e+00</td>\n",
              "      <td>2.230741e+07</td>\n",
              "      <td>5.427454e+02</td>\n",
              "      <td>3.145768e+00</td>\n",
              "      <td>2.323399e+08</td>\n",
              "      <td>9.824103e+07</td>\n",
              "      <td>1.274872e+02</td>\n",
              "    </tr>\n",
              "    <tr>\n",
              "      <th>min</th>\n",
              "      <td>1.500000e+00</td>\n",
              "      <td>0.000000e+00</td>\n",
              "      <td>1.930000e+03</td>\n",
              "      <td>0.000000e+00</td>\n",
              "      <td>1.911090e+05</td>\n",
              "      <td>1.000000e+00</td>\n",
              "      <td>0.000000e+00</td>\n",
              "      <td>0.000000e+00</td>\n",
              "      <td>1.000000e+02</td>\n",
              "    </tr>\n",
              "    <tr>\n",
              "      <th>25%</th>\n",
              "      <td>9.500000e+00</td>\n",
              "      <td>2.900000e+07</td>\n",
              "      <td>1.976000e+03</td>\n",
              "      <td>9.000000e+06</td>\n",
              "      <td>2.017010e+05</td>\n",
              "      <td>1.000000e+00</td>\n",
              "      <td>1.000000e+07</td>\n",
              "      <td>2.500000e+07</td>\n",
              "      <td>6.500000e+02</td>\n",
              "    </tr>\n",
              "    <tr>\n",
              "      <th>50%</th>\n",
              "      <td>1.320000e+01</td>\n",
              "      <td>3.600000e+07</td>\n",
              "      <td>1.984000e+03</td>\n",
              "      <td>1.800000e+07</td>\n",
              "      <td>2.020030e+05</td>\n",
              "      <td>3.000000e+00</td>\n",
              "      <td>2.800000e+07</td>\n",
              "      <td>4.900000e+07</td>\n",
              "      <td>7.300000e+02</td>\n",
              "    </tr>\n",
              "    <tr>\n",
              "      <th>75%</th>\n",
              "      <td>1.580000e+01</td>\n",
              "      <td>5.000000e+07</td>\n",
              "      <td>1.990000e+03</td>\n",
              "      <td>3.300000e+07</td>\n",
              "      <td>2.021070e+05</td>\n",
              "      <td>5.000000e+00</td>\n",
              "      <td>5.000000e+07</td>\n",
              "      <td>9.600000e+07</td>\n",
              "      <td>8.600000e+02</td>\n",
              "    </tr>\n",
              "    <tr>\n",
              "      <th>max</th>\n",
              "      <td>2.000000e+01</td>\n",
              "      <td>1.000000e+10</td>\n",
              "      <td>2.003000e+03</td>\n",
              "      <td>1.000000e+10</td>\n",
              "      <td>2.022110e+05</td>\n",
              "      <td>1.780000e+02</td>\n",
              "      <td>1.000000e+10</td>\n",
              "      <td>7.512000e+09</td>\n",
              "      <td>1.000000e+03</td>\n",
              "    </tr>\n",
              "  </tbody>\n",
              "</table>\n",
              "</div>\n",
              "      <button class=\"colab-df-convert\" onclick=\"convertToInteractive('df-f0053626-6433-4b3f-9c28-4346ac7dfcdd')\"\n",
              "              title=\"Convert this dataframe to an interactive table.\"\n",
              "              style=\"display:none;\">\n",
              "        \n",
              "  <svg xmlns=\"http://www.w3.org/2000/svg\" height=\"24px\"viewBox=\"0 0 24 24\"\n",
              "       width=\"24px\">\n",
              "    <path d=\"M0 0h24v24H0V0z\" fill=\"none\"/>\n",
              "    <path d=\"M18.56 5.44l.94 2.06.94-2.06 2.06-.94-2.06-.94-.94-2.06-.94 2.06-2.06.94zm-11 1L8.5 8.5l.94-2.06 2.06-.94-2.06-.94L8.5 2.5l-.94 2.06-2.06.94zm10 10l.94 2.06.94-2.06 2.06-.94-2.06-.94-.94-2.06-.94 2.06-2.06.94z\"/><path d=\"M17.41 7.96l-1.37-1.37c-.4-.4-.92-.59-1.43-.59-.52 0-1.04.2-1.43.59L10.3 9.45l-7.72 7.72c-.78.78-.78 2.05 0 2.83L4 21.41c.39.39.9.59 1.41.59.51 0 1.02-.2 1.41-.59l7.78-7.78 2.81-2.81c.8-.78.8-2.07 0-2.86zM5.41 20L4 18.59l7.72-7.72 1.47 1.35L5.41 20z\"/>\n",
              "  </svg>\n",
              "      </button>\n",
              "      \n",
              "  <style>\n",
              "    .colab-df-container {\n",
              "      display:flex;\n",
              "      flex-wrap:wrap;\n",
              "      gap: 12px;\n",
              "    }\n",
              "\n",
              "    .colab-df-convert {\n",
              "      background-color: #E8F0FE;\n",
              "      border: none;\n",
              "      border-radius: 50%;\n",
              "      cursor: pointer;\n",
              "      display: none;\n",
              "      fill: #1967D2;\n",
              "      height: 32px;\n",
              "      padding: 0 0 0 0;\n",
              "      width: 32px;\n",
              "    }\n",
              "\n",
              "    .colab-df-convert:hover {\n",
              "      background-color: #E2EBFA;\n",
              "      box-shadow: 0px 1px 2px rgba(60, 64, 67, 0.3), 0px 1px 3px 1px rgba(60, 64, 67, 0.15);\n",
              "      fill: #174EA6;\n",
              "    }\n",
              "\n",
              "    [theme=dark] .colab-df-convert {\n",
              "      background-color: #3B4455;\n",
              "      fill: #D2E3FC;\n",
              "    }\n",
              "\n",
              "    [theme=dark] .colab-df-convert:hover {\n",
              "      background-color: #434B5C;\n",
              "      box-shadow: 0px 1px 3px 1px rgba(0, 0, 0, 0.15);\n",
              "      filter: drop-shadow(0px 1px 2px rgba(0, 0, 0, 0.3));\n",
              "      fill: #FFFFFF;\n",
              "    }\n",
              "  </style>\n",
              "\n",
              "      <script>\n",
              "        const buttonEl =\n",
              "          document.querySelector('#df-f0053626-6433-4b3f-9c28-4346ac7dfcdd button.colab-df-convert');\n",
              "        buttonEl.style.display =\n",
              "          google.colab.kernel.accessAllowed ? 'block' : 'none';\n",
              "\n",
              "        async function convertToInteractive(key) {\n",
              "          const element = document.querySelector('#df-f0053626-6433-4b3f-9c28-4346ac7dfcdd');\n",
              "          const dataTable =\n",
              "            await google.colab.kernel.invokeFunction('convertToInteractive',\n",
              "                                                     [key], {});\n",
              "          if (!dataTable) return;\n",
              "\n",
              "          const docLinkHtml = 'Like what you see? Visit the ' +\n",
              "            '<a target=\"_blank\" href=https://colab.research.google.com/notebooks/data_table.ipynb>data table notebook</a>'\n",
              "            + ' to learn more about interactive tables.';\n",
              "          element.innerHTML = '';\n",
              "          dataTable['output_type'] = 'display_data';\n",
              "          await google.colab.output.renderOutput(dataTable, element);\n",
              "          const docLink = document.createElement('div');\n",
              "          docLink.innerHTML = docLinkHtml;\n",
              "          element.appendChild(docLink);\n",
              "        }\n",
              "      </script>\n",
              "    </div>\n",
              "  </div>\n",
              "  "
            ],
            "text/plain": [
              "          loan_rate  yearly_income    birth_year    loan_limit  \\\n",
              "count  1.026439e+07   1.027001e+07  1.017838e+07  1.026439e+07   \n",
              "mean   1.276589e+01   4.791943e+07  1.982782e+03  2.260828e+07   \n",
              "std    3.886452e+00   1.318759e+08  9.641009e+00  2.230741e+07   \n",
              "min    1.500000e+00   0.000000e+00  1.930000e+03  0.000000e+00   \n",
              "25%    9.500000e+00   2.900000e+07  1.976000e+03  9.000000e+06   \n",
              "50%    1.320000e+01   3.600000e+07  1.984000e+03  1.800000e+07   \n",
              "75%    1.580000e+01   5.000000e+07  1.990000e+03  3.300000e+07   \n",
              "max    2.000000e+01   1.000000e+10  2.003000e+03  1.000000e+10   \n",
              "\n",
              "       company_enter_month  existing_loan_cnt  desired_amount  \\\n",
              "count         9.966443e+06       8.126200e+06    1.027001e+07   \n",
              "mean          2.017741e+05       3.645592e+00    5.159147e+07   \n",
              "std           5.427454e+02       3.145768e+00    2.323399e+08   \n",
              "min           1.911090e+05       1.000000e+00    0.000000e+00   \n",
              "25%           2.017010e+05       1.000000e+00    1.000000e+07   \n",
              "50%           2.020030e+05       3.000000e+00    2.800000e+07   \n",
              "75%           2.021070e+05       5.000000e+00    5.000000e+07   \n",
              "max           2.022110e+05       1.780000e+02    1.000000e+10   \n",
              "\n",
              "       existing_loan_amt  credit_score  \n",
              "count       7.225871e+06  9.026199e+06  \n",
              "mean        8.167405e+07  7.500421e+02  \n",
              "std         9.824103e+07  1.274872e+02  \n",
              "min         0.000000e+00  1.000000e+02  \n",
              "25%         2.500000e+07  6.500000e+02  \n",
              "50%         4.900000e+07  7.300000e+02  \n",
              "75%         9.600000e+07  8.600000e+02  \n",
              "max         7.512000e+09  1.000000e+03  "
            ]
          },
          "execution_count": 32,
          "metadata": {},
          "output_type": "execute_result"
        }
      ],
      "source": [
        "merge_train[num_col].describe()"
      ]
    },
    {
      "cell_type": "markdown",
      "metadata": {
        "id": "4Et64S2gmru7"
      },
      "source": [
        "#### [시각화, histplot] 수치형 분포\n",
        "\n",
        "\n",
        "reference\n",
        "\n",
        "* https://seaborn.pydata.org/generated/seaborn.displot.html\n",
        "\n",
        "* https://m.blog.naver.com/PostView.naver?isHttpsRedirect=true&blogId=kiddwannabe&logNo=221728411362\n",
        "\n",
        "* https://suy379.tistory.com/122\n"
      ]
    },
    {
      "cell_type": "code",
      "execution_count": null,
      "metadata": {
        "id": "LEkZswKYmYWe"
      },
      "outputs": [],
      "source": [
        "merge_train[num_col].hist(bins=100, figsize=(20,15))\n",
        "plt.title(\"numerical value histplot\")\n",
        "save_fig(\"numerical value histplot\")"
      ]
    },
    {
      "cell_type": "markdown",
      "metadata": {
        "id": "gq0UBSQ1L_50"
      },
      "source": [
        "* yearly_income : 이상치 판별\n",
        "* company enter month : fillna (0), month 대신 year 단위로 삽입\n",
        "* credit_score : 이상치 판별\n",
        "* existing_loan_cnt : 이상치 판별\n",
        "\n"
      ]
    },
    {
      "cell_type": "code",
      "execution_count": null,
      "metadata": {
        "id": "jKqaEjhyJfbb"
      },
      "outputs": [],
      "source": [
        "sns.displot(merge_train['yearly_income'], bins=500)\n",
        "plt.xlim(0, merge_train['yearly_income'].max() / 10)\n",
        "plt.show()"
      ]
    },
    {
      "cell_type": "code",
      "execution_count": null,
      "metadata": {
        "id": "pui_ASqHLYPc"
      },
      "outputs": [],
      "source": [
        "merge_train['yearly_income'].max()"
      ]
    },
    {
      "cell_type": "markdown",
      "metadata": {
        "id": "Cp5pRi4eLmrH"
      },
      "source": [
        "yearly_income이 최대치인 경우 -> 다른 요소 고려해서 이상치인지 아닌지 판단!\n"
      ]
    },
    {
      "cell_type": "code",
      "execution_count": null,
      "metadata": {
        "id": "3M4mCYUwLRca"
      },
      "outputs": [],
      "source": [
        "max_income = merge_train[merge_train['yearly_income'] == merge_train['yearly_income'].max()]"
      ]
    },
    {
      "cell_type": "code",
      "execution_count": null,
      "metadata": {
        "id": "XbRdmNXdCUKP"
      },
      "outputs": [],
      "source": [
        "max_income['user_id'].unique()"
      ]
    },
    {
      "cell_type": "code",
      "execution_count": null,
      "metadata": {
        "id": "rEV2qAIPEln4"
      },
      "outputs": [],
      "source": [
        "max_income.groupby(['user_id']).mean()"
      ]
    },
    {
      "cell_type": "markdown",
      "metadata": {
        "id": "LoOdyHkXL5xf"
      },
      "source": [
        "yearly_income이 최소치인 경우 -> 다른 요소 고려해서 이상치인지 아닌지 판단"
      ]
    },
    {
      "cell_type": "code",
      "execution_count": null,
      "metadata": {
        "id": "pSiO8kliLuMf"
      },
      "outputs": [],
      "source": [
        "merge_train[merge_train['yearly_income'] == merge_train['yearly_income'].min()]"
      ]
    },
    {
      "cell_type": "markdown",
      "metadata": {
        "id": "MfZ9ZKzZTO9f"
      },
      "source": [
        "user id가 nan값인 경우를 제외한 후 각 column의 결측치"
      ]
    },
    {
      "cell_type": "code",
      "execution_count": null,
      "metadata": {
        "id": "KmotfEu4TVON"
      },
      "outputs": [],
      "source": [
        "tmp = merge_train[merge_train['user_id'].notnull()]"
      ]
    },
    {
      "cell_type": "code",
      "execution_count": null,
      "metadata": {
        "id": "NcXkNvpSTlAZ"
      },
      "outputs": [],
      "source": [
        "tmp.isnull().sum()"
      ]
    },
    {
      "cell_type": "code",
      "execution_count": null,
      "metadata": {
        "id": "Q6Rkz4AZT3Or"
      },
      "outputs": [],
      "source": [
        "tmp2 = tmp[(tmp['loan_limit'].isnull()) & (tmp['loan_rate'].isnull())]\n",
        "tmp2"
      ]
    },
    {
      "cell_type": "code",
      "execution_count": null,
      "metadata": {
        "id": "2TJAb_5RUfqJ"
      },
      "outputs": [],
      "source": [
        "len(tmp2['application_id'].unique()) # 승인한도, 승인금리 존재하지 않는 상품 개수"
      ]
    },
    {
      "cell_type": "code",
      "execution_count": null,
      "metadata": {
        "id": "v85-bHUNUYId"
      },
      "outputs": [],
      "source": [
        "tmp2.groupby(['application_id']).count()"
      ]
    },
    {
      "cell_type": "code",
      "execution_count": null,
      "metadata": {
        "id": "8OHPnLx7Kdel"
      },
      "outputs": [],
      "source": [
        "sns.histplot(data=merge_train, x=\"existing_loan_amt\", bins=500)\n",
        "plt.xlim(0, merge_train['existing_loan_cnt'].max() / 10)\n",
        "plt.show()"
      ]
    },
    {
      "cell_type": "markdown",
      "metadata": {
        "id": "Nuf1XabzFCNa"
      },
      "source": [
        "credit_score - desired amount scatter plot"
      ]
    },
    {
      "cell_type": "code",
      "execution_count": null,
      "metadata": {
        "id": "hJE03NofpL5s"
      },
      "outputs": [],
      "source": [
        "# # bivariate plot - 두 변수 간 상관관계 플롯\n",
        "# sns.displot(data=penguins, x=\"flipper_length_mm\", y=\"bill_length_mm\")"
      ]
    },
    {
      "cell_type": "markdown",
      "metadata": {
        "id": "GHx_CmynGi0y"
      },
      "source": [
        "## 전처리"
      ]
    },
    {
      "cell_type": "markdown",
      "metadata": {
        "id": "AFJMUCXA2ZnY"
      },
      "source": [
        "### 결측치 처리 & 스케일링"
      ]
    },
    {
      "cell_type": "code",
      "execution_count": null,
      "metadata": {
        "id": "HZu1DKRtCBg_"
      },
      "outputs": [],
      "source": [
        "# 특정 조건에 맞는 df 반환하는 함수\n",
        "\n",
        "# data = dataframe\n",
        "# condition = (df.pclass == 1) | (df.pclass == 2)\n",
        "# col = [col1, col2 ...]\n",
        "\n",
        "def search_row(data, condition, col=None):\n",
        "  if col != None:\n",
        "    new_df = data.loc[condition, [col]]\n",
        "  else:\n",
        "    new_df = data.loc[condition]\n",
        "  return new_df"
      ]
    },
    {
      "cell_type": "markdown",
      "metadata": {
        "id": "_Qgb6wPR5xdG"
      },
      "source": [
        "#### user_id\n",
        "\n",
        "user_id null일경우 drop - train data만 해당"
      ]
    },
    {
      "cell_type": "code",
      "execution_count": null,
      "metadata": {
        "id": "ZXTM28vx52eU"
      },
      "outputs": [],
      "source": [
        "merge_train = search_row(merge_train, merge_train.user_id.notnull())"
      ]
    },
    {
      "cell_type": "code",
      "execution_count": null,
      "metadata": {
        "colab": {
          "base_uri": "https://localhost:8080/"
        },
        "id": "sCvD65b7MfI5",
        "outputId": "a08dde1a-96cb-4b16-a4bc-0d03eaae441b"
      },
      "outputs": [
        {
          "data": {
            "text/plain": [
              "application_id                               0\n",
              "loanapply_insert_time                        0\n",
              "bank_id                                      0\n",
              "product_id                                   0\n",
              "loan_limit                                5625\n",
              "loan_rate                                 5625\n",
              "is_applied                                   0\n",
              "user_id                                      0\n",
              "birth_year                               91626\n",
              "gender                                   91626\n",
              "insert_time                                  0\n",
              "credit_score                           1243812\n",
              "yearly_income                                0\n",
              "income_type                                  0\n",
              "company_enter_month                     303568\n",
              "employment_type                              0\n",
              "houseown_type                                0\n",
              "desired_amount                               0\n",
              "purpose                                      0\n",
              "personal_rehabilitation_yn             5873229\n",
              "personal_rehabilitation_complete_yn    9232232\n",
              "existing_loan_cnt                      2143811\n",
              "existing_loan_amt                      3044140\n",
              "dtype: int64"
            ]
          },
          "execution_count": 35,
          "metadata": {},
          "output_type": "execute_result"
        }
      ],
      "source": [
        "merge_train.isnull().sum()"
      ]
    },
    {
      "cell_type": "markdown",
      "metadata": {
        "id": "U04Z0FvWZnfo"
      },
      "source": [
        "#### 결측치 다른 기록으로 채우기 (fill_from_others)"
      ]
    },
    {
      "cell_type": "code",
      "execution_count": null,
      "metadata": {
        "id": "3wwiVdkZVn9G"
      },
      "outputs": [],
      "source": [
        "# df : 원본 데이터프레임\n",
        "# col : 결측치를 채우고 싶은 컬럼\n",
        "# id : 기준 컬럼\n",
        "\n",
        "def fill_from_others(df, col, id_col):\n",
        "\n",
        "  # df에서 채울 column의 unique list 추출\n",
        "  tofill = search_row(df, df[col].isnull(), id_col)[id_col].unique()\n",
        "\n",
        "  # not null인 이전 applicate 기록에서 원하는 기록 가져오기\n",
        "  condition = (merge_user_loan[col].notnull()) & (merge_user_loan[id_col].isin(tofill))\n",
        "\n",
        "  tmp = search_row(merge_user_loan, condition)\n",
        "  filling_series = tmp.groupby([id_col]).mean()[col]\n",
        "\n",
        "  filling_df = pd.DataFrame(filling_series, columns=[col])\n",
        "  filling_df = filling_df.reset_index(level=0)\n",
        "\n",
        "  for idx, id in enumerate(filling_df[id_col]):\n",
        "    cond = (df[id_col] == id)\n",
        "    df.loc[cond, col] = filling_df.loc[idx, col]\n",
        "  \n",
        "  return df"
      ]
    },
    {
      "cell_type": "markdown",
      "metadata": {
        "id": "oLUy4Rv2GomU"
      },
      "source": [
        "#### birth year\n",
        "\n"
      ]
    },
    {
      "cell_type": "markdown",
      "metadata": {
        "id": "jKPltPOjbgFO"
      },
      "source": [
        "다른 대출 기록으로 NA값 filling"
      ]
    },
    {
      "cell_type": "code",
      "execution_count": null,
      "metadata": {
        "id": "YBMKw0ApXsH5"
      },
      "outputs": [],
      "source": [
        "merge_train = fill_from_others(merge_train, 'birth_year', 'user_id')\n",
        "merge_target = fill_from_others(merge_target, 'birth_year', 'user_id')"
      ]
    },
    {
      "cell_type": "markdown",
      "metadata": {
        "id": "cxVa6u4MaCFn"
      },
      "source": [
        "결측치 중앙값으로 채우기"
      ]
    },
    {
      "cell_type": "code",
      "execution_count": null,
      "metadata": {
        "id": "_G5EqEXEZZkl"
      },
      "outputs": [],
      "source": [
        "merge_train['birth_year'] = merge_train['birth_year'].fillna(merge_train['birth_year'].median())\n",
        "merge_target['birth_year'] = merge_target['birth_year'].fillna(merge_target['birth_year'].median())"
      ]
    },
    {
      "cell_type": "code",
      "execution_count": null,
      "metadata": {
        "colab": {
          "base_uri": "https://localhost:8080/"
        },
        "id": "Kb8FBk2mYQNM",
        "outputId": "0270f278-b94e-4b7f-a935-240a1f130c65"
      },
      "outputs": [
        {
          "data": {
            "text/plain": [
              "application_id                               0\n",
              "loanapply_insert_time                        0\n",
              "bank_id                                      0\n",
              "product_id                                   0\n",
              "loan_limit                                5625\n",
              "loan_rate                                 5625\n",
              "is_applied                                   0\n",
              "user_id                                      0\n",
              "birth_year                                   0\n",
              "gender                                   91626\n",
              "insert_time                                  0\n",
              "credit_score                           1243812\n",
              "yearly_income                                0\n",
              "income_type                                  0\n",
              "company_enter_month                     303568\n",
              "employment_type                              0\n",
              "houseown_type                                0\n",
              "desired_amount                               0\n",
              "purpose                                      0\n",
              "personal_rehabilitation_yn             5873229\n",
              "personal_rehabilitation_complete_yn    9232232\n",
              "existing_loan_cnt                      2143811\n",
              "existing_loan_amt                      3044140\n",
              "dtype: int64"
            ]
          },
          "execution_count": 39,
          "metadata": {},
          "output_type": "execute_result"
        }
      ],
      "source": [
        "merge_train.isnull().sum()"
      ]
    },
    {
      "cell_type": "markdown",
      "metadata": {
        "id": "YB2ead_VAxUP"
      },
      "source": [
        "연도 대신 나이로 변환 (int형)"
      ]
    },
    {
      "cell_type": "code",
      "execution_count": null,
      "metadata": {
        "colab": {
          "base_uri": "https://localhost:8080/"
        },
        "id": "RR4cXQYUoM97",
        "outputId": "b892e584-02e1-4e7d-9590-1c1ac6c4592c"
      },
      "outputs": [
        {
          "name": "stdout",
          "output_type": "stream",
          "text": [
            "2022\n"
          ]
        }
      ],
      "source": [
        "from datetime import datetime\n",
        "\n",
        "now = datetime.now()\n",
        "print(now.year)"
      ]
    },
    {
      "cell_type": "code",
      "execution_count": null,
      "metadata": {
        "id": "Qbjl_LMxo-Wc"
      },
      "outputs": [],
      "source": [
        "merge_train['age'] = now.year - merge_train['birth_year']\n",
        "merge_train.drop('birth_year', axis=1, inplace=True)"
      ]
    },
    {
      "cell_type": "code",
      "execution_count": null,
      "metadata": {
        "colab": {
          "base_uri": "https://localhost:8080/"
        },
        "id": "EEugwtxJCA5V",
        "outputId": "f90fb04b-b70b-4cf1-824a-5ce77833bec6"
      },
      "outputs": [
        {
          "data": {
            "text/plain": [
              "(array([7.148710e+05, 2.569722e+06, 2.757265e+06, 2.382291e+06,\n",
              "        1.243217e+06, 4.606560e+05, 1.251760e+05, 1.399300e+04,\n",
              "        2.495000e+03, 3.250000e+02]),\n",
              " array([19. , 26.3, 33.6, 40.9, 48.2, 55.5, 62.8, 70.1, 77.4, 84.7, 92. ]),\n",
              " <a list of 10 Patch objects>)"
            ]
          },
          "execution_count": 42,
          "metadata": {},
          "output_type": "execute_result"
        },
        {
          "data": {
            "image/png": "[encoded data removed]",
            "text/plain": [
              "<Figure size 432x288 with 1 Axes>"
            ]
          },
          "metadata": {},
          "output_type": "display_data"
        }
      ],
      "source": [
        "plt.hist(merge_train['age'])"
      ]
    },
    {
      "cell_type": "code",
      "execution_count": null,
      "metadata": {
        "id": "L4Ghu9xRa_Sf"
      },
      "outputs": [],
      "source": [
        "merge_target['age'] = now.year - merge_target['birth_year']\n",
        "merge_target.drop('birth_year', axis=1, inplace=True)"
      ]
    },
    {
      "cell_type": "markdown",
      "metadata": {
        "id": "kE4RTtVSZvmr"
      },
      "source": [
        "#### gender"
      ]
    },
    {
      "cell_type": "markdown",
      "metadata": {
        "id": "ZipxDsDsbZR0"
      },
      "source": [
        "다른 대출 기록으로 NA값 filling"
      ]
    },
    {
      "cell_type": "code",
      "execution_count": null,
      "metadata": {
        "colab": {
          "base_uri": "https://localhost:8080/"
        },
        "id": "dqj-HU6yXzZR",
        "outputId": "bd450fbc-57f1-4aa4-c367-d46751d08c16"
      },
      "outputs": [
        {
          "data": {
            "text/plain": [
              "application_id                               0\n",
              "loanapply_insert_time                        0\n",
              "bank_id                                      0\n",
              "product_id                                   0\n",
              "loan_limit                                5625\n",
              "loan_rate                                 5625\n",
              "is_applied                                   0\n",
              "user_id                                      0\n",
              "gender                                   77267\n",
              "insert_time                                  0\n",
              "credit_score                           1243812\n",
              "yearly_income                                0\n",
              "income_type                                  0\n",
              "company_enter_month                     303568\n",
              "employment_type                              0\n",
              "houseown_type                                0\n",
              "desired_amount                               0\n",
              "purpose                                      0\n",
              "personal_rehabilitation_yn             5873229\n",
              "personal_rehabilitation_complete_yn    9232232\n",
              "existing_loan_cnt                      2143811\n",
              "existing_loan_amt                      3044140\n",
              "age                                          0\n",
              "dtype: int64"
            ]
          },
          "execution_count": 44,
          "metadata": {},
          "output_type": "execute_result"
        }
      ],
      "source": [
        "merge_train = fill_from_others(merge_train, 'gender', 'user_id')\n",
        "merge_train.isnull().sum()"
      ]
    },
    {
      "cell_type": "code",
      "execution_count": null,
      "metadata": {
        "id": "_JYZhjYzbFSV"
      },
      "outputs": [],
      "source": [
        "merge_target = fill_from_others(merge_target, 'gender', 'user_id')"
      ]
    },
    {
      "cell_type": "markdown",
      "metadata": {
        "id": "oOZnFw8YafKM"
      },
      "source": [
        "결측치 2(분류 없음) 로 채우기"
      ]
    },
    {
      "cell_type": "code",
      "execution_count": null,
      "metadata": {
        "id": "dgrfMEn8aAO9"
      },
      "outputs": [],
      "source": [
        "merge_train['gender'] = merge_train['gender'].fillna(2)\n",
        "merge_target['gender'] = merge_target['gender'].fillna(2)"
      ]
    },
    {
      "cell_type": "code",
      "execution_count": null,
      "metadata": {
        "colab": {
          "base_uri": "https://localhost:8080/"
        },
        "id": "bcLjSdWZbLQV",
        "outputId": "f773629d-f977-4f84-ffcd-4533949b751c"
      },
      "outputs": [
        {
          "data": {
            "text/plain": [
              "(array([3124067.,       0.,       0.,       0.,       0., 7068677.,\n",
              "              0.,       0.,       0.,   77267.]),\n",
              " array([0. , 0.2, 0.4, 0.6, 0.8, 1. , 1.2, 1.4, 1.6, 1.8, 2. ]),\n",
              " <a list of 10 Patch objects>)"
            ]
          },
          "execution_count": 47,
          "metadata": {},
          "output_type": "execute_result"
        },
        {
          "data": {
            "image/png": "[encoded data removed]",
            "text/plain": [
              "<Figure size 432x288 with 1 Axes>"
            ]
          },
          "metadata": {},
          "output_type": "display_data"
        }
      ],
      "source": [
        "plt.hist(merge_train['gender'])"
      ]
    },
    {
      "cell_type": "markdown",
      "metadata": {
        "id": "2LrqDrv693c5"
      },
      "source": [
        "#### insert_time\n",
        "\n",
        "\n",
        "user id drop 후 결측치는 모두 제거됨"
      ]
    },
    {
      "cell_type": "markdown",
      "metadata": {
        "id": "asFYTiw6ptgx"
      },
      "source": [
        "#### credit_score"
      ]
    },
    {
      "cell_type": "markdown",
      "metadata": {
        "id": "UY90QDqzbkEs"
      },
      "source": [
        "다른 대출 기록으로 NA값 filling\n",
        "\n",
        "-> 금융 대출 기록에 따라 신용점수 바뀌었을 수도 있음. 이전 기록 그냥 갖다쓰면 안될듯"
      ]
    },
    {
      "cell_type": "code",
      "execution_count": null,
      "metadata": {
        "id": "7bGGFGJwbkhb"
      },
      "outputs": [],
      "source": [
        "# merge_train = fill_from_others(merge_train, 'credit_score', 'user_id')\n",
        "# merge_train.isnull().sum()"
      ]
    },
    {
      "cell_type": "code",
      "execution_count": null,
      "metadata": {
        "id": "2bid8CFnbsEH"
      },
      "outputs": [],
      "source": [
        "# merge_target = fill_from_others(merge_target, 'credit_score', 'user_id')"
      ]
    },
    {
      "cell_type": "markdown",
      "metadata": {
        "id": "tpn8lXkb_ZzV"
      },
      "source": [
        "일단 중앙값으로 채운 다음 구간 나누기"
      ]
    },
    {
      "cell_type": "code",
      "execution_count": null,
      "metadata": {
        "id": "VFEscxwi_XCL"
      },
      "outputs": [],
      "source": [
        "merge_train['credit_score'] = merge_train['credit_score'].fillna(merge_train['credit_score'].median())\n",
        "merge_target['credit_score'] = merge_target['credit_score'].fillna(merge_target['credit_score'].median())"
      ]
    },
    {
      "cell_type": "code",
      "execution_count": null,
      "metadata": {
        "colab": {
          "base_uri": "https://localhost:8080/"
        },
        "id": "_YK6lemqJnhn",
        "outputId": "53563994-299c-4a79-9b81-1c380d60c818"
      },
      "outputs": [
        {
          "data": {
            "text/plain": [
              "application_id                               0\n",
              "loanapply_insert_time                        0\n",
              "bank_id                                      0\n",
              "product_id                                   0\n",
              "loan_limit                                1757\n",
              "loan_rate                                 1757\n",
              "is_applied                             3257239\n",
              "user_id                                      0\n",
              "gender                                       0\n",
              "insert_time                                  0\n",
              "credit_score                                 0\n",
              "yearly_income                                6\n",
              "income_type                                  0\n",
              "company_enter_month                      96769\n",
              "employment_type                              0\n",
              "houseown_type                                0\n",
              "desired_amount                               0\n",
              "purpose                                      0\n",
              "personal_rehabilitation_yn               15472\n",
              "personal_rehabilitation_complete_yn    2561745\n",
              "existing_loan_cnt                       541898\n",
              "existing_loan_amt                       846023\n",
              "age                                          0\n",
              "dtype: int64"
            ]
          },
          "execution_count": 51,
          "metadata": {},
          "output_type": "execute_result"
        }
      ],
      "source": [
        "merge_target.isnull().sum()"
      ]
    },
    {
      "cell_type": "markdown",
      "metadata": {
        "id": "imrxwV1FcMvF"
      },
      "source": [
        "구간을 동일 길이로 나누는 pd.cut() 사용"
      ]
    },
    {
      "cell_type": "code",
      "execution_count": null,
      "metadata": {
        "colab": {
          "base_uri": "https://localhost:8080/"
        },
        "id": "uNhT8mU_qDfd",
        "outputId": "a6ffc663-092d-42e7-f4f0-55d20324c79f"
      },
      "outputs": [
        {
          "data": {
            "text/plain": [
              "6    3645624\n",
              "5    1959911\n",
              "7    1649451\n",
              "8    1424193\n",
              "9    1322288\n",
              "4     260116\n",
              "3       5014\n",
              "0       1932\n",
              "1       1086\n",
              "2        396\n",
              "Name: credit_score_cut, dtype: int64"
            ]
          },
          "execution_count": 52,
          "metadata": {},
          "output_type": "execute_result"
        }
      ],
      "source": [
        "merge_train['credit_score_cut'], bins = pd.cut(merge_train['credit_score'], bins=10, retbins=True, labels=range(10))\n",
        "merge_train['credit_score_cut'].value_counts()"
      ]
    },
    {
      "cell_type": "code",
      "execution_count": null,
      "metadata": {
        "colab": {
          "base_uri": "https://localhost:8080/"
        },
        "id": "vkqQeMViBqLB",
        "outputId": "72755deb-400a-4b96-bfd5-9cf65da9ee7e"
      },
      "outputs": [
        {
          "data": {
            "text/plain": [
              "array([  99.1,  190. ,  280. ,  370. ,  460. ,  550. ,  640. ,  730. ,\n",
              "        820. ,  910. , 1000. ])"
            ]
          },
          "execution_count": 53,
          "metadata": {},
          "output_type": "execute_result"
        }
      ],
      "source": [
        "bins"
      ]
    },
    {
      "cell_type": "code",
      "execution_count": null,
      "metadata": {
        "colab": {
          "base_uri": "https://localhost:8080/"
        },
        "id": "ZYiH2CH5Bqy-",
        "outputId": "bc0351f9-b310-476f-97cc-ffc0d0d12f67"
      },
      "outputs": [
        {
          "data": {
            "text/plain": [
              "7    818433\n",
              "6    787678\n",
              "5    589370\n",
              "9    494596\n",
              "8    491038\n",
              "4     74200\n",
              "3      1206\n",
              "0       420\n",
              "1       212\n",
              "2        78\n",
              "Name: credit_score_cut, dtype: int64"
            ]
          },
          "execution_count": 54,
          "metadata": {},
          "output_type": "execute_result"
        }
      ],
      "source": [
        "merge_target['credit_score_cut'] = pd.cut(merge_target['credit_score'], bins=bins, labels=range(10))\n",
        "merge_target['credit_score_cut'].value_counts()"
      ]
    },
    {
      "cell_type": "code",
      "execution_count": null,
      "metadata": {
        "colab": {
          "base_uri": "https://localhost:8080/"
        },
        "id": "R_hreag6Daqa",
        "outputId": "92a8277d-e92b-433b-9c5b-e1f3191fc753"
      },
      "outputs": [
        {
          "data": {
            "text/plain": [
              "application_id                               0\n",
              "loanapply_insert_time                        0\n",
              "bank_id                                      0\n",
              "product_id                                   0\n",
              "loan_limit                                1757\n",
              "loan_rate                                 1757\n",
              "is_applied                             3257239\n",
              "user_id                                      0\n",
              "gender                                       0\n",
              "insert_time                                  0\n",
              "credit_score                                 0\n",
              "yearly_income                                6\n",
              "income_type                                  0\n",
              "company_enter_month                      96769\n",
              "employment_type                              0\n",
              "houseown_type                                0\n",
              "desired_amount                               0\n",
              "purpose                                      0\n",
              "personal_rehabilitation_yn               15472\n",
              "personal_rehabilitation_complete_yn    2561745\n",
              "existing_loan_cnt                       541898\n",
              "existing_loan_amt                       846023\n",
              "age                                          0\n",
              "credit_score_cut                             8\n",
              "dtype: int64"
            ]
          },
          "execution_count": 55,
          "metadata": {},
          "output_type": "execute_result"
        }
      ],
      "source": [
        "merge_target.isnull().sum() # train의 cut index 범위에 속하지 않는 value들 null 값 발생"
      ]
    },
    {
      "cell_type": "code",
      "execution_count": null,
      "metadata": {
        "colab": {
          "base_uri": "https://localhost:8080/"
        },
        "id": "fj_lRJg1LZ2R",
        "outputId": "27f59e58-0300-4b5d-8fb3-f50fc77a798d"
      },
      "outputs": [
        {
          "data": {
            "text/plain": [
              "58294    60.0\n",
              "58296    60.0\n",
              "58299    60.0\n",
              "58303    60.0\n",
              "58310    60.0\n",
              "58315    60.0\n",
              "58324    60.0\n",
              "58327    60.0\n",
              "Name: credit_score, dtype: float64"
            ]
          },
          "execution_count": 56,
          "metadata": {},
          "output_type": "execute_result"
        }
      ],
      "source": [
        "merge_target[merge_target['credit_score_cut'].isnull()]['credit_score']"
      ]
    },
    {
      "cell_type": "markdown",
      "metadata": {
        "id": "9kYV6yZ6Lrvx"
      },
      "source": [
        "모두 100 이하의 매우 낮은 수치 -> 0으로 라벨링"
      ]
    },
    {
      "cell_type": "code",
      "execution_count": null,
      "metadata": {
        "id": "E8S8AGsSLp7Z"
      },
      "outputs": [],
      "source": [
        "merge_target['credit_score_cut'] = merge_target['credit_score_cut'].fillna(0)"
      ]
    },
    {
      "cell_type": "code",
      "execution_count": null,
      "metadata": {
        "id": "X469PE9nD3ZI"
      },
      "outputs": [],
      "source": [
        "# plt.hist(merge_train['credit_score_cut'])"
      ]
    },
    {
      "cell_type": "code",
      "execution_count": null,
      "metadata": {
        "id": "A3PELECrD-rQ"
      },
      "outputs": [],
      "source": [
        "# plt.hist(merge_target['credit_score_cut'])"
      ]
    },
    {
      "cell_type": "code",
      "execution_count": null,
      "metadata": {
        "id": "h4v2SfLNEI_g"
      },
      "outputs": [],
      "source": [
        "merge_train.drop('credit_score', axis=1, inplace=True)\n",
        "merge_target.drop('credit_score', axis=1, inplace=True)"
      ]
    },
    {
      "cell_type": "code",
      "execution_count": null,
      "metadata": {
        "colab": {
          "base_uri": "https://localhost:8080/"
        },
        "id": "BxrwIOvSEExw",
        "outputId": "a6c6c0b8-177c-4b36-aa0c-624689c01884"
      },
      "outputs": [
        {
          "data": {
            "text/plain": [
              "application_id                               0\n",
              "loanapply_insert_time                        0\n",
              "bank_id                                      0\n",
              "product_id                                   0\n",
              "loan_limit                                5625\n",
              "loan_rate                                 5625\n",
              "is_applied                                   0\n",
              "user_id                                      0\n",
              "gender                                       0\n",
              "insert_time                                  0\n",
              "yearly_income                                0\n",
              "income_type                                  0\n",
              "company_enter_month                     303568\n",
              "employment_type                              0\n",
              "houseown_type                                0\n",
              "desired_amount                               0\n",
              "purpose                                      0\n",
              "personal_rehabilitation_yn             5873229\n",
              "personal_rehabilitation_complete_yn    9232232\n",
              "existing_loan_cnt                      2143811\n",
              "existing_loan_amt                      3044140\n",
              "age                                          0\n",
              "credit_score_cut                             0\n",
              "dtype: int64"
            ]
          },
          "execution_count": 61,
          "metadata": {},
          "output_type": "execute_result"
        }
      ],
      "source": [
        "merge_train.isnull().sum()"
      ]
    },
    {
      "cell_type": "code",
      "execution_count": null,
      "metadata": {
        "colab": {
          "base_uri": "https://localhost:8080/"
        },
        "id": "2LjJNcLDMFXj",
        "outputId": "04f9742f-cf02-4ef3-f83f-06e1648f0833"
      },
      "outputs": [
        {
          "data": {
            "text/plain": [
              "application_id                               0\n",
              "loanapply_insert_time                        0\n",
              "bank_id                                      0\n",
              "product_id                                   0\n",
              "loan_limit                                1757\n",
              "loan_rate                                 1757\n",
              "is_applied                             3257239\n",
              "user_id                                      0\n",
              "gender                                       0\n",
              "insert_time                                  0\n",
              "yearly_income                                6\n",
              "income_type                                  0\n",
              "company_enter_month                      96769\n",
              "employment_type                              0\n",
              "houseown_type                                0\n",
              "desired_amount                               0\n",
              "purpose                                      0\n",
              "personal_rehabilitation_yn               15472\n",
              "personal_rehabilitation_complete_yn    2561745\n",
              "existing_loan_cnt                       541898\n",
              "existing_loan_amt                       846023\n",
              "age                                          0\n",
              "credit_score_cut                             0\n",
              "dtype: int64"
            ]
          },
          "execution_count": 62,
          "metadata": {},
          "output_type": "execute_result"
        }
      ],
      "source": [
        "merge_target.isnull().sum()"
      ]
    },
    {
      "cell_type": "markdown",
      "metadata": {
        "id": "vdUP2HiY4Oxg"
      },
      "source": [
        "#### loan_rate, loan_limit\n",
        "\n",
        "target 1 // 신중하게 결측치 filling 접근할 것\n",
        "\n",
        "처리 시간 오래 걸림 -> 개선방안"
      ]
    },
    {
      "cell_type": "code",
      "execution_count": null,
      "metadata": {
        "colab": {
          "base_uri": "https://localhost:8080/"
        },
        "id": "_xlf5jNQ2cx-",
        "outputId": "aa553d8f-1e50-4d22-9e2e-a6b7eee9e5b9"
      },
      "outputs": [
        {
          "data": {
            "text/plain": [
              "(5625, 5625)"
            ]
          },
          "execution_count": 63,
          "metadata": {},
          "output_type": "execute_result"
        }
      ],
      "source": [
        "len(merge_train[merge_train['loan_rate'].isnull()]['is_applied']), merge_train[merge_train['loan_limit'].isnull()]['is_applied'].count()"
      ]
    },
    {
      "cell_type": "code",
      "execution_count": null,
      "metadata": {
        "colab": {
          "base_uri": "https://localhost:8080/"
        },
        "id": "fjeKoSRK5XfJ",
        "outputId": "0f5ec9d4-92f7-4e8c-aa1b-3c990e5ce298"
      },
      "outputs": [
        {
          "data": {
            "text/plain": [
              "178"
            ]
          },
          "execution_count": 64,
          "metadata": {},
          "output_type": "execute_result"
        }
      ],
      "source": [
        "len(merge_train['product_id'].unique())"
      ]
    },
    {
      "cell_type": "code",
      "execution_count": null,
      "metadata": {
        "colab": {
          "base_uri": "https://localhost:8080/"
        },
        "id": "X5DnuaAl2qox",
        "outputId": "e14765d0-61cb-488d-be00-db044bafaaa2"
      },
      "outputs": [
        {
          "data": {
            "text/html": [
              "\n",
              "  <div id=\"df-94439c58-a467-4c41-9be0-b82f738f4014\">\n",
              "    <div class=\"colab-df-container\">\n",
              "      <div>\n",
              "<style scoped>\n",
              "    .dataframe tbody tr th:only-of-type {\n",
              "        vertical-align: middle;\n",
              "    }\n",
              "\n",
              "    .dataframe tbody tr th {\n",
              "        vertical-align: top;\n",
              "    }\n",
              "\n",
              "    .dataframe thead th {\n",
              "        text-align: right;\n",
              "    }\n",
              "</style>\n",
              "<table border=\"1\" class=\"dataframe\">\n",
              "  <thead>\n",
              "    <tr style=\"text-align: right;\">\n",
              "      <th></th>\n",
              "      <th>application_id</th>\n",
              "      <th>loanapply_insert_time</th>\n",
              "      <th>bank_id</th>\n",
              "      <th>product_id</th>\n",
              "      <th>loan_limit</th>\n",
              "      <th>loan_rate</th>\n",
              "      <th>is_applied</th>\n",
              "      <th>user_id</th>\n",
              "      <th>gender</th>\n",
              "      <th>insert_time</th>\n",
              "      <th>...</th>\n",
              "      <th>employment_type</th>\n",
              "      <th>houseown_type</th>\n",
              "      <th>desired_amount</th>\n",
              "      <th>purpose</th>\n",
              "      <th>personal_rehabilitation_yn</th>\n",
              "      <th>personal_rehabilitation_complete_yn</th>\n",
              "      <th>existing_loan_cnt</th>\n",
              "      <th>existing_loan_amt</th>\n",
              "      <th>age</th>\n",
              "      <th>credit_score_cut</th>\n",
              "    </tr>\n",
              "  </thead>\n",
              "  <tbody>\n",
              "    <tr>\n",
              "      <th>14516</th>\n",
              "      <td>138330</td>\n",
              "      <td>2022-05-09 10:34:28</td>\n",
              "      <td>51</td>\n",
              "      <td>21</td>\n",
              "      <td>NaN</td>\n",
              "      <td>NaN</td>\n",
              "      <td>1.0</td>\n",
              "      <td>511565.0</td>\n",
              "      <td>1.0</td>\n",
              "      <td>2022-05-06 13:45:51</td>\n",
              "      <td>...</td>\n",
              "      <td>PERMANENT</td>\n",
              "      <td>FAMILY_ETC</td>\n",
              "      <td>16000000.0</td>\n",
              "      <td>SWITCHLOAN</td>\n",
              "      <td>0.0</td>\n",
              "      <td>NaN</td>\n",
              "      <td>1.0</td>\n",
              "      <td>NaN</td>\n",
              "      <td>37.0</td>\n",
              "      <td>5</td>\n",
              "    </tr>\n",
              "    <tr>\n",
              "      <th>15772</th>\n",
              "      <td>345505</td>\n",
              "      <td>2022-05-09 12:26:25</td>\n",
              "      <td>38</td>\n",
              "      <td>16</td>\n",
              "      <td>NaN</td>\n",
              "      <td>NaN</td>\n",
              "      <td>1.0</td>\n",
              "      <td>502879.0</td>\n",
              "      <td>1.0</td>\n",
              "      <td>2022-05-09 12:26:25</td>\n",
              "      <td>...</td>\n",
              "      <td>PERMANENT</td>\n",
              "      <td>FAMILY_ETC</td>\n",
              "      <td>5000000.0</td>\n",
              "      <td>LIVING</td>\n",
              "      <td>0.0</td>\n",
              "      <td>NaN</td>\n",
              "      <td>3.0</td>\n",
              "      <td>15000000.0</td>\n",
              "      <td>55.0</td>\n",
              "      <td>5</td>\n",
              "    </tr>\n",
              "    <tr>\n",
              "      <th>15913</th>\n",
              "      <td>1411021</td>\n",
              "      <td>2022-05-09 11:56:31</td>\n",
              "      <td>29</td>\n",
              "      <td>180</td>\n",
              "      <td>NaN</td>\n",
              "      <td>NaN</td>\n",
              "      <td>1.0</td>\n",
              "      <td>726640.0</td>\n",
              "      <td>0.0</td>\n",
              "      <td>2022-05-08 22:38:47</td>\n",
              "      <td>...</td>\n",
              "      <td>ETC</td>\n",
              "      <td>RENT</td>\n",
              "      <td>5000000.0</td>\n",
              "      <td>LIVING</td>\n",
              "      <td>0.0</td>\n",
              "      <td>NaN</td>\n",
              "      <td>4.0</td>\n",
              "      <td>56000000.0</td>\n",
              "      <td>44.0</td>\n",
              "      <td>5</td>\n",
              "    </tr>\n",
              "    <tr>\n",
              "      <th>16728</th>\n",
              "      <td>812584</td>\n",
              "      <td>2022-05-09 10:39:50</td>\n",
              "      <td>51</td>\n",
              "      <td>21</td>\n",
              "      <td>NaN</td>\n",
              "      <td>NaN</td>\n",
              "      <td>1.0</td>\n",
              "      <td>84400.0</td>\n",
              "      <td>1.0</td>\n",
              "      <td>2022-05-06 08:57:53</td>\n",
              "      <td>...</td>\n",
              "      <td>PERMANENT</td>\n",
              "      <td>FAMILY_ETC</td>\n",
              "      <td>10000000.0</td>\n",
              "      <td>LIVING</td>\n",
              "      <td>0.0</td>\n",
              "      <td>NaN</td>\n",
              "      <td>5.0</td>\n",
              "      <td>41000000.0</td>\n",
              "      <td>39.0</td>\n",
              "      <td>4</td>\n",
              "    </tr>\n",
              "    <tr>\n",
              "      <th>24483</th>\n",
              "      <td>692640</td>\n",
              "      <td>2022-05-09 09:15:14</td>\n",
              "      <td>30</td>\n",
              "      <td>86</td>\n",
              "      <td>NaN</td>\n",
              "      <td>NaN</td>\n",
              "      <td>1.0</td>\n",
              "      <td>601805.0</td>\n",
              "      <td>1.0</td>\n",
              "      <td>2022-05-07 21:56:53</td>\n",
              "      <td>...</td>\n",
              "      <td>PERMANENT</td>\n",
              "      <td>RENT</td>\n",
              "      <td>5000000.0</td>\n",
              "      <td>SWITCHLOAN</td>\n",
              "      <td>0.0</td>\n",
              "      <td>NaN</td>\n",
              "      <td>3.0</td>\n",
              "      <td>4000000.0</td>\n",
              "      <td>37.0</td>\n",
              "      <td>5</td>\n",
              "    </tr>\n",
              "    <tr>\n",
              "      <th>...</th>\n",
              "      <td>...</td>\n",
              "      <td>...</td>\n",
              "      <td>...</td>\n",
              "      <td>...</td>\n",
              "      <td>...</td>\n",
              "      <td>...</td>\n",
              "      <td>...</td>\n",
              "      <td>...</td>\n",
              "      <td>...</td>\n",
              "      <td>...</td>\n",
              "      <td>...</td>\n",
              "      <td>...</td>\n",
              "      <td>...</td>\n",
              "      <td>...</td>\n",
              "      <td>...</td>\n",
              "      <td>...</td>\n",
              "      <td>...</td>\n",
              "      <td>...</td>\n",
              "      <td>...</td>\n",
              "      <td>...</td>\n",
              "      <td>...</td>\n",
              "    </tr>\n",
              "    <tr>\n",
              "      <th>13506342</th>\n",
              "      <td>1982217</td>\n",
              "      <td>2022-05-16 11:44:07</td>\n",
              "      <td>29</td>\n",
              "      <td>265</td>\n",
              "      <td>NaN</td>\n",
              "      <td>NaN</td>\n",
              "      <td>1.0</td>\n",
              "      <td>603819.0</td>\n",
              "      <td>1.0</td>\n",
              "      <td>2022-05-16 11:44:06</td>\n",
              "      <td>...</td>\n",
              "      <td>PERMANENT</td>\n",
              "      <td>RENT</td>\n",
              "      <td>50000000.0</td>\n",
              "      <td>SWITCHLOAN</td>\n",
              "      <td>0.0</td>\n",
              "      <td>0.0</td>\n",
              "      <td>4.0</td>\n",
              "      <td>56000000.0</td>\n",
              "      <td>38.0</td>\n",
              "      <td>6</td>\n",
              "    </tr>\n",
              "    <tr>\n",
              "      <th>13507946</th>\n",
              "      <td>1041425</td>\n",
              "      <td>2022-05-16 02:40:38</td>\n",
              "      <td>29</td>\n",
              "      <td>180</td>\n",
              "      <td>NaN</td>\n",
              "      <td>NaN</td>\n",
              "      <td>1.0</td>\n",
              "      <td>60333.0</td>\n",
              "      <td>1.0</td>\n",
              "      <td>2022-05-12 12:14:18</td>\n",
              "      <td>...</td>\n",
              "      <td>PERMANENT</td>\n",
              "      <td>RENT</td>\n",
              "      <td>100000000.0</td>\n",
              "      <td>LIVING</td>\n",
              "      <td>0.0</td>\n",
              "      <td>NaN</td>\n",
              "      <td>3.0</td>\n",
              "      <td>68000000.0</td>\n",
              "      <td>41.0</td>\n",
              "      <td>6</td>\n",
              "    </tr>\n",
              "    <tr>\n",
              "      <th>13508408</th>\n",
              "      <td>175654</td>\n",
              "      <td>2022-05-16 10:24:30</td>\n",
              "      <td>51</td>\n",
              "      <td>21</td>\n",
              "      <td>NaN</td>\n",
              "      <td>NaN</td>\n",
              "      <td>1.0</td>\n",
              "      <td>121434.0</td>\n",
              "      <td>0.0</td>\n",
              "      <td>2022-05-15 20:53:09</td>\n",
              "      <td>...</td>\n",
              "      <td>PERMANENT</td>\n",
              "      <td>RENT</td>\n",
              "      <td>23000000.0</td>\n",
              "      <td>LIVING</td>\n",
              "      <td>0.0</td>\n",
              "      <td>0.0</td>\n",
              "      <td>NaN</td>\n",
              "      <td>NaN</td>\n",
              "      <td>32.0</td>\n",
              "      <td>6</td>\n",
              "    </tr>\n",
              "    <tr>\n",
              "      <th>13517356</th>\n",
              "      <td>1130799</td>\n",
              "      <td>2022-05-16 12:47:32</td>\n",
              "      <td>29</td>\n",
              "      <td>180</td>\n",
              "      <td>NaN</td>\n",
              "      <td>NaN</td>\n",
              "      <td>1.0</td>\n",
              "      <td>842671.0</td>\n",
              "      <td>0.0</td>\n",
              "      <td>2022-05-13 21:50:01</td>\n",
              "      <td>...</td>\n",
              "      <td>PERMANENT</td>\n",
              "      <td>OWN</td>\n",
              "      <td>5000000.0</td>\n",
              "      <td>LIVING</td>\n",
              "      <td>0.0</td>\n",
              "      <td>NaN</td>\n",
              "      <td>7.0</td>\n",
              "      <td>64000000.0</td>\n",
              "      <td>39.0</td>\n",
              "      <td>5</td>\n",
              "    </tr>\n",
              "    <tr>\n",
              "      <th>13519315</th>\n",
              "      <td>744414</td>\n",
              "      <td>2022-05-16 12:21:32</td>\n",
              "      <td>29</td>\n",
              "      <td>180</td>\n",
              "      <td>NaN</td>\n",
              "      <td>NaN</td>\n",
              "      <td>1.0</td>\n",
              "      <td>508855.0</td>\n",
              "      <td>0.0</td>\n",
              "      <td>2022-05-16 11:40:47</td>\n",
              "      <td>...</td>\n",
              "      <td>ETC</td>\n",
              "      <td>FAMILY_ETC</td>\n",
              "      <td>30000000.0</td>\n",
              "      <td>SWITCHLOAN</td>\n",
              "      <td>0.0</td>\n",
              "      <td>0.0</td>\n",
              "      <td>4.0</td>\n",
              "      <td>28000000.0</td>\n",
              "      <td>30.0</td>\n",
              "      <td>5</td>\n",
              "    </tr>\n",
              "  </tbody>\n",
              "</table>\n",
              "<p>5625 rows × 23 columns</p>\n",
              "</div>\n",
              "      <button class=\"colab-df-convert\" onclick=\"convertToInteractive('df-94439c58-a467-4c41-9be0-b82f738f4014')\"\n",
              "              title=\"Convert this dataframe to an interactive table.\"\n",
              "              style=\"display:none;\">\n",
              "        \n",
              "  <svg xmlns=\"http://www.w3.org/2000/svg\" height=\"24px\"viewBox=\"0 0 24 24\"\n",
              "       width=\"24px\">\n",
              "    <path d=\"M0 0h24v24H0V0z\" fill=\"none\"/>\n",
              "    <path d=\"M18.56 5.44l.94 2.06.94-2.06 2.06-.94-2.06-.94-.94-2.06-.94 2.06-2.06.94zm-11 1L8.5 8.5l.94-2.06 2.06-.94-2.06-.94L8.5 2.5l-.94 2.06-2.06.94zm10 10l.94 2.06.94-2.06 2.06-.94-2.06-.94-.94-2.06-.94 2.06-2.06.94z\"/><path d=\"M17.41 7.96l-1.37-1.37c-.4-.4-.92-.59-1.43-.59-.52 0-1.04.2-1.43.59L10.3 9.45l-7.72 7.72c-.78.78-.78 2.05 0 2.83L4 21.41c.39.39.9.59 1.41.59.51 0 1.02-.2 1.41-.59l7.78-7.78 2.81-2.81c.8-.78.8-2.07 0-2.86zM5.41 20L4 18.59l7.72-7.72 1.47 1.35L5.41 20z\"/>\n",
              "  </svg>\n",
              "      </button>\n",
              "      \n",
              "  <style>\n",
              "    .colab-df-container {\n",
              "      display:flex;\n",
              "      flex-wrap:wrap;\n",
              "      gap: 12px;\n",
              "    }\n",
              "\n",
              "    .colab-df-convert {\n",
              "      background-color: #E8F0FE;\n",
              "      border: none;\n",
              "      border-radius: 50%;\n",
              "      cursor: pointer;\n",
              "      display: none;\n",
              "      fill: #1967D2;\n",
              "      height: 32px;\n",
              "      padding: 0 0 0 0;\n",
              "      width: 32px;\n",
              "    }\n",
              "\n",
              "    .colab-df-convert:hover {\n",
              "      background-color: #E2EBFA;\n",
              "      box-shadow: 0px 1px 2px rgba(60, 64, 67, 0.3), 0px 1px 3px 1px rgba(60, 64, 67, 0.15);\n",
              "      fill: #174EA6;\n",
              "    }\n",
              "\n",
              "    [theme=dark] .colab-df-convert {\n",
              "      background-color: #3B4455;\n",
              "      fill: #D2E3FC;\n",
              "    }\n",
              "\n",
              "    [theme=dark] .colab-df-convert:hover {\n",
              "      background-color: #434B5C;\n",
              "      box-shadow: 0px 1px 3px 1px rgba(0, 0, 0, 0.15);\n",
              "      filter: drop-shadow(0px 1px 2px rgba(0, 0, 0, 0.3));\n",
              "      fill: #FFFFFF;\n",
              "    }\n",
              "  </style>\n",
              "\n",
              "      <script>\n",
              "        const buttonEl =\n",
              "          document.querySelector('#df-94439c58-a467-4c41-9be0-b82f738f4014 button.colab-df-convert');\n",
              "        buttonEl.style.display =\n",
              "          google.colab.kernel.accessAllowed ? 'block' : 'none';\n",
              "\n",
              "        async function convertToInteractive(key) {\n",
              "          const element = document.querySelector('#df-94439c58-a467-4c41-9be0-b82f738f4014');\n",
              "          const dataTable =\n",
              "            await google.colab.kernel.invokeFunction('convertToInteractive',\n",
              "                                                     [key], {});\n",
              "          if (!dataTable) return;\n",
              "\n",
              "          const docLinkHtml = 'Like what you see? Visit the ' +\n",
              "            '<a target=\"_blank\" href=https://colab.research.google.com/notebooks/data_table.ipynb>data table notebook</a>'\n",
              "            + ' to learn more about interactive tables.';\n",
              "          element.innerHTML = '';\n",
              "          dataTable['output_type'] = 'display_data';\n",
              "          await google.colab.output.renderOutput(dataTable, element);\n",
              "          const docLink = document.createElement('div');\n",
              "          docLink.innerHTML = docLinkHtml;\n",
              "          element.appendChild(docLink);\n",
              "        }\n",
              "      </script>\n",
              "    </div>\n",
              "  </div>\n",
              "  "
            ],
            "text/plain": [
              "          application_id loanapply_insert_time  bank_id  product_id  \\\n",
              "14516             138330   2022-05-09 10:34:28       51          21   \n",
              "15772             345505   2022-05-09 12:26:25       38          16   \n",
              "15913            1411021   2022-05-09 11:56:31       29         180   \n",
              "16728             812584   2022-05-09 10:39:50       51          21   \n",
              "24483             692640   2022-05-09 09:15:14       30          86   \n",
              "...                  ...                   ...      ...         ...   \n",
              "13506342         1982217   2022-05-16 11:44:07       29         265   \n",
              "13507946         1041425   2022-05-16 02:40:38       29         180   \n",
              "13508408          175654   2022-05-16 10:24:30       51          21   \n",
              "13517356         1130799   2022-05-16 12:47:32       29         180   \n",
              "13519315          744414   2022-05-16 12:21:32       29         180   \n",
              "\n",
              "          loan_limit  loan_rate  is_applied   user_id  gender  \\\n",
              "14516            NaN        NaN         1.0  511565.0     1.0   \n",
              "15772            NaN        NaN         1.0  502879.0     1.0   \n",
              "15913            NaN        NaN         1.0  726640.0     0.0   \n",
              "16728            NaN        NaN         1.0   84400.0     1.0   \n",
              "24483            NaN        NaN         1.0  601805.0     1.0   \n",
              "...              ...        ...         ...       ...     ...   \n",
              "13506342         NaN        NaN         1.0  603819.0     1.0   \n",
              "13507946         NaN        NaN         1.0   60333.0     1.0   \n",
              "13508408         NaN        NaN         1.0  121434.0     0.0   \n",
              "13517356         NaN        NaN         1.0  842671.0     0.0   \n",
              "13519315         NaN        NaN         1.0  508855.0     0.0   \n",
              "\n",
              "                  insert_time  ...  employment_type houseown_type  \\\n",
              "14516     2022-05-06 13:45:51  ...        PERMANENT    FAMILY_ETC   \n",
              "15772     2022-05-09 12:26:25  ...        PERMANENT    FAMILY_ETC   \n",
              "15913     2022-05-08 22:38:47  ...              ETC          RENT   \n",
              "16728     2022-05-06 08:57:53  ...        PERMANENT    FAMILY_ETC   \n",
              "24483     2022-05-07 21:56:53  ...        PERMANENT          RENT   \n",
              "...                       ...  ...              ...           ...   \n",
              "13506342  2022-05-16 11:44:06  ...        PERMANENT          RENT   \n",
              "13507946  2022-05-12 12:14:18  ...        PERMANENT          RENT   \n",
              "13508408  2022-05-15 20:53:09  ...        PERMANENT          RENT   \n",
              "13517356  2022-05-13 21:50:01  ...        PERMANENT           OWN   \n",
              "13519315  2022-05-16 11:40:47  ...              ETC    FAMILY_ETC   \n",
              "\n",
              "          desired_amount     purpose personal_rehabilitation_yn  \\\n",
              "14516         16000000.0  SWITCHLOAN                        0.0   \n",
              "15772          5000000.0      LIVING                        0.0   \n",
              "15913          5000000.0      LIVING                        0.0   \n",
              "16728         10000000.0      LIVING                        0.0   \n",
              "24483          5000000.0  SWITCHLOAN                        0.0   \n",
              "...                  ...         ...                        ...   \n",
              "13506342      50000000.0  SWITCHLOAN                        0.0   \n",
              "13507946     100000000.0      LIVING                        0.0   \n",
              "13508408      23000000.0      LIVING                        0.0   \n",
              "13517356       5000000.0      LIVING                        0.0   \n",
              "13519315      30000000.0  SWITCHLOAN                        0.0   \n",
              "\n",
              "          personal_rehabilitation_complete_yn existing_loan_cnt  \\\n",
              "14516                                     NaN               1.0   \n",
              "15772                                     NaN               3.0   \n",
              "15913                                     NaN               4.0   \n",
              "16728                                     NaN               5.0   \n",
              "24483                                     NaN               3.0   \n",
              "...                                       ...               ...   \n",
              "13506342                                  0.0               4.0   \n",
              "13507946                                  NaN               3.0   \n",
              "13508408                                  0.0               NaN   \n",
              "13517356                                  NaN               7.0   \n",
              "13519315                                  0.0               4.0   \n",
              "\n",
              "          existing_loan_amt   age  credit_score_cut  \n",
              "14516                   NaN  37.0                 5  \n",
              "15772            15000000.0  55.0                 5  \n",
              "15913            56000000.0  44.0                 5  \n",
              "16728            41000000.0  39.0                 4  \n",
              "24483             4000000.0  37.0                 5  \n",
              "...                     ...   ...               ...  \n",
              "13506342         56000000.0  38.0                 6  \n",
              "13507946         68000000.0  41.0                 6  \n",
              "13508408                NaN  32.0                 6  \n",
              "13517356         64000000.0  39.0                 5  \n",
              "13519315         28000000.0  30.0                 5  \n",
              "\n",
              "[5625 rows x 23 columns]"
            ]
          },
          "execution_count": 65,
          "metadata": {},
          "output_type": "execute_result"
        }
      ],
      "source": [
        "loan_rate_na = merge_train[merge_train['loan_rate'].isnull()]\n",
        "loan_rate_na"
      ]
    },
    {
      "cell_type": "code",
      "execution_count": null,
      "metadata": {
        "colab": {
          "base_uri": "https://localhost:8080/"
        },
        "id": "a_o9Lhnh29bh",
        "outputId": "87d371db-3448-41f1-fe13-d8a5c369e44a"
      },
      "outputs": [
        {
          "data": {
            "text/plain": [
              "69"
            ]
          },
          "execution_count": 66,
          "metadata": {},
          "output_type": "execute_result"
        }
      ],
      "source": [
        "len(loan_rate_na['product_id'].unique()) # 총 69개의 상품 -- 절반 가까이 되는 상품의 loan_rate, loan_limit 존재 X"
      ]
    },
    {
      "cell_type": "code",
      "execution_count": null,
      "metadata": {
        "colab": {
          "base_uri": "https://localhost:8080/"
        },
        "id": "WALdMXin4tWh",
        "outputId": "a494a097-e81b-4c6a-fef7-74757e5f4f9f"
      },
      "outputs": [
        {
          "data": {
            "text/plain": [
              "5041"
            ]
          },
          "execution_count": 67,
          "metadata": {},
          "output_type": "execute_result"
        }
      ],
      "source": [
        "len(loan_rate_na['user_id'].unique()) # 총 5041명의 고객"
      ]
    },
    {
      "cell_type": "code",
      "execution_count": null,
      "metadata": {
        "colab": {
          "base_uri": "https://localhost:8080/"
        },
        "id": "oE2CSYJCEzyt",
        "outputId": "ddba0c22-74cc-402e-fc3f-9766dbe6a1c2"
      },
      "outputs": [
        {
          "data": {
            "text/plain": [
              "application_id                               0\n",
              "loanapply_insert_time                        0\n",
              "bank_id                                      0\n",
              "product_id                                   0\n",
              "loan_limit                                5625\n",
              "loan_rate                                 5625\n",
              "is_applied                                   0\n",
              "user_id                                      0\n",
              "gender                                       0\n",
              "insert_time                                  0\n",
              "yearly_income                                0\n",
              "income_type                                  0\n",
              "company_enter_month                     303568\n",
              "employment_type                              0\n",
              "houseown_type                                0\n",
              "desired_amount                               0\n",
              "purpose                                      0\n",
              "personal_rehabilitation_yn             5873229\n",
              "personal_rehabilitation_complete_yn    9232232\n",
              "existing_loan_cnt                      2143811\n",
              "existing_loan_amt                      3044140\n",
              "age                                          0\n",
              "credit_score_cut                             0\n",
              "dtype: int64"
            ]
          },
          "execution_count": 68,
          "metadata": {},
          "output_type": "execute_result"
        }
      ],
      "source": [
        "merge_train.isnull().sum()"
      ]
    },
    {
      "cell_type": "code",
      "execution_count": null,
      "metadata": {
        "colab": {
          "base_uri": "https://localhost:8080/"
        },
        "id": "r4lhYW1IEiDi",
        "outputId": "0fe085fb-0806-44ce-dde0-7c6860d16d4f"
      },
      "outputs": [
        {
          "data": {
            "text/plain": [
              "application_id                               0\n",
              "loanapply_insert_time                        0\n",
              "bank_id                                      0\n",
              "product_id                                   0\n",
              "loan_limit                                   8\n",
              "loan_rate                                    8\n",
              "is_applied                                   0\n",
              "user_id                                      0\n",
              "gender                                       0\n",
              "insert_time                                  0\n",
              "yearly_income                                0\n",
              "income_type                                  0\n",
              "company_enter_month                     303568\n",
              "employment_type                              0\n",
              "houseown_type                                0\n",
              "desired_amount                               0\n",
              "purpose                                      0\n",
              "personal_rehabilitation_yn             5873229\n",
              "personal_rehabilitation_complete_yn    9232232\n",
              "existing_loan_cnt                      2143811\n",
              "existing_loan_amt                      3044140\n",
              "age                                          0\n",
              "credit_score_cut                             0\n",
              "dtype: int64"
            ]
          },
          "execution_count": 69,
          "metadata": {},
          "output_type": "execute_result"
        }
      ],
      "source": [
        "merge_train = fill_from_others(merge_train, 'loan_limit', 'user_id')\n",
        "merge_train = fill_from_others(merge_train, 'loan_rate', 'user_id')\n",
        "merge_train.isnull().sum()"
      ]
    },
    {
      "cell_type": "code",
      "execution_count": null,
      "metadata": {
        "colab": {
          "base_uri": "https://localhost:8080/"
        },
        "id": "jajQF1s5ExcN",
        "outputId": "dc0055b8-f8b5-4dbe-8649-e912d6729581"
      },
      "outputs": [
        {
          "data": {
            "text/plain": [
              "application_id                               0\n",
              "loanapply_insert_time                        0\n",
              "bank_id                                      0\n",
              "product_id                                   0\n",
              "loan_limit                                   2\n",
              "loan_rate                                    2\n",
              "is_applied                             3257239\n",
              "user_id                                      0\n",
              "gender                                       0\n",
              "insert_time                                  0\n",
              "yearly_income                                6\n",
              "income_type                                  0\n",
              "company_enter_month                      96769\n",
              "employment_type                              0\n",
              "houseown_type                                0\n",
              "desired_amount                               0\n",
              "purpose                                      0\n",
              "personal_rehabilitation_yn               15472\n",
              "personal_rehabilitation_complete_yn    2561745\n",
              "existing_loan_cnt                       541898\n",
              "existing_loan_amt                       846023\n",
              "age                                          0\n",
              "credit_score_cut                             0\n",
              "dtype: int64"
            ]
          },
          "execution_count": 70,
          "metadata": {},
          "output_type": "execute_result"
        }
      ],
      "source": [
        "merge_target = fill_from_others(merge_target, 'loan_limit', 'user_id')\n",
        "merge_target = fill_from_others(merge_target, 'loan_rate', 'user_id')\n",
        "merge_target.isnull().sum()"
      ]
    },
    {
      "cell_type": "markdown",
      "metadata": {
        "id": "c1Zx1SzMIgnb"
      },
      "source": [
        "loan_limit, loan_rate 결측치가 각각 8, 2개의 row만 제외하고 모두 채워짐"
      ]
    },
    {
      "cell_type": "markdown",
      "metadata": {
        "id": "GSbQg09mH3Mg"
      },
      "source": [
        "나머지 row에 대해서는 median 값으로 결측치 보충"
      ]
    },
    {
      "cell_type": "code",
      "execution_count": null,
      "metadata": {
        "id": "yUb3jZsJH6BO"
      },
      "outputs": [],
      "source": [
        "merge_train['loan_limit'] = merge_train['loan_limit'].fillna(merge_train['loan_limit'].median())\n",
        "merge_train['loan_rate'] = merge_train['loan_rate'].fillna(merge_train['loan_rate'].median())\n",
        "\n",
        "merge_target['loan_limit'] = merge_target['loan_limit'].fillna(merge_target['loan_limit'].median())\n",
        "merge_target['loan_rate'] = merge_target['loan_rate'].fillna(merge_target['loan_rate'].median())"
      ]
    },
    {
      "cell_type": "code",
      "execution_count": null,
      "metadata": {
        "colab": {
          "base_uri": "https://localhost:8080/"
        },
        "id": "MvXx2r1WIuyK",
        "outputId": "ccecc0fe-50cd-4ac9-8668-1121f48e747e"
      },
      "outputs": [
        {
          "data": {
            "text/plain": [
              "application_id                               0\n",
              "loanapply_insert_time                        0\n",
              "bank_id                                      0\n",
              "product_id                                   0\n",
              "loan_limit                                   0\n",
              "loan_rate                                    0\n",
              "is_applied                                   0\n",
              "user_id                                      0\n",
              "gender                                       0\n",
              "insert_time                                  0\n",
              "yearly_income                                0\n",
              "income_type                                  0\n",
              "company_enter_month                     303568\n",
              "employment_type                              0\n",
              "houseown_type                                0\n",
              "desired_amount                               0\n",
              "purpose                                      0\n",
              "personal_rehabilitation_yn             5873229\n",
              "personal_rehabilitation_complete_yn    9232232\n",
              "existing_loan_cnt                      2143811\n",
              "existing_loan_amt                      3044140\n",
              "age                                          0\n",
              "credit_score_cut                             0\n",
              "dtype: int64"
            ]
          },
          "execution_count": 72,
          "metadata": {},
          "output_type": "execute_result"
        }
      ],
      "source": [
        "merge_train.isnull().sum()"
      ]
    },
    {
      "cell_type": "code",
      "execution_count": null,
      "metadata": {
        "colab": {
          "base_uri": "https://localhost:8080/"
        },
        "id": "szc5kXY5Izo7",
        "outputId": "ecf03c4c-4cdd-4053-efcd-50a3c342dc3a"
      },
      "outputs": [
        {
          "data": {
            "text/plain": [
              "application_id                               0\n",
              "loanapply_insert_time                        0\n",
              "bank_id                                      0\n",
              "product_id                                   0\n",
              "loan_limit                                   0\n",
              "loan_rate                                    0\n",
              "is_applied                             3257239\n",
              "user_id                                      0\n",
              "gender                                       0\n",
              "insert_time                                  0\n",
              "yearly_income                                6\n",
              "income_type                                  0\n",
              "company_enter_month                      96769\n",
              "employment_type                              0\n",
              "houseown_type                                0\n",
              "desired_amount                               0\n",
              "purpose                                      0\n",
              "personal_rehabilitation_yn               15472\n",
              "personal_rehabilitation_complete_yn    2561745\n",
              "existing_loan_cnt                       541898\n",
              "existing_loan_amt                       846023\n",
              "age                                          0\n",
              "credit_score_cut                             0\n",
              "dtype: int64"
            ]
          },
          "execution_count": 73,
          "metadata": {},
          "output_type": "execute_result"
        }
      ],
      "source": [
        "merge_target.isnull().sum()"
      ]
    },
    {
      "cell_type": "markdown",
      "metadata": {
        "id": "jBYP4vnBFM4V"
      },
      "source": [
        "#### yearly_income\n",
        "\n",
        "로그 스케일링"
      ]
    },
    {
      "cell_type": "code",
      "execution_count": null,
      "metadata": {
        "id": "pDB3qhHA6wEq"
      },
      "outputs": [],
      "source": [
        "# 결측치 채우기\n",
        "merge_train = fill_from_others(merge_train, 'yearly_income', 'user_id')\n",
        "merge_target = fill_from_others(merge_target, 'yearly_income', 'user_id')"
      ]
    },
    {
      "cell_type": "code",
      "execution_count": null,
      "metadata": {
        "id": "83wVBcT8FQab"
      },
      "outputs": [],
      "source": [
        "merge_train['yearly_income'] = np.log1p(merge_train['yearly_income'])\n",
        "merge_target['yearly_income'] = np.log1p(merge_target['yearly_income'])"
      ]
    },
    {
      "cell_type": "code",
      "execution_count": null,
      "metadata": {
        "colab": {
          "base_uri": "https://localhost:8080/"
        },
        "id": "EaHCVfSq7FaA",
        "outputId": "a51de0cb-f32b-4b63-d1bd-8f93cc3968bb"
      },
      "outputs": [
        {
          "data": {
            "text/plain": [
              "application_id                               0\n",
              "loanapply_insert_time                        0\n",
              "bank_id                                      0\n",
              "product_id                                   0\n",
              "loan_limit                                   0\n",
              "loan_rate                                    0\n",
              "is_applied                                   0\n",
              "user_id                                      0\n",
              "gender                                       0\n",
              "insert_time                                  0\n",
              "yearly_income                                0\n",
              "income_type                                  0\n",
              "company_enter_month                     303568\n",
              "employment_type                              0\n",
              "houseown_type                                0\n",
              "desired_amount                               0\n",
              "purpose                                      0\n",
              "personal_rehabilitation_yn             5873229\n",
              "personal_rehabilitation_complete_yn    9232232\n",
              "existing_loan_cnt                      2143811\n",
              "existing_loan_amt                      3044140\n",
              "age                                          0\n",
              "credit_score_cut                             0\n",
              "dtype: int64"
            ]
          },
          "execution_count": 76,
          "metadata": {},
          "output_type": "execute_result"
        }
      ],
      "source": [
        "merge_train.isnull().sum()"
      ]
    },
    {
      "cell_type": "code",
      "execution_count": null,
      "metadata": {
        "colab": {
          "base_uri": "https://localhost:8080/"
        },
        "id": "9XWAtQUz7HzD",
        "outputId": "f8102d8d-38d1-41bc-9003-4f524dd95aca"
      },
      "outputs": [
        {
          "data": {
            "text/plain": [
              "application_id                               0\n",
              "loanapply_insert_time                        0\n",
              "bank_id                                      0\n",
              "product_id                                   0\n",
              "loan_limit                                   0\n",
              "loan_rate                                    0\n",
              "is_applied                             3257239\n",
              "user_id                                      0\n",
              "gender                                       0\n",
              "insert_time                                  0\n",
              "yearly_income                                0\n",
              "income_type                                  0\n",
              "company_enter_month                      96769\n",
              "employment_type                              0\n",
              "houseown_type                                0\n",
              "desired_amount                               0\n",
              "purpose                                      0\n",
              "personal_rehabilitation_yn               15472\n",
              "personal_rehabilitation_complete_yn    2561745\n",
              "existing_loan_cnt                       541898\n",
              "existing_loan_amt                       846023\n",
              "age                                          0\n",
              "credit_score_cut                             0\n",
              "dtype: int64"
            ]
          },
          "execution_count": 77,
          "metadata": {},
          "output_type": "execute_result"
        }
      ],
      "source": [
        "merge_target.isnull().sum()"
      ]
    },
    {
      "cell_type": "markdown",
      "metadata": {
        "id": "rgiz6qZpFWuu"
      },
      "source": [
        "#### company_enter_month"
      ]
    },
    {
      "cell_type": "markdown",
      "metadata": {
        "id": "Ea33L2DsLM3y"
      },
      "source": [
        "현재시간으로 결측치 채우기\n",
        "\n",
        "datetime으로 자료형 변환 후 개월 수 계산해서 넣기"
      ]
    },
    {
      "cell_type": "code",
      "execution_count": null,
      "metadata": {
        "id": "gUZqCNvU-fan"
      },
      "outputs": [],
      "source": [
        "from datetime import datetime\n",
        "\n",
        "now = datetime.now() # 현재 datetime 계산"
      ]
    },
    {
      "cell_type": "code",
      "execution_count": null,
      "metadata": {
        "id": "VP4geJ6Aqdju"
      },
      "outputs": [],
      "source": [
        "def cal_company_month(dataframe):\n",
        "  df = dataframe.copy()\n",
        "  df['company_enter_month'] = df['company_enter_month'].fillna('0') # ValueError 발생 막기 위해 결측치부터 채우기\n",
        "  now_series = pd.Series([now] * len(df)) # 현재 시간 series로 생성\n",
        "\n",
        "  df['company_enter_month'] = df['company_enter_month'].astype('int') # int형으로 변환 (소수점 자르기)\n",
        "  df['company_enter_month'] = df['company_enter_month'].astype('str') # 문자형으로 변환\n",
        "\n",
        "  df['company_enter_month'] = df['company_enter_month'].str.slice(start=0, stop=6) # 일 단위 잘라내기\n",
        "\n",
        "  df.replace({'company_enter_month': {'0' : now}}, inplace=True) # 현재 시간으로 결측치 채우기\n",
        "\n",
        "  # 나머지 값들 datetime으로 자료형 변환\n",
        "  df['company_enter_month'] = df['company_enter_month'].apply(lambda x : datetime.strptime(x, '%Y%m') if type(x) != datetime else x)\n",
        "\n",
        "  df['company_month'] = (now - df['company_enter_month']).dt.days # 재직일수 계산\n",
        "  df['company_month'] /= 30 # 개월 수 계산해서 열에 삽입\n",
        "  df['company_month'] = df['company_month'].astype('int')\n",
        "\n",
        "  df.drop(['company_enter_month'], axis=1, inplace=True)\n",
        "\n",
        "  return df"
      ]
    },
    {
      "cell_type": "code",
      "execution_count": null,
      "metadata": {
        "colab": {
          "base_uri": "https://localhost:8080/"
        },
        "id": "rwmgNEDbwc3S",
        "outputId": "d406fee1-3605-4c58-c652-da8ceb868c83"
      },
      "outputs": [
        {
          "data": {
            "text/plain": [
              "202201.0    401043\n",
              "202112.0    329308\n",
              "202111.0    326445\n",
              "202110.0    312566\n",
              "202109.0    264029\n",
              "             ...  \n",
              "198402.0         1\n",
              "198009.0         1\n",
              "197910.0         1\n",
              "198210.0         1\n",
              "191601.0         1\n",
              "Name: company_enter_month, Length: 515, dtype: int64"
            ]
          },
          "execution_count": 105,
          "metadata": {},
          "output_type": "execute_result"
        }
      ],
      "source": [
        "# train에서는 year, month만 존재\n",
        "merge_train['company_enter_month'].value_counts()"
      ]
    },
    {
      "cell_type": "code",
      "execution_count": null,
      "metadata": {
        "id": "BsdZbPCOnnVv"
      },
      "outputs": [],
      "source": [
        "merge_train = cal_company_month(merge_train)"
      ]
    },
    {
      "cell_type": "code",
      "execution_count": null,
      "metadata": {
        "colab": {
          "base_uri": "https://localhost:8080/"
        },
        "id": "sHt_iEX5X81i",
        "outputId": "9e9b2cba-1c25-4d4d-ad56-4233d6f78a5b"
      },
      "outputs": [
        {
          "data": {
            "text/plain": [
              "8       401043\n",
              "19      392714\n",
              "9       329308\n",
              "10      326445\n",
              "11      312566\n",
              "         ...  \n",
              "1299         1\n",
              "470          1\n",
              "473          1\n",
              "523          1\n",
              "512          1\n",
              "Name: company_month, Length: 514, dtype: int64"
            ]
          },
          "execution_count": 107,
          "metadata": {},
          "output_type": "execute_result"
        }
      ],
      "source": [
        "merge_train['company_month'].value_counts()"
      ]
    },
    {
      "cell_type": "markdown",
      "metadata": {
        "id": "wgRZjTVlw6Qb"
      },
      "source": [
        "target에서 변환 안되는 경우 - value error 발생"
      ]
    },
    {
      "cell_type": "code",
      "execution_count": null,
      "metadata": {
        "colab": {
          "base_uri": "https://localhost:8080/"
        },
        "id": "OsEyibpZxfe1",
        "outputId": "1d362ed1-9db7-45c5-98ea-cdbb382b1105"
      },
      "outputs": [
        {
          "data": {
            "text/plain": [
              "20220301.0    112509\n",
              "20220101.0     91454\n",
              "20220201.0     82025\n",
              "20211201.0     72331\n",
              "20211101.0     68440\n",
              "               ...  \n",
              "19801108.0         1\n",
              "20080105.0         1\n",
              "19881108.0         1\n",
              "20020529.0         1\n",
              "20150530.0         1\n",
              "Name: company_enter_month, Length: 5961, dtype: int64"
            ]
          },
          "execution_count": 108,
          "metadata": {},
          "output_type": "execute_result"
        }
      ],
      "source": [
        "# target에서는 year, month, day 존재하는 행과 year,month 존재하는 행 혼재\n",
        "merge_target['company_enter_month'].value_counts()"
      ]
    },
    {
      "cell_type": "code",
      "execution_count": null,
      "metadata": {
        "id": "VXSr0ppFQbkg"
      },
      "outputs": [],
      "source": [
        "merge_target = cal_company_month(merge_target)"
      ]
    },
    {
      "cell_type": "code",
      "execution_count": null,
      "metadata": {
        "colab": {
          "base_uri": "https://localhost:8080/"
        },
        "id": "c22nYj2i_QbN",
        "outputId": "324f627c-0c57-4bad-8ac1-1583bfbf3cad"
      },
      "outputs": [
        {
          "data": {
            "text/plain": [
              "6      145014\n",
              "8      116368\n",
              "19     109148\n",
              "7      106213\n",
              "0       96769\n",
              "        ...  \n",
              "426         2\n",
              "535         2\n",
              "510         1\n",
              "532         1\n",
              "556         1\n",
              "Name: company_month, Length: 479, dtype: int64"
            ]
          },
          "execution_count": 110,
          "metadata": {},
          "output_type": "execute_result"
        }
      ],
      "source": [
        "merge_target['company_month'].value_counts()"
      ]
    },
    {
      "cell_type": "code",
      "execution_count": null,
      "metadata": {
        "colab": {
          "base_uri": "https://localhost:8080/"
        },
        "id": "ZjrUCBS_ZcdX",
        "outputId": "cde6a486-4dbc-4b44-d6ac-9d3d5ca4542f"
      },
      "outputs": [
        {
          "data": {
            "text/plain": [
              "application_id                               0\n",
              "loanapply_insert_time                        0\n",
              "bank_id                                      0\n",
              "product_id                                   0\n",
              "loan_limit                                   0\n",
              "loan_rate                                    0\n",
              "is_applied                                   0\n",
              "user_id                                      0\n",
              "gender                                       0\n",
              "insert_time                                  0\n",
              "yearly_income                                0\n",
              "income_type                                  0\n",
              "employment_type                              0\n",
              "houseown_type                                0\n",
              "desired_amount                               0\n",
              "purpose                                      0\n",
              "personal_rehabilitation_yn             5873229\n",
              "personal_rehabilitation_complete_yn    9232232\n",
              "existing_loan_cnt                      2143811\n",
              "existing_loan_amt                      3044140\n",
              "age                                          0\n",
              "credit_score_cut                             0\n",
              "company_month                                0\n",
              "dtype: int64"
            ]
          },
          "execution_count": 111,
          "metadata": {},
          "output_type": "execute_result"
        }
      ],
      "source": [
        "merge_train.isnull().sum()"
      ]
    },
    {
      "cell_type": "code",
      "execution_count": null,
      "metadata": {
        "colab": {
          "base_uri": "https://localhost:8080/"
        },
        "id": "uO-YE4Jj6fsB",
        "outputId": "11d799d0-3c8c-4e2e-865b-24edf8540822"
      },
      "outputs": [
        {
          "data": {
            "text/plain": [
              "application_id                               0\n",
              "loanapply_insert_time                        0\n",
              "bank_id                                      0\n",
              "product_id                                   0\n",
              "loan_limit                                   0\n",
              "loan_rate                                    0\n",
              "is_applied                             3257239\n",
              "user_id                                      0\n",
              "gender                                       0\n",
              "insert_time                                  0\n",
              "yearly_income                                0\n",
              "income_type                                  0\n",
              "employment_type                              0\n",
              "houseown_type                                0\n",
              "desired_amount                               0\n",
              "purpose                                      0\n",
              "personal_rehabilitation_yn               15472\n",
              "personal_rehabilitation_complete_yn    2561745\n",
              "existing_loan_cnt                       541898\n",
              "existing_loan_amt                       846023\n",
              "age                                          0\n",
              "credit_score_cut                             0\n",
              "company_month                                0\n",
              "dtype: int64"
            ]
          },
          "execution_count": 112,
          "metadata": {},
          "output_type": "execute_result"
        }
      ],
      "source": [
        "merge_target.isnull().sum()"
      ]
    },
    {
      "cell_type": "markdown",
      "metadata": {
        "id": "wBzDQ3VeGDs1"
      },
      "source": [
        "#### personal_rehabilitation_yn, personal_rehabilitation_complete_yn"
      ]
    },
    {
      "cell_type": "code",
      "execution_count": null,
      "metadata": {
        "colab": {
          "base_uri": "https://localhost:8080/",
          "height": 661
        },
        "id": "8W4WaOayGO5l",
        "outputId": "70d14d1a-4b68-42b1-c372-77c1e1562270"
      },
      "outputs": [
        {
          "data": {
            "text/html": [
              "\n",
              "  <div id=\"df-f2982f5e-2dc7-4f61-a333-cc3a385176d1\">\n",
              "    <div class=\"colab-df-container\">\n",
              "      <div>\n",
              "<style scoped>\n",
              "    .dataframe tbody tr th:only-of-type {\n",
              "        vertical-align: middle;\n",
              "    }\n",
              "\n",
              "    .dataframe tbody tr th {\n",
              "        vertical-align: top;\n",
              "    }\n",
              "\n",
              "    .dataframe thead th {\n",
              "        text-align: right;\n",
              "    }\n",
              "</style>\n",
              "<table border=\"1\" class=\"dataframe\">\n",
              "  <thead>\n",
              "    <tr style=\"text-align: right;\">\n",
              "      <th></th>\n",
              "      <th>application_id</th>\n",
              "      <th>loanapply_insert_time</th>\n",
              "      <th>bank_id</th>\n",
              "      <th>product_id</th>\n",
              "      <th>loan_limit</th>\n",
              "      <th>loan_rate</th>\n",
              "      <th>is_applied</th>\n",
              "      <th>user_id</th>\n",
              "      <th>gender</th>\n",
              "      <th>insert_time</th>\n",
              "      <th>...</th>\n",
              "      <th>houseown_type</th>\n",
              "      <th>desired_amount</th>\n",
              "      <th>purpose</th>\n",
              "      <th>personal_rehabilitation_yn</th>\n",
              "      <th>personal_rehabilitation_complete_yn</th>\n",
              "      <th>existing_loan_cnt</th>\n",
              "      <th>existing_loan_amt</th>\n",
              "      <th>age</th>\n",
              "      <th>credit_score_cut</th>\n",
              "      <th>company_month</th>\n",
              "    </tr>\n",
              "  </thead>\n",
              "  <tbody>\n",
              "    <tr>\n",
              "      <th>13699</th>\n",
              "      <td>507504</td>\n",
              "      <td>2022-05-09 14:23:39</td>\n",
              "      <td>55</td>\n",
              "      <td>186</td>\n",
              "      <td>30000000.0</td>\n",
              "      <td>10.6</td>\n",
              "      <td>0.0</td>\n",
              "      <td>823335.0</td>\n",
              "      <td>1.0</td>\n",
              "      <td>2022-05-09 14:23:20</td>\n",
              "      <td>...</td>\n",
              "      <td>RENT</td>\n",
              "      <td>45000000.0</td>\n",
              "      <td>LIVING</td>\n",
              "      <td>NaN</td>\n",
              "      <td>NaN</td>\n",
              "      <td>1.0</td>\n",
              "      <td>35000000.0</td>\n",
              "      <td>34.0</td>\n",
              "      <td>6</td>\n",
              "      <td>15</td>\n",
              "    </tr>\n",
              "    <tr>\n",
              "      <th>13700</th>\n",
              "      <td>507504</td>\n",
              "      <td>2022-05-09 14:23:21</td>\n",
              "      <td>10</td>\n",
              "      <td>149</td>\n",
              "      <td>35000000.0</td>\n",
              "      <td>12.4</td>\n",
              "      <td>0.0</td>\n",
              "      <td>823335.0</td>\n",
              "      <td>1.0</td>\n",
              "      <td>2022-05-09 14:23:20</td>\n",
              "      <td>...</td>\n",
              "      <td>RENT</td>\n",
              "      <td>45000000.0</td>\n",
              "      <td>LIVING</td>\n",
              "      <td>NaN</td>\n",
              "      <td>NaN</td>\n",
              "      <td>1.0</td>\n",
              "      <td>35000000.0</td>\n",
              "      <td>34.0</td>\n",
              "      <td>6</td>\n",
              "      <td>15</td>\n",
              "    </tr>\n",
              "    <tr>\n",
              "      <th>13701</th>\n",
              "      <td>507504</td>\n",
              "      <td>2022-05-09 14:23:20</td>\n",
              "      <td>47</td>\n",
              "      <td>47</td>\n",
              "      <td>9000000.0</td>\n",
              "      <td>6.7</td>\n",
              "      <td>0.0</td>\n",
              "      <td>823335.0</td>\n",
              "      <td>1.0</td>\n",
              "      <td>2022-05-09 14:23:20</td>\n",
              "      <td>...</td>\n",
              "      <td>RENT</td>\n",
              "      <td>45000000.0</td>\n",
              "      <td>LIVING</td>\n",
              "      <td>NaN</td>\n",
              "      <td>NaN</td>\n",
              "      <td>1.0</td>\n",
              "      <td>35000000.0</td>\n",
              "      <td>34.0</td>\n",
              "      <td>6</td>\n",
              "      <td>15</td>\n",
              "    </tr>\n",
              "    <tr>\n",
              "      <th>13702</th>\n",
              "      <td>507504</td>\n",
              "      <td>2022-05-09 14:23:27</td>\n",
              "      <td>18</td>\n",
              "      <td>78</td>\n",
              "      <td>15000000.0</td>\n",
              "      <td>6.7</td>\n",
              "      <td>0.0</td>\n",
              "      <td>823335.0</td>\n",
              "      <td>1.0</td>\n",
              "      <td>2022-05-09 14:23:20</td>\n",
              "      <td>...</td>\n",
              "      <td>RENT</td>\n",
              "      <td>45000000.0</td>\n",
              "      <td>LIVING</td>\n",
              "      <td>NaN</td>\n",
              "      <td>NaN</td>\n",
              "      <td>1.0</td>\n",
              "      <td>35000000.0</td>\n",
              "      <td>34.0</td>\n",
              "      <td>6</td>\n",
              "      <td>15</td>\n",
              "    </tr>\n",
              "    <tr>\n",
              "      <th>13703</th>\n",
              "      <td>507504</td>\n",
              "      <td>2022-05-09 14:23:26</td>\n",
              "      <td>43</td>\n",
              "      <td>58</td>\n",
              "      <td>30000000.0</td>\n",
              "      <td>8.6</td>\n",
              "      <td>0.0</td>\n",
              "      <td>823335.0</td>\n",
              "      <td>1.0</td>\n",
              "      <td>2022-05-09 14:23:20</td>\n",
              "      <td>...</td>\n",
              "      <td>RENT</td>\n",
              "      <td>45000000.0</td>\n",
              "      <td>LIVING</td>\n",
              "      <td>NaN</td>\n",
              "      <td>NaN</td>\n",
              "      <td>1.0</td>\n",
              "      <td>35000000.0</td>\n",
              "      <td>34.0</td>\n",
              "      <td>6</td>\n",
              "      <td>15</td>\n",
              "    </tr>\n",
              "    <tr>\n",
              "      <th>...</th>\n",
              "      <td>...</td>\n",
              "      <td>...</td>\n",
              "      <td>...</td>\n",
              "      <td>...</td>\n",
              "      <td>...</td>\n",
              "      <td>...</td>\n",
              "      <td>...</td>\n",
              "      <td>...</td>\n",
              "      <td>...</td>\n",
              "      <td>...</td>\n",
              "      <td>...</td>\n",
              "      <td>...</td>\n",
              "      <td>...</td>\n",
              "      <td>...</td>\n",
              "      <td>...</td>\n",
              "      <td>...</td>\n",
              "      <td>...</td>\n",
              "      <td>...</td>\n",
              "      <td>...</td>\n",
              "      <td>...</td>\n",
              "      <td>...</td>\n",
              "    </tr>\n",
              "    <tr>\n",
              "      <th>13519423</th>\n",
              "      <td>244555</td>\n",
              "      <td>2022-05-16 23:42:14</td>\n",
              "      <td>30</td>\n",
              "      <td>85</td>\n",
              "      <td>15000000.0</td>\n",
              "      <td>17.2</td>\n",
              "      <td>1.0</td>\n",
              "      <td>585529.0</td>\n",
              "      <td>1.0</td>\n",
              "      <td>2022-05-16 23:42:13</td>\n",
              "      <td>...</td>\n",
              "      <td>FAMILY_ETC</td>\n",
              "      <td>10000000.0</td>\n",
              "      <td>LIVING</td>\n",
              "      <td>NaN</td>\n",
              "      <td>NaN</td>\n",
              "      <td>4.0</td>\n",
              "      <td>31000000.0</td>\n",
              "      <td>47.0</td>\n",
              "      <td>5</td>\n",
              "      <td>47</td>\n",
              "    </tr>\n",
              "    <tr>\n",
              "      <th>13519424</th>\n",
              "      <td>244555</td>\n",
              "      <td>2022-05-16 23:42:15</td>\n",
              "      <td>37</td>\n",
              "      <td>206</td>\n",
              "      <td>7000000.0</td>\n",
              "      <td>19.9</td>\n",
              "      <td>0.0</td>\n",
              "      <td>585529.0</td>\n",
              "      <td>1.0</td>\n",
              "      <td>2022-05-16 23:42:13</td>\n",
              "      <td>...</td>\n",
              "      <td>FAMILY_ETC</td>\n",
              "      <td>10000000.0</td>\n",
              "      <td>LIVING</td>\n",
              "      <td>NaN</td>\n",
              "      <td>NaN</td>\n",
              "      <td>4.0</td>\n",
              "      <td>31000000.0</td>\n",
              "      <td>47.0</td>\n",
              "      <td>5</td>\n",
              "      <td>47</td>\n",
              "    </tr>\n",
              "    <tr>\n",
              "      <th>13519425</th>\n",
              "      <td>244555</td>\n",
              "      <td>2022-05-16 23:42:24</td>\n",
              "      <td>47</td>\n",
              "      <td>43</td>\n",
              "      <td>40000000.0</td>\n",
              "      <td>17.5</td>\n",
              "      <td>0.0</td>\n",
              "      <td>585529.0</td>\n",
              "      <td>1.0</td>\n",
              "      <td>2022-05-16 23:42:13</td>\n",
              "      <td>...</td>\n",
              "      <td>FAMILY_ETC</td>\n",
              "      <td>10000000.0</td>\n",
              "      <td>LIVING</td>\n",
              "      <td>NaN</td>\n",
              "      <td>NaN</td>\n",
              "      <td>4.0</td>\n",
              "      <td>31000000.0</td>\n",
              "      <td>47.0</td>\n",
              "      <td>5</td>\n",
              "      <td>47</td>\n",
              "    </tr>\n",
              "    <tr>\n",
              "      <th>13519474</th>\n",
              "      <td>526631</td>\n",
              "      <td>2022-05-16 18:46:19</td>\n",
              "      <td>38</td>\n",
              "      <td>16</td>\n",
              "      <td>8000000.0</td>\n",
              "      <td>16.8</td>\n",
              "      <td>1.0</td>\n",
              "      <td>198864.0</td>\n",
              "      <td>0.0</td>\n",
              "      <td>2022-05-16 18:46:10</td>\n",
              "      <td>...</td>\n",
              "      <td>RENT</td>\n",
              "      <td>50000000.0</td>\n",
              "      <td>SWITCHLOAN</td>\n",
              "      <td>NaN</td>\n",
              "      <td>NaN</td>\n",
              "      <td>7.0</td>\n",
              "      <td>68000000.0</td>\n",
              "      <td>38.0</td>\n",
              "      <td>5</td>\n",
              "      <td>25</td>\n",
              "    </tr>\n",
              "    <tr>\n",
              "      <th>13519475</th>\n",
              "      <td>526631</td>\n",
              "      <td>2022-05-16 18:46:10</td>\n",
              "      <td>38</td>\n",
              "      <td>223</td>\n",
              "      <td>8000000.0</td>\n",
              "      <td>16.8</td>\n",
              "      <td>1.0</td>\n",
              "      <td>198864.0</td>\n",
              "      <td>0.0</td>\n",
              "      <td>2022-05-16 18:46:10</td>\n",
              "      <td>...</td>\n",
              "      <td>RENT</td>\n",
              "      <td>50000000.0</td>\n",
              "      <td>SWITCHLOAN</td>\n",
              "      <td>NaN</td>\n",
              "      <td>NaN</td>\n",
              "      <td>7.0</td>\n",
              "      <td>68000000.0</td>\n",
              "      <td>38.0</td>\n",
              "      <td>5</td>\n",
              "      <td>25</td>\n",
              "    </tr>\n",
              "  </tbody>\n",
              "</table>\n",
              "<p>5873229 rows × 23 columns</p>\n",
              "</div>\n",
              "      <button class=\"colab-df-convert\" onclick=\"convertToInteractive('df-f2982f5e-2dc7-4f61-a333-cc3a385176d1')\"\n",
              "              title=\"Convert this dataframe to an interactive table.\"\n",
              "              style=\"display:none;\">\n",
              "        \n",
              "  <svg xmlns=\"http://www.w3.org/2000/svg\" height=\"24px\"viewBox=\"0 0 24 24\"\n",
              "       width=\"24px\">\n",
              "    <path d=\"M0 0h24v24H0V0z\" fill=\"none\"/>\n",
              "    <path d=\"M18.56 5.44l.94 2.06.94-2.06 2.06-.94-2.06-.94-.94-2.06-.94 2.06-2.06.94zm-11 1L8.5 8.5l.94-2.06 2.06-.94-2.06-.94L8.5 2.5l-.94 2.06-2.06.94zm10 10l.94 2.06.94-2.06 2.06-.94-2.06-.94-.94-2.06-.94 2.06-2.06.94z\"/><path d=\"M17.41 7.96l-1.37-1.37c-.4-.4-.92-.59-1.43-.59-.52 0-1.04.2-1.43.59L10.3 9.45l-7.72 7.72c-.78.78-.78 2.05 0 2.83L4 21.41c.39.39.9.59 1.41.59.51 0 1.02-.2 1.41-.59l7.78-7.78 2.81-2.81c.8-.78.8-2.07 0-2.86zM5.41 20L4 18.59l7.72-7.72 1.47 1.35L5.41 20z\"/>\n",
              "  </svg>\n",
              "      </button>\n",
              "      \n",
              "  <style>\n",
              "    .colab-df-container {\n",
              "      display:flex;\n",
              "      flex-wrap:wrap;\n",
              "      gap: 12px;\n",
              "    }\n",
              "\n",
              "    .colab-df-convert {\n",
              "      background-color: #E8F0FE;\n",
              "      border: none;\n",
              "      border-radius: 50%;\n",
              "      cursor: pointer;\n",
              "      display: none;\n",
              "      fill: #1967D2;\n",
              "      height: 32px;\n",
              "      padding: 0 0 0 0;\n",
              "      width: 32px;\n",
              "    }\n",
              "\n",
              "    .colab-df-convert:hover {\n",
              "      background-color: #E2EBFA;\n",
              "      box-shadow: 0px 1px 2px rgba(60, 64, 67, 0.3), 0px 1px 3px 1px rgba(60, 64, 67, 0.15);\n",
              "      fill: #174EA6;\n",
              "    }\n",
              "\n",
              "    [theme=dark] .colab-df-convert {\n",
              "      background-color: #3B4455;\n",
              "      fill: #D2E3FC;\n",
              "    }\n",
              "\n",
              "    [theme=dark] .colab-df-convert:hover {\n",
              "      background-color: #434B5C;\n",
              "      box-shadow: 0px 1px 3px 1px rgba(0, 0, 0, 0.15);\n",
              "      filter: drop-shadow(0px 1px 2px rgba(0, 0, 0, 0.3));\n",
              "      fill: #FFFFFF;\n",
              "    }\n",
              "  </style>\n",
              "\n",
              "      <script>\n",
              "        const buttonEl =\n",
              "          document.querySelector('#df-f2982f5e-2dc7-4f61-a333-cc3a385176d1 button.colab-df-convert');\n",
              "        buttonEl.style.display =\n",
              "          google.colab.kernel.accessAllowed ? 'block' : 'none';\n",
              "\n",
              "        async function convertToInteractive(key) {\n",
              "          const element = document.querySelector('#df-f2982f5e-2dc7-4f61-a333-cc3a385176d1');\n",
              "          const dataTable =\n",
              "            await google.colab.kernel.invokeFunction('convertToInteractive',\n",
              "                                                     [key], {});\n",
              "          if (!dataTable) return;\n",
              "\n",
              "          const docLinkHtml = 'Like what you see? Visit the ' +\n",
              "            '<a target=\"_blank\" href=https://colab.research.google.com/notebooks/data_table.ipynb>data table notebook</a>'\n",
              "            + ' to learn more about interactive tables.';\n",
              "          element.innerHTML = '';\n",
              "          dataTable['output_type'] = 'display_data';\n",
              "          await google.colab.output.renderOutput(dataTable, element);\n",
              "          const docLink = document.createElement('div');\n",
              "          docLink.innerHTML = docLinkHtml;\n",
              "          element.appendChild(docLink);\n",
              "        }\n",
              "      </script>\n",
              "    </div>\n",
              "  </div>\n",
              "  "
            ],
            "text/plain": [
              "          application_id loanapply_insert_time  bank_id  product_id  \\\n",
              "13699             507504   2022-05-09 14:23:39       55         186   \n",
              "13700             507504   2022-05-09 14:23:21       10         149   \n",
              "13701             507504   2022-05-09 14:23:20       47          47   \n",
              "13702             507504   2022-05-09 14:23:27       18          78   \n",
              "13703             507504   2022-05-09 14:23:26       43          58   \n",
              "...                  ...                   ...      ...         ...   \n",
              "13519423          244555   2022-05-16 23:42:14       30          85   \n",
              "13519424          244555   2022-05-16 23:42:15       37         206   \n",
              "13519425          244555   2022-05-16 23:42:24       47          43   \n",
              "13519474          526631   2022-05-16 18:46:19       38          16   \n",
              "13519475          526631   2022-05-16 18:46:10       38         223   \n",
              "\n",
              "          loan_limit  loan_rate  is_applied   user_id  gender  \\\n",
              "13699     30000000.0       10.6         0.0  823335.0     1.0   \n",
              "13700     35000000.0       12.4         0.0  823335.0     1.0   \n",
              "13701      9000000.0        6.7         0.0  823335.0     1.0   \n",
              "13702     15000000.0        6.7         0.0  823335.0     1.0   \n",
              "13703     30000000.0        8.6         0.0  823335.0     1.0   \n",
              "...              ...        ...         ...       ...     ...   \n",
              "13519423  15000000.0       17.2         1.0  585529.0     1.0   \n",
              "13519424   7000000.0       19.9         0.0  585529.0     1.0   \n",
              "13519425  40000000.0       17.5         0.0  585529.0     1.0   \n",
              "13519474   8000000.0       16.8         1.0  198864.0     0.0   \n",
              "13519475   8000000.0       16.8         1.0  198864.0     0.0   \n",
              "\n",
              "                  insert_time  ...  houseown_type desired_amount     purpose  \\\n",
              "13699     2022-05-09 14:23:20  ...           RENT     45000000.0      LIVING   \n",
              "13700     2022-05-09 14:23:20  ...           RENT     45000000.0      LIVING   \n",
              "13701     2022-05-09 14:23:20  ...           RENT     45000000.0      LIVING   \n",
              "13702     2022-05-09 14:23:20  ...           RENT     45000000.0      LIVING   \n",
              "13703     2022-05-09 14:23:20  ...           RENT     45000000.0      LIVING   \n",
              "...                       ...  ...            ...            ...         ...   \n",
              "13519423  2022-05-16 23:42:13  ...     FAMILY_ETC     10000000.0      LIVING   \n",
              "13519424  2022-05-16 23:42:13  ...     FAMILY_ETC     10000000.0      LIVING   \n",
              "13519425  2022-05-16 23:42:13  ...     FAMILY_ETC     10000000.0      LIVING   \n",
              "13519474  2022-05-16 18:46:10  ...           RENT     50000000.0  SWITCHLOAN   \n",
              "13519475  2022-05-16 18:46:10  ...           RENT     50000000.0  SWITCHLOAN   \n",
              "\n",
              "         personal_rehabilitation_yn  personal_rehabilitation_complete_yn  \\\n",
              "13699                           NaN                                  NaN   \n",
              "13700                           NaN                                  NaN   \n",
              "13701                           NaN                                  NaN   \n",
              "13702                           NaN                                  NaN   \n",
              "13703                           NaN                                  NaN   \n",
              "...                             ...                                  ...   \n",
              "13519423                        NaN                                  NaN   \n",
              "13519424                        NaN                                  NaN   \n",
              "13519425                        NaN                                  NaN   \n",
              "13519474                        NaN                                  NaN   \n",
              "13519475                        NaN                                  NaN   \n",
              "\n",
              "         existing_loan_cnt  existing_loan_amt   age  credit_score_cut  \\\n",
              "13699                  1.0         35000000.0  34.0                 6   \n",
              "13700                  1.0         35000000.0  34.0                 6   \n",
              "13701                  1.0         35000000.0  34.0                 6   \n",
              "13702                  1.0         35000000.0  34.0                 6   \n",
              "13703                  1.0         35000000.0  34.0                 6   \n",
              "...                    ...                ...   ...               ...   \n",
              "13519423               4.0         31000000.0  47.0                 5   \n",
              "13519424               4.0         31000000.0  47.0                 5   \n",
              "13519425               4.0         31000000.0  47.0                 5   \n",
              "13519474               7.0         68000000.0  38.0                 5   \n",
              "13519475               7.0         68000000.0  38.0                 5   \n",
              "\n",
              "          company_month  \n",
              "13699                15  \n",
              "13700                15  \n",
              "13701                15  \n",
              "13702                15  \n",
              "13703                15  \n",
              "...                 ...  \n",
              "13519423             47  \n",
              "13519424             47  \n",
              "13519425             47  \n",
              "13519474             25  \n",
              "13519475             25  \n",
              "\n",
              "[5873229 rows x 23 columns]"
            ]
          },
          "execution_count": 113,
          "metadata": {},
          "output_type": "execute_result"
        }
      ],
      "source": [
        "# null인것들\n",
        "merge_train[merge_train['personal_rehabilitation_yn'].isnull()]"
      ]
    },
    {
      "cell_type": "code",
      "execution_count": null,
      "metadata": {
        "colab": {
          "base_uri": "https://localhost:8080/",
          "height": 661
        },
        "id": "stAOtFDGNzpL",
        "outputId": "fb9200ce-caf7-4877-e4b0-a2fabef0daa1"
      },
      "outputs": [
        {
          "data": {
            "text/html": [
              "\n",
              "  <div id=\"df-e04b69e3-802f-491a-882d-762a87bc1f6f\">\n",
              "    <div class=\"colab-df-container\">\n",
              "      <div>\n",
              "<style scoped>\n",
              "    .dataframe tbody tr th:only-of-type {\n",
              "        vertical-align: middle;\n",
              "    }\n",
              "\n",
              "    .dataframe tbody tr th {\n",
              "        vertical-align: top;\n",
              "    }\n",
              "\n",
              "    .dataframe thead th {\n",
              "        text-align: right;\n",
              "    }\n",
              "</style>\n",
              "<table border=\"1\" class=\"dataframe\">\n",
              "  <thead>\n",
              "    <tr style=\"text-align: right;\">\n",
              "      <th></th>\n",
              "      <th>application_id</th>\n",
              "      <th>loanapply_insert_time</th>\n",
              "      <th>bank_id</th>\n",
              "      <th>product_id</th>\n",
              "      <th>loan_limit</th>\n",
              "      <th>loan_rate</th>\n",
              "      <th>is_applied</th>\n",
              "      <th>user_id</th>\n",
              "      <th>gender</th>\n",
              "      <th>insert_time</th>\n",
              "      <th>...</th>\n",
              "      <th>houseown_type</th>\n",
              "      <th>desired_amount</th>\n",
              "      <th>purpose</th>\n",
              "      <th>personal_rehabilitation_yn</th>\n",
              "      <th>personal_rehabilitation_complete_yn</th>\n",
              "      <th>existing_loan_cnt</th>\n",
              "      <th>existing_loan_amt</th>\n",
              "      <th>age</th>\n",
              "      <th>credit_score_cut</th>\n",
              "      <th>company_month</th>\n",
              "    </tr>\n",
              "  </thead>\n",
              "  <tbody>\n",
              "    <tr>\n",
              "      <th>210887</th>\n",
              "      <td>287767</td>\n",
              "      <td>2022-03-20 03:54:07</td>\n",
              "      <td>27</td>\n",
              "      <td>148</td>\n",
              "      <td>10000000.0</td>\n",
              "      <td>7.4</td>\n",
              "      <td>1.0</td>\n",
              "      <td>592532.0</td>\n",
              "      <td>0.0</td>\n",
              "      <td>2022-03-20 03:54:06</td>\n",
              "      <td>...</td>\n",
              "      <td>RENT</td>\n",
              "      <td>4000000.0</td>\n",
              "      <td>LIVING</td>\n",
              "      <td>NaN</td>\n",
              "      <td>NaN</td>\n",
              "      <td>NaN</td>\n",
              "      <td>NaN</td>\n",
              "      <td>43.0</td>\n",
              "      <td>0</td>\n",
              "      <td>85</td>\n",
              "    </tr>\n",
              "    <tr>\n",
              "      <th>271984</th>\n",
              "      <td>960458</td>\n",
              "      <td>2022-03-13 01:07:49</td>\n",
              "      <td>27</td>\n",
              "      <td>148</td>\n",
              "      <td>12000000.0</td>\n",
              "      <td>7.4</td>\n",
              "      <td>0.0</td>\n",
              "      <td>335512.0</td>\n",
              "      <td>1.0</td>\n",
              "      <td>2022-03-13 01:07:48</td>\n",
              "      <td>...</td>\n",
              "      <td>RENT</td>\n",
              "      <td>20000000.0</td>\n",
              "      <td>HOUSEDEPOSIT</td>\n",
              "      <td>NaN</td>\n",
              "      <td>NaN</td>\n",
              "      <td>1.0</td>\n",
              "      <td>12000000.0</td>\n",
              "      <td>25.0</td>\n",
              "      <td>1</td>\n",
              "      <td>20</td>\n",
              "    </tr>\n",
              "    <tr>\n",
              "      <th>283917</th>\n",
              "      <td>1636981</td>\n",
              "      <td>2022-04-02 13:20:30</td>\n",
              "      <td>11</td>\n",
              "      <td>170</td>\n",
              "      <td>36000000.0</td>\n",
              "      <td>13.3</td>\n",
              "      <td>0.0</td>\n",
              "      <td>688214.0</td>\n",
              "      <td>1.0</td>\n",
              "      <td>2022-04-02 13:20:20</td>\n",
              "      <td>...</td>\n",
              "      <td>FAMILY_ETC</td>\n",
              "      <td>5000000.0</td>\n",
              "      <td>LIVING</td>\n",
              "      <td>NaN</td>\n",
              "      <td>NaN</td>\n",
              "      <td>3.0</td>\n",
              "      <td>41000000.0</td>\n",
              "      <td>51.0</td>\n",
              "      <td>0</td>\n",
              "      <td>28</td>\n",
              "    </tr>\n",
              "    <tr>\n",
              "      <th>283918</th>\n",
              "      <td>1636981</td>\n",
              "      <td>2022-04-02 13:20:22</td>\n",
              "      <td>23</td>\n",
              "      <td>236</td>\n",
              "      <td>28000000.0</td>\n",
              "      <td>11.4</td>\n",
              "      <td>0.0</td>\n",
              "      <td>688214.0</td>\n",
              "      <td>1.0</td>\n",
              "      <td>2022-04-02 13:20:20</td>\n",
              "      <td>...</td>\n",
              "      <td>FAMILY_ETC</td>\n",
              "      <td>5000000.0</td>\n",
              "      <td>LIVING</td>\n",
              "      <td>NaN</td>\n",
              "      <td>NaN</td>\n",
              "      <td>3.0</td>\n",
              "      <td>41000000.0</td>\n",
              "      <td>51.0</td>\n",
              "      <td>0</td>\n",
              "      <td>28</td>\n",
              "    </tr>\n",
              "    <tr>\n",
              "      <th>283919</th>\n",
              "      <td>1636981</td>\n",
              "      <td>2022-04-02 13:20:31</td>\n",
              "      <td>62</td>\n",
              "      <td>200</td>\n",
              "      <td>15000000.0</td>\n",
              "      <td>14.8</td>\n",
              "      <td>0.0</td>\n",
              "      <td>688214.0</td>\n",
              "      <td>1.0</td>\n",
              "      <td>2022-04-02 13:20:20</td>\n",
              "      <td>...</td>\n",
              "      <td>FAMILY_ETC</td>\n",
              "      <td>5000000.0</td>\n",
              "      <td>LIVING</td>\n",
              "      <td>NaN</td>\n",
              "      <td>NaN</td>\n",
              "      <td>3.0</td>\n",
              "      <td>41000000.0</td>\n",
              "      <td>51.0</td>\n",
              "      <td>0</td>\n",
              "      <td>28</td>\n",
              "    </tr>\n",
              "    <tr>\n",
              "      <th>...</th>\n",
              "      <td>...</td>\n",
              "      <td>...</td>\n",
              "      <td>...</td>\n",
              "      <td>...</td>\n",
              "      <td>...</td>\n",
              "      <td>...</td>\n",
              "      <td>...</td>\n",
              "      <td>...</td>\n",
              "      <td>...</td>\n",
              "      <td>...</td>\n",
              "      <td>...</td>\n",
              "      <td>...</td>\n",
              "      <td>...</td>\n",
              "      <td>...</td>\n",
              "      <td>...</td>\n",
              "      <td>...</td>\n",
              "      <td>...</td>\n",
              "      <td>...</td>\n",
              "      <td>...</td>\n",
              "      <td>...</td>\n",
              "      <td>...</td>\n",
              "    </tr>\n",
              "    <tr>\n",
              "      <th>13434295</th>\n",
              "      <td>940571</td>\n",
              "      <td>2022-05-16 13:23:34</td>\n",
              "      <td>38</td>\n",
              "      <td>223</td>\n",
              "      <td>10000000.0</td>\n",
              "      <td>17.6</td>\n",
              "      <td>0.0</td>\n",
              "      <td>856028.0</td>\n",
              "      <td>1.0</td>\n",
              "      <td>2022-05-16 13:23:34</td>\n",
              "      <td>...</td>\n",
              "      <td>RENT</td>\n",
              "      <td>20000000.0</td>\n",
              "      <td>LIVING</td>\n",
              "      <td>NaN</td>\n",
              "      <td>NaN</td>\n",
              "      <td>2.0</td>\n",
              "      <td>42000000.0</td>\n",
              "      <td>44.0</td>\n",
              "      <td>1</td>\n",
              "      <td>13</td>\n",
              "    </tr>\n",
              "    <tr>\n",
              "      <th>13434296</th>\n",
              "      <td>940571</td>\n",
              "      <td>2022-05-16 13:23:49</td>\n",
              "      <td>38</td>\n",
              "      <td>16</td>\n",
              "      <td>10000000.0</td>\n",
              "      <td>17.6</td>\n",
              "      <td>0.0</td>\n",
              "      <td>856028.0</td>\n",
              "      <td>1.0</td>\n",
              "      <td>2022-05-16 13:23:34</td>\n",
              "      <td>...</td>\n",
              "      <td>RENT</td>\n",
              "      <td>20000000.0</td>\n",
              "      <td>LIVING</td>\n",
              "      <td>NaN</td>\n",
              "      <td>NaN</td>\n",
              "      <td>2.0</td>\n",
              "      <td>42000000.0</td>\n",
              "      <td>44.0</td>\n",
              "      <td>1</td>\n",
              "      <td>13</td>\n",
              "    </tr>\n",
              "    <tr>\n",
              "      <th>13434297</th>\n",
              "      <td>940571</td>\n",
              "      <td>2022-05-16 13:23:35</td>\n",
              "      <td>17</td>\n",
              "      <td>19</td>\n",
              "      <td>30000000.0</td>\n",
              "      <td>19.9</td>\n",
              "      <td>0.0</td>\n",
              "      <td>856028.0</td>\n",
              "      <td>1.0</td>\n",
              "      <td>2022-05-16 13:23:34</td>\n",
              "      <td>...</td>\n",
              "      <td>RENT</td>\n",
              "      <td>20000000.0</td>\n",
              "      <td>LIVING</td>\n",
              "      <td>NaN</td>\n",
              "      <td>NaN</td>\n",
              "      <td>2.0</td>\n",
              "      <td>42000000.0</td>\n",
              "      <td>44.0</td>\n",
              "      <td>1</td>\n",
              "      <td>13</td>\n",
              "    </tr>\n",
              "    <tr>\n",
              "      <th>13434298</th>\n",
              "      <td>940571</td>\n",
              "      <td>2022-05-16 13:23:34</td>\n",
              "      <td>30</td>\n",
              "      <td>85</td>\n",
              "      <td>8000000.0</td>\n",
              "      <td>19.7</td>\n",
              "      <td>0.0</td>\n",
              "      <td>856028.0</td>\n",
              "      <td>1.0</td>\n",
              "      <td>2022-05-16 13:23:34</td>\n",
              "      <td>...</td>\n",
              "      <td>RENT</td>\n",
              "      <td>20000000.0</td>\n",
              "      <td>LIVING</td>\n",
              "      <td>NaN</td>\n",
              "      <td>NaN</td>\n",
              "      <td>2.0</td>\n",
              "      <td>42000000.0</td>\n",
              "      <td>44.0</td>\n",
              "      <td>1</td>\n",
              "      <td>13</td>\n",
              "    </tr>\n",
              "    <tr>\n",
              "      <th>13434299</th>\n",
              "      <td>940571</td>\n",
              "      <td>2022-05-16 13:23:53</td>\n",
              "      <td>49</td>\n",
              "      <td>39</td>\n",
              "      <td>12000000.0</td>\n",
              "      <td>16.0</td>\n",
              "      <td>0.0</td>\n",
              "      <td>856028.0</td>\n",
              "      <td>1.0</td>\n",
              "      <td>2022-05-16 13:23:34</td>\n",
              "      <td>...</td>\n",
              "      <td>RENT</td>\n",
              "      <td>20000000.0</td>\n",
              "      <td>LIVING</td>\n",
              "      <td>NaN</td>\n",
              "      <td>NaN</td>\n",
              "      <td>2.0</td>\n",
              "      <td>42000000.0</td>\n",
              "      <td>44.0</td>\n",
              "      <td>1</td>\n",
              "      <td>13</td>\n",
              "    </tr>\n",
              "  </tbody>\n",
              "</table>\n",
              "<p>2079 rows × 23 columns</p>\n",
              "</div>\n",
              "      <button class=\"colab-df-convert\" onclick=\"convertToInteractive('df-e04b69e3-802f-491a-882d-762a87bc1f6f')\"\n",
              "              title=\"Convert this dataframe to an interactive table.\"\n",
              "              style=\"display:none;\">\n",
              "        \n",
              "  <svg xmlns=\"http://www.w3.org/2000/svg\" height=\"24px\"viewBox=\"0 0 24 24\"\n",
              "       width=\"24px\">\n",
              "    <path d=\"M0 0h24v24H0V0z\" fill=\"none\"/>\n",
              "    <path d=\"M18.56 5.44l.94 2.06.94-2.06 2.06-.94-2.06-.94-.94-2.06-.94 2.06-2.06.94zm-11 1L8.5 8.5l.94-2.06 2.06-.94-2.06-.94L8.5 2.5l-.94 2.06-2.06.94zm10 10l.94 2.06.94-2.06 2.06-.94-2.06-.94-.94-2.06-.94 2.06-2.06.94z\"/><path d=\"M17.41 7.96l-1.37-1.37c-.4-.4-.92-.59-1.43-.59-.52 0-1.04.2-1.43.59L10.3 9.45l-7.72 7.72c-.78.78-.78 2.05 0 2.83L4 21.41c.39.39.9.59 1.41.59.51 0 1.02-.2 1.41-.59l7.78-7.78 2.81-2.81c.8-.78.8-2.07 0-2.86zM5.41 20L4 18.59l7.72-7.72 1.47 1.35L5.41 20z\"/>\n",
              "  </svg>\n",
              "      </button>\n",
              "      \n",
              "  <style>\n",
              "    .colab-df-container {\n",
              "      display:flex;\n",
              "      flex-wrap:wrap;\n",
              "      gap: 12px;\n",
              "    }\n",
              "\n",
              "    .colab-df-convert {\n",
              "      background-color: #E8F0FE;\n",
              "      border: none;\n",
              "      border-radius: 50%;\n",
              "      cursor: pointer;\n",
              "      display: none;\n",
              "      fill: #1967D2;\n",
              "      height: 32px;\n",
              "      padding: 0 0 0 0;\n",
              "      width: 32px;\n",
              "    }\n",
              "\n",
              "    .colab-df-convert:hover {\n",
              "      background-color: #E2EBFA;\n",
              "      box-shadow: 0px 1px 2px rgba(60, 64, 67, 0.3), 0px 1px 3px 1px rgba(60, 64, 67, 0.15);\n",
              "      fill: #174EA6;\n",
              "    }\n",
              "\n",
              "    [theme=dark] .colab-df-convert {\n",
              "      background-color: #3B4455;\n",
              "      fill: #D2E3FC;\n",
              "    }\n",
              "\n",
              "    [theme=dark] .colab-df-convert:hover {\n",
              "      background-color: #434B5C;\n",
              "      box-shadow: 0px 1px 3px 1px rgba(0, 0, 0, 0.15);\n",
              "      filter: drop-shadow(0px 1px 2px rgba(0, 0, 0, 0.3));\n",
              "      fill: #FFFFFF;\n",
              "    }\n",
              "  </style>\n",
              "\n",
              "      <script>\n",
              "        const buttonEl =\n",
              "          document.querySelector('#df-e04b69e3-802f-491a-882d-762a87bc1f6f button.colab-df-convert');\n",
              "        buttonEl.style.display =\n",
              "          google.colab.kernel.accessAllowed ? 'block' : 'none';\n",
              "\n",
              "        async function convertToInteractive(key) {\n",
              "          const element = document.querySelector('#df-e04b69e3-802f-491a-882d-762a87bc1f6f');\n",
              "          const dataTable =\n",
              "            await google.colab.kernel.invokeFunction('convertToInteractive',\n",
              "                                                     [key], {});\n",
              "          if (!dataTable) return;\n",
              "\n",
              "          const docLinkHtml = 'Like what you see? Visit the ' +\n",
              "            '<a target=\"_blank\" href=https://colab.research.google.com/notebooks/data_table.ipynb>data table notebook</a>'\n",
              "            + ' to learn more about interactive tables.';\n",
              "          element.innerHTML = '';\n",
              "          dataTable['output_type'] = 'display_data';\n",
              "          await google.colab.output.renderOutput(dataTable, element);\n",
              "          const docLink = document.createElement('div');\n",
              "          docLink.innerHTML = docLinkHtml;\n",
              "          element.appendChild(docLink);\n",
              "        }\n",
              "      </script>\n",
              "    </div>\n",
              "  </div>\n",
              "  "
            ],
            "text/plain": [
              "          application_id loanapply_insert_time  bank_id  product_id  \\\n",
              "210887            287767   2022-03-20 03:54:07       27         148   \n",
              "271984            960458   2022-03-13 01:07:49       27         148   \n",
              "283917           1636981   2022-04-02 13:20:30       11         170   \n",
              "283918           1636981   2022-04-02 13:20:22       23         236   \n",
              "283919           1636981   2022-04-02 13:20:31       62         200   \n",
              "...                  ...                   ...      ...         ...   \n",
              "13434295          940571   2022-05-16 13:23:34       38         223   \n",
              "13434296          940571   2022-05-16 13:23:49       38          16   \n",
              "13434297          940571   2022-05-16 13:23:35       17          19   \n",
              "13434298          940571   2022-05-16 13:23:34       30          85   \n",
              "13434299          940571   2022-05-16 13:23:53       49          39   \n",
              "\n",
              "          loan_limit  loan_rate  is_applied   user_id  gender  \\\n",
              "210887    10000000.0        7.4         1.0  592532.0     0.0   \n",
              "271984    12000000.0        7.4         0.0  335512.0     1.0   \n",
              "283917    36000000.0       13.3         0.0  688214.0     1.0   \n",
              "283918    28000000.0       11.4         0.0  688214.0     1.0   \n",
              "283919    15000000.0       14.8         0.0  688214.0     1.0   \n",
              "...              ...        ...         ...       ...     ...   \n",
              "13434295  10000000.0       17.6         0.0  856028.0     1.0   \n",
              "13434296  10000000.0       17.6         0.0  856028.0     1.0   \n",
              "13434297  30000000.0       19.9         0.0  856028.0     1.0   \n",
              "13434298   8000000.0       19.7         0.0  856028.0     1.0   \n",
              "13434299  12000000.0       16.0         0.0  856028.0     1.0   \n",
              "\n",
              "                  insert_time  ...  houseown_type desired_amount  \\\n",
              "210887    2022-03-20 03:54:06  ...           RENT      4000000.0   \n",
              "271984    2022-03-13 01:07:48  ...           RENT     20000000.0   \n",
              "283917    2022-04-02 13:20:20  ...     FAMILY_ETC      5000000.0   \n",
              "283918    2022-04-02 13:20:20  ...     FAMILY_ETC      5000000.0   \n",
              "283919    2022-04-02 13:20:20  ...     FAMILY_ETC      5000000.0   \n",
              "...                       ...  ...            ...            ...   \n",
              "13434295  2022-05-16 13:23:34  ...           RENT     20000000.0   \n",
              "13434296  2022-05-16 13:23:34  ...           RENT     20000000.0   \n",
              "13434297  2022-05-16 13:23:34  ...           RENT     20000000.0   \n",
              "13434298  2022-05-16 13:23:34  ...           RENT     20000000.0   \n",
              "13434299  2022-05-16 13:23:34  ...           RENT     20000000.0   \n",
              "\n",
              "               purpose personal_rehabilitation_yn  \\\n",
              "210887          LIVING                        NaN   \n",
              "271984    HOUSEDEPOSIT                        NaN   \n",
              "283917          LIVING                        NaN   \n",
              "283918          LIVING                        NaN   \n",
              "283919          LIVING                        NaN   \n",
              "...                ...                        ...   \n",
              "13434295        LIVING                        NaN   \n",
              "13434296        LIVING                        NaN   \n",
              "13434297        LIVING                        NaN   \n",
              "13434298        LIVING                        NaN   \n",
              "13434299        LIVING                        NaN   \n",
              "\n",
              "          personal_rehabilitation_complete_yn existing_loan_cnt  \\\n",
              "210887                                    NaN               NaN   \n",
              "271984                                    NaN               1.0   \n",
              "283917                                    NaN               3.0   \n",
              "283918                                    NaN               3.0   \n",
              "283919                                    NaN               3.0   \n",
              "...                                       ...               ...   \n",
              "13434295                                  NaN               2.0   \n",
              "13434296                                  NaN               2.0   \n",
              "13434297                                  NaN               2.0   \n",
              "13434298                                  NaN               2.0   \n",
              "13434299                                  NaN               2.0   \n",
              "\n",
              "          existing_loan_amt   age  credit_score_cut  company_month  \n",
              "210887                  NaN  43.0                 0             85  \n",
              "271984           12000000.0  25.0                 1             20  \n",
              "283917           41000000.0  51.0                 0             28  \n",
              "283918           41000000.0  51.0                 0             28  \n",
              "283919           41000000.0  51.0                 0             28  \n",
              "...                     ...   ...               ...            ...  \n",
              "13434295         42000000.0  44.0                 1             13  \n",
              "13434296         42000000.0  44.0                 1             13  \n",
              "13434297         42000000.0  44.0                 1             13  \n",
              "13434298         42000000.0  44.0                 1             13  \n",
              "13434299         42000000.0  44.0                 1             13  \n",
              "\n",
              "[2079 rows x 23 columns]"
            ]
          },
          "execution_count": 114,
          "metadata": {},
          "output_type": "execute_result"
        }
      ],
      "source": [
        "# null인것들중 credit_score_cut 3 미만인 것들 개수 확인\n",
        "cond1 = (merge_train['credit_score_cut'] < 3) # credit_score_cut 3 미만인지\n",
        "cond2 = (merge_train['personal_rehabilitation_yn'].isnull()) # null 값인지\n",
        "\n",
        "merge_train.loc[cond1 & cond2]"
      ]
    },
    {
      "cell_type": "markdown",
      "metadata": {
        "id": "ZnfC-YWuMZut"
      },
      "source": [
        "개인회생자 - 납입 미완 (0), 개인회생자 - 납입 완 (1), 기타 - (2) 라벨링 진행\n",
        "\n",
        "* null인것들중 credit_score_cut 3 미만인 것들 - 1, 나머지는 2로 라벨링"
      ]
    },
    {
      "cell_type": "code",
      "execution_count": null,
      "metadata": {
        "id": "maJprSXbMkWP"
      },
      "outputs": [],
      "source": [
        "def rehabilitation_labeling(df):\n",
        "\n",
        "  # 결측치 처리\n",
        "  cond1 = (df['credit_score_cut'] < 3) # credit_score_cut 3 미만인지\n",
        "  cond2 = (df['personal_rehabilitation_yn'].isnull()) # null 값인지\n",
        "  \n",
        "  df['personal_rehabilitation'] = [2] * len(df)\n",
        "  df.loc[cond1 & cond2, 'personal_rehabilitation'] = 1\n",
        "\n",
        "  # 나머지 라벨링\n",
        "  cond3 = (df['personal_rehabilitation_yn'] == 1) # 개인회생자\n",
        "  cond4 = (df['personal_rehabilitation_complete_yn'] == 0) # 개인회생자 - 납입중\n",
        "  cond5 = (df['personal_rehabilitation_complete_yn'] == 1) # 개인회생자 - 납입완료\n",
        "\n",
        "  df.loc[cond3 & cond4, 'personal_rehabilitation'] = 0 # 개인회생자 - 납입중\n",
        "  df.loc[cond3 & cond5, 'personal_rehabilitation'] = 1 # 개인회생자 - 납입 완료\n",
        "\n",
        "  return df"
      ]
    },
    {
      "cell_type": "code",
      "execution_count": null,
      "metadata": {
        "colab": {
          "base_uri": "https://localhost:8080/"
        },
        "id": "TLW8fhTMXGRG",
        "outputId": "5a3840ac-7b66-45e1-8d84-e60641a36b90"
      },
      "outputs": [
        {
          "data": {
            "text/plain": [
              "2    10244881\n",
              "0       18951\n",
              "1        6179\n",
              "Name: personal_rehabilitation, dtype: int64"
            ]
          },
          "execution_count": 117,
          "metadata": {},
          "output_type": "execute_result"
        }
      ],
      "source": [
        "merge_testing = rehabilitation_labeling(merge_train)\n",
        "merge_testing['personal_rehabilitation'].value_counts()"
      ]
    },
    {
      "cell_type": "code",
      "execution_count": null,
      "metadata": {
        "id": "3k9W1QrApiws"
      },
      "outputs": [],
      "source": [
        "merge_train = rehabilitation_labeling(merge_train)\n",
        "merge_target = rehabilitation_labeling(merge_target)\n",
        "\n",
        "merge_train.drop(['personal_rehabilitation_yn', 'personal_rehabilitation_complete_yn'], axis=1, inplace=True)\n",
        "merge_target.drop(['personal_rehabilitation_yn', 'personal_rehabilitation_complete_yn'], axis=1, inplace=True)"
      ]
    },
    {
      "cell_type": "code",
      "execution_count": null,
      "metadata": {
        "colab": {
          "base_uri": "https://localhost:8080/"
        },
        "id": "cxvqA5Ospzf2",
        "outputId": "ebe97532-83b4-485d-ddf4-8b91e6a5dd42"
      },
      "outputs": [
        {
          "data": {
            "text/plain": [
              "2    10244881\n",
              "0       18951\n",
              "1        6179\n",
              "Name: personal_rehabilitation, dtype: int64"
            ]
          },
          "execution_count": 119,
          "metadata": {},
          "output_type": "execute_result"
        }
      ],
      "source": [
        "merge_train['personal_rehabilitation'].value_counts()"
      ]
    },
    {
      "cell_type": "code",
      "execution_count": null,
      "metadata": {
        "colab": {
          "base_uri": "https://localhost:8080/"
        },
        "id": "rsU_D5K1p2t4",
        "outputId": "4eca3920-5a15-4925-f707-bab668261b38"
      },
      "outputs": [
        {
          "data": {
            "text/plain": [
              "2    3239064\n",
              "0      15640\n",
              "1       2535\n",
              "Name: personal_rehabilitation, dtype: int64"
            ]
          },
          "execution_count": 120,
          "metadata": {},
          "output_type": "execute_result"
        }
      ],
      "source": [
        "merge_target['personal_rehabilitation'].value_counts()"
      ]
    },
    {
      "cell_type": "markdown",
      "metadata": {
        "id": "UvcSs8ngMxTN"
      },
      "source": [
        "#### existing_loan_cnt, existing_loan_amt"
      ]
    },
    {
      "cell_type": "code",
      "execution_count": null,
      "metadata": {
        "id": "m9pyxEjJM1I3"
      },
      "outputs": [],
      "source": [
        "# 0으로 결측치 채우기\n",
        "merge_train['existing_loan_cnt'] = merge_train['existing_loan_cnt'].fillna(0)\n",
        "merge_target['existing_loan_cnt'] = merge_target['existing_loan_cnt'].fillna(0)"
      ]
    },
    {
      "cell_type": "code",
      "execution_count": null,
      "metadata": {
        "id": "XMeoh03AgKwF"
      },
      "outputs": [],
      "source": [
        "merge_train['existing_loan_amt'] = merge_train['existing_loan_amt'].fillna(0)\n",
        "merge_target['existing_loan_amt'] = merge_target['existing_loan_amt'].fillna(0)"
      ]
    },
    {
      "cell_type": "code",
      "execution_count": null,
      "metadata": {
        "id": "dKBgMbiEXLL7"
      },
      "outputs": [],
      "source": [
        "# existing loan amt log scaling\n",
        "merge_train['existing_loan_amt'] = np.log1p(merge_train['existing_loan_amt'])\n",
        "merge_target['existing_loan_amt'] = np.log1p(merge_target['existing_loan_amt'])"
      ]
    },
    {
      "cell_type": "markdown",
      "metadata": {
        "id": "5y6SvuAAh3LO"
      },
      "source": [
        "### 1차 전처리 데이터프레임 생성"
      ]
    },
    {
      "cell_type": "code",
      "execution_count": 142,
      "metadata": {
        "id": "zopA7vT4iIzg"
      },
      "outputs": [],
      "source": [
        "def save_data(data, file_name, DATA_PATH=DATA_PATH):\n",
        "  file_path = os.path.join(DATA_PATH, file_name)\n",
        "  print(file_path)\n",
        "  return data.to_csv(file_path, index=False)"
      ]
    },
    {
      "cell_type": "code",
      "source": [
        "merge_train.to_csv('merge_train.csv')\n",
        "merge_target.to_csv('merge_target.csv')"
      ],
      "metadata": {
        "id": "CNA12OfZtVMu"
      },
      "execution_count": 146,
      "outputs": []
    },
    {
      "cell_type": "markdown",
      "source": [
        "원인은 모르겠지만 구글 드라이브 연동 오류 지속적으로 발생... 로컬로 저장하는 방법으로"
      ],
      "metadata": {
        "id": "z1q8q40stgbe"
      }
    },
    {
      "cell_type": "code",
      "source": [
        "# save_data(merge_train, 'merge_train.csv')\n",
        "# save_data(merge_target, 'merge_target.csv')"
      ],
      "metadata": {
        "colab": {
          "base_uri": "https://localhost:8080/",
          "height": 363
        },
        "id": "jJQrAVk4rV6L",
        "outputId": "f9bc9271-44fe-4efe-b955-c4b149cff0d5"
      },
      "execution_count": 143,
      "outputs": [
        {
          "output_type": "stream",
          "name": "stdout",
          "text": [
            "/content/gdrive/My Drive/빅콘테스트_2022/data/merge_train.csv\n"
          ]
        },
        {
          "output_type": "error",
          "ename": "KeyboardInterrupt",
          "evalue": "ignored",
          "traceback": [
            "\u001b[0;31m---------------------------------------------------------------------------\u001b[0m",
            "\u001b[0;31mKeyboardInterrupt\u001b[0m                         Traceback (most recent call last)",
            "\u001b[0;32m<ipython-input-143-328907846ae3>\u001b[0m in \u001b[0;36m<module>\u001b[0;34m\u001b[0m\n\u001b[0;32m----> 1\u001b[0;31m \u001b[0msave_data\u001b[0m\u001b[0;34m(\u001b[0m\u001b[0mmerge_train\u001b[0m\u001b[0;34m,\u001b[0m \u001b[0;34m'merge_train.csv'\u001b[0m\u001b[0;34m)\u001b[0m\u001b[0;34m\u001b[0m\u001b[0;34m\u001b[0m\u001b[0m\n\u001b[0m",
            "\u001b[0;32m<ipython-input-142-71f2a078a4fe>\u001b[0m in \u001b[0;36msave_data\u001b[0;34m(data, file_name, DATA_PATH)\u001b[0m\n\u001b[1;32m      2\u001b[0m   \u001b[0mfile_path\u001b[0m \u001b[0;34m=\u001b[0m \u001b[0mos\u001b[0m\u001b[0;34m.\u001b[0m\u001b[0mpath\u001b[0m\u001b[0;34m.\u001b[0m\u001b[0mjoin\u001b[0m\u001b[0;34m(\u001b[0m\u001b[0mDATA_PATH\u001b[0m\u001b[0;34m,\u001b[0m \u001b[0mfile_name\u001b[0m\u001b[0;34m)\u001b[0m\u001b[0;34m\u001b[0m\u001b[0;34m\u001b[0m\u001b[0m\n\u001b[1;32m      3\u001b[0m   \u001b[0mprint\u001b[0m\u001b[0;34m(\u001b[0m\u001b[0mfile_path\u001b[0m\u001b[0;34m)\u001b[0m\u001b[0;34m\u001b[0m\u001b[0;34m\u001b[0m\u001b[0m\n\u001b[0;32m----> 4\u001b[0;31m   \u001b[0;32mreturn\u001b[0m \u001b[0mdata\u001b[0m\u001b[0;34m.\u001b[0m\u001b[0mto_csv\u001b[0m\u001b[0;34m(\u001b[0m\u001b[0mfile_path\u001b[0m\u001b[0;34m,\u001b[0m \u001b[0mindex\u001b[0m\u001b[0;34m=\u001b[0m\u001b[0;32mFalse\u001b[0m\u001b[0;34m)\u001b[0m\u001b[0;34m\u001b[0m\u001b[0;34m\u001b[0m\u001b[0m\n\u001b[0m",
            "\u001b[0;32m/usr/local/lib/python3.7/dist-packages/pandas/core/generic.py\u001b[0m in \u001b[0;36mto_csv\u001b[0;34m(self, path_or_buf, sep, na_rep, float_format, columns, header, index, index_label, mode, encoding, compression, quoting, quotechar, line_terminator, chunksize, date_format, doublequote, escapechar, decimal, errors, storage_options)\u001b[0m\n\u001b[1;32m   3480\u001b[0m             \u001b[0mdoublequote\u001b[0m\u001b[0;34m=\u001b[0m\u001b[0mdoublequote\u001b[0m\u001b[0;34m,\u001b[0m\u001b[0;34m\u001b[0m\u001b[0;34m\u001b[0m\u001b[0m\n\u001b[1;32m   3481\u001b[0m             \u001b[0mescapechar\u001b[0m\u001b[0;34m=\u001b[0m\u001b[0mescapechar\u001b[0m\u001b[0;34m,\u001b[0m\u001b[0;34m\u001b[0m\u001b[0;34m\u001b[0m\u001b[0m\n\u001b[0;32m-> 3482\u001b[0;31m             \u001b[0mstorage_options\u001b[0m\u001b[0;34m=\u001b[0m\u001b[0mstorage_options\u001b[0m\u001b[0;34m,\u001b[0m\u001b[0;34m\u001b[0m\u001b[0;34m\u001b[0m\u001b[0m\n\u001b[0m\u001b[1;32m   3483\u001b[0m         )\n\u001b[1;32m   3484\u001b[0m \u001b[0;34m\u001b[0m\u001b[0m\n",
            "\u001b[0;32m/usr/local/lib/python3.7/dist-packages/pandas/io/formats/format.py\u001b[0m in \u001b[0;36mto_csv\u001b[0;34m(self, path_or_buf, encoding, sep, columns, index_label, mode, compression, quoting, quotechar, line_terminator, chunksize, date_format, doublequote, escapechar, errors, storage_options)\u001b[0m\n\u001b[1;32m   1103\u001b[0m             \u001b[0mformatter\u001b[0m\u001b[0;34m=\u001b[0m\u001b[0mself\u001b[0m\u001b[0;34m.\u001b[0m\u001b[0mfmt\u001b[0m\u001b[0;34m,\u001b[0m\u001b[0;34m\u001b[0m\u001b[0;34m\u001b[0m\u001b[0m\n\u001b[1;32m   1104\u001b[0m         )\n\u001b[0;32m-> 1105\u001b[0;31m         \u001b[0mcsv_formatter\u001b[0m\u001b[0;34m.\u001b[0m\u001b[0msave\u001b[0m\u001b[0;34m(\u001b[0m\u001b[0;34m)\u001b[0m\u001b[0;34m\u001b[0m\u001b[0;34m\u001b[0m\u001b[0m\n\u001b[0m\u001b[1;32m   1106\u001b[0m \u001b[0;34m\u001b[0m\u001b[0m\n\u001b[1;32m   1107\u001b[0m         \u001b[0;32mif\u001b[0m \u001b[0mcreated_buffer\u001b[0m\u001b[0;34m:\u001b[0m\u001b[0;34m\u001b[0m\u001b[0;34m\u001b[0m\u001b[0m\n",
            "\u001b[0;32m/usr/local/lib/python3.7/dist-packages/pandas/io/formats/csvs.py\u001b[0m in \u001b[0;36msave\u001b[0;34m(self)\u001b[0m\n\u001b[1;32m    255\u001b[0m             )\n\u001b[1;32m    256\u001b[0m \u001b[0;34m\u001b[0m\u001b[0m\n\u001b[0;32m--> 257\u001b[0;31m             \u001b[0mself\u001b[0m\u001b[0;34m.\u001b[0m\u001b[0m_save\u001b[0m\u001b[0;34m(\u001b[0m\u001b[0;34m)\u001b[0m\u001b[0;34m\u001b[0m\u001b[0;34m\u001b[0m\u001b[0m\n\u001b[0m\u001b[1;32m    258\u001b[0m \u001b[0;34m\u001b[0m\u001b[0m\n\u001b[1;32m    259\u001b[0m     \u001b[0;32mdef\u001b[0m \u001b[0m_save\u001b[0m\u001b[0;34m(\u001b[0m\u001b[0mself\u001b[0m\u001b[0;34m)\u001b[0m \u001b[0;34m->\u001b[0m \u001b[0;32mNone\u001b[0m\u001b[0;34m:\u001b[0m\u001b[0;34m\u001b[0m\u001b[0;34m\u001b[0m\u001b[0m\n",
            "\u001b[0;32m/usr/local/lib/python3.7/dist-packages/pandas/io/formats/csvs.py\u001b[0m in \u001b[0;36m_save\u001b[0;34m(self)\u001b[0m\n\u001b[1;32m    260\u001b[0m         \u001b[0;32mif\u001b[0m \u001b[0mself\u001b[0m\u001b[0;34m.\u001b[0m\u001b[0m_need_to_save_header\u001b[0m\u001b[0;34m:\u001b[0m\u001b[0;34m\u001b[0m\u001b[0;34m\u001b[0m\u001b[0m\n\u001b[1;32m    261\u001b[0m             \u001b[0mself\u001b[0m\u001b[0;34m.\u001b[0m\u001b[0m_save_header\u001b[0m\u001b[0;34m(\u001b[0m\u001b[0;34m)\u001b[0m\u001b[0;34m\u001b[0m\u001b[0;34m\u001b[0m\u001b[0m\n\u001b[0;32m--> 262\u001b[0;31m         \u001b[0mself\u001b[0m\u001b[0;34m.\u001b[0m\u001b[0m_save_body\u001b[0m\u001b[0;34m(\u001b[0m\u001b[0;34m)\u001b[0m\u001b[0;34m\u001b[0m\u001b[0;34m\u001b[0m\u001b[0m\n\u001b[0m\u001b[1;32m    263\u001b[0m \u001b[0;34m\u001b[0m\u001b[0m\n\u001b[1;32m    264\u001b[0m     \u001b[0;32mdef\u001b[0m \u001b[0m_save_header\u001b[0m\u001b[0;34m(\u001b[0m\u001b[0mself\u001b[0m\u001b[0;34m)\u001b[0m \u001b[0;34m->\u001b[0m \u001b[0;32mNone\u001b[0m\u001b[0;34m:\u001b[0m\u001b[0;34m\u001b[0m\u001b[0;34m\u001b[0m\u001b[0m\n",
            "\u001b[0;32m/usr/local/lib/python3.7/dist-packages/pandas/io/formats/csvs.py\u001b[0m in \u001b[0;36m_save_body\u001b[0;34m(self)\u001b[0m\n\u001b[1;32m    298\u001b[0m             \u001b[0;32mif\u001b[0m \u001b[0mstart_i\u001b[0m \u001b[0;34m>=\u001b[0m \u001b[0mend_i\u001b[0m\u001b[0;34m:\u001b[0m\u001b[0;34m\u001b[0m\u001b[0;34m\u001b[0m\u001b[0m\n\u001b[1;32m    299\u001b[0m                 \u001b[0;32mbreak\u001b[0m\u001b[0;34m\u001b[0m\u001b[0;34m\u001b[0m\u001b[0m\n\u001b[0;32m--> 300\u001b[0;31m             \u001b[0mself\u001b[0m\u001b[0;34m.\u001b[0m\u001b[0m_save_chunk\u001b[0m\u001b[0;34m(\u001b[0m\u001b[0mstart_i\u001b[0m\u001b[0;34m,\u001b[0m \u001b[0mend_i\u001b[0m\u001b[0;34m)\u001b[0m\u001b[0;34m\u001b[0m\u001b[0;34m\u001b[0m\u001b[0m\n\u001b[0m\u001b[1;32m    301\u001b[0m \u001b[0;34m\u001b[0m\u001b[0m\n\u001b[1;32m    302\u001b[0m     \u001b[0;32mdef\u001b[0m \u001b[0m_save_chunk\u001b[0m\u001b[0;34m(\u001b[0m\u001b[0mself\u001b[0m\u001b[0;34m,\u001b[0m \u001b[0mstart_i\u001b[0m\u001b[0;34m:\u001b[0m \u001b[0mint\u001b[0m\u001b[0;34m,\u001b[0m \u001b[0mend_i\u001b[0m\u001b[0;34m:\u001b[0m \u001b[0mint\u001b[0m\u001b[0;34m)\u001b[0m \u001b[0;34m->\u001b[0m \u001b[0;32mNone\u001b[0m\u001b[0;34m:\u001b[0m\u001b[0;34m\u001b[0m\u001b[0;34m\u001b[0m\u001b[0m\n",
            "\u001b[0;32m/usr/local/lib/python3.7/dist-packages/pandas/io/formats/csvs.py\u001b[0m in \u001b[0;36m_save_chunk\u001b[0;34m(self, start_i, end_i)\u001b[0m\n\u001b[1;32m    305\u001b[0m         \u001b[0mdf\u001b[0m \u001b[0;34m=\u001b[0m \u001b[0mself\u001b[0m\u001b[0;34m.\u001b[0m\u001b[0mobj\u001b[0m\u001b[0;34m.\u001b[0m\u001b[0miloc\u001b[0m\u001b[0;34m[\u001b[0m\u001b[0mslicer\u001b[0m\u001b[0;34m]\u001b[0m\u001b[0;34m\u001b[0m\u001b[0;34m\u001b[0m\u001b[0m\n\u001b[1;32m    306\u001b[0m \u001b[0;34m\u001b[0m\u001b[0m\n\u001b[0;32m--> 307\u001b[0;31m         \u001b[0mres\u001b[0m \u001b[0;34m=\u001b[0m \u001b[0mdf\u001b[0m\u001b[0;34m.\u001b[0m\u001b[0m_mgr\u001b[0m\u001b[0;34m.\u001b[0m\u001b[0mto_native_types\u001b[0m\u001b[0;34m(\u001b[0m\u001b[0;34m**\u001b[0m\u001b[0mself\u001b[0m\u001b[0;34m.\u001b[0m\u001b[0m_number_format\u001b[0m\u001b[0;34m)\u001b[0m\u001b[0;34m\u001b[0m\u001b[0;34m\u001b[0m\u001b[0m\n\u001b[0m\u001b[1;32m    308\u001b[0m         \u001b[0mdata\u001b[0m \u001b[0;34m=\u001b[0m \u001b[0;34m[\u001b[0m\u001b[0mres\u001b[0m\u001b[0;34m.\u001b[0m\u001b[0miget_values\u001b[0m\u001b[0;34m(\u001b[0m\u001b[0mi\u001b[0m\u001b[0;34m)\u001b[0m \u001b[0;32mfor\u001b[0m \u001b[0mi\u001b[0m \u001b[0;32min\u001b[0m \u001b[0mrange\u001b[0m\u001b[0;34m(\u001b[0m\u001b[0mlen\u001b[0m\u001b[0;34m(\u001b[0m\u001b[0mres\u001b[0m\u001b[0;34m.\u001b[0m\u001b[0mitems\u001b[0m\u001b[0;34m)\u001b[0m\u001b[0;34m)\u001b[0m\u001b[0;34m]\u001b[0m\u001b[0;34m\u001b[0m\u001b[0;34m\u001b[0m\u001b[0m\n\u001b[1;32m    309\u001b[0m \u001b[0;34m\u001b[0m\u001b[0m\n",
            "\u001b[0;32m/usr/local/lib/python3.7/dist-packages/pandas/core/internals/managers.py\u001b[0m in \u001b[0;36mto_native_types\u001b[0;34m(self, **kwargs)\u001b[0m\n\u001b[1;32m    464\u001b[0m         \u001b[0;32min\u001b[0m \u001b[0mformatting\u001b[0m \u001b[0;34m(\u001b[0m\u001b[0mrepr\u001b[0m \u001b[0;34m/\u001b[0m \u001b[0mcsv\u001b[0m\u001b[0;34m)\u001b[0m\u001b[0;34m.\u001b[0m\u001b[0;34m\u001b[0m\u001b[0;34m\u001b[0m\u001b[0m\n\u001b[1;32m    465\u001b[0m         \"\"\"\n\u001b[0;32m--> 466\u001b[0;31m         \u001b[0;32mreturn\u001b[0m \u001b[0mself\u001b[0m\u001b[0;34m.\u001b[0m\u001b[0mapply\u001b[0m\u001b[0;34m(\u001b[0m\u001b[0;34m\"to_native_types\"\u001b[0m\u001b[0;34m,\u001b[0m \u001b[0;34m**\u001b[0m\u001b[0mkwargs\u001b[0m\u001b[0;34m)\u001b[0m\u001b[0;34m\u001b[0m\u001b[0;34m\u001b[0m\u001b[0m\n\u001b[0m\u001b[1;32m    467\u001b[0m \u001b[0;34m\u001b[0m\u001b[0m\n\u001b[1;32m    468\u001b[0m     \u001b[0;32mdef\u001b[0m \u001b[0mis_consolidated\u001b[0m\u001b[0;34m(\u001b[0m\u001b[0mself\u001b[0m\u001b[0;34m)\u001b[0m \u001b[0;34m->\u001b[0m \u001b[0mbool\u001b[0m\u001b[0;34m:\u001b[0m\u001b[0;34m\u001b[0m\u001b[0;34m\u001b[0m\u001b[0m\n",
            "\u001b[0;32m/usr/local/lib/python3.7/dist-packages/pandas/core/internals/managers.py\u001b[0m in \u001b[0;36mapply\u001b[0;34m(self, f, align_keys, ignore_failures, **kwargs)\u001b[0m\n\u001b[1;32m    325\u001b[0m                     \u001b[0mapplied\u001b[0m \u001b[0;34m=\u001b[0m \u001b[0mb\u001b[0m\u001b[0;34m.\u001b[0m\u001b[0mapply\u001b[0m\u001b[0;34m(\u001b[0m\u001b[0mf\u001b[0m\u001b[0;34m,\u001b[0m \u001b[0;34m**\u001b[0m\u001b[0mkwargs\u001b[0m\u001b[0;34m)\u001b[0m\u001b[0;34m\u001b[0m\u001b[0;34m\u001b[0m\u001b[0m\n\u001b[1;32m    326\u001b[0m                 \u001b[0;32melse\u001b[0m\u001b[0;34m:\u001b[0m\u001b[0;34m\u001b[0m\u001b[0;34m\u001b[0m\u001b[0m\n\u001b[0;32m--> 327\u001b[0;31m                     \u001b[0mapplied\u001b[0m \u001b[0;34m=\u001b[0m \u001b[0mgetattr\u001b[0m\u001b[0;34m(\u001b[0m\u001b[0mb\u001b[0m\u001b[0;34m,\u001b[0m \u001b[0mf\u001b[0m\u001b[0;34m)\u001b[0m\u001b[0;34m(\u001b[0m\u001b[0;34m**\u001b[0m\u001b[0mkwargs\u001b[0m\u001b[0;34m)\u001b[0m\u001b[0;34m\u001b[0m\u001b[0;34m\u001b[0m\u001b[0m\n\u001b[0m\u001b[1;32m    328\u001b[0m             \u001b[0;32mexcept\u001b[0m \u001b[0;34m(\u001b[0m\u001b[0mTypeError\u001b[0m\u001b[0;34m,\u001b[0m \u001b[0mNotImplementedError\u001b[0m\u001b[0;34m)\u001b[0m\u001b[0;34m:\u001b[0m\u001b[0;34m\u001b[0m\u001b[0;34m\u001b[0m\u001b[0m\n\u001b[1;32m    329\u001b[0m                 \u001b[0;32mif\u001b[0m \u001b[0;32mnot\u001b[0m \u001b[0mignore_failures\u001b[0m\u001b[0;34m:\u001b[0m\u001b[0;34m\u001b[0m\u001b[0;34m\u001b[0m\u001b[0m\n",
            "\u001b[0;32m/usr/local/lib/python3.7/dist-packages/pandas/core/internals/blocks.py\u001b[0m in \u001b[0;36mto_native_types\u001b[0;34m(self, na_rep, quoting, **kwargs)\u001b[0m\n\u001b[1;32m    639\u001b[0m     \u001b[0;32mdef\u001b[0m \u001b[0mto_native_types\u001b[0m\u001b[0;34m(\u001b[0m\u001b[0mself\u001b[0m\u001b[0;34m,\u001b[0m \u001b[0mna_rep\u001b[0m\u001b[0;34m=\u001b[0m\u001b[0;34m\"nan\"\u001b[0m\u001b[0;34m,\u001b[0m \u001b[0mquoting\u001b[0m\u001b[0;34m=\u001b[0m\u001b[0;32mNone\u001b[0m\u001b[0;34m,\u001b[0m \u001b[0;34m**\u001b[0m\u001b[0mkwargs\u001b[0m\u001b[0;34m)\u001b[0m\u001b[0;34m:\u001b[0m\u001b[0;34m\u001b[0m\u001b[0;34m\u001b[0m\u001b[0m\n\u001b[1;32m    640\u001b[0m         \u001b[0;34m\"\"\"convert to our native types format\"\"\"\u001b[0m\u001b[0;34m\u001b[0m\u001b[0;34m\u001b[0m\u001b[0m\n\u001b[0;32m--> 641\u001b[0;31m         \u001b[0mresult\u001b[0m \u001b[0;34m=\u001b[0m \u001b[0mto_native_types\u001b[0m\u001b[0;34m(\u001b[0m\u001b[0mself\u001b[0m\u001b[0;34m.\u001b[0m\u001b[0mvalues\u001b[0m\u001b[0;34m,\u001b[0m \u001b[0mna_rep\u001b[0m\u001b[0;34m=\u001b[0m\u001b[0mna_rep\u001b[0m\u001b[0;34m,\u001b[0m \u001b[0mquoting\u001b[0m\u001b[0;34m=\u001b[0m\u001b[0mquoting\u001b[0m\u001b[0;34m,\u001b[0m \u001b[0;34m**\u001b[0m\u001b[0mkwargs\u001b[0m\u001b[0;34m)\u001b[0m\u001b[0;34m\u001b[0m\u001b[0;34m\u001b[0m\u001b[0m\n\u001b[0m\u001b[1;32m    642\u001b[0m         \u001b[0;32mreturn\u001b[0m \u001b[0mself\u001b[0m\u001b[0;34m.\u001b[0m\u001b[0mmake_block\u001b[0m\u001b[0;34m(\u001b[0m\u001b[0mresult\u001b[0m\u001b[0;34m)\u001b[0m\u001b[0;34m\u001b[0m\u001b[0;34m\u001b[0m\u001b[0m\n\u001b[1;32m    643\u001b[0m \u001b[0;34m\u001b[0m\u001b[0m\n",
            "\u001b[0;32m/usr/local/lib/python3.7/dist-packages/pandas/core/internals/blocks.py\u001b[0m in \u001b[0;36mto_native_types\u001b[0;34m(values, na_rep, quoting, float_format, decimal, **kwargs)\u001b[0m\n\u001b[1;32m   2072\u001b[0m \u001b[0;34m\u001b[0m\u001b[0m\n\u001b[1;32m   2073\u001b[0m             \u001b[0;32mif\u001b[0m \u001b[0;32mnot\u001b[0m \u001b[0mquoting\u001b[0m\u001b[0;34m:\u001b[0m\u001b[0;34m\u001b[0m\u001b[0;34m\u001b[0m\u001b[0m\n\u001b[0;32m-> 2074\u001b[0;31m                 \u001b[0mvalues\u001b[0m \u001b[0;34m=\u001b[0m \u001b[0mvalues\u001b[0m\u001b[0;34m.\u001b[0m\u001b[0mastype\u001b[0m\u001b[0;34m(\u001b[0m\u001b[0mstr\u001b[0m\u001b[0;34m)\u001b[0m\u001b[0;34m\u001b[0m\u001b[0;34m\u001b[0m\u001b[0m\n\u001b[0m\u001b[1;32m   2075\u001b[0m             \u001b[0;32melse\u001b[0m\u001b[0;34m:\u001b[0m\u001b[0;34m\u001b[0m\u001b[0;34m\u001b[0m\u001b[0m\n\u001b[1;32m   2076\u001b[0m                 \u001b[0mvalues\u001b[0m \u001b[0;34m=\u001b[0m \u001b[0mnp\u001b[0m\u001b[0;34m.\u001b[0m\u001b[0marray\u001b[0m\u001b[0;34m(\u001b[0m\u001b[0mvalues\u001b[0m\u001b[0;34m,\u001b[0m \u001b[0mdtype\u001b[0m\u001b[0;34m=\u001b[0m\u001b[0;34m\"object\"\u001b[0m\u001b[0;34m)\u001b[0m\u001b[0;34m\u001b[0m\u001b[0;34m\u001b[0m\u001b[0m\n",
            "\u001b[0;31mKeyboardInterrupt\u001b[0m: "
          ]
        }
      ]
    },
    {
      "cell_type": "markdown",
      "metadata": {
        "id": "Jufz2INLM5h8"
      },
      "source": [
        "### 변수간 상관계수 체크"
      ]
    },
    {
      "cell_type": "markdown",
      "metadata": {
        "id": "nJGyKq3_M_XU"
      },
      "source": [
        "#### corr heatmap"
      ]
    },
    {
      "cell_type": "markdown",
      "metadata": {
        "id": "OiSdDC_NNBN9"
      },
      "source": [
        "#### VIF factor check"
      ]
    },
    {
      "cell_type": "markdown",
      "metadata": {
        "id": "eYvIrsjUNGzH"
      },
      "source": [
        "### 피처 엔지니어링"
      ]
    },
    {
      "cell_type": "markdown",
      "metadata": {
        "id": "roHBRO3kGukq"
      },
      "source": [
        "### 전처리 파이프라인 생성"
      ]
    },
    {
      "cell_type": "code",
      "execution_count": null,
      "metadata": {
        "id": "GhxhQGMEGyTV"
      },
      "outputs": [],
      "source": [
        "# 전처리 과정 완료 후 파이프라인 생성 예정"
      ]
    },
    {
      "cell_type": "markdown",
      "metadata": {
        "id": "mYZvaKQYNK66"
      },
      "source": [
        "## 모델링\n",
        "\n",
        "베이스라인 트리 기반 모델 사용.\n",
        "\n",
        "* RandomForest\n",
        "\n",
        "* XGBoost\n",
        "\n",
        "* LightGBM"
      ]
    },
    {
      "cell_type": "code",
      "execution_count": null,
      "metadata": {
        "id": "8HP3dWfHNLgk"
      },
      "outputs": [],
      "source": []
    }
  ],
  "metadata": {
    "colab": {
      "collapsed_sections": [
        "XSaqf2X61ArR",
        "oync3RFtO00T",
        "u1xoORLnO4_5",
        "NowNGP4g08hX",
        "UAf9iYMwzeJr",
        "_Ql3BINMkV69",
        "i5oFHOrMlMRB",
        "dsc1UwV7mqA3",
        "4Et64S2gmru7",
        "_Qgb6wPR5xdG",
        "U04Z0FvWZnfo",
        "oLUy4Rv2GomU",
        "kE4RTtVSZvmr",
        "asFYTiw6ptgx",
        "vdUP2HiY4Oxg",
        "jBYP4vnBFM4V"
      ],
      "machine_shape": "hm",
      "provenance": []
    },
    "kernelspec": {
      "display_name": "Python 3",
      "name": "python3"
    },
    "language_info": {
      "name": "python"
    }
  },
  "nbformat": 4,
  "nbformat_minor": 0
}